{
 "cells": [
  {
   "cell_type": "markdown",
   "id": "69158883-6008-495a-b5a3-c7ccbdecf1b2",
   "metadata": {},
   "source": [
    "# Siamese Networks: _LeNet-5_, MNIST and PyTorch\n",
    "\n",
    "[Reference](https://www.kaggle.com/code/hirotaka0122/triplet-loss-with-pytorch/notebook)"
   ]
  },
  {
   "cell_type": "code",
   "execution_count": 1,
   "id": "1e1de8df-1c46-42ea-8886-0a28441c5742",
   "metadata": {},
   "outputs": [
    {
     "name": "stderr",
     "output_type": "stream",
     "text": [
      "/home/arjun/anaconda3/envs/torch-cpu/lib/python3.10/site-packages/tqdm/auto.py:22: TqdmWarning: IProgress not found. Please update jupyter and ipywidgets. See https://ipywidgets.readthedocs.io/en/stable/user_install.html\n",
      "  from .autonotebook import tqdm as notebook_tqdm\n",
      "/home/arjun/anaconda3/envs/torch-cpu/lib/python3.10/site-packages/torchvision/io/image.py:13: UserWarning: Failed to load image Python extension: /home/arjun/anaconda3/envs/torch-cpu/lib/python3.10/site-packages/torchvision/image.so: undefined symbol: _ZN2at4_ops19empty_memory_format4callEN3c108ArrayRefINS2_6SymIntEEENS2_8optionalINS2_10ScalarTypeEEENS6_INS2_6LayoutEEENS6_INS2_6DeviceEEENS6_IbEENS6_INS2_12MemoryFormatEEE\n",
      "  warn(f\"Failed to load image Python extension: {e}\")\n"
     ]
    }
   ],
   "source": [
    "import torch\n",
    "import torch.nn as nn\n",
    "import torchvision\n",
    "import torch.nn.functional as F\n",
    "import torchvision.transforms as transforms\n",
    "from torch.utils.data import Dataset, DataLoader\n",
    "\n",
    "from tqdm import tqdm\n",
    "from tqdm import trange\n",
    "import numpy as np\n",
    "import matplotlib.pyplot as plt\n",
    "import seaborn as sns\n",
    "import os, pickle"
   ]
  },
  {
   "cell_type": "code",
   "execution_count": null,
   "id": "bb6c80fd-4c62-4dd2-90ba-b0b81578f88b",
   "metadata": {},
   "outputs": [],
   "source": []
  },
  {
   "cell_type": "code",
   "execution_count": null,
   "id": "db21c822-0fcc-4efe-8211-2863aa3aa955",
   "metadata": {},
   "outputs": [],
   "source": []
  },
  {
   "cell_type": "code",
   "execution_count": 2,
   "id": "ae42ef98-2336-4b53-978a-86c1a0eb6b94",
   "metadata": {},
   "outputs": [
    {
     "name": "stdout",
     "output_type": "stream",
     "text": [
      "torch version: 1.12.1+cu102\n",
      "Number of GPU(s) available = 0\n",
      "PyTorch does not have access to GPU\n",
      "Available device is cpu\n"
     ]
    }
   ],
   "source": [
    "print(f\"torch version: {torch.__version__}\")\n",
    "\n",
    "# Check if there are multiple devices (i.e., GPU cards)-\n",
    "print(f\"Number of GPU(s) available = {torch.cuda.device_count()}\")\n",
    "\n",
    "if torch.cuda.is_available():\n",
    "    print(f\"Current GPU: {torch.cuda.current_device()}\")\n",
    "    print(f\"Current GPU name: {torch.cuda.get_device_name(torch.cuda.current_device())}\")\n",
    "else:\n",
    "    print(\"PyTorch does not have access to GPU\")\n",
    "\n",
    "# Device configuration-\n",
    "device = torch.device('cuda' if torch.cuda.is_available() else 'cpu')\n",
    "print(f'Available device is {device}')"
   ]
  },
  {
   "cell_type": "code",
   "execution_count": null,
   "id": "99bc72ff-6373-4f64-a33c-cbceb048803b",
   "metadata": {},
   "outputs": [],
   "source": []
  },
  {
   "cell_type": "code",
   "execution_count": null,
   "id": "b72047b1-d63d-480e-86bc-7213ba0c6aa4",
   "metadata": {},
   "outputs": [],
   "source": []
  },
  {
   "cell_type": "code",
   "execution_count": 3,
   "id": "9c45c2dc-60ad-49f9-9e26-4f4535c42162",
   "metadata": {},
   "outputs": [],
   "source": [
    "# Define neural network hyper-parameters-\n",
    "num_epochs = 50\n",
    "batch_size = 256\n",
    "learning_rate = 1e-4"
   ]
  },
  {
   "cell_type": "code",
   "execution_count": null,
   "id": "5b9d00d5-3807-4781-ac28-7a3511fd5db5",
   "metadata": {},
   "outputs": [],
   "source": []
  },
  {
   "cell_type": "code",
   "execution_count": 4,
   "id": "06ee21a9-817c-46ef-84a5-fa129361c84b",
   "metadata": {},
   "outputs": [],
   "source": [
    "# MNIST dataset statistics-\n",
    "mean = np.array([0.1307])\n",
    "std_dev = np.array([0.3081])\n",
    "\n",
    "# Define transforms-\n",
    "transforms_apply = transforms.Compose(\n",
    "    [\n",
    "        transforms.ToTensor(),\n",
    "        transforms.Normalize(mean = mean, std = std_dev)\n",
    "    ]\n",
    ")"
   ]
  },
  {
   "cell_type": "code",
   "execution_count": null,
   "id": "009c99bf-814c-4585-8378-73e740315321",
   "metadata": {},
   "outputs": [],
   "source": []
  },
  {
   "cell_type": "code",
   "execution_count": null,
   "id": "f392faf8-b9b9-4132-b5ba-c591e2db18ef",
   "metadata": {},
   "outputs": [],
   "source": []
  },
  {
   "cell_type": "code",
   "execution_count": 5,
   "id": "cddecaff-358b-431f-b036-9120013f8e9f",
   "metadata": {},
   "outputs": [],
   "source": [
    "class Siamese_MNIST_Dataset(Dataset):\n",
    "    def __init__(\n",
    "        self, root,\n",
    "        transform, train = True,\n",
    "        download = False\n",
    "    ):\n",
    "        super(Siamese_MNIST_Dataset, self).__init__()\n",
    "        \n",
    "        # Retrieve MNIST dataset-\n",
    "        self.mnist_dataset = torchvision.datasets.MNIST(\n",
    "            root = root, train = train,\n",
    "            transform = transforms_apply, download = download\n",
    "        )\n",
    "        \n",
    "        # `self.mnist_dataset.data` has the shape (Nx28x28), where N is the number of\n",
    "        # examples in MNIST dataset, a single example has the dimensions of\n",
    "        # (28x28) for (WxH), where W and H are the width and the height of the image. \n",
    "        # However, every example should have (CxWxH) dimensions where C is the number \n",
    "        # of channels to be passed to the network. As MNIST contains gray-scale images, \n",
    "        # we add an additional dimension to corresponds to the number of channels.\n",
    "        self.dataset = self.mnist_dataset.data.unsqueeze(1).clone()\n",
    "        \n",
    "        self.group_images()\n",
    "        \n",
    "    \n",
    "    def group_images(self):\n",
    "        \"\"\"\n",
    "        To ease data accessibility based on class, we group examples based on class.\n",
    "        Every key in `grouped_imgs` corresponds to a class in MNIST dataset. For every key in \n",
    "        `grouped_imgs`, its value will contain all of the indices for the MNIST \n",
    "        dataset examples corresponding to that key.\n",
    "        \"\"\"\n",
    "        # group examples based on class-\n",
    "        self.grouped_imgs = {}\n",
    "\n",
    "        for i in range(10):\n",
    "            self.grouped_imgs[i] = np.where(self.mnist_dataset.targets == i)[0]\n",
    "        \n",
    "        \n",
    "    def __len__(self):\n",
    "        return self.mnist_dataset.data.shape[0]\n",
    "    \n",
    "    \n",
    "    def __getitem__(self, index):\n",
    "        \"\"\"\n",
    "        For every example, we will select two images. There are two cases, positive and negative examples:\n",
    "            1. For positive examples, we will have two images from the same class.\n",
    "            2. For negative examples, we will have two images from different classes.\n",
    "\n",
    "        Given an index:\n",
    "\n",
    "        1. if the index is even, we will pick the second image from the same class, but it won't be the same image\n",
    "        we chose for the first class. This is used to ensure the positive example isn't trivial as the network would\n",
    "        easily distinguish the similarity between same images. However, if the network were given two different\n",
    "        images from the same class, the network will need to learn  the similarity between two different images\n",
    "        representing the same class.\n",
    "\n",
    "        2. If the index is odd, we will pick the second image from a different class than the first image.\n",
    "        \"\"\"\n",
    "        # Choose some random class for the anchor image-\n",
    "        selected_class = np.random.randint(low = 0, high = 10, size = None)\n",
    "\n",
    "        # Choose a random index for the first image from the grouped indices using label of chosen class-\n",
    "        random_idx_1 = np.random.randint(low = 0, high = self.grouped_imgs[selected_class].shape[0] - 1)\n",
    "\n",
    "        # Choose index to retrieve fist image-\n",
    "        idx_1 = self.grouped_imgs[selected_class][random_idx_1]\n",
    "\n",
    "        # Retrieve first/anchor image-\n",
    "        anchor = self.dataset[idx_1].clone().float()\n",
    "        \n",
    "        # Choose a random index for the second (positive) image-\n",
    "        random_idx_2 = np.random.randint(low = 0, high = self.grouped_imgs[selected_class].shape[0] - 1, size = None)\n",
    "    \n",
    "        # Ensure that index of second (positive) image is not equal to the first (anchor) image-\n",
    "        while random_idx_2 == random_idx_1:\n",
    "            random_idx_2 = np.random.randint(low = 0, high = self.grouped_imgs[selected_class].shape[0] - 1, size = None)\n",
    "    \n",
    "        # Choose the index to retrieve the second (positive) image-\n",
    "        idx_2 = self.grouped_imgs[selected_class][random_idx_2]\n",
    "    \n",
    "        # Retrieve second/positive image-\n",
    "        positive = self.dataset[idx_2].clone().float()\n",
    "        \n",
    "        \n",
    "        # Choose a different random class-\n",
    "        diff_selected_class = np.random.randint(low = 0, high = 9, size = None)\n",
    "    \n",
    "        # Ensure that these two classes are different-\n",
    "        while diff_selected_class == selected_class:\n",
    "            diff_selected_class = np.random.randint(low = 0, high = 9, size = None)\n",
    "    \n",
    "        # Choose a random index for the second image in grouped indices using label of the chosen class-\n",
    "        random_idx_3 = np.random.randint(low = 0, high = self.grouped_imgs[diff_selected_class].shape[0] - 1, size = None)\n",
    "    \n",
    "        # Choose index to retrieve second image-\n",
    "        idx_3 = self.grouped_imgs[diff_selected_class][random_idx_3]\n",
    "    \n",
    "        # Retrieve third/negative image-\n",
    "        negative = self.dataset[idx_3].clone().float()\n",
    "        \n",
    "        return anchor, positive, negative\n"
   ]
  },
  {
   "cell_type": "code",
   "execution_count": null,
   "id": "01f44fb3-1a5d-48f1-bf46-aab0053ed51f",
   "metadata": {},
   "outputs": [],
   "source": []
  },
  {
   "cell_type": "code",
   "execution_count": null,
   "id": "3b9663c8-8366-4382-bc2e-8fd80e0bedbf",
   "metadata": {},
   "outputs": [],
   "source": []
  },
  {
   "cell_type": "code",
   "execution_count": null,
   "id": "1155ab58-4db1-4a63-a223-d037aca51f5f",
   "metadata": {},
   "outputs": [],
   "source": [
    "\"\"\"\n",
    "# MNIST dataset-\n",
    "train_dataset = torchvision.datasets.MNIST(\n",
    "        root = '/home/arjunm/Downloads/.data', train = True,\n",
    "        transform = transforms_apply, download = True\n",
    "        )\n",
    "\n",
    "test_dataset = torchvision.datasets.MNIST(\n",
    "        root = '/home/arjunm/Downloads/.data', train = False,\n",
    "        transform = transforms_apply\n",
    "        )\n",
    "\"\"\""
   ]
  },
  {
   "cell_type": "code",
   "execution_count": 6,
   "id": "83ca38fd-468f-42d5-aada-6b1ecb19c3d6",
   "metadata": {},
   "outputs": [],
   "source": [
    "# Get train and test datasets for MNIST-\n",
    "train_dataset = Siamese_MNIST_Dataset(\n",
    "    root = '/home/arjun/Downloads/.data', train = True,\n",
    "    transform = transforms_apply, download = True\n",
    ")\n",
    "\n",
    "test_dataset = Siamese_MNIST_Dataset(\n",
    "    root = '/home/arjun/Downloads/.data', train = False,\n",
    "    transform = transforms_apply, download = True\n",
    ")"
   ]
  },
  {
   "cell_type": "code",
   "execution_count": 7,
   "id": "b6dc3ed1-4563-49ea-b6dc-2104b0772fe5",
   "metadata": {},
   "outputs": [
    {
     "name": "stdout",
     "output_type": "stream",
     "text": [
      "len(train_dataset): 60000 & len(test_dataset): 10000\n"
     ]
    }
   ],
   "source": [
    "print(f\"len(train_dataset): {len(train_dataset)} & len(test_dataset): {len(test_dataset)}\")"
   ]
  },
  {
   "cell_type": "code",
   "execution_count": null,
   "id": "c8b132be-9620-4a7b-ae1c-33462d2bce85",
   "metadata": {},
   "outputs": [],
   "source": []
  },
  {
   "cell_type": "code",
   "execution_count": 8,
   "id": "bbee107e-f5ac-4c52-b93f-64ca93fa4dec",
   "metadata": {},
   "outputs": [],
   "source": [
    "# Create dataloader-\n",
    "train_loader = torch.utils.data.DataLoader(\n",
    "        dataset = train_dataset, batch_size = batch_size,\n",
    "        shuffle = True\n",
    "        )\n",
    "\n",
    "test_loader = torch.utils.data.DataLoader(\n",
    "        dataset = test_dataset, batch_size = batch_size,\n",
    "        shuffle = True\n",
    "        )"
   ]
  },
  {
   "cell_type": "code",
   "execution_count": 9,
   "id": "ed2adcc3-9f60-4b4c-a74f-76746619c145",
   "metadata": {},
   "outputs": [
    {
     "name": "stdout",
     "output_type": "stream",
     "text": [
      "len(train_loader) = 235 & len(test_loader) = 40\n"
     ]
    }
   ],
   "source": [
    "print(f\"len(train_loader) = {len(train_loader)} & len(test_loader) = {len(test_loader)}\")"
   ]
  },
  {
   "cell_type": "code",
   "execution_count": null,
   "id": "2755049b-c296-49d0-9e7f-e2a030b6c839",
   "metadata": {},
   "outputs": [],
   "source": []
  },
  {
   "cell_type": "code",
   "execution_count": 8,
   "id": "8f64ba77-a71a-423a-8a27-b6ae721d4583",
   "metadata": {},
   "outputs": [
    {
     "data": {
      "image/png": "[encoded data removed]",
      "text/plain": [
       "<Figure size 800x600 with 1 Axes>"
      ]
     },
     "metadata": {},
     "output_type": "display_data"
    }
   ],
   "source": [
    "# Visualize MNIST train data distribution-\n",
    "\n",
    "vals, cnt = np.unique(train_dataset.mnist_dataset.targets, return_counts = True)\n",
    "\n",
    "plt.figure(figsize = (8, 6))\n",
    "# plt.bar(x = vals, height = cnt)\n",
    "sns.barplot(x = vals, y = cnt)\n",
    "plt.xlabel(\"MNIST digits\")\n",
    "plt.ylabel(\"count\")\n",
    "plt.title(\"MNIST Train dataset distribution\")\n",
    "plt.show()\n",
    "\n",
    "del cnt, vals"
   ]
  },
  {
   "cell_type": "code",
   "execution_count": 9,
   "id": "ae81c54e-5cfd-4f13-9d99-1547d10d0849",
   "metadata": {},
   "outputs": [
    {
     "data": {
      "image/png": "[encoded data removed]",
      "text/plain": [
       "<Figure size 800x600 with 1 Axes>"
      ]
     },
     "metadata": {},
     "output_type": "display_data"
    }
   ],
   "source": [
    "# Visualize MNIST testn data distribution-\n",
    "\n",
    "vals, cnt = np.unique(test_dataset.mnist_dataset.targets, return_counts = True)\n",
    "\n",
    "plt.figure(figsize = (8, 6))\n",
    "# plt.bar(x = vals, height = cnt)\n",
    "sns.barplot(x = vals, y = cnt)\n",
    "plt.xlabel(\"MNIST digits\")\n",
    "plt.ylabel(\"count\")\n",
    "plt.title(\"MNIST Test dataset distribution\")\n",
    "plt.show()\n",
    "\n",
    "del cnt, vals"
   ]
  },
  {
   "cell_type": "code",
   "execution_count": null,
   "id": "678a7bfd-a565-4159-a671-e602b4b67b36",
   "metadata": {},
   "outputs": [],
   "source": []
  },
  {
   "cell_type": "code",
   "execution_count": 12,
   "id": "e0061e51-3ca8-47bf-b653-d8b4a5073f5b",
   "metadata": {},
   "outputs": [],
   "source": [
    "# Get some random batch of training images & labels-\n",
    "A, P, N = next(iter(train_loader))"
   ]
  },
  {
   "cell_type": "code",
   "execution_count": 13,
   "id": "79956a38-4843-4dc8-af16-f8f3894207a4",
   "metadata": {},
   "outputs": [
    {
     "data": {
      "text/plain": [
       "(torch.Size([256, 1, 28, 28]),\n",
       " torch.Size([256, 1, 28, 28]),\n",
       " torch.Size([256, 1, 28, 28]))"
      ]
     },
     "execution_count": 13,
     "metadata": {},
     "output_type": "execute_result"
    }
   ],
   "source": [
    "A.shape, P.shape, N.shape"
   ]
  },
  {
   "cell_type": "code",
   "execution_count": 14,
   "id": "f1edc8e7-c861-45ca-8a2b-dd550192fb20",
   "metadata": {},
   "outputs": [],
   "source": [
    "# De-normalize images (for visualization)-\n",
    "A *= 255.0\n",
    "P *= 255.0\n",
    "N *= 255.0"
   ]
  },
  {
   "cell_type": "code",
   "execution_count": null,
   "id": "8244ae32-7a4e-43c9-b01c-a0b2ac4778b3",
   "metadata": {},
   "outputs": [],
   "source": []
  },
  {
   "cell_type": "code",
   "execution_count": 15,
   "id": "71064362-45db-4097-97e9-208a65f32715",
   "metadata": {},
   "outputs": [
    {
     "data": {
      "image/png": "[encoded data removed]",
      "text/plain": [
       "<Figure size 700x600 with 20 Axes>"
      ]
     },
     "metadata": {},
     "output_type": "display_data"
    }
   ],
   "source": [
    "# Visualize 20 images from training set-\n",
    "plt.figure(figsize = (7, 6))\n",
    "for i in range(20):\n",
    "    # 4 rows & 5 columns-\n",
    "    plt.subplot(4, 5, i + 1)\n",
    "    # plt.imshow(images[i], cmap = 'gray')\n",
    "    # 0 to access first channel-\n",
    "    plt.imshow(A[i][0], cmap = 'gray')\n",
    "    \n",
    "plt.suptitle(\"Sample Anchor MNIST training images\")\n",
    "plt.show()"
   ]
  },
  {
   "cell_type": "code",
   "execution_count": 16,
   "id": "47cf503f-3b35-4bb7-82d5-73c0e3662afb",
   "metadata": {},
   "outputs": [
    {
     "data": {
      "image/png": "[encoded data removed]",
      "text/plain": [
       "<Figure size 700x600 with 20 Axes>"
      ]
     },
     "metadata": {},
     "output_type": "display_data"
    }
   ],
   "source": [
    "# Visualize 20 images from training set-\n",
    "plt.figure(figsize = (7, 6))\n",
    "for i in range(20):\n",
    "    # 4 rows & 5 columns-\n",
    "    plt.subplot(4, 5, i + 1)\n",
    "    # plt.imshow(images[i], cmap = 'gray')\n",
    "    # 0 to access first channel-\n",
    "    plt.imshow(P[i][0], cmap = 'gray')\n",
    "    \n",
    "plt.suptitle(\"Sample Positive MNIST training images\")\n",
    "plt.show()"
   ]
  },
  {
   "cell_type": "code",
   "execution_count": 17,
   "id": "e29725fb-57e2-4c55-b230-64e8ac5b49e8",
   "metadata": {},
   "outputs": [
    {
     "data": {
      "image/png": "[encoded data removed]",
      "text/plain": [
       "<Figure size 700x600 with 20 Axes>"
      ]
     },
     "metadata": {},
     "output_type": "display_data"
    }
   ],
   "source": [
    "# Visualize 20 images from training set-\n",
    "plt.figure(figsize = (7, 6))\n",
    "for i in range(20):\n",
    "    # 4 rows & 5 columns-\n",
    "    plt.subplot(4, 5, i + 1)\n",
    "    # plt.imshow(images[i], cmap = 'gray')\n",
    "    # 0 to access first channel-\n",
    "    plt.imshow(N[i][0], cmap = 'gray')\n",
    "    \n",
    "plt.suptitle(\"Sample Negative MNIST training images\")\n",
    "plt.show()"
   ]
  },
  {
   "cell_type": "code",
   "execution_count": 18,
   "id": "be4434b5-a8df-469a-b36c-818888fb16b2",
   "metadata": {},
   "outputs": [
    {
     "data": {
      "text/plain": [
       "(tensor(False), tensor(False))"
      ]
     },
     "execution_count": 18,
     "metadata": {},
     "output_type": "execute_result"
    }
   ],
   "source": [
    "torch.all(P == N), torch.all(A == P)"
   ]
  },
  {
   "cell_type": "code",
   "execution_count": 18,
   "id": "7ccc83cb-606a-4ddf-bd56-9dfa0a7e9080",
   "metadata": {},
   "outputs": [],
   "source": [
    "del A, P, N"
   ]
  },
  {
   "cell_type": "code",
   "execution_count": null,
   "id": "b1aa0b46-1858-440b-8768-eed8e642be4f",
   "metadata": {},
   "outputs": [],
   "source": []
  },
  {
   "cell_type": "code",
   "execution_count": null,
   "id": "23be6e49-6436-4cbe-80ec-6a164c655151",
   "metadata": {},
   "outputs": [],
   "source": []
  },
  {
   "cell_type": "markdown",
   "id": "c1977a77-7fff-470a-8b77-27c27df546a7",
   "metadata": {},
   "source": [
    "### Define _LeNet-5_ CNN architecture for _Siamese Network_"
   ]
  },
  {
   "cell_type": "code",
   "execution_count": 10,
   "id": "7bbb5029-029f-41d1-b9bb-051ff348fc79",
   "metadata": {},
   "outputs": [],
   "source": [
    "class Siamese_LeNet5(nn.Module):\n",
    "    def __init__(self):\n",
    "        super(Siamese_LeNet5, self).__init__()\n",
    "        \n",
    "        self.conv1 = nn.Conv2d(\n",
    "            in_channels = 1, out_channels = 6,\n",
    "            kernel_size = 3, stride = 2,\n",
    "            padding = 1, bias = True\n",
    "        )\n",
    "        self.conv2 = nn.Conv2d(\n",
    "            in_channels = 6, out_channels = 16,\n",
    "            kernel_size = 5, stride = 1,\n",
    "            padding = 0, bias = True\n",
    "        )\n",
    "        self.conv3 = nn.Conv2d(\n",
    "            in_channels = 16, out_channels = 16,\n",
    "            kernel_size = 5, stride = 1,\n",
    "            padding = 0, bias = True\n",
    "        )\n",
    "        self.conv4 = nn.Conv2d(\n",
    "            in_channels = 16, out_channels = 16,\n",
    "            kernel_size = 5, stride = 1,\n",
    "            padding = 0, bias = True\n",
    "        )\n",
    "        \n",
    "        self.dense = nn.Linear(\n",
    "            #in_features = 64 * 2, out_features = 1,\n",
    "            in_features = 64, out_features = 20,\n",
    "            bias = True\n",
    "        )\n",
    "        \n",
    "        self.initialize_weights()\n",
    "        \n",
    "    \n",
    "    def initialize_weights(self):\n",
    "        for m in self.modules():\n",
    "            # print(m)\n",
    "            if isinstance(m, nn.Conv2d):\n",
    "                nn.init.kaiming_normal_(m.weight)\n",
    "                \n",
    "                # Do not initialize bias (due to batchnorm)-\n",
    "                if m.bias is not None:\n",
    "                    nn.init.constant_(m.bias, 0)\n",
    "                \n",
    "            elif isinstance(m, nn.BatchNorm2d):\n",
    "                # Standard initialization for batch normalization-\n",
    "                nn.init.constant_(m.weight, 1)\n",
    "                nn.init.constant_(m.bias, 0)\n",
    "\n",
    "            elif isinstance(m, nn.Linear):\n",
    "                nn.init.kaiming_normal_(m.weight)\n",
    "                nn.init.constant_(m.bias, 0)\n",
    "        \n",
    "    \n",
    "    def forward(self, x):\n",
    "        x = F.leaky_relu(self.conv1(x))\n",
    "        x = F.leaky_relu(self.conv2(x))\n",
    "        x = F.leaky_relu(self.conv3(x))\n",
    "        x = F.leaky_relu(self.conv4(x))\n",
    "        x = torch.flatten(x, start_dim = 1)\n",
    "        # x = x.flatten()\n",
    "        x = F.leaky_relu(self.dense(x))\n",
    "        return x\n",
    "    "
   ]
  },
  {
   "cell_type": "code",
   "execution_count": null,
   "id": "195a8e5b-c1cb-478b-92bd-7fb213eec1d5",
   "metadata": {},
   "outputs": [],
   "source": []
  },
  {
   "cell_type": "code",
   "execution_count": 11,
   "id": "5b476560-0c06-45ff-ba23-d5c796362765",
   "metadata": {},
   "outputs": [],
   "source": [
    "# model = Network().to(device)\n",
    "model = Siamese_LeNet5().to(device)"
   ]
  },
  {
   "cell_type": "code",
   "execution_count": 13,
   "id": "2c1841a3-6fb7-4b42-aa27-ebf3eac75474",
   "metadata": {},
   "outputs": [
    {
     "name": "stdout",
     "output_type": "stream",
     "text": [
      "layer: torch.Size([6, 1, 3, 3]) has 54 params\n",
      "layer: torch.Size([6]) has 6 params\n",
      "layer: torch.Size([16, 6, 5, 5]) has 2400 params\n",
      "layer: torch.Size([16]) has 16 params\n",
      "layer: torch.Size([16, 16, 5, 5]) has 6400 params\n",
      "layer: torch.Size([16]) has 16 params\n",
      "layer: torch.Size([16, 16, 5, 5]) has 6400 params\n",
      "layer: torch.Size([16]) has 16 params\n",
      "layer: torch.Size([20, 64]) has 1280 params\n",
      "layer: torch.Size([20]) has 20 params\n"
     ]
    }
   ],
   "source": [
    "tot_params = 0\n",
    "for param in model.parameters():\n",
    "    print(f\"layer: {param.shape} has {param.nelement()} params\")\n",
    "    tot_params += param.nelement()\n",
    "\n",
    "del param"
   ]
  },
  {
   "cell_type": "code",
   "execution_count": 14,
   "id": "97535968-3aec-4cbf-9f43-8678268db9c0",
   "metadata": {},
   "outputs": [
    {
     "name": "stdout",
     "output_type": "stream",
     "text": [
      "LeNet-5 CNN has 16608 total parameters\n"
     ]
    }
   ],
   "source": [
    "print(f\"LeNet-5 CNN has {tot_params} total parameters\")"
   ]
  },
  {
   "cell_type": "code",
   "execution_count": null,
   "id": "f14a3de4-0d06-4331-b35a-798c17193988",
   "metadata": {},
   "outputs": [],
   "source": []
  },
  {
   "cell_type": "code",
   "execution_count": 12,
   "id": "cc0e4bd2-eac6-4eae-8922-f8d268537ac7",
   "metadata": {},
   "outputs": [],
   "source": [
    "# Define gredient descent optimizer-\n",
    "'''\n",
    "optimizer = torch.optim.SGD(\n",
    "    params = model.parameters(), lr = 0.01,\n",
    "    momentum = 0.0, weight_decay = 0\n",
    ")\n",
    "'''\n",
    "optimizer = torch.optim.Adam(model.parameters(), lr = 0.0001)"
   ]
  },
  {
   "cell_type": "code",
   "execution_count": 13,
   "id": "a895191b-65c9-4235-b836-be6eea1bb31a",
   "metadata": {},
   "outputs": [],
   "source": [
    "def compute_triplet_loss(A_embed, P_embed, N_embed, margin = 1.0):\n",
    "    \n",
    "    # (A_embed - P_embed).pow(2).sum(dim = 1).shape\n",
    "    # torch.Size([256])\n",
    "    \n",
    "    # Compute Euclidean (L2-norm) distances between pairs-\n",
    "    dist_pos = (A_embed - P_embed).pow(2).sum(dim = 1)\n",
    "    dist_neg = (A_embed - N_embed).pow(2).sum(dim = 1)\n",
    "    \n",
    "    # dist_pos.shape, dist_neg.shape\n",
    "    # (torch.Size([256]), torch.Size([256]))\n",
    "    \n",
    "    # torch.relu(dist_pos - dist_neg + 10.0).shape\n",
    "    # torch.Size([256])\n",
    "    \n",
    "    return torch.mean(torch.relu(dist_pos - dist_neg + margin))\n"
   ]
  },
  {
   "cell_type": "code",
   "execution_count": null,
   "id": "5849a024-3278-4400-b383-c8309f6b97f5",
   "metadata": {},
   "outputs": [],
   "source": []
  },
  {
   "cell_type": "code",
   "execution_count": null,
   "id": "f6e3c2e1-95d4-4de3-9fc7-8d32b0662701",
   "metadata": {},
   "outputs": [],
   "source": []
  },
  {
   "cell_type": "code",
   "execution_count": 15,
   "id": "646f67a6-9a76-40b1-b1d6-82a131214d60",
   "metadata": {},
   "outputs": [],
   "source": [
    "def train_one_epoch(model, optimizer, dataloader, margin_triplet):\n",
    "    \n",
    "    # Push model to 'device'-\n",
    "    model.to(device)\n",
    "    \n",
    "    # Enable training mode-\n",
    "    model.train()\n",
    "    \n",
    "    # Train triplet loss-\n",
    "    train_triplet_cost = 0.0\n",
    "    \n",
    "    with tqdm(dataloader, unit = 'batch') as tepoch:\n",
    "        for A, P, N in tepoch:\n",
    "            tepoch.set_description(f\"Training: \")\n",
    "            # print(images.shape, labels.shape)\n",
    "            \n",
    "            # Push images to 'device'-\n",
    "            A = A.to(device)\n",
    "            P = P.to(device)\n",
    "            N = N.to(device)\n",
    "            \n",
    "            # Empty accumulated gradients-\n",
    "            optimizer.zero_grad()\n",
    "            \n",
    "            # Get feature embeddings-\n",
    "            A_embed = model(A)\n",
    "            P_embed = model(P)\n",
    "            N_embed = model(N)\n",
    "            \n",
    "            # Compute contrastive loss-\n",
    "            triplet_loss = compute_triplet_loss(\n",
    "                A_embed = A_embed, P_embed = P_embed,\n",
    "                N_embed = N_embed, margin = margin_triplet\n",
    "            )\n",
    "            \n",
    "            # Compute gradients wrt loss-\n",
    "            triplet_loss.backward()\n",
    "            \n",
    "            # Update loss-\n",
    "            train_triplet_cost += triplet_loss.item()\n",
    "            \n",
    "            # Perform gradient descent-\n",
    "            optimizer.step()\n",
    "    \n",
    "    # Compute losses as float values-\n",
    "    train_triplet_cost = train_triplet_cost / len(dataloader.dataset)\n",
    "    \n",
    "    return train_triplet_cost\n"
   ]
  },
  {
   "cell_type": "code",
   "execution_count": 16,
   "id": "5e1f31dd-905c-498f-8827-c9a8cb36347f",
   "metadata": {},
   "outputs": [],
   "source": [
    "def validate_one_epoch(model, optimizer, dataloader, margin_triplet):\n",
    "    \n",
    "    # Place model to device-\n",
    "    model.to(device)\n",
    "    \n",
    "    # Enable evaluation mode-\n",
    "    model.eval()\n",
    "    \n",
    "    val_triplet_loss = 0.0\n",
    "    \n",
    "    with torch.no_grad():\n",
    "        with tqdm(dataloader, unit = 'batch') as tepoch:\n",
    "            for A, P, N in tepoch:\n",
    "                tepoch.set_description(f\"Validation: \")\n",
    "                \n",
    "                # Push images to 'device'-\n",
    "                A = A.to(device)\n",
    "                P = P.to(device)\n",
    "                N = N.to(device)\n",
    "                \n",
    "                # Get feature embeddings-\n",
    "                A_embed = model(A)\n",
    "                P_embed = model(P)\n",
    "                N_embed = model(N)\n",
    "            \n",
    "                # Compute contrastive loss-\n",
    "                triplet_loss = compute_triplet_loss(\n",
    "                    A_embed = A_embed, P_embed = P_embed,\n",
    "                    N_embed = N_embed, margin = margin_triplet\n",
    "                )\n",
    "            \n",
    "                # Update loss-\n",
    "                val_triplet_loss += triplet_loss.item()\n",
    "                \n",
    "    val_triplet_loss = val_triplet_loss / len(dataloader.dataset)\n",
    "    \n",
    "    return val_triplet_loss\n"
   ]
  },
  {
   "cell_type": "code",
   "execution_count": null,
   "id": "b7548e37-9c72-4d61-9ba1-9e79d600bfd3",
   "metadata": {},
   "outputs": [],
   "source": []
  },
  {
   "cell_type": "code",
   "execution_count": 18,
   "id": "40c097ef-acad-4bf6-a8ae-8197f6f855ae",
   "metadata": {},
   "outputs": [],
   "source": [
    "margin_training = 1.0"
   ]
  },
  {
   "cell_type": "code",
   "execution_count": 19,
   "id": "bc945cfa-dd84-467e-b91b-df8b31b95b8e",
   "metadata": {},
   "outputs": [],
   "source": [
    "train_history = {}\n",
    "best_val_loss = 1e5"
   ]
  },
  {
   "cell_type": "code",
   "execution_count": null,
   "id": "06bbd584-e7ed-4a25-8a6f-85aba7d7518e",
   "metadata": {},
   "outputs": [],
   "source": []
  },
  {
   "cell_type": "code",
   "execution_count": 20,
   "id": "9dc64707-de15-4b74-9772-4c9d7601aa41",
   "metadata": {},
   "outputs": [
    {
     "name": "stderr",
     "output_type": "stream",
     "text": [
      "Training: : 100%|██████████████████████████| 235/235 [00:08<00:00, 26.44batch/s]\n",
      "Validation: : 100%|██████████████████████████| 40/40 [00:00<00:00, 56.63batch/s]\n"
     ]
    },
    {
     "name": "stdout",
     "output_type": "stream",
     "text": [
      "epoch: 1, train triplet cost = 1.8109 & val triplet cost = 0.2632\n",
      "Saving model with lowest val_loss = 0.2632\n",
      "\n"
     ]
    },
    {
     "name": "stderr",
     "output_type": "stream",
     "text": [
      "Training: : 100%|██████████████████████████| 235/235 [00:08<00:00, 26.77batch/s]\n",
      "Validation: : 100%|██████████████████████████| 40/40 [00:00<00:00, 53.09batch/s]\n"
     ]
    },
    {
     "name": "stdout",
     "output_type": "stream",
     "text": [
      "epoch: 2, train triplet cost = 0.1010 & val triplet cost = 0.0337\n",
      "Saving model with lowest val_loss = 0.0337\n",
      "\n"
     ]
    },
    {
     "name": "stderr",
     "output_type": "stream",
     "text": [
      "Training: : 100%|██████████████████████████| 235/235 [00:09<00:00, 25.48batch/s]\n",
      "Validation: : 100%|██████████████████████████| 40/40 [00:00<00:00, 53.45batch/s]\n"
     ]
    },
    {
     "name": "stdout",
     "output_type": "stream",
     "text": [
      "epoch: 3, train triplet cost = 0.0242 & val triplet cost = 0.0181\n",
      "Saving model with lowest val_loss = 0.0181\n",
      "\n"
     ]
    },
    {
     "name": "stderr",
     "output_type": "stream",
     "text": [
      "Training: : 100%|██████████████████████████| 235/235 [00:08<00:00, 26.21batch/s]\n",
      "Validation: : 100%|██████████████████████████| 40/40 [00:00<00:00, 55.16batch/s]\n"
     ]
    },
    {
     "name": "stdout",
     "output_type": "stream",
     "text": [
      "epoch: 4, train triplet cost = 0.0150 & val triplet cost = 0.0137\n",
      "Saving model with lowest val_loss = 0.0137\n",
      "\n"
     ]
    },
    {
     "name": "stderr",
     "output_type": "stream",
     "text": [
      "Training: : 100%|██████████████████████████| 235/235 [00:09<00:00, 25.75batch/s]\n",
      "Validation: : 100%|██████████████████████████| 40/40 [00:00<00:00, 52.48batch/s]\n"
     ]
    },
    {
     "name": "stdout",
     "output_type": "stream",
     "text": [
      "epoch: 5, train triplet cost = 0.0109 & val triplet cost = 0.0111\n",
      "Saving model with lowest val_loss = 0.0111\n",
      "\n"
     ]
    },
    {
     "name": "stderr",
     "output_type": "stream",
     "text": [
      "Training: : 100%|██████████████████████████| 235/235 [00:09<00:00, 25.35batch/s]\n",
      "Validation: : 100%|██████████████████████████| 40/40 [00:00<00:00, 54.30batch/s]\n"
     ]
    },
    {
     "name": "stdout",
     "output_type": "stream",
     "text": [
      "epoch: 6, train triplet cost = 0.0095 & val triplet cost = 0.0085\n",
      "Saving model with lowest val_loss = 0.0085\n",
      "\n"
     ]
    },
    {
     "name": "stderr",
     "output_type": "stream",
     "text": [
      "Training: : 100%|██████████████████████████| 235/235 [00:08<00:00, 28.36batch/s]\n",
      "Validation: : 100%|██████████████████████████| 40/40 [00:00<00:00, 60.38batch/s]\n"
     ]
    },
    {
     "name": "stdout",
     "output_type": "stream",
     "text": [
      "epoch: 7, train triplet cost = 0.0084 & val triplet cost = 0.0077\n",
      "Saving model with lowest val_loss = 0.0077\n",
      "\n"
     ]
    },
    {
     "name": "stderr",
     "output_type": "stream",
     "text": [
      "Training: : 100%|██████████████████████████| 235/235 [00:07<00:00, 30.60batch/s]\n",
      "Validation: : 100%|██████████████████████████| 40/40 [00:00<00:00, 61.81batch/s]\n"
     ]
    },
    {
     "name": "stdout",
     "output_type": "stream",
     "text": [
      "epoch: 8, train triplet cost = 0.0074 & val triplet cost = 0.0068\n",
      "Saving model with lowest val_loss = 0.0068\n",
      "\n"
     ]
    },
    {
     "name": "stderr",
     "output_type": "stream",
     "text": [
      "Training: : 100%|██████████████████████████| 235/235 [00:07<00:00, 30.22batch/s]\n",
      "Validation: : 100%|██████████████████████████| 40/40 [00:00<00:00, 56.93batch/s]\n"
     ]
    },
    {
     "name": "stdout",
     "output_type": "stream",
     "text": [
      "epoch: 9, train triplet cost = 0.0066 & val triplet cost = 0.0073\n"
     ]
    },
    {
     "name": "stderr",
     "output_type": "stream",
     "text": [
      "Training: : 100%|██████████████████████████| 235/235 [00:07<00:00, 30.52batch/s]\n",
      "Validation: : 100%|██████████████████████████| 40/40 [00:00<00:00, 58.99batch/s]\n"
     ]
    },
    {
     "name": "stdout",
     "output_type": "stream",
     "text": [
      "epoch: 10, train triplet cost = 0.0061 & val triplet cost = 0.0061\n",
      "Saving model with lowest val_loss = 0.0061\n",
      "\n"
     ]
    },
    {
     "name": "stderr",
     "output_type": "stream",
     "text": [
      "Training: : 100%|██████████████████████████| 235/235 [00:09<00:00, 25.44batch/s]\n",
      "Validation: : 100%|██████████████████████████| 40/40 [00:00<00:00, 49.58batch/s]\n"
     ]
    },
    {
     "name": "stdout",
     "output_type": "stream",
     "text": [
      "epoch: 11, train triplet cost = 0.0056 & val triplet cost = 0.0059\n",
      "Saving model with lowest val_loss = 0.0059\n",
      "\n"
     ]
    },
    {
     "name": "stderr",
     "output_type": "stream",
     "text": [
      "Training: : 100%|██████████████████████████| 235/235 [00:09<00:00, 24.45batch/s]\n",
      "Validation: : 100%|██████████████████████████| 40/40 [00:00<00:00, 48.81batch/s]\n"
     ]
    },
    {
     "name": "stdout",
     "output_type": "stream",
     "text": [
      "epoch: 12, train triplet cost = 0.0053 & val triplet cost = 0.0050\n",
      "Saving model with lowest val_loss = 0.0050\n",
      "\n"
     ]
    },
    {
     "name": "stderr",
     "output_type": "stream",
     "text": [
      "Training: : 100%|██████████████████████████| 235/235 [00:09<00:00, 25.40batch/s]\n",
      "Validation: : 100%|██████████████████████████| 40/40 [00:00<00:00, 50.64batch/s]\n"
     ]
    },
    {
     "name": "stdout",
     "output_type": "stream",
     "text": [
      "epoch: 13, train triplet cost = 0.0050 & val triplet cost = 0.0049\n",
      "Saving model with lowest val_loss = 0.0049\n",
      "\n"
     ]
    },
    {
     "name": "stderr",
     "output_type": "stream",
     "text": [
      "Training: : 100%|██████████████████████████| 235/235 [00:09<00:00, 24.42batch/s]\n",
      "Validation: : 100%|██████████████████████████| 40/40 [00:00<00:00, 52.83batch/s]\n"
     ]
    },
    {
     "name": "stdout",
     "output_type": "stream",
     "text": [
      "epoch: 14, train triplet cost = 0.0048 & val triplet cost = 0.0046\n",
      "Saving model with lowest val_loss = 0.0046\n",
      "\n"
     ]
    },
    {
     "name": "stderr",
     "output_type": "stream",
     "text": [
      "Training: : 100%|██████████████████████████| 235/235 [00:09<00:00, 25.08batch/s]\n",
      "Validation: : 100%|██████████████████████████| 40/40 [00:00<00:00, 51.65batch/s]\n"
     ]
    },
    {
     "name": "stdout",
     "output_type": "stream",
     "text": [
      "epoch: 15, train triplet cost = 0.0043 & val triplet cost = 0.0047\n"
     ]
    },
    {
     "name": "stderr",
     "output_type": "stream",
     "text": [
      "Training: : 100%|██████████████████████████| 235/235 [00:09<00:00, 25.22batch/s]\n",
      "Validation: : 100%|██████████████████████████| 40/40 [00:00<00:00, 50.78batch/s]\n"
     ]
    },
    {
     "name": "stdout",
     "output_type": "stream",
     "text": [
      "epoch: 16, train triplet cost = 0.0041 & val triplet cost = 0.0042\n",
      "Saving model with lowest val_loss = 0.0042\n",
      "\n"
     ]
    },
    {
     "name": "stderr",
     "output_type": "stream",
     "text": [
      "Training: : 100%|██████████████████████████| 235/235 [00:09<00:00, 25.52batch/s]\n",
      "Validation: : 100%|██████████████████████████| 40/40 [00:00<00:00, 52.80batch/s]\n"
     ]
    },
    {
     "name": "stdout",
     "output_type": "stream",
     "text": [
      "epoch: 17, train triplet cost = 0.0040 & val triplet cost = 0.0038\n",
      "Saving model with lowest val_loss = 0.0038\n",
      "\n"
     ]
    },
    {
     "name": "stderr",
     "output_type": "stream",
     "text": [
      "Training: : 100%|██████████████████████████| 235/235 [00:09<00:00, 25.07batch/s]\n",
      "Validation: : 100%|██████████████████████████| 40/40 [00:00<00:00, 51.75batch/s]\n"
     ]
    },
    {
     "name": "stdout",
     "output_type": "stream",
     "text": [
      "epoch: 18, train triplet cost = 0.0036 & val triplet cost = 0.0035\n",
      "Saving model with lowest val_loss = 0.0035\n",
      "\n"
     ]
    },
    {
     "name": "stderr",
     "output_type": "stream",
     "text": [
      "Training: : 100%|██████████████████████████| 235/235 [00:09<00:00, 23.76batch/s]\n",
      "Validation: : 100%|██████████████████████████| 40/40 [00:00<00:00, 52.87batch/s]\n"
     ]
    },
    {
     "name": "stdout",
     "output_type": "stream",
     "text": [
      "epoch: 19, train triplet cost = 0.0033 & val triplet cost = 0.0033\n",
      "Saving model with lowest val_loss = 0.0033\n",
      "\n"
     ]
    },
    {
     "name": "stderr",
     "output_type": "stream",
     "text": [
      "Training: : 100%|██████████████████████████| 235/235 [00:09<00:00, 24.52batch/s]\n",
      "Validation: : 100%|██████████████████████████| 40/40 [00:00<00:00, 48.16batch/s]\n"
     ]
    },
    {
     "name": "stdout",
     "output_type": "stream",
     "text": [
      "epoch: 20, train triplet cost = 0.0032 & val triplet cost = 0.0032\n",
      "Saving model with lowest val_loss = 0.0032\n",
      "\n"
     ]
    },
    {
     "name": "stderr",
     "output_type": "stream",
     "text": [
      "Training: : 100%|██████████████████████████| 235/235 [00:09<00:00, 24.37batch/s]\n",
      "Validation: : 100%|██████████████████████████| 40/40 [00:00<00:00, 49.68batch/s]\n"
     ]
    },
    {
     "name": "stdout",
     "output_type": "stream",
     "text": [
      "epoch: 21, train triplet cost = 0.0031 & val triplet cost = 0.0030\n",
      "Saving model with lowest val_loss = 0.0030\n",
      "\n"
     ]
    },
    {
     "name": "stderr",
     "output_type": "stream",
     "text": [
      "Training: : 100%|██████████████████████████| 235/235 [00:09<00:00, 24.74batch/s]\n",
      "Validation: : 100%|██████████████████████████| 40/40 [00:00<00:00, 49.87batch/s]\n"
     ]
    },
    {
     "name": "stdout",
     "output_type": "stream",
     "text": [
      "epoch: 22, train triplet cost = 0.0029 & val triplet cost = 0.0029\n",
      "Saving model with lowest val_loss = 0.0029\n",
      "\n"
     ]
    },
    {
     "name": "stderr",
     "output_type": "stream",
     "text": [
      "Training: : 100%|██████████████████████████| 235/235 [00:09<00:00, 24.65batch/s]\n",
      "Validation: : 100%|██████████████████████████| 40/40 [00:00<00:00, 51.51batch/s]\n"
     ]
    },
    {
     "name": "stdout",
     "output_type": "stream",
     "text": [
      "epoch: 23, train triplet cost = 0.0028 & val triplet cost = 0.0028\n",
      "Saving model with lowest val_loss = 0.0028\n",
      "\n"
     ]
    },
    {
     "name": "stderr",
     "output_type": "stream",
     "text": [
      "Training: : 100%|██████████████████████████| 235/235 [00:09<00:00, 24.12batch/s]\n",
      "Validation: : 100%|██████████████████████████| 40/40 [00:00<00:00, 51.33batch/s]\n"
     ]
    },
    {
     "name": "stdout",
     "output_type": "stream",
     "text": [
      "epoch: 24, train triplet cost = 0.0028 & val triplet cost = 0.0027\n",
      "Saving model with lowest val_loss = 0.0027\n",
      "\n"
     ]
    },
    {
     "name": "stderr",
     "output_type": "stream",
     "text": [
      "Training: : 100%|██████████████████████████| 235/235 [00:09<00:00, 24.24batch/s]\n",
      "Validation: : 100%|██████████████████████████| 40/40 [00:00<00:00, 51.52batch/s]\n"
     ]
    },
    {
     "name": "stdout",
     "output_type": "stream",
     "text": [
      "epoch: 25, train triplet cost = 0.0027 & val triplet cost = 0.0027\n",
      "Saving model with lowest val_loss = 0.0027\n",
      "\n"
     ]
    },
    {
     "name": "stderr",
     "output_type": "stream",
     "text": [
      "Training: : 100%|██████████████████████████| 235/235 [00:09<00:00, 23.87batch/s]\n",
      "Validation: : 100%|██████████████████████████| 40/40 [00:00<00:00, 49.04batch/s]\n"
     ]
    },
    {
     "name": "stdout",
     "output_type": "stream",
     "text": [
      "epoch: 26, train triplet cost = 0.0026 & val triplet cost = 0.0026\n",
      "Saving model with lowest val_loss = 0.0026\n",
      "\n"
     ]
    },
    {
     "name": "stderr",
     "output_type": "stream",
     "text": [
      "Training: : 100%|██████████████████████████| 235/235 [00:09<00:00, 25.04batch/s]\n",
      "Validation: : 100%|██████████████████████████| 40/40 [00:00<00:00, 48.69batch/s]\n"
     ]
    },
    {
     "name": "stdout",
     "output_type": "stream",
     "text": [
      "epoch: 27, train triplet cost = 0.0025 & val triplet cost = 0.0025\n",
      "Saving model with lowest val_loss = 0.0025\n",
      "\n"
     ]
    },
    {
     "name": "stderr",
     "output_type": "stream",
     "text": [
      "Training: : 100%|██████████████████████████| 235/235 [00:09<00:00, 25.44batch/s]\n",
      "Validation: : 100%|██████████████████████████| 40/40 [00:00<00:00, 55.59batch/s]\n"
     ]
    },
    {
     "name": "stdout",
     "output_type": "stream",
     "text": [
      "epoch: 28, train triplet cost = 0.0025 & val triplet cost = 0.0024\n",
      "Saving model with lowest val_loss = 0.0024\n",
      "\n"
     ]
    },
    {
     "name": "stderr",
     "output_type": "stream",
     "text": [
      "Training: : 100%|██████████████████████████| 235/235 [00:08<00:00, 27.33batch/s]\n",
      "Validation: : 100%|██████████████████████████| 40/40 [00:00<00:00, 54.01batch/s]\n"
     ]
    },
    {
     "name": "stdout",
     "output_type": "stream",
     "text": [
      "epoch: 29, train triplet cost = 0.0024 & val triplet cost = 0.0023\n",
      "Saving model with lowest val_loss = 0.0023\n",
      "\n"
     ]
    },
    {
     "name": "stderr",
     "output_type": "stream",
     "text": [
      "Training: : 100%|██████████████████████████| 235/235 [00:08<00:00, 28.24batch/s]\n",
      "Validation: : 100%|██████████████████████████| 40/40 [00:00<00:00, 52.20batch/s]\n"
     ]
    },
    {
     "name": "stdout",
     "output_type": "stream",
     "text": [
      "epoch: 30, train triplet cost = 0.0023 & val triplet cost = 0.0022\n",
      "Saving model with lowest val_loss = 0.0022\n",
      "\n"
     ]
    },
    {
     "name": "stderr",
     "output_type": "stream",
     "text": [
      "Training: : 100%|██████████████████████████| 235/235 [00:08<00:00, 28.58batch/s]\n",
      "Validation: : 100%|██████████████████████████| 40/40 [00:00<00:00, 54.72batch/s]\n"
     ]
    },
    {
     "name": "stdout",
     "output_type": "stream",
     "text": [
      "epoch: 31, train triplet cost = 0.0022 & val triplet cost = 0.0023\n"
     ]
    },
    {
     "name": "stderr",
     "output_type": "stream",
     "text": [
      "Training: : 100%|██████████████████████████| 235/235 [00:08<00:00, 27.23batch/s]\n",
      "Validation: : 100%|██████████████████████████| 40/40 [00:00<00:00, 59.53batch/s]\n"
     ]
    },
    {
     "name": "stdout",
     "output_type": "stream",
     "text": [
      "epoch: 32, train triplet cost = 0.0021 & val triplet cost = 0.0021\n",
      "Saving model with lowest val_loss = 0.0021\n",
      "\n"
     ]
    },
    {
     "name": "stderr",
     "output_type": "stream",
     "text": [
      "Training: : 100%|██████████████████████████| 235/235 [00:08<00:00, 28.08batch/s]\n",
      "Validation: : 100%|██████████████████████████| 40/40 [00:00<00:00, 57.33batch/s]\n"
     ]
    },
    {
     "name": "stdout",
     "output_type": "stream",
     "text": [
      "epoch: 33, train triplet cost = 0.0021 & val triplet cost = 0.0021\n"
     ]
    },
    {
     "name": "stderr",
     "output_type": "stream",
     "text": [
      "Training: : 100%|██████████████████████████| 235/235 [00:08<00:00, 26.69batch/s]\n",
      "Validation: : 100%|██████████████████████████| 40/40 [00:00<00:00, 47.83batch/s]\n"
     ]
    },
    {
     "name": "stdout",
     "output_type": "stream",
     "text": [
      "epoch: 34, train triplet cost = 0.0020 & val triplet cost = 0.0019\n",
      "Saving model with lowest val_loss = 0.0019\n",
      "\n"
     ]
    },
    {
     "name": "stderr",
     "output_type": "stream",
     "text": [
      "Training: : 100%|██████████████████████████| 235/235 [00:09<00:00, 24.26batch/s]\n",
      "Validation: : 100%|██████████████████████████| 40/40 [00:00<00:00, 48.13batch/s]\n"
     ]
    },
    {
     "name": "stdout",
     "output_type": "stream",
     "text": [
      "epoch: 35, train triplet cost = 0.0019 & val triplet cost = 0.0019\n",
      "Saving model with lowest val_loss = 0.0019\n",
      "\n"
     ]
    },
    {
     "name": "stderr",
     "output_type": "stream",
     "text": [
      "Training: : 100%|██████████████████████████| 235/235 [00:09<00:00, 25.53batch/s]\n",
      "Validation: : 100%|██████████████████████████| 40/40 [00:00<00:00, 53.50batch/s]\n"
     ]
    },
    {
     "name": "stdout",
     "output_type": "stream",
     "text": [
      "epoch: 36, train triplet cost = 0.0018 & val triplet cost = 0.0018\n",
      "Saving model with lowest val_loss = 0.0018\n",
      "\n"
     ]
    },
    {
     "name": "stderr",
     "output_type": "stream",
     "text": [
      "Training: : 100%|██████████████████████████| 235/235 [00:09<00:00, 24.33batch/s]\n",
      "Validation: : 100%|██████████████████████████| 40/40 [00:00<00:00, 51.03batch/s]\n"
     ]
    },
    {
     "name": "stdout",
     "output_type": "stream",
     "text": [
      "epoch: 37, train triplet cost = 0.0018 & val triplet cost = 0.0017\n",
      "Saving model with lowest val_loss = 0.0017\n",
      "\n"
     ]
    },
    {
     "name": "stderr",
     "output_type": "stream",
     "text": [
      "Training: : 100%|██████████████████████████| 235/235 [00:09<00:00, 24.97batch/s]\n",
      "Validation: : 100%|██████████████████████████| 40/40 [00:00<00:00, 49.41batch/s]\n"
     ]
    },
    {
     "name": "stdout",
     "output_type": "stream",
     "text": [
      "epoch: 38, train triplet cost = 0.0017 & val triplet cost = 0.0017\n",
      "Saving model with lowest val_loss = 0.0017\n",
      "\n"
     ]
    },
    {
     "name": "stderr",
     "output_type": "stream",
     "text": [
      "Training: : 100%|██████████████████████████| 235/235 [00:09<00:00, 24.96batch/s]\n",
      "Validation: : 100%|██████████████████████████| 40/40 [00:00<00:00, 48.98batch/s]\n"
     ]
    },
    {
     "name": "stdout",
     "output_type": "stream",
     "text": [
      "epoch: 39, train triplet cost = 0.0016 & val triplet cost = 0.0017\n",
      "Saving model with lowest val_loss = 0.0017\n",
      "\n"
     ]
    },
    {
     "name": "stderr",
     "output_type": "stream",
     "text": [
      "Training: : 100%|██████████████████████████| 235/235 [00:09<00:00, 25.85batch/s]\n",
      "Validation: : 100%|██████████████████████████| 40/40 [00:00<00:00, 51.73batch/s]\n"
     ]
    },
    {
     "name": "stdout",
     "output_type": "stream",
     "text": [
      "epoch: 40, train triplet cost = 0.0015 & val triplet cost = 0.0015\n",
      "Saving model with lowest val_loss = 0.0015\n",
      "\n"
     ]
    },
    {
     "name": "stderr",
     "output_type": "stream",
     "text": [
      "Training: : 100%|██████████████████████████| 235/235 [00:09<00:00, 24.32batch/s]\n",
      "Validation: : 100%|██████████████████████████| 40/40 [00:00<00:00, 51.94batch/s]\n"
     ]
    },
    {
     "name": "stdout",
     "output_type": "stream",
     "text": [
      "epoch: 41, train triplet cost = 0.0015 & val triplet cost = 0.0014\n",
      "Saving model with lowest val_loss = 0.0014\n",
      "\n"
     ]
    },
    {
     "name": "stderr",
     "output_type": "stream",
     "text": [
      "Training: : 100%|██████████████████████████| 235/235 [00:08<00:00, 29.21batch/s]\n",
      "Validation: : 100%|██████████████████████████| 40/40 [00:00<00:00, 61.40batch/s]\n"
     ]
    },
    {
     "name": "stdout",
     "output_type": "stream",
     "text": [
      "epoch: 42, train triplet cost = 0.0014 & val triplet cost = 0.0015\n"
     ]
    },
    {
     "name": "stderr",
     "output_type": "stream",
     "text": [
      "Training: : 100%|██████████████████████████| 235/235 [00:08<00:00, 26.29batch/s]\n",
      "Validation: : 100%|██████████████████████████| 40/40 [00:00<00:00, 48.12batch/s]\n"
     ]
    },
    {
     "name": "stdout",
     "output_type": "stream",
     "text": [
      "epoch: 43, train triplet cost = 0.0014 & val triplet cost = 0.0014\n",
      "Saving model with lowest val_loss = 0.0014\n",
      "\n"
     ]
    },
    {
     "name": "stderr",
     "output_type": "stream",
     "text": [
      "Training: : 100%|██████████████████████████| 235/235 [00:09<00:00, 25.01batch/s]\n",
      "Validation: : 100%|██████████████████████████| 40/40 [00:00<00:00, 51.39batch/s]\n"
     ]
    },
    {
     "name": "stdout",
     "output_type": "stream",
     "text": [
      "epoch: 44, train triplet cost = 0.0013 & val triplet cost = 0.0012\n",
      "Saving model with lowest val_loss = 0.0012\n",
      "\n"
     ]
    },
    {
     "name": "stderr",
     "output_type": "stream",
     "text": [
      "Training: : 100%|██████████████████████████| 235/235 [00:09<00:00, 25.67batch/s]\n",
      "Validation: : 100%|██████████████████████████| 40/40 [00:00<00:00, 46.32batch/s]\n"
     ]
    },
    {
     "name": "stdout",
     "output_type": "stream",
     "text": [
      "epoch: 45, train triplet cost = 0.0013 & val triplet cost = 0.0012\n",
      "Saving model with lowest val_loss = 0.0012\n",
      "\n"
     ]
    },
    {
     "name": "stderr",
     "output_type": "stream",
     "text": [
      "Training: : 100%|██████████████████████████| 235/235 [00:09<00:00, 24.86batch/s]\n",
      "Validation: : 100%|██████████████████████████| 40/40 [00:00<00:00, 51.72batch/s]\n"
     ]
    },
    {
     "name": "stdout",
     "output_type": "stream",
     "text": [
      "epoch: 46, train triplet cost = 0.0012 & val triplet cost = 0.0012\n",
      "Saving model with lowest val_loss = 0.0012\n",
      "\n"
     ]
    },
    {
     "name": "stderr",
     "output_type": "stream",
     "text": [
      "Training: : 100%|██████████████████████████| 235/235 [00:09<00:00, 25.15batch/s]\n",
      "Validation: : 100%|██████████████████████████| 40/40 [00:00<00:00, 51.06batch/s]\n"
     ]
    },
    {
     "name": "stdout",
     "output_type": "stream",
     "text": [
      "epoch: 47, train triplet cost = 0.0012 & val triplet cost = 0.0011\n",
      "Saving model with lowest val_loss = 0.0011\n",
      "\n"
     ]
    },
    {
     "name": "stderr",
     "output_type": "stream",
     "text": [
      "Training: : 100%|██████████████████████████| 235/235 [00:09<00:00, 25.95batch/s]\n",
      "Validation: : 100%|██████████████████████████| 40/40 [00:00<00:00, 54.71batch/s]\n"
     ]
    },
    {
     "name": "stdout",
     "output_type": "stream",
     "text": [
      "epoch: 48, train triplet cost = 0.0011 & val triplet cost = 0.0010\n",
      "Saving model with lowest val_loss = 0.0010\n",
      "\n"
     ]
    },
    {
     "name": "stderr",
     "output_type": "stream",
     "text": [
      "Training: : 100%|██████████████████████████| 235/235 [00:09<00:00, 24.53batch/s]\n",
      "Validation: : 100%|██████████████████████████| 40/40 [00:00<00:00, 51.04batch/s]\n"
     ]
    },
    {
     "name": "stdout",
     "output_type": "stream",
     "text": [
      "epoch: 49, train triplet cost = 0.0011 & val triplet cost = 0.0011\n"
     ]
    },
    {
     "name": "stderr",
     "output_type": "stream",
     "text": [
      "Training: : 100%|██████████████████████████| 235/235 [00:09<00:00, 25.74batch/s]\n",
      "Validation: : 100%|██████████████████████████| 40/40 [00:00<00:00, 52.39batch/s]"
     ]
    },
    {
     "name": "stdout",
     "output_type": "stream",
     "text": [
      "epoch: 50, train triplet cost = 0.0010 & val triplet cost = 0.0010\n",
      "Saving model with lowest val_loss = 0.0010\n",
      "\n"
     ]
    },
    {
     "name": "stderr",
     "output_type": "stream",
     "text": [
      "\n"
     ]
    }
   ],
   "source": [
    "for epoch in range(1, num_epochs + 1):\n",
    "    train_triplet_cost = train_one_epoch(\n",
    "        model = model, optimizer = optimizer,\n",
    "        dataloader = train_loader, margin_triplet = margin_training\n",
    "    )\n",
    "    \n",
    "    val_triplet_cost = validate_one_epoch(\n",
    "        model = model, optimizer = optimizer,\n",
    "        dataloader = test_loader, margin_triplet = margin_training\n",
    "    )\n",
    "    \n",
    "    train_history[epoch] = {\n",
    "        'train_triplet_cost': train_triplet_cost,\n",
    "        'val_triplet_cost': val_triplet_cost\n",
    "    }\n",
    "    \n",
    "    print(f\"epoch: {epoch}, train triplet cost = {train_triplet_cost:.4f}\"\n",
    "          f\" & val triplet cost = {val_triplet_cost:.4f}\"\n",
    "         )\n",
    "    \n",
    "    # Save 'best' model so far-\n",
    "    if val_triplet_cost < best_val_loss:\n",
    "        # Update for lowest val_loss so far-\n",
    "        best_val_loss = val_triplet_cost\n",
    "        \n",
    "        print(f\"Saving model with lowest val_loss = {val_triplet_cost:.4f}\\n\")\n",
    "        \n",
    "        # Save trained model with 'best' validation loss-\n",
    "        torch.save(model.state_dict(), \"LeNet5_Triplet_NN_MNIST_best_triplet_loss.pth\")\n",
    "        "
   ]
  },
  {
   "cell_type": "code",
   "execution_count": null,
   "id": "a61cd8da-c6dc-47c7-85c6-cbd36070c3ff",
   "metadata": {},
   "outputs": [],
   "source": []
  },
  {
   "cell_type": "code",
   "execution_count": 50,
   "id": "a566f2cd-56ef-438a-8c84-2af1585ea5d6",
   "metadata": {},
   "outputs": [],
   "source": [
    "# Save training metrics as pickled Python3 dict-\n",
    "with open(\"LeNet5_Siamese_MNIST_Triplet_Loss_training_metrics.pkl\", \"wb\") as file:\n",
    "    pickle.dump(train_history, file)"
   ]
  },
  {
   "cell_type": "code",
   "execution_count": null,
   "id": "efde3454-741e-437b-ab1a-2a231acde64f",
   "metadata": {},
   "outputs": [],
   "source": []
  },
  {
   "cell_type": "code",
   "execution_count": 25,
   "id": "88e4cfa4-4aaf-41da-9a26-52b81db1b230",
   "metadata": {},
   "outputs": [
    {
     "data": {
      "image/png": "[encoded data removed]",
      "text/plain": [
       "<Figure size 900x700 with 1 Axes>"
      ]
     },
     "metadata": {},
     "output_type": "display_data"
    }
   ],
   "source": [
    "plt.figure(figsize = (9, 7))        \n",
    "plt.plot([train_history[e]['train_triplet_cost'] for e in train_history.keys()], label = 'triplet loss')\n",
    "# plt.plot([train_history[e]['val_triplet_cost'] for e in train_history.keys()], label = 'val triplet loss')\n",
    "plt.title(\"LeNet-5: Siamese Network Triplet Loss Training Visualization\")\n",
    "plt.legend(loc = 'best')\n",
    "plt.xlabel(\"epochs\")\n",
    "plt.ylabel(\"loss\")\n",
    "plt.show()"
   ]
  },
  {
   "cell_type": "code",
   "execution_count": 24,
   "id": "772bdf90-eb8c-4912-963e-34300a82f16c",
   "metadata": {},
   "outputs": [
    {
     "data": {
      "image/png": "[encoded data removed]",
      "text/plain": [
       "<Figure size 900x700 with 1 Axes>"
      ]
     },
     "metadata": {},
     "output_type": "display_data"
    }
   ],
   "source": [
    "plt.figure(figsize = (9, 7))        \n",
    "# plt.plot([train_history[e]['train_triplet_cost'] for e in train_history.keys()], label = 'triplet loss')\n",
    "plt.plot([train_history[e]['val_triplet_cost'] for e in train_history.keys()], label = 'val triplet loss')\n",
    "plt.title(\"LeNet-5: Siamese Network Triplet Loss Training Visualization\")\n",
    "plt.legend(loc = 'best')\n",
    "plt.xlabel(\"epochs\")\n",
    "plt.ylabel(\"loss\")\n",
    "plt.show()"
   ]
  },
  {
   "cell_type": "code",
   "execution_count": null,
   "id": "e2f32de1-c3d3-4458-a162-037fc797a9df",
   "metadata": {},
   "outputs": [],
   "source": []
  },
  {
   "cell_type": "code",
   "execution_count": null,
   "id": "c562f12c-5e50-42c3-8bf3-11890580676a",
   "metadata": {},
   "outputs": [],
   "source": []
  },
  {
   "cell_type": "markdown",
   "id": "2fe22ea5-4ad1-44d5-a299-05ccac79845c",
   "metadata": {},
   "source": [
    "#### Sanity check: for a batch of validation samples, compute pairwise distances"
   ]
  },
  {
   "cell_type": "code",
   "execution_count": 52,
   "id": "193b13d3-b5d4-49da-b7dc-403785b97620",
   "metadata": {},
   "outputs": [],
   "source": [
    "A_t, P_t, N_t = next(iter(test_loader))"
   ]
  },
  {
   "cell_type": "code",
   "execution_count": 53,
   "id": "80867108-7a94-4df1-8024-a062957b82ec",
   "metadata": {},
   "outputs": [],
   "source": [
    "A_t_embed = model(A_t)\n",
    "P_t_embed = model(P_t)\n",
    "N_t_embed = model(N_t)"
   ]
  },
  {
   "cell_type": "code",
   "execution_count": 54,
   "id": "32b4f327-bbbc-48d8-8799-30d6c314d3ea",
   "metadata": {},
   "outputs": [],
   "source": [
    "tl_val = compute_triplet_loss(A_embed = A_t_embed, P_embed = P_t_embed, N_embed = N_t_embed)"
   ]
  },
  {
   "cell_type": "code",
   "execution_count": 55,
   "id": "92768188-332d-4625-a77b-72452406244f",
   "metadata": {},
   "outputs": [
    {
     "data": {
      "text/plain": [
       "0.21448253095149994"
      ]
     },
     "execution_count": 55,
     "metadata": {},
     "output_type": "execute_result"
    }
   ],
   "source": [
    "tl_val.item()"
   ]
  },
  {
   "cell_type": "code",
   "execution_count": 56,
   "id": "faf08a1f-8afd-473f-b971-20ffa0cf1fcb",
   "metadata": {},
   "outputs": [],
   "source": [
    "dist_pos = (A_t_embed - P_t_embed).pow(2).sum(dim = 1)\n",
    "dist_neg = (A_t_embed - N_t_embed).pow(2).sum(dim = 1)"
   ]
  },
  {
   "cell_type": "code",
   "execution_count": 59,
   "id": "dfaa7ca6-7ae6-4db8-84db-56d5db08fbea",
   "metadata": {},
   "outputs": [
    {
     "data": {
      "text/plain": [
       "(0.0011988425394520164, 7.888952255249023)"
      ]
     },
     "execution_count": 59,
     "metadata": {},
     "output_type": "execute_result"
    }
   ],
   "source": [
    "dist_pos.min().item(), dist_pos.max().item()"
   ]
  },
  {
   "cell_type": "code",
   "execution_count": 60,
   "id": "88fa7e39-b287-4000-808b-bdb9fd378ebb",
   "metadata": {},
   "outputs": [
    {
     "data": {
      "text/plain": [
       "(0.06719328463077545, 13.763280868530273)"
      ]
     },
     "execution_count": 60,
     "metadata": {},
     "output_type": "execute_result"
    }
   ],
   "source": [
    "dist_neg.min().item(), dist_neg.max().item()"
   ]
  },
  {
   "cell_type": "code",
   "execution_count": 61,
   "id": "16174060-8fce-4adb-bc2c-bca4a3f67153",
   "metadata": {},
   "outputs": [],
   "source": [
    "del A_t, A_t_embed, P_t, P_t_embed, N_t, N_t_embed, dist_pos, dist_neg"
   ]
  },
  {
   "cell_type": "code",
   "execution_count": null,
   "id": "063a9e6b-1b82-4a63-b4d7-ff413dc5ad5f",
   "metadata": {},
   "outputs": [],
   "source": []
  },
  {
   "cell_type": "code",
   "execution_count": null,
   "id": "81e0d966-2555-4d21-a5e6-4353877ff9e3",
   "metadata": {},
   "outputs": [],
   "source": []
  },
  {
   "cell_type": "code",
   "execution_count": 29,
   "id": "d6671e61-4fab-4310-9a3e-f56d9e91e747",
   "metadata": {},
   "outputs": [],
   "source": [
    "val_img_embeddings = []"
   ]
  },
  {
   "cell_type": "code",
   "execution_count": 30,
   "id": "91883112-3efd-451c-9d2f-1eeadb79466f",
   "metadata": {},
   "outputs": [],
   "source": [
    "for img, _, _ in test_loader:\n",
    "    img_emb = model(img)\n",
    "    val_img_embeddings.append(img_emb.cpu().detach().numpy())"
   ]
  },
  {
   "cell_type": "code",
   "execution_count": 32,
   "id": "96b15d03-7af2-42d7-a0e4-bc3ee2fb9a95",
   "metadata": {},
   "outputs": [],
   "source": [
    "val_img_embeddings = np.vstack(val_img_embeddings)"
   ]
  },
  {
   "cell_type": "code",
   "execution_count": 33,
   "id": "1f75d424-a992-4e2d-91f1-ed3562f5f9f2",
   "metadata": {},
   "outputs": [
    {
     "data": {
      "text/plain": [
       "(10000, 20)"
      ]
     },
     "execution_count": 33,
     "metadata": {},
     "output_type": "execute_result"
    }
   ],
   "source": [
    "val_img_embeddings.shape"
   ]
  },
  {
   "cell_type": "code",
   "execution_count": null,
   "id": "df51f309-7e62-4b28-b04d-1e33911e11ea",
   "metadata": {},
   "outputs": [],
   "source": []
  },
  {
   "cell_type": "code",
   "execution_count": 47,
   "id": "0c61f6c5-f668-4d36-9bd7-b3a35d8e1e42",
   "metadata": {},
   "outputs": [],
   "source": [
    "import umap\n",
    "from sklearn.manifold import TSNE\n",
    "import plotly.express as px"
   ]
  },
  {
   "cell_type": "code",
   "execution_count": 44,
   "id": "2f2732ec-a7e2-41af-94a5-67b846dde75c",
   "metadata": {},
   "outputs": [],
   "source": [
    "umap_model = umap.UMAP(\n",
    "    n_neighbors = 15, min_dist = 0.0,\n",
    "    n_components = 3, metric = 'euclidean'\n",
    ")"
   ]
  },
  {
   "cell_type": "code",
   "execution_count": 48,
   "id": "616d0b36-b05d-482d-be7a-80617ff595e5",
   "metadata": {},
   "outputs": [],
   "source": [
    "tsne_model = TSNE(\n",
    "    n_components = 3, perplexity = 30.0,\n",
    "    early_exaggeration = 12.0, learning_rate = 'auto',\n",
    "    n_iter = 1000, n_iter_without_progress = 300,\n",
    "    min_grad_norm = 1e-07, metric = 'euclidean'\n",
    ")"
   ]
  },
  {
   "cell_type": "code",
   "execution_count": null,
   "id": "7e7dbe77-6481-433f-8ffc-3724cee8622e",
   "metadata": {},
   "outputs": [],
   "source": []
  },
  {
   "cell_type": "code",
   "execution_count": 45,
   "id": "06450660-5522-472c-aa74-13d46812962b",
   "metadata": {},
   "outputs": [],
   "source": [
    "val_img_embeddings_lowd = umap_model.fit_transform(val_img_embeddings)"
   ]
  },
  {
   "cell_type": "code",
   "execution_count": 49,
   "id": "d35bebfb-b7ea-412a-b248-7d1706c5f7cd",
   "metadata": {},
   "outputs": [
    {
     "name": "stderr",
     "output_type": "stream",
     "text": [
      "/home/arjun/anaconda3/envs/torch-cpu/lib/python3.10/site-packages/sklearn/manifold/_t_sne.py:795: FutureWarning:\n",
      "\n",
      "The default initialization in TSNE will change from 'random' to 'pca' in 1.2.\n",
      "\n"
     ]
    }
   ],
   "source": [
    "val_img_embeddings_lowd_tsne = tsne_model.fit_transform(val_img_embeddings)"
   ]
  },
  {
   "cell_type": "code",
   "execution_count": null,
   "id": "0f479249-7653-45c5-a137-d6996b3a5364",
   "metadata": {},
   "outputs": [],
   "source": []
  },
  {
   "cell_type": "code",
   "execution_count": 38,
   "id": "ae0a3f36-cf6c-4b57-b035-d7e4144105fa",
   "metadata": {},
   "outputs": [
    {
     "data": {
      "text/plain": [
       "((10000, 20), (10000, 3))"
      ]
     },
     "execution_count": 38,
     "metadata": {},
     "output_type": "execute_result"
    }
   ],
   "source": [
    "val_img_embeddings.shape, val_img_embeddings_lowd.shape"
   ]
  },
  {
   "cell_type": "code",
   "execution_count": null,
   "id": "0113a2a3-9efa-4ba9-9621-6fc583c6e2ed",
   "metadata": {},
   "outputs": [],
   "source": []
  },
  {
   "cell_type": "code",
   "execution_count": null,
   "id": "0d891a51-2eae-4df5-b714-8f3fe6278154",
   "metadata": {},
   "outputs": [],
   "source": [
    "fig = px.scatter_3d(\n",
    "    x = val_img_embeddings_lowd_tsne[:, 0], y = val_img_embeddings_lowd_tsne[:, 1],\n",
    "    z = val_img_embeddings_lowd_tsne[:, 2],\n",
    "    # color = 'species',\n",
    "    width = 800, height = 500\n",
    ")\n",
    "fig.show()"
   ]
  },
  {
   "cell_type": "code",
   "execution_count": null,
   "id": "5f598dae-eabc-453c-8b1c-cf09b18637b9",
   "metadata": {},
   "outputs": [],
   "source": []
  },
  {
   "cell_type": "code",
   "execution_count": null,
   "id": "34081e28-1189-4a19-b93d-192429a4435e",
   "metadata": {},
   "outputs": [],
   "source": []
  },
  {
   "cell_type": "code",
   "execution_count": null,
   "id": "749deb0c-e29b-4fe0-bae1-cfe493bad806",
   "metadata": {},
   "outputs": [],
   "source": []
  }
 ],
 "metadata": {
  "kernelspec": {
   "display_name": "Python 3 (ipykernel)",
   "language": "python",
   "name": "python3"
  },
  "language_info": {
   "codemirror_mode": {
    "name": "ipython",
    "version": 3
   },
   "file_extension": ".py",
   "mimetype": "text/x-python",
   "name": "python",
   "nbconvert_exporter": "python",
   "pygments_lexer": "ipython3",
   "version": "3.10.8"
  }
 },
 "nbformat": 4,
 "nbformat_minor": 5
}
