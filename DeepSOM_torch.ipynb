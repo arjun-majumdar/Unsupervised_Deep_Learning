{
 "cells": [
  {
   "cell_type": "markdown",
   "id": "51b7c1d0-f90d-4732-b179-7322fbad0661",
   "metadata": {},
   "source": [
    "# DESOM from SOM-CPC paper: PyTorch & MNIST\n",
    "\n",
    "[SOM file](https://github.com/IamHuijben/SOM-CPC/blob/main/modules/SOM.py)"
   ]
  },
  {
   "cell_type": "code",
   "execution_count": 1,
   "id": "d24e2432-1911-4c0f-a0bc-4d1168e7654d",
   "metadata": {},
   "outputs": [],
   "source": [
    "import torch\n",
    "import torch.nn as nn\n",
    "import torch.nn.functional as F\n",
    "import torchvision\n",
    "import torchvision.transforms as transforms\n",
    "\n",
    "from tqdm import tqdm\n",
    "from tqdm import trange\n",
    "import matplotlib.pyplot as plt\n",
    "import seaborn as sns\n",
    "import numpy as np\n",
    "import pickle, functools"
   ]
  },
  {
   "cell_type": "code",
   "execution_count": null,
   "id": "a0cf7337-6a3a-4685-8758-9ec5c05f81a9",
   "metadata": {},
   "outputs": [],
   "source": []
  },
  {
   "cell_type": "code",
   "execution_count": null,
   "id": "c886625f-bb24-42e2-94cd-3c7d09aef8c1",
   "metadata": {},
   "outputs": [],
   "source": []
  },
  {
   "cell_type": "code",
   "execution_count": 2,
   "id": "ab26932a-d27d-4999-a35c-ffa3ad445362",
   "metadata": {},
   "outputs": [
    {
     "name": "stdout",
     "output_type": "stream",
     "text": [
      "torch version: 2.0.1+cu117\n",
      "Number of GPU(s) available = 1\n",
      "Current GPU: 0\n",
      "Current GPU name: NVIDIA GeForce GTX TITAN X\n",
      "Available device is cuda\n"
     ]
    }
   ],
   "source": [
    "print(f\"torch version: {torch.__version__}\")\n",
    "\n",
    "# Check if there are multiple devices (i.e., GPU cards)-\n",
    "print(f\"Number of GPU(s) available = {torch.cuda.device_count()}\")\n",
    "\n",
    "# Which GPU Is The Current GPU?\n",
    "# print(f\"current GPU: {torch.cuda.current_device()}\")\n",
    "\n",
    "# Get the name of the current GPU-\n",
    "# print(f\"Current GPU name: {torch.cuda.get_device_name(torch.cuda.current_device())}\")\n",
    "\n",
    "# Is PyTorch using a GPU?\n",
    "# print(f\"Is PyTorch using a GPU? {torch.cuda.is_available()}\")\n",
    "\n",
    "if torch.cuda.is_available():\n",
    "    print(f\"Current GPU: {torch.cuda.current_device()}\")\n",
    "    print(f\"Current GPU name: {torch.cuda.get_device_name(torch.cuda.current_device())}\")\n",
    "else:\n",
    "    print(\"PyTorch does not have access to GPU\")\n",
    "\n",
    "# Device configuration-\n",
    "device = torch.device('cuda' if torch.cuda.is_available() else 'cpu')\n",
    "print(f'Available device is {device}')"
   ]
  },
  {
   "cell_type": "code",
   "execution_count": null,
   "id": "f1d88001-1095-4cf4-9005-852c736ddb08",
   "metadata": {},
   "outputs": [],
   "source": []
  },
  {
   "cell_type": "code",
   "execution_count": null,
   "id": "816bd053-c637-4922-830e-a1a5300c0c59",
   "metadata": {},
   "outputs": [],
   "source": []
  },
  {
   "cell_type": "code",
   "execution_count": 3,
   "id": "281a530c-a7dd-4b00-8ba6-b14afadbc1bc",
   "metadata": {},
   "outputs": [],
   "source": [
    "# Specify hyper-parameters-\n",
    "num_epochs = 120\n",
    "batch_size = 1024\n",
    "learning_rate = 0.001"
   ]
  },
  {
   "cell_type": "code",
   "execution_count": null,
   "id": "1a8c753c-7678-4e26-9e2e-19f339984616",
   "metadata": {},
   "outputs": [],
   "source": []
  },
  {
   "cell_type": "code",
   "execution_count": null,
   "id": "f1a9b7c0-d9e9-4f79-a5e3-91a92f7a0ef9",
   "metadata": {},
   "outputs": [],
   "source": []
  },
  {
   "cell_type": "markdown",
   "id": "9348ca8c-e606-4c3c-a0f0-ba094b217d78",
   "metadata": {},
   "source": [
    "### MNIST Data Pre-processing"
   ]
  },
  {
   "cell_type": "code",
   "execution_count": 4,
   "id": "7b34aba2-129d-4fc6-ab52-453858f4fafe",
   "metadata": {},
   "outputs": [],
   "source": [
    "# Define transformations for MNIST dataset-\n",
    "# MNIST dataset statistics-\n",
    "mean = np.array([0.1307])\n",
    "std_dev = np.array([0.3081])\n",
    "\n",
    "transforms_apply = transforms.Compose(\n",
    "    [\n",
    "        transforms.ToTensor(),\n",
    "        transforms.Normalize(mean = mean, std = std_dev)\n",
    "    ]\n",
    ")"
   ]
  },
  {
   "cell_type": "code",
   "execution_count": 5,
   "id": "145d0ff1-e3a7-4c7a-91f3-be5f5fc981cd",
   "metadata": {},
   "outputs": [],
   "source": [
    "path_to_data = \"/home/majumdar/Downloads/.data/\"\n",
    "\n",
    "# Load MNIST dataset-\n",
    "train_dataset = torchvision.datasets.MNIST(\n",
    "    # root = './data', train = True,\n",
    "    root = path_to_data + \"data\", train = True,\n",
    "    transform = transforms_apply, download = True\n",
    ")\n",
    "\n",
    "test_dataset = torchvision.datasets.MNIST(\n",
    "    # root = './data', train = False,\n",
    "    root = path_to_data + \"data\", train = False,\n",
    "    transform = transforms_apply\n",
    ")"
   ]
  },
  {
   "cell_type": "code",
   "execution_count": 6,
   "id": "df7a8515-d80b-4ae1-a869-60d7853ed6d9",
   "metadata": {},
   "outputs": [],
   "source": [
    "# Create training and testing dataloaders-\n",
    "train_loader = torch.utils.data.DataLoader(\n",
    "    dataset = train_dataset, batch_size = batch_size,\n",
    "    shuffle = True\n",
    ")\n",
    "\n",
    "test_loader = torch.utils.data.DataLoader(\n",
    "    dataset = test_dataset, batch_size = batch_size,\n",
    "    shuffle = False\n",
    ")"
   ]
  },
  {
   "cell_type": "code",
   "execution_count": null,
   "id": "53242e0a-90f8-4a71-a72c-9556d0c5c47b",
   "metadata": {},
   "outputs": [],
   "source": []
  },
  {
   "cell_type": "code",
   "execution_count": null,
   "id": "7cd35c40-fcc6-4547-9709-e2633f7a3ff3",
   "metadata": {},
   "outputs": [],
   "source": []
  },
  {
   "cell_type": "markdown",
   "id": "6a9b0524-a786-4573-9bd9-dfbc514edc34",
   "metadata": {},
   "source": [
    "### Conv-AE architecture"
   ]
  },
  {
   "cell_type": "code",
   "execution_count": 7,
   "id": "8d3a06c7-cd91-4cc2-98d1-dd620dbb99ba",
   "metadata": {},
   "outputs": [],
   "source": [
    "class Encoder(nn.Module):\n",
    "    def __init__(self, latent_dim, capacity):\n",
    "        super().__init__()\n",
    "        \n",
    "        self.capacity = capacity\n",
    "        self.latent_dim = latent_dim\n",
    "        \n",
    "        self.conv1 = nn.Conv2d(\n",
    "            in_channels = 1, out_channels = self.capacity,\n",
    "            kernel_size = 4, stride = 2,\n",
    "            padding = 1) # out: c x 14 x 14\n",
    "        self.conv2 = nn.Conv2d(\n",
    "            in_channels = self.capacity, out_channels = self.capacity * 2,\n",
    "            kernel_size = 4, stride = 2,\n",
    "            padding = 1) # out: c x 7 x 7\n",
    "        self.dense = nn.Linear(in_features = self.capacity * 2 * 7 * 7, out_features = 100)\n",
    "        self.dense2 = nn.Linear(in_features = 100, out_features = self.latent_dim)\n",
    "        \n",
    "        \n",
    "    def forward(self, x):\n",
    "        x = F.relu(self.conv1(x))\n",
    "        x = F.relu(self.conv2(x))\n",
    "        x = x.view(x.size(0), -1) # flatten batch of multi-channel feature maps to a batch of feature vectors\n",
    "        x = F.relu(self.dense(x))\n",
    "        x = F.relu(self.dense2(x))\n",
    "        return x\n",
    "\n",
    "    \n",
    "class Decoder(nn.Module):\n",
    "    def __init__(self, latent_dim, capacity):\n",
    "        super().__init__()\n",
    "        \n",
    "        self.capacity = capacity\n",
    "        self.latent_dim = latent_dim\n",
    "        \n",
    "        self.dense = nn.Linear(in_features = self.latent_dim, out_features = 100) \n",
    "        self.dense2 = nn.Linear(in_features = 100, out_features = self.capacity * 2 * 7 * 7)\n",
    "        self.conv1 = nn.ConvTranspose2d(\n",
    "            in_channels = self.capacity * 2, out_channels = self.capacity,\n",
    "            kernel_size = 4, stride = 2,\n",
    "            padding = 1\n",
    "        )\n",
    "        self.conv2 = nn.ConvTranspose2d(\n",
    "            in_channels = self.capacity, out_channels = 1,\n",
    "            kernel_size = 4, stride = 2, \n",
    "            padding = 1\n",
    "        )\n",
    "        \n",
    "        \n",
    "    def forward(self, x):\n",
    "        x = self.dense(x)\n",
    "        x = self.dense2(x)\n",
    "        x = x.view(x.size(0), self.capacity * 2, 7, 7) # unflatten batch of feature vectors to a batch of multi-channel feature maps\n",
    "        x = F.relu(self.conv1(x))\n",
    "        x = torch.sigmoid(self.conv2(x)) # last layer before output is sigmoid, since we are using BCE as reconstruction loss\n",
    "        return x\n",
    "        "
   ]
  },
  {
   "cell_type": "code",
   "execution_count": null,
   "id": "4006c3c3-733d-4a0b-9d61-0bdfeba16484",
   "metadata": {},
   "outputs": [],
   "source": []
  },
  {
   "cell_type": "code",
   "execution_count": null,
   "id": "ab722e93-c691-4e14-b1aa-f9ec9e7cfbee",
   "metadata": {},
   "outputs": [],
   "source": []
  },
  {
   "cell_type": "code",
   "execution_count": 8,
   "id": "f22d66f0-f87a-4f4a-9656-ec603face677",
   "metadata": {},
   "outputs": [],
   "source": [
    "num_steps_per_epoch = int(np.ceil(len(train_dataset) / batch_size))\n",
    "\n",
    "# max number of train iterations-\n",
    "n_max = num_epochs * num_steps_per_epoch"
   ]
  },
  {
   "cell_type": "code",
   "execution_count": 9,
   "id": "ae46e0c8-b079-4a58-94ed-f669600fda17",
   "metadata": {},
   "outputs": [],
   "source": [
    "# m = SOM height-\n",
    "som_height = 20\n",
    "\n",
    "# n = SOM width-\n",
    "som_width = 20\n",
    "\n",
    "latent_space_dim = 50\n",
    "\n",
    "# initial width of gaussian blur. If None, half of the grid is used-\n",
    "# sigma = 10.0\n",
    "\n",
    "'''\n",
    "if alpha is not None:\n",
    "    alpha = torch.tensor(alpha)\n",
    "\n",
    "if sigma is not None:\n",
    "    sigma = torch.tensor(sigma)\n",
    "else:\n",
    "    sigma = np.sqrt(m * n) / 2.0\n",
    "'''\n",
    "\n",
    "# Initial standard deviation-\n",
    "sigma_0 = torch.tensor(0.5 * np.sqrt(som_height * som_width))\n",
    "\n",
    "# Choosing a lower value at the end of the training induced instable\n",
    "# optimization behavior-\n",
    "sigma_n_max = torch.tensor(2.0)\n",
    "# Final std-dev\n",
    "\n",
    "# Compute lambda value-\n",
    "lmbda_val = -n_max / np.log(sigma_n_max / sigma_0)\n",
    "# reqd for sigma decay\n",
    "\n",
    "# Decay schedule-\n",
    "sched = 'linear'\n",
    "\n",
    "# metric = None\n",
    "p_norm = 2\n",
    "# centroids = None\n",
    "grid_size = som_height * som_width\n"
   ]
  },
  {
   "cell_type": "code",
   "execution_count": null,
   "id": "4802d16f-054b-4f8e-9d8b-3e745e9ae4ef",
   "metadata": {},
   "outputs": [],
   "source": [
    "# metric = functools.partial(torch.cdist, p = p_norm)"
   ]
  },
  {
   "cell_type": "code",
   "execution_count": 10,
   "id": "e65d96c7-7590-432b-b0f5-92b423ac5279",
   "metadata": {},
   "outputs": [
    {
     "name": "stdout",
     "output_type": "stream",
     "text": [
      "max number of train steps in 120 epochs = 59\n"
     ]
    }
   ],
   "source": [
    "print(f\"max number of train steps in {num_epochs} epochs = {num_steps_per_epoch}\")"
   ]
  },
  {
   "cell_type": "code",
   "execution_count": null,
   "id": "a5854ce9-d080-4631-a66d-c159e275d7c2",
   "metadata": {},
   "outputs": [],
   "source": []
  },
  {
   "cell_type": "code",
   "execution_count": null,
   "id": "fa0af16e-0363-4fa6-af4f-36dbaca56f2f",
   "metadata": {},
   "outputs": [],
   "source": []
  },
  {
   "cell_type": "markdown",
   "id": "b51c3508-c47d-4da0-be8b-4e68fb7fa8ae",
   "metadata": {},
   "source": [
    "### ```Embedding```\n",
    "\n",
    "- A simple lookup table that stores embeddings of a fixed dictionary and size.\n",
    "\n",
    "- This module is often used to store word embeddings and retrieve them using indices. The input to the module is a list of indices, and the output is the corresponding word embeddings.\n",
    "\n",
    "[Reference](https://pytorch.org/docs/stable/generated/torch.nn.Embedding.html)"
   ]
  },
  {
   "cell_type": "code",
   "execution_count": 11,
   "id": "6b5f5d64-db2e-4f57-a6d9-9b5764c2924f",
   "metadata": {},
   "outputs": [],
   "source": [
    "class SOM(nn.Module):\n",
    "    def __init__(\n",
    "        self, map_height = 10, map_width = 10,\n",
    "        latent_dim = 50, p_norm = 2\n",
    "    ):\n",
    "        super().__init__()\n",
    "        \n",
    "        self.map_height = map_height\n",
    "        self.map_width = map_width\n",
    "        self.latent_dim = latent_dim\n",
    "        self.p_norm = p_norm\n",
    "        self.som_nodes = self.map_height * self.map_width\n",
    "\n",
    "        # Uniform sampling for SOM (flattened) weights initialization-\n",
    "        # self.som_wts = torch.distributions.uniform.Uniform(low = - 1 / np.sqrt(latent_space_dim), high = 1 / np.sqrt(latent_space_dim)).sample((m * n, latent_space_dim))\n",
    "\n",
    "        # create the embedding dictionary-\n",
    "        # self.embedding = nn.Embedding(self.som_nodes, self.latent_dim)\n",
    "        # self.embedding.weight.data.uniform_(-np.sqrt(1 / self.latent_dim), np.sqrt(1 / self.latent_dim))\n",
    "\n",
    "        # Create SOM using linear layer (without bias)-\n",
    "        self.som_wts = nn.Linear(in_features = self.latent_dim, out_features = self.map_height * self.map_width, bias = False)\n",
    "        self.som_wts.weight.data.uniform_(-np.sqrt(1 / self.latent_dim), np.sqrt(1 / self.latent_dim))\n",
    "\n",
    "\n",
    "    def forward(self):\n",
    "        pass\n",
    "        "
   ]
  },
  {
   "cell_type": "code",
   "execution_count": 12,
   "id": "dec670e5-a3fb-4acf-8c44-3abdd11bb5f3",
   "metadata": {},
   "outputs": [],
   "source": [
    "class DESOM(nn.Module):\n",
    "    def __init__(\n",
    "        self, latent_dim = 50,\n",
    "        capacity = 16, map_height = 10,\n",
    "        map_width = 10, p_norm = 2,\n",
    "    ):\n",
    "        super().__init__()\n",
    "        self.latent_dim = latent_dim\n",
    "        self.capacity = capacity\n",
    "        self.map_height = map_height\n",
    "        self.map_width = map_width\n",
    "        self.p_norm = p_norm\n",
    "\n",
    "        # tot_train_iterations = num_epochs * len(train_loader)\n",
    "        # self.decay_vals = list(scheduler(it = step, tot = tot_train_iterations) for step in range(1, tot_train_iterations + 6))\n",
    "        # self.decay_vals = torch.tensor(np.asarray(decay_vals))\n",
    "\n",
    "        self.encoder = Encoder(latent_dim = self.latent_dim, capacity = self.capacity)\n",
    "        self.decoder = Decoder(latent_dim = self.latent_dim, capacity = self.capacity)\n",
    "        self.som = SOM(map_height = self.map_height, map_width = self.map_width, p_norm = self.p_norm)\n",
    "\n",
    "\n",
    "    def forward(self, x):\n",
    "        z = self.encoder(x)\n",
    "        x_recon = self.decoder(z)\n",
    "        return z, x_recon\n",
    "\n",
    "\n",
    "    "
   ]
  },
  {
   "cell_type": "code",
   "execution_count": null,
   "id": "7b264868-eeec-4f34-9118-97872d9b9ea2",
   "metadata": {},
   "outputs": [],
   "source": []
  },
  {
   "cell_type": "code",
   "execution_count": 13,
   "id": "b605ff39-796e-4d4a-957b-afdc68fa530b",
   "metadata": {},
   "outputs": [],
   "source": [
    "# Initialize DESOM model-\n",
    "model = DESOM(\n",
    "    latent_dim = latent_space_dim, capacity = 16,\n",
    "    map_height = som_height, map_width = som_width,\n",
    "    p_norm = p_norm\n",
    ")"
   ]
  },
  {
   "cell_type": "code",
   "execution_count": 14,
   "id": "e711434e-198a-44b1-b6d7-dd1320f9a0c8",
   "metadata": {},
   "outputs": [],
   "source": [
    "# Move to device-\n",
    "model = model.to(device)"
   ]
  },
  {
   "cell_type": "code",
   "execution_count": null,
   "id": "db67470d-b470-4f7d-b53d-7aba31096b2a",
   "metadata": {},
   "outputs": [],
   "source": []
  },
  {
   "cell_type": "code",
   "execution_count": 15,
   "id": "3d808772-130e-47f6-9289-f0bfdebacbc7",
   "metadata": {},
   "outputs": [
    {
     "data": {
      "text/plain": [
       "torch.Size([400, 50])"
      ]
     },
     "execution_count": 15,
     "metadata": {},
     "output_type": "execute_result"
    }
   ],
   "source": [
    "model.som.som_wts.weight.shape\n",
    "# model.som.embedding.weight.shape"
   ]
  },
  {
   "cell_type": "code",
   "execution_count": 16,
   "id": "bd8e85e2-9a84-4455-9e1b-0d25f93ac57d",
   "metadata": {},
   "outputs": [
    {
     "data": {
      "text/plain": [
       "(-0.14141587913036346, 0.14140239357948303)"
      ]
     },
     "execution_count": 16,
     "metadata": {},
     "output_type": "execute_result"
    }
   ],
   "source": [
    "# som.som_wts.min(), som.som_wts.max()\n",
    "# model.som.embedding.weight.min().item(), model.som.embedding.weight.max().item()\n",
    "model.som.som_wts.weight.min().item(), model.som.som_wts.weight.max().item()"
   ]
  },
  {
   "cell_type": "code",
   "execution_count": null,
   "id": "37fe57e6-99d2-4ae2-affa-4d59768cc85a",
   "metadata": {},
   "outputs": [],
   "source": []
  },
  {
   "cell_type": "code",
   "execution_count": 17,
   "id": "4118be75-f416-401a-a84c-d6fd23ed72ed",
   "metadata": {},
   "outputs": [
    {
     "data": {
      "image/png": "[encoded data removed]",
      "text/plain": [
       "<Figure size 1000x1000 with 2 Axes>"
      ]
     },
     "metadata": {},
     "output_type": "display_data"
    }
   ],
   "source": [
    "plt.figure(figsize = (10, 10))\n",
    "sns.heatmap(data = torch.norm(input = model.som.som_wts.weight.reshape(som_height, som_width, -1).detach().cpu(), p = 'fro', dim = 2))\n",
    "plt.title(\"Random SOM wts\")\n",
    "plt.show()"
   ]
  },
  {
   "cell_type": "code",
   "execution_count": null,
   "id": "640abc50-d239-455a-bffb-0c77f9203369",
   "metadata": {},
   "outputs": [],
   "source": []
  },
  {
   "cell_type": "code",
   "execution_count": null,
   "id": "74336f3b-ac57-4a5f-8622-7713f3dcfcc4",
   "metadata": {},
   "outputs": [],
   "source": []
  },
  {
   "cell_type": "code",
   "execution_count": null,
   "id": "4abd8a25-a128-46e8-8c5b-780278ee0626",
   "metadata": {},
   "outputs": [],
   "source": [
    "'''\n",
    "def scheduler(it, tot):\n",
    "    if sched == 'linear':\n",
    "        return 1.0 - it / tot\n",
    "    # half the lr 20 times\n",
    "    if sched == 'half':\n",
    "        return 0.5 ** int(20 * it / tot)\n",
    "    # decay from 1 to exp(-5)\n",
    "    if sched == 'exp':\n",
    "        return np.exp(-5 * it / tot)\n",
    "    \n",
    "    raise NotImplementedError('Wrong value of \"sched\"')\n",
    "''' "
   ]
  },
  {
   "cell_type": "code",
   "execution_count": null,
   "id": "33394bf8-ac13-4767-825b-431c13b5c8f7",
   "metadata": {},
   "outputs": [],
   "source": []
  },
  {
   "cell_type": "code",
   "execution_count": 21,
   "id": "efeac383-ddc5-4f65-b64f-d8ead5ca4ce6",
   "metadata": {},
   "outputs": [],
   "source": [
    "# Compute sigma for nth train step- \n",
    "lmbda_values = list(sigma_0 * np.exp(-n / lmbda_val) for n in range(1, n_max))\n",
    "lmbda_values = np.array(lmbda_values)"
   ]
  },
  {
   "cell_type": "code",
   "execution_count": 22,
   "id": "c9621f7c-2fb5-4f9f-8296-d6c06f8539b8",
   "metadata": {},
   "outputs": [
    {
     "data": {
      "image/png": "[encoded data removed]",
      "text/plain": [
       "<Figure size 640x480 with 1 Axes>"
      ]
     },
     "metadata": {},
     "output_type": "display_data"
    }
   ],
   "source": [
    "plt.plot(lmbda_values)\n",
    "plt.xlabel(\"train steps\")\n",
    "plt.ylabel(\"lambda\")\n",
    "plt.show()"
   ]
  },
  {
   "cell_type": "code",
   "execution_count": 23,
   "id": "7b82fccb-f043-4533-b621-5240ea498942",
   "metadata": {},
   "outputs": [],
   "source": [
    "del lmbda_values"
   ]
  },
  {
   "cell_type": "code",
   "execution_count": null,
   "id": "35d376e6-e2f7-45c1-bd4b-d7338b7359a6",
   "metadata": {},
   "outputs": [],
   "source": []
  },
  {
   "cell_type": "code",
   "execution_count": null,
   "id": "ce30fcb6-5a9b-464c-bddf-79995e30de67",
   "metadata": {},
   "outputs": [],
   "source": [
    "'''\n",
    "def get_bmu_distance_squares(bmu_loc):\n",
    "    bmu_loc = bmu_loc.unsqueeze(0).expand_as(locations).float()\n",
    "    bmu_distance_squares = torch.sum(torch.pow(locations.float() - bmu_loc, 2), 1)\n",
    "    return bmu_distance_squares\n",
    "'''"
   ]
  },
  {
   "cell_type": "code",
   "execution_count": null,
   "id": "e77d815e-5382-4b0b-9617-fe9bc152ff7c",
   "metadata": {},
   "outputs": [],
   "source": []
  },
  {
   "cell_type": "code",
   "execution_count": 18,
   "id": "a2bfa0df-1f93-4f17-88bf-5123bd72ea38",
   "metadata": {},
   "outputs": [],
   "source": [
    "locs = [np.array([i, j]) for i in range(som_height) for j in range(som_width)]\n",
    "# locations = torch.LongTensor(np.array(locs)).to(device)\n",
    "# locations = torch.LongTensor(np.array(locs))\n",
    "locations = torch.from_numpy(np.array(locs)).to(torch.float32).to(device)\n",
    "del locs\n",
    "\n",
    "# distance_mat = torch.stack([get_bmu_distance_squares(loc) for loc in locations]).to(torch.float32)"
   ]
  },
  {
   "cell_type": "code",
   "execution_count": 19,
   "id": "cbdcbeae-8171-4809-bb35-534760ccec37",
   "metadata": {},
   "outputs": [
    {
     "data": {
      "text/plain": [
       "torch.Size([400, 2])"
      ]
     },
     "execution_count": 19,
     "metadata": {},
     "output_type": "execute_result"
    }
   ],
   "source": [
    "# locations.shape, distance_mat.shape\n",
    "# (torch.Size([400, 2]), torch.Size([400, 400]))\n",
    "\n",
    "locations.shape"
   ]
  },
  {
   "cell_type": "code",
   "execution_count": null,
   "id": "7bd33fc4-ac59-4612-8fd8-00bc588f8b1a",
   "metadata": {},
   "outputs": [],
   "source": []
  },
  {
   "cell_type": "code",
   "execution_count": 20,
   "id": "e5ad05ca-40df-4081-a01d-ed82ac087f40",
   "metadata": {},
   "outputs": [
    {
     "name": "stdout",
     "output_type": "stream",
     "text": [
      "layer.shape = torch.Size([16, 1, 4, 4]) has 256 parameters\n",
      "layer.shape = torch.Size([16]) has 16 parameters\n",
      "layer.shape = torch.Size([32, 16, 4, 4]) has 8192 parameters\n",
      "layer.shape = torch.Size([32]) has 32 parameters\n",
      "layer.shape = torch.Size([100, 1568]) has 156800 parameters\n",
      "layer.shape = torch.Size([100]) has 100 parameters\n",
      "layer.shape = torch.Size([50, 100]) has 5000 parameters\n",
      "layer.shape = torch.Size([50]) has 50 parameters\n",
      "layer.shape = torch.Size([100, 50]) has 5000 parameters\n",
      "layer.shape = torch.Size([100]) has 100 parameters\n",
      "layer.shape = torch.Size([1568, 100]) has 156800 parameters\n",
      "layer.shape = torch.Size([1568]) has 1568 parameters\n",
      "layer.shape = torch.Size([32, 16, 4, 4]) has 8192 parameters\n",
      "layer.shape = torch.Size([16]) has 16 parameters\n",
      "layer.shape = torch.Size([16, 1, 4, 4]) has 256 parameters\n",
      "layer.shape = torch.Size([1]) has 1 parameters\n",
      "layer.shape = torch.Size([400, 50]) has 20000 parameters\n",
      "\n",
      "Total number of parameters in Conv-AE SOM model = 362379\n"
     ]
    }
   ],
   "source": [
    "# Count number of layer-wise parameters and total parameters-\n",
    "tot_params = 0\n",
    "for param in model.parameters():\n",
    "    print(f\"layer.shape = {param.shape} has {param.nelement()} parameters\")\n",
    "    tot_params += param.nelement()\n",
    "\n",
    "print(f\"\\nTotal number of parameters in Conv-AE SOM model = {tot_params}\")\n",
    "del param"
   ]
  },
  {
   "cell_type": "code",
   "execution_count": null,
   "id": "02a6668a-5fc7-4ef1-952e-de749f2ff636",
   "metadata": {},
   "outputs": [],
   "source": []
  },
  {
   "cell_type": "code",
   "execution_count": 21,
   "id": "bbbb86b8-85f8-4272-adc0-ffed47895a6b",
   "metadata": {},
   "outputs": [],
   "source": [
    "# Define gradient descent optimizer-\n",
    "optimizer = torch.optim.Adam(\n",
    "    params = model.parameters(),\n",
    "    # params = som.parameters(),\n",
    "    lr = 0.001, weight_decay = 5e-4\n",
    ")"
   ]
  },
  {
   "cell_type": "code",
   "execution_count": null,
   "id": "592489ef-df81-4799-9172-25fb8e363fe7",
   "metadata": {},
   "outputs": [],
   "source": []
  },
  {
   "cell_type": "code",
   "execution_count": null,
   "id": "13d356ac-df9e-46ca-b669-58098453fe76",
   "metadata": {},
   "outputs": [],
   "source": []
  },
  {
   "cell_type": "code",
   "execution_count": 22,
   "id": "ddba1f2c-cadd-4668-85f6-f047205d8c1f",
   "metadata": {},
   "outputs": [],
   "source": [
    "# Trade-off hyper-param-\n",
    "gamma = 0.001\n",
    "\n",
    "# Compute std-dev decay per train step/iteration-\n",
    "step = 1"
   ]
  },
  {
   "cell_type": "code",
   "execution_count": null,
   "id": "d66900ad-ba8b-4f57-90bc-ab344f97c2a8",
   "metadata": {},
   "outputs": [],
   "source": []
  },
  {
   "cell_type": "code",
   "execution_count": null,
   "id": "07b5d5c3-8668-4a34-a145-58e712ad0046",
   "metadata": {},
   "outputs": [],
   "source": [
    "'''\n",
    "plt.plot(squared_l2_norm_dists[10].detach().cpu())\n",
    "plt.axvline(x = bmu_indices[10].detach().cpu(), c = 'r')\n",
    "plt.show()\n",
    "\n",
    "plt.plot(topo_neighb[10].detach().cpu())\n",
    "plt.axvline(x = bmu_indices[10].detach().cpu(), c = 'r')\n",
    "plt.show()\n",
    "'''"
   ]
  },
  {
   "cell_type": "code",
   "execution_count": null,
   "id": "f5e0f8a1-7368-4b69-8a57-cf7d670c5979",
   "metadata": {},
   "outputs": [],
   "source": [
    "'''\n",
    "def train_one_epoch(\n",
    "    model, dataloader,\n",
    "    train_dataset, total_steps,\n",
    "    # gamma = 0.001, p_norm = 2\n",
    "):\n",
    "    \n",
    "    # Place model to device-\n",
    "    model.to(device)\n",
    "    \n",
    "    # Enable training mode-\n",
    "    model.train()\n",
    "    \n",
    "    # Initialize variables to reconstruction loss-\n",
    "    running_recon_loss = 0.0\n",
    "    running_topo_error = 0.0\n",
    "    \n",
    "    for i, data in tqdm(\n",
    "        enumerate(dataloader),\n",
    "        total = int(len(train_dataset) / dataloader.batch_size)\n",
    "        ):\n",
    "\n",
    "        x, _ = data\n",
    "        \n",
    "        # Push data samples to device-\n",
    "        x = x.to(device)\n",
    "        \n",
    "        # Empty accumulated gradients-\n",
    "        optimizer.zero_grad()\n",
    "\n",
    "        # Get latent 'z' and reconstructed input data-\n",
    "        z, x_recon = model(x)\n",
    "\n",
    "        # Compute AE's reconstruction/task loss-\n",
    "        recon_loss = F.mse_loss(input = x, target = x_recon)\n",
    "\n",
    "\n",
    "        # DESOM training code:\n",
    "\n",
    "        # Perform Lp normalization of inputs over specified dimension-\n",
    "        # z = F.normalize(input = z, p = p_norm, dim = 1)\n",
    "        # L2-normalize each input (for SOM's uniform wts initialization)\n",
    "        \n",
    "        # Compute dist b/w 'z' & all other SOM units-\n",
    "        dists = torch.cdist(x1 = z, x2 = model.som.embedding.weight, p = p_norm)\n",
    "        \n",
    "        # Compute min dist for each input in batch and its BMUs-\n",
    "        mindist, bmu_indices = torch.min(dists, -1)\n",
    "\n",
    "        # dists.shape, mindist.shape\n",
    "        # (torch.Size([1024, 400]), torch.Size([1024]))\n",
    "        \n",
    "        # Find BMU locations-\n",
    "        bmu_locs = locations[bmu_indices]\n",
    "        \n",
    "        # Squared Euclidean/L2 distance b/w: BMU & SOM units-\n",
    "        squared_l2_dist_bmu_soms = torch.square(torch.cdist(x1 = bmu_locs, x2 = locations, p = p_norm))\n",
    "\n",
    "        global step\n",
    "        # sigma_curr_val = decay_vals[step] * sigma\n",
    "        sigma_curr_val = (1.0 - (step / tot_train_iterations)) * sigma\n",
    "        step += 1\n",
    "        \n",
    "        # Topographic neighborhood structure promoted bia a\n",
    "        # neighborhood kernel 'S'\n",
    "        topo_neigh_struture = torch.exp(-squared_l2_dist_bmu_soms / (2 * torch.square(sigma_curr_val) + 1e-6))\n",
    "        # A Gaussian kernel is often used!\n",
    "        \n",
    "        # Compute topographic loss-\n",
    "        topo_loss = torch.square(dists) * topo_neigh_struture\n",
    "        topo_loss = topo_loss.sum(1).mean()\n",
    "\n",
    "        # Compute total loss-\n",
    "        total_loss = recon_loss + (gamma * topo_loss)\n",
    "\n",
    "        # Compute gradienst wrt computed loss-\n",
    "        total_loss.backward()\n",
    "        \n",
    "        # Perform one step of gradient descent-\n",
    "        optimizer.step()\n",
    "        \n",
    "        # Compute total reconstruction loss-\n",
    "        running_recon_loss += recon_loss.item()\n",
    "        running_topo_error += topo_loss.item()\n",
    "\n",
    "        del x, z, x_recon, topo_loss, recon_loss, total_loss\n",
    "        \n",
    "    # Compute loss as float value-\n",
    "    recon_loss = running_recon_loss / len(dataloader.dataset)\n",
    "    topo_loss = running_topo_error / len(dataloader.dataset)\n",
    "\n",
    "    return recon_loss, topo_loss, sigma_curr_val\n",
    "'''"
   ]
  },
  {
   "cell_type": "code",
   "execution_count": 23,
   "id": "9e685d68-9b83-43d0-bf32-43d4cc05c0f9",
   "metadata": {},
   "outputs": [],
   "source": [
    "def train_one_epoch(\n",
    "    model, dataloader,\n",
    "    train_dataset\n",
    "):\n",
    "    model.train()\n",
    "\n",
    "    running_recon_loss = 0.0\n",
    "    running_topo_loss = 0.0\n",
    "\n",
    "    for i, data in tqdm(\n",
    "        enumerate(dataloader),\n",
    "        total = int(len(train_dataset) / dataloader.batch_size)\n",
    "    ):\n",
    "        x, _ = data\n",
    "        x = x.to(device)\n",
    "\n",
    "        z, x_recon = model(x)\n",
    "\n",
    "        optimizer.zero_grad()\n",
    "\n",
    "        recon_loss = F.mse_loss(input = x_recon, target = x)\n",
    "\n",
    "        # l2_dist_z_soms = torch.cdist(x1 = z, x2 = model.som.embedding.weight, p = p_norm)\n",
    "        l2_dist_z_soms = torch.cdist(x1 = z, x2 = model.som.som_wts.weight, p = p_norm)\n",
    "        mindist, bmu_indices = torch.min(l2_dist_z_soms, -1)\n",
    "        bmu_locations = locations[bmu_indices]\n",
    "        squared_l2_norm_dists = torch.square(torch.cdist(x1 = bmu_locations, x2 = locations, p = p_norm))\n",
    "\n",
    "        # Compute sigma for current iteration/step-\n",
    "        global step\n",
    "        curr_sigma_val = sigma_0 * torch.exp(-step / lmbda_val)\n",
    "        step += 1\n",
    "\n",
    "        topo_neighb = torch.exp(-squared_l2_norm_dists / ((2 * torch.square(curr_sigma_val)) + 1e-6))\n",
    "\n",
    "        topo_loss = topo_neighb * squared_l2_norm_dists\n",
    "        topo_loss = topo_loss.sum(1).mean()\n",
    "\n",
    "        # Compute total loss-\n",
    "        total_loss = recon_loss + (gamma * topo_loss)\n",
    "\n",
    "        # Compute gradienst wrt computed loss-\n",
    "        total_loss.backward()\n",
    "        \n",
    "        # Perform one step of gradient descent-\n",
    "        optimizer.step()\n",
    "        \n",
    "        # Compute total reconstruction loss-\n",
    "        running_recon_loss += recon_loss.item()\n",
    "        running_topo_loss += topo_loss.item()\n",
    "\n",
    "        del x, z, x_recon, topo_loss, recon_loss, total_loss\n",
    "        \n",
    "    # Compute loss as float value-\n",
    "    recon_loss = running_recon_loss / len(dataloader.dataset)\n",
    "    topo_loss = running_topo_loss / len(dataloader.dataset)\n",
    "\n",
    "    return recon_loss, topo_loss, curr_sigma_val.item()\n",
    "    "
   ]
  },
  {
   "cell_type": "code",
   "execution_count": 24,
   "id": "28c15db3-3a5b-4bf8-8d6f-86f86a9e5d35",
   "metadata": {},
   "outputs": [],
   "source": [
    "def test_one_epoch(model, dataloader, test_dataset):\n",
    "    \n",
    "    # Place model to device-\n",
    "    model.to(device)\n",
    "    \n",
    "    # Enable evaluation mode-\n",
    "    model.eval()\n",
    "    \n",
    "    running_recon_loss = 0.0\n",
    "    \n",
    "    with torch.no_grad():\n",
    "        for i, data in tqdm(\n",
    "            enumerate(dataloader),\n",
    "            total = int(len(test_dataset) / test_loader.batch_size)\n",
    "        ):\n",
    "            x, _ = data\n",
    "        \n",
    "            # Push data points to 'device'-\n",
    "            x = x.to(device)\n",
    "            \n",
    "            # Forward propagation-\n",
    "            _, x_recon = model(x)\n",
    "            \n",
    "            # Compute reconstruction loss-\n",
    "            recon_loss = F.mse_loss(input = x, target = x_recon)\n",
    "            \n",
    "            # Compute total reconstruction loss-\n",
    "            running_recon_loss += recon_loss.item()\n",
    "\n",
    "            del x, x_recon, recon_loss\n",
    "                \n",
    "    test_recon_loss = running_recon_loss / len(dataloader.dataset)\n",
    "    \n",
    "    return test_recon_loss"
   ]
  },
  {
   "cell_type": "code",
   "execution_count": null,
   "id": "efa787ab-a18c-4d9f-b25b-bd60817ec83f",
   "metadata": {},
   "outputs": [],
   "source": [
    "'''\n",
    "recon_train_loss, topo_train_loss, curr_sigma_val = train_one_epoch(\n",
    "    model = model, dataloader = train_loader,\n",
    "    train_dataset = train_dataset\n",
    ")\n",
    "\n",
    "recon_test_loss = test_one_epoch(\n",
    "    model = model, dataloader = test_loader,\n",
    "    test_dataset = test_dataset\n",
    ")\n",
    "'''"
   ]
  },
  {
   "cell_type": "code",
   "execution_count": null,
   "id": "ec9717ec-dc3b-4674-a4bb-ec3981a8f052",
   "metadata": {},
   "outputs": [],
   "source": []
  },
  {
   "cell_type": "code",
   "execution_count": null,
   "id": "a87312f2-6cbb-4310-97da-0e9210af85dd",
   "metadata": {},
   "outputs": [],
   "source": []
  },
  {
   "cell_type": "code",
   "execution_count": 25,
   "id": "70a7c1da-7d11-4965-a5c7-0886ce04c1a2",
   "metadata": {},
   "outputs": [],
   "source": [
    "# Python dict to contain training metrics-\n",
    "train_history = {}\n",
    "\n",
    "# To save 'best' parameters-\n",
    "best_test_loss = 10000"
   ]
  },
  {
   "cell_type": "code",
   "execution_count": null,
   "id": "e7c669ab-540d-4fa9-b285-2ad3b1145475",
   "metadata": {},
   "outputs": [],
   "source": [
    "# step = 1"
   ]
  },
  {
   "cell_type": "code",
   "execution_count": null,
   "id": "2f4bf23c-6393-4cd1-af40-8d612c151be0",
   "metadata": {},
   "outputs": [],
   "source": []
  },
  {
   "cell_type": "code",
   "execution_count": 26,
   "id": "64eeb4be-54a3-43a6-81d7-a0321099b138",
   "metadata": {},
   "outputs": [
    {
     "name": "stderr",
     "output_type": "stream",
     "text": [
      "59it [00:12,  4.88it/s]                                                                                                                                                \n",
      "10it [00:01,  5.36it/s]                                                                                                                                                \n"
     ]
    },
    {
     "name": "stdout",
     "output_type": "stream",
     "text": [
      "Epoch = 1; train MSE loss = 0.000891,   topo loss = 0.021298, test MSE loss = 0.000816, L2-norm = 11.542783; sigma_curr_val = 9.8667756\n",
      "Saving model with lowest test_loss = 0.000816\n",
      "\n"
     ]
    },
    {
     "name": "stderr",
     "output_type": "stream",
     "text": [
      "59it [00:11,  5.23it/s]                                                                                                                                                \n",
      "10it [00:01,  5.46it/s]                                                                                                                                                \n"
     ]
    },
    {
     "name": "stdout",
     "output_type": "stream",
     "text": [
      "Epoch = 2; train MSE loss = 0.000747,   topo loss = 0.020694, test MSE loss = 0.000693, L2-norm = 11.542783; sigma_curr_val = 9.7353260\n",
      "Saving model with lowest test_loss = 0.000693\n",
      "\n"
     ]
    },
    {
     "name": "stderr",
     "output_type": "stream",
     "text": [
      "59it [00:11,  5.24it/s]                                                                                                                                                \n",
      "10it [00:01,  5.40it/s]                                                                                                                                                \n"
     ]
    },
    {
     "name": "stdout",
     "output_type": "stream",
     "text": [
      "Epoch = 3; train MSE loss = 0.000646,   topo loss = 0.020028, test MSE loss = 0.000636, L2-norm = 11.542783; sigma_curr_val = 9.6056277\n",
      "Saving model with lowest test_loss = 0.000636\n",
      "\n"
     ]
    },
    {
     "name": "stderr",
     "output_type": "stream",
     "text": [
      "59it [00:11,  5.11it/s]                                                                                                                                                \n",
      "10it [00:02,  4.93it/s]                                                                                                                                                \n"
     ]
    },
    {
     "name": "stdout",
     "output_type": "stream",
     "text": [
      "Epoch = 4; train MSE loss = 0.000610,   topo loss = 0.019451, test MSE loss = 0.000611, L2-norm = 11.542783; sigma_curr_val = 9.4776573\n",
      "Saving model with lowest test_loss = 0.000611\n",
      "\n"
     ]
    },
    {
     "name": "stderr",
     "output_type": "stream",
     "text": [
      "59it [00:11,  5.21it/s]                                                                                                                                                \n",
      "10it [00:01,  5.39it/s]                                                                                                                                                \n"
     ]
    },
    {
     "name": "stdout",
     "output_type": "stream",
     "text": [
      "Epoch = 5; train MSE loss = 0.000590,   topo loss = 0.018889, test MSE loss = 0.000593, L2-norm = 11.542783; sigma_curr_val = 9.3513917\n",
      "Saving model with lowest test_loss = 0.000593\n",
      "\n"
     ]
    },
    {
     "name": "stderr",
     "output_type": "stream",
     "text": [
      "59it [00:11,  5.20it/s]                                                                                                                                                \n",
      "10it [00:01,  5.40it/s]                                                                                                                                                \n"
     ]
    },
    {
     "name": "stdout",
     "output_type": "stream",
     "text": [
      "Epoch = 6; train MSE loss = 0.000571,   topo loss = 0.018349, test MSE loss = 0.000576, L2-norm = 11.542783; sigma_curr_val = 9.2268083\n",
      "Saving model with lowest test_loss = 0.000576\n",
      "\n"
     ]
    },
    {
     "name": "stderr",
     "output_type": "stream",
     "text": [
      "59it [00:11,  5.20it/s]                                                                                                                                                \n",
      "10it [00:01,  5.42it/s]                                                                                                                                                \n"
     ]
    },
    {
     "name": "stdout",
     "output_type": "stream",
     "text": [
      "Epoch = 7; train MSE loss = 0.000556,   topo loss = 0.017794, test MSE loss = 0.000564, L2-norm = 11.542783; sigma_curr_val = 9.1038847\n",
      "Saving model with lowest test_loss = 0.000564\n",
      "\n"
     ]
    },
    {
     "name": "stderr",
     "output_type": "stream",
     "text": [
      "59it [00:11,  5.14it/s]                                                                                                                                                \n",
      "10it [00:01,  5.16it/s]                                                                                                                                                \n"
     ]
    },
    {
     "name": "stdout",
     "output_type": "stream",
     "text": [
      "Epoch = 8; train MSE loss = 0.000546,   topo loss = 0.017244, test MSE loss = 0.000555, L2-norm = 11.542783; sigma_curr_val = 8.9825987\n",
      "Saving model with lowest test_loss = 0.000555\n",
      "\n"
     ]
    },
    {
     "name": "stderr",
     "output_type": "stream",
     "text": [
      "59it [00:11,  5.22it/s]                                                                                                                                                \n",
      "10it [00:01,  5.35it/s]                                                                                                                                                \n"
     ]
    },
    {
     "name": "stdout",
     "output_type": "stream",
     "text": [
      "Epoch = 9; train MSE loss = 0.000540,   topo loss = 0.016708, test MSE loss = 0.000552, L2-norm = 11.542783; sigma_curr_val = 8.8629286\n",
      "Saving model with lowest test_loss = 0.000552\n",
      "\n"
     ]
    },
    {
     "name": "stderr",
     "output_type": "stream",
     "text": [
      "59it [00:11,  5.20it/s]                                                                                                                                                \n",
      "10it [00:01,  5.24it/s]                                                                                                                                                \n"
     ]
    },
    {
     "name": "stdout",
     "output_type": "stream",
     "text": [
      "Epoch = 10; train MSE loss = 0.000536,   topo loss = 0.016181, test MSE loss = 0.000547, L2-norm = 11.542783; sigma_curr_val = 8.7448527\n",
      "Saving model with lowest test_loss = 0.000547\n",
      "\n"
     ]
    },
    {
     "name": "stderr",
     "output_type": "stream",
     "text": [
      "59it [00:11,  5.06it/s]                                                                                                                                                \n",
      "10it [00:01,  5.46it/s]                                                                                                                                                \n"
     ]
    },
    {
     "name": "stdout",
     "output_type": "stream",
     "text": [
      "Epoch = 11; train MSE loss = 0.000530,   topo loss = 0.015661, test MSE loss = 0.000541, L2-norm = 11.542783; sigma_curr_val = 8.6283499\n",
      "Saving model with lowest test_loss = 0.000541\n",
      "\n"
     ]
    },
    {
     "name": "stderr",
     "output_type": "stream",
     "text": [
      "59it [00:11,  5.16it/s]                                                                                                                                                \n",
      "10it [00:01,  5.53it/s]                                                                                                                                                \n"
     ]
    },
    {
     "name": "stdout",
     "output_type": "stream",
     "text": [
      "Epoch = 12; train MSE loss = 0.000525,   topo loss = 0.015146, test MSE loss = 0.000539, L2-norm = 11.542783; sigma_curr_val = 8.5133992\n",
      "Saving model with lowest test_loss = 0.000539\n",
      "\n"
     ]
    },
    {
     "name": "stderr",
     "output_type": "stream",
     "text": [
      "59it [00:11,  5.12it/s]                                                                                                                                                \n",
      "10it [00:01,  5.28it/s]                                                                                                                                                \n"
     ]
    },
    {
     "name": "stdout",
     "output_type": "stream",
     "text": [
      "Epoch = 13; train MSE loss = 0.000522,   topo loss = 0.014644, test MSE loss = 0.000533, L2-norm = 11.542783; sigma_curr_val = 8.3999800\n",
      "Saving model with lowest test_loss = 0.000533\n",
      "\n"
     ]
    },
    {
     "name": "stderr",
     "output_type": "stream",
     "text": [
      "59it [00:11,  5.18it/s]                                                                                                                                                \n",
      "10it [00:01,  5.50it/s]                                                                                                                                                \n"
     ]
    },
    {
     "name": "stdout",
     "output_type": "stream",
     "text": [
      "Epoch = 14; train MSE loss = 0.000520,   topo loss = 0.014151, test MSE loss = 0.000533, L2-norm = 11.542783; sigma_curr_val = 8.2880717\n",
      "Saving model with lowest test_loss = 0.000533\n",
      "\n"
     ]
    },
    {
     "name": "stderr",
     "output_type": "stream",
     "text": [
      "59it [00:11,  5.11it/s]                                                                                                                                                \n",
      "10it [00:01,  5.45it/s]                                                                                                                                                \n"
     ]
    },
    {
     "name": "stdout",
     "output_type": "stream",
     "text": [
      "Epoch = 15; train MSE loss = 0.000518,   topo loss = 0.013668, test MSE loss = 0.000530, L2-norm = 11.542783; sigma_curr_val = 8.1776543\n",
      "Saving model with lowest test_loss = 0.000530\n",
      "\n"
     ]
    },
    {
     "name": "stderr",
     "output_type": "stream",
     "text": [
      "59it [00:11,  5.21it/s]                                                                                                                                                \n",
      "10it [00:01,  5.51it/s]                                                                                                                                                \n"
     ]
    },
    {
     "name": "stdout",
     "output_type": "stream",
     "text": [
      "Epoch = 16; train MSE loss = 0.000516,   topo loss = 0.013195, test MSE loss = 0.000529, L2-norm = 11.542783; sigma_curr_val = 8.0687080\n",
      "Saving model with lowest test_loss = 0.000529\n",
      "\n"
     ]
    },
    {
     "name": "stderr",
     "output_type": "stream",
     "text": [
      "59it [00:11,  5.23it/s]                                                                                                                                                \n",
      "10it [00:01,  5.46it/s]                                                                                                                                                \n"
     ]
    },
    {
     "name": "stdout",
     "output_type": "stream",
     "text": [
      "Epoch = 17; train MSE loss = 0.000515,   topo loss = 0.012732, test MSE loss = 0.000528, L2-norm = 11.542783; sigma_curr_val = 7.9612131\n",
      "Saving model with lowest test_loss = 0.000528\n",
      "\n"
     ]
    },
    {
     "name": "stderr",
     "output_type": "stream",
     "text": [
      "59it [00:11,  5.20it/s]                                                                                                                                                \n",
      "10it [00:01,  5.41it/s]                                                                                                                                                \n"
     ]
    },
    {
     "name": "stdout",
     "output_type": "stream",
     "text": [
      "Epoch = 18; train MSE loss = 0.000514,   topo loss = 0.012279, test MSE loss = 0.000527, L2-norm = 11.542783; sigma_curr_val = 7.8551503\n",
      "Saving model with lowest test_loss = 0.000527\n",
      "\n"
     ]
    },
    {
     "name": "stderr",
     "output_type": "stream",
     "text": [
      "59it [00:11,  5.08it/s]                                                                                                                                                \n",
      "10it [00:01,  5.45it/s]                                                                                                                                                \n"
     ]
    },
    {
     "name": "stdout",
     "output_type": "stream",
     "text": [
      "Epoch = 19; train MSE loss = 0.000512,   topo loss = 0.011837, test MSE loss = 0.000525, L2-norm = 11.542783; sigma_curr_val = 7.7505005\n",
      "Saving model with lowest test_loss = 0.000525\n",
      "\n"
     ]
    },
    {
     "name": "stderr",
     "output_type": "stream",
     "text": [
      "59it [00:11,  5.22it/s]                                                                                                                                                \n",
      "10it [00:01,  5.37it/s]                                                                                                                                                \n"
     ]
    },
    {
     "name": "stdout",
     "output_type": "stream",
     "text": [
      "Epoch = 20; train MSE loss = 0.000511,   topo loss = 0.011403, test MSE loss = 0.000524, L2-norm = 11.542783; sigma_curr_val = 7.6472449\n",
      "Saving model with lowest test_loss = 0.000524\n",
      "\n"
     ]
    },
    {
     "name": "stderr",
     "output_type": "stream",
     "text": [
      "59it [00:11,  5.10it/s]                                                                                                                                                \n",
      "10it [00:01,  5.40it/s]                                                                                                                                                \n"
     ]
    },
    {
     "name": "stdout",
     "output_type": "stream",
     "text": [
      "Epoch = 21; train MSE loss = 0.000510,   topo loss = 0.010980, test MSE loss = 0.000522, L2-norm = 11.542783; sigma_curr_val = 7.5453649\n",
      "Saving model with lowest test_loss = 0.000522\n",
      "\n"
     ]
    },
    {
     "name": "stderr",
     "output_type": "stream",
     "text": [
      "59it [00:11,  5.15it/s]                                                                                                                                                \n",
      "10it [00:01,  5.47it/s]                                                                                                                                                \n"
     ]
    },
    {
     "name": "stdout",
     "output_type": "stream",
     "text": [
      "Epoch = 22; train MSE loss = 0.000508,   topo loss = 0.010567, test MSE loss = 0.000521, L2-norm = 11.542783; sigma_curr_val = 7.4448422\n",
      "Saving model with lowest test_loss = 0.000521\n",
      "\n"
     ]
    },
    {
     "name": "stderr",
     "output_type": "stream",
     "text": [
      "59it [00:11,  5.25it/s]                                                                                                                                                \n",
      "10it [00:01,  5.56it/s]                                                                                                                                                \n"
     ]
    },
    {
     "name": "stdout",
     "output_type": "stream",
     "text": [
      "Epoch = 23; train MSE loss = 0.000507,   topo loss = 0.010165, test MSE loss = 0.000521, L2-norm = 11.542783; sigma_curr_val = 7.3456588\n",
      "Saving model with lowest test_loss = 0.000521\n",
      "\n"
     ]
    },
    {
     "name": "stderr",
     "output_type": "stream",
     "text": [
      "59it [00:11,  5.30it/s]                                                                                                                                                \n",
      "10it [00:01,  5.56it/s]                                                                                                                                                \n"
     ]
    },
    {
     "name": "stdout",
     "output_type": "stream",
     "text": [
      "Epoch = 24; train MSE loss = 0.000507,   topo loss = 0.009773, test MSE loss = 0.000521, L2-norm = 11.542783; sigma_curr_val = 7.2477966\n",
      "Saving model with lowest test_loss = 0.000521\n",
      "\n"
     ]
    },
    {
     "name": "stderr",
     "output_type": "stream",
     "text": [
      "59it [00:11,  5.29it/s]                                                                                                                                                \n",
      "10it [00:01,  5.52it/s]                                                                                                                                                \n"
     ]
    },
    {
     "name": "stdout",
     "output_type": "stream",
     "text": [
      "Epoch = 25; train MSE loss = 0.000506,   topo loss = 0.009394, test MSE loss = 0.000518, L2-norm = 11.542783; sigma_curr_val = 7.1512383\n",
      "Saving model with lowest test_loss = 0.000518\n",
      "\n"
     ]
    },
    {
     "name": "stderr",
     "output_type": "stream",
     "text": [
      "59it [00:11,  5.22it/s]                                                                                                                                                \n",
      "10it [00:01,  5.48it/s]                                                                                                                                                \n"
     ]
    },
    {
     "name": "stdout",
     "output_type": "stream",
     "text": [
      "Epoch = 26; train MSE loss = 0.000505,   topo loss = 0.009021, test MSE loss = 0.000518, L2-norm = 11.542783; sigma_curr_val = 7.0559663\n",
      "Saving model with lowest test_loss = 0.000518\n",
      "\n"
     ]
    },
    {
     "name": "stderr",
     "output_type": "stream",
     "text": [
      "59it [00:11,  5.30it/s]                                                                                                                                                \n",
      "10it [00:01,  5.50it/s]                                                                                                                                                \n"
     ]
    },
    {
     "name": "stdout",
     "output_type": "stream",
     "text": [
      "Epoch = 27; train MSE loss = 0.000505,   topo loss = 0.008665, test MSE loss = 0.000518, L2-norm = 11.542783; sigma_curr_val = 6.9619636\n",
      "Saving model with lowest test_loss = 0.000518\n",
      "\n"
     ]
    },
    {
     "name": "stderr",
     "output_type": "stream",
     "text": [
      "59it [00:11,  5.29it/s]                                                                                                                                                \n",
      "10it [00:01,  5.57it/s]                                                                                                                                                \n"
     ]
    },
    {
     "name": "stdout",
     "output_type": "stream",
     "text": [
      "Epoch = 28; train MSE loss = 0.000504,   topo loss = 0.008315, test MSE loss = 0.000517, L2-norm = 11.542783; sigma_curr_val = 6.8692133\n",
      "Saving model with lowest test_loss = 0.000517\n",
      "\n"
     ]
    },
    {
     "name": "stderr",
     "output_type": "stream",
     "text": [
      "59it [00:11,  5.23it/s]                                                                                                                                                \n",
      "10it [00:01,  5.57it/s]                                                                                                                                                \n"
     ]
    },
    {
     "name": "stdout",
     "output_type": "stream",
     "text": [
      "Epoch = 29; train MSE loss = 0.000504,   topo loss = 0.007976, test MSE loss = 0.000518, L2-norm = 11.542783; sigma_curr_val = 6.7776986\n"
     ]
    },
    {
     "name": "stderr",
     "output_type": "stream",
     "text": [
      "59it [00:11,  5.28it/s]                                                                                                                                                \n",
      "10it [00:01,  5.47it/s]                                                                                                                                                \n"
     ]
    },
    {
     "name": "stdout",
     "output_type": "stream",
     "text": [
      "Epoch = 30; train MSE loss = 0.000503,   topo loss = 0.007654, test MSE loss = 0.000516, L2-norm = 11.542783; sigma_curr_val = 6.6874030\n",
      "Saving model with lowest test_loss = 0.000516\n",
      "\n"
     ]
    },
    {
     "name": "stderr",
     "output_type": "stream",
     "text": [
      "59it [00:11,  5.29it/s]                                                                                                                                                \n",
      "10it [00:01,  5.55it/s]                                                                                                                                                \n"
     ]
    },
    {
     "name": "stdout",
     "output_type": "stream",
     "text": [
      "Epoch = 31; train MSE loss = 0.000503,   topo loss = 0.007335, test MSE loss = 0.000516, L2-norm = 11.542783; sigma_curr_val = 6.5983105\n",
      "Saving model with lowest test_loss = 0.000516\n",
      "\n"
     ]
    },
    {
     "name": "stderr",
     "output_type": "stream",
     "text": [
      "59it [00:11,  5.29it/s]                                                                                                                                                \n",
      "10it [00:01,  5.58it/s]                                                                                                                                                \n"
     ]
    },
    {
     "name": "stdout",
     "output_type": "stream",
     "text": [
      "Epoch = 32; train MSE loss = 0.000502,   topo loss = 0.007026, test MSE loss = 0.000515, L2-norm = 11.542783; sigma_curr_val = 6.5104049\n",
      "Saving model with lowest test_loss = 0.000515\n",
      "\n"
     ]
    },
    {
     "name": "stderr",
     "output_type": "stream",
     "text": [
      "59it [00:11,  5.25it/s]                                                                                                                                                \n",
      "10it [00:01,  5.58it/s]                                                                                                                                                \n"
     ]
    },
    {
     "name": "stdout",
     "output_type": "stream",
     "text": [
      "Epoch = 33; train MSE loss = 0.000502,   topo loss = 0.006729, test MSE loss = 0.000515, L2-norm = 11.542783; sigma_curr_val = 6.4236704\n",
      "Saving model with lowest test_loss = 0.000515\n",
      "\n"
     ]
    },
    {
     "name": "stderr",
     "output_type": "stream",
     "text": [
      "59it [00:11,  5.30it/s]                                                                                                                                                \n",
      "10it [00:01,  5.57it/s]                                                                                                                                                \n"
     ]
    },
    {
     "name": "stdout",
     "output_type": "stream",
     "text": [
      "Epoch = 34; train MSE loss = 0.000502,   topo loss = 0.006441, test MSE loss = 0.000515, L2-norm = 11.542783; sigma_curr_val = 6.3380914\n",
      "Saving model with lowest test_loss = 0.000515\n",
      "\n"
     ]
    },
    {
     "name": "stderr",
     "output_type": "stream",
     "text": [
      "59it [00:11,  5.29it/s]                                                                                                                                                \n",
      "10it [00:01,  5.52it/s]                                                                                                                                                \n"
     ]
    },
    {
     "name": "stdout",
     "output_type": "stream",
     "text": [
      "Epoch = 35; train MSE loss = 0.000502,   topo loss = 0.006166, test MSE loss = 0.000514, L2-norm = 11.542783; sigma_curr_val = 6.2536526\n",
      "Saving model with lowest test_loss = 0.000514\n",
      "\n"
     ]
    },
    {
     "name": "stderr",
     "output_type": "stream",
     "text": [
      "59it [00:11,  5.07it/s]                                                                                                                                                \n",
      "10it [00:01,  5.52it/s]                                                                                                                                                \n"
     ]
    },
    {
     "name": "stdout",
     "output_type": "stream",
     "text": [
      "Epoch = 36; train MSE loss = 0.000501,   topo loss = 0.005902, test MSE loss = 0.000514, L2-norm = 11.542783; sigma_curr_val = 6.1703386\n",
      "Saving model with lowest test_loss = 0.000514\n",
      "\n"
     ]
    },
    {
     "name": "stderr",
     "output_type": "stream",
     "text": [
      "59it [00:11,  5.01it/s]                                                                                                                                                \n",
      "10it [00:01,  5.47it/s]                                                                                                                                                \n"
     ]
    },
    {
     "name": "stdout",
     "output_type": "stream",
     "text": [
      "Epoch = 37; train MSE loss = 0.000501,   topo loss = 0.005645, test MSE loss = 0.000514, L2-norm = 11.542783; sigma_curr_val = 6.0881346\n"
     ]
    },
    {
     "name": "stderr",
     "output_type": "stream",
     "text": [
      "59it [00:11,  5.15it/s]                                                                                                                                                \n",
      "10it [00:01,  5.70it/s]                                                                                                                                                \n"
     ]
    },
    {
     "name": "stdout",
     "output_type": "stream",
     "text": [
      "Epoch = 38; train MSE loss = 0.000500,   topo loss = 0.005399, test MSE loss = 0.000513, L2-norm = 11.542783; sigma_curr_val = 6.0070258\n",
      "Saving model with lowest test_loss = 0.000513\n",
      "\n"
     ]
    },
    {
     "name": "stderr",
     "output_type": "stream",
     "text": [
      "59it [00:10,  5.37it/s]                                                                                                                                                \n",
      "10it [00:01,  5.69it/s]                                                                                                                                                \n"
     ]
    },
    {
     "name": "stdout",
     "output_type": "stream",
     "text": [
      "Epoch = 39; train MSE loss = 0.000500,   topo loss = 0.005163, test MSE loss = 0.000513, L2-norm = 11.542783; sigma_curr_val = 5.9269976\n",
      "Saving model with lowest test_loss = 0.000513\n",
      "\n"
     ]
    },
    {
     "name": "stderr",
     "output_type": "stream",
     "text": [
      "59it [00:11,  5.27it/s]                                                                                                                                                \n",
      "10it [00:01,  5.57it/s]                                                                                                                                                \n"
     ]
    },
    {
     "name": "stdout",
     "output_type": "stream",
     "text": [
      "Epoch = 40; train MSE loss = 0.000500,   topo loss = 0.004938, test MSE loss = 0.000513, L2-norm = 11.542783; sigma_curr_val = 5.8480355\n"
     ]
    },
    {
     "name": "stderr",
     "output_type": "stream",
     "text": [
      "59it [00:11,  5.18it/s]                                                                                                                                                \n",
      "10it [00:01,  5.58it/s]                                                                                                                                                \n"
     ]
    },
    {
     "name": "stdout",
     "output_type": "stream",
     "text": [
      "Epoch = 41; train MSE loss = 0.000499,   topo loss = 0.004720, test MSE loss = 0.000512, L2-norm = 11.542783; sigma_curr_val = 5.7701254\n",
      "Saving model with lowest test_loss = 0.000512\n",
      "\n"
     ]
    },
    {
     "name": "stderr",
     "output_type": "stream",
     "text": [
      "59it [00:11,  5.15it/s]                                                                                                                                                \n",
      "10it [00:01,  5.49it/s]                                                                                                                                                \n"
     ]
    },
    {
     "name": "stdout",
     "output_type": "stream",
     "text": [
      "Epoch = 42; train MSE loss = 0.000500,   topo loss = 0.004517, test MSE loss = 0.000513, L2-norm = 11.542783; sigma_curr_val = 5.6932532\n"
     ]
    },
    {
     "name": "stderr",
     "output_type": "stream",
     "text": [
      "59it [00:11,  5.25it/s]                                                                                                                                                \n",
      "10it [00:01,  5.46it/s]                                                                                                                                                \n"
     ]
    },
    {
     "name": "stdout",
     "output_type": "stream",
     "text": [
      "Epoch = 43; train MSE loss = 0.000499,   topo loss = 0.004318, test MSE loss = 0.000512, L2-norm = 11.542783; sigma_curr_val = 5.6174052\n",
      "Saving model with lowest test_loss = 0.000512\n",
      "\n"
     ]
    },
    {
     "name": "stderr",
     "output_type": "stream",
     "text": [
      "59it [00:11,  4.92it/s]                                                                                                                                                \n",
      "10it [00:01,  5.51it/s]                                                                                                                                                \n"
     ]
    },
    {
     "name": "stdout",
     "output_type": "stream",
     "text": [
      "Epoch = 44; train MSE loss = 0.000499,   topo loss = 0.004120, test MSE loss = 0.000513, L2-norm = 11.542783; sigma_curr_val = 5.5425676\n"
     ]
    },
    {
     "name": "stderr",
     "output_type": "stream",
     "text": [
      "59it [00:11,  5.18it/s]                                                                                                                                                \n",
      "10it [00:01,  5.58it/s]                                                                                                                                                \n"
     ]
    },
    {
     "name": "stdout",
     "output_type": "stream",
     "text": [
      "Epoch = 45; train MSE loss = 0.000498,   topo loss = 0.003935, test MSE loss = 0.000511, L2-norm = 11.542783; sigma_curr_val = 5.4687271\n",
      "Saving model with lowest test_loss = 0.000511\n",
      "\n"
     ]
    },
    {
     "name": "stderr",
     "output_type": "stream",
     "text": [
      "59it [00:11,  5.19it/s]                                                                                                                                                \n",
      "10it [00:01,  5.68it/s]                                                                                                                                                \n"
     ]
    },
    {
     "name": "stdout",
     "output_type": "stream",
     "text": [
      "Epoch = 46; train MSE loss = 0.000498,   topo loss = 0.003756, test MSE loss = 0.000511, L2-norm = 11.542783; sigma_curr_val = 5.3958703\n",
      "Saving model with lowest test_loss = 0.000511\n",
      "\n"
     ]
    },
    {
     "name": "stderr",
     "output_type": "stream",
     "text": [
      "59it [00:11,  5.15it/s]                                                                                                                                                \n",
      "10it [00:01,  5.51it/s]                                                                                                                                                \n"
     ]
    },
    {
     "name": "stdout",
     "output_type": "stream",
     "text": [
      "Epoch = 47; train MSE loss = 0.000498,   topo loss = 0.003586, test MSE loss = 0.000511, L2-norm = 11.542783; sigma_curr_val = 5.3239841\n",
      "Saving model with lowest test_loss = 0.000511\n",
      "\n"
     ]
    },
    {
     "name": "stderr",
     "output_type": "stream",
     "text": [
      "59it [00:11,  5.20it/s]                                                                                                                                                \n",
      "10it [00:01,  5.53it/s]                                                                                                                                                \n"
     ]
    },
    {
     "name": "stdout",
     "output_type": "stream",
     "text": [
      "Epoch = 48; train MSE loss = 0.000498,   topo loss = 0.003422, test MSE loss = 0.000511, L2-norm = 11.542783; sigma_curr_val = 5.2530556\n",
      "Saving model with lowest test_loss = 0.000511\n",
      "\n"
     ]
    },
    {
     "name": "stderr",
     "output_type": "stream",
     "text": [
      "59it [00:11,  5.19it/s]                                                                                                                                                \n",
      "10it [00:01,  5.56it/s]                                                                                                                                                \n"
     ]
    },
    {
     "name": "stdout",
     "output_type": "stream",
     "text": [
      "Epoch = 49; train MSE loss = 0.000498,   topo loss = 0.003266, test MSE loss = 0.000511, L2-norm = 11.542783; sigma_curr_val = 5.1830721\n"
     ]
    },
    {
     "name": "stderr",
     "output_type": "stream",
     "text": [
      "59it [00:11,  5.17it/s]                                                                                                                                                \n",
      "10it [00:01,  5.59it/s]                                                                                                                                                \n"
     ]
    },
    {
     "name": "stdout",
     "output_type": "stream",
     "text": [
      "Epoch = 50; train MSE loss = 0.000498,   topo loss = 0.003115, test MSE loss = 0.000512, L2-norm = 11.542783; sigma_curr_val = 5.1140209\n"
     ]
    },
    {
     "name": "stderr",
     "output_type": "stream",
     "text": [
      "59it [00:11,  5.20it/s]                                                                                                                                                \n",
      "10it [00:01,  5.47it/s]                                                                                                                                                \n"
     ]
    },
    {
     "name": "stdout",
     "output_type": "stream",
     "text": [
      "Epoch = 51; train MSE loss = 0.000497,   topo loss = 0.002973, test MSE loss = 0.000511, L2-norm = 11.542783; sigma_curr_val = 5.0458896\n"
     ]
    },
    {
     "name": "stderr",
     "output_type": "stream",
     "text": [
      "59it [00:11,  5.18it/s]                                                                                                                                                \n",
      "10it [00:01,  5.54it/s]                                                                                                                                                \n"
     ]
    },
    {
     "name": "stdout",
     "output_type": "stream",
     "text": [
      "Epoch = 52; train MSE loss = 0.000498,   topo loss = 0.002840, test MSE loss = 0.000510, L2-norm = 11.542783; sigma_curr_val = 4.9786661\n",
      "Saving model with lowest test_loss = 0.000510\n",
      "\n"
     ]
    },
    {
     "name": "stderr",
     "output_type": "stream",
     "text": [
      "59it [00:11,  5.17it/s]                                                                                                                                                \n",
      "10it [00:01,  5.43it/s]                                                                                                                                                \n"
     ]
    },
    {
     "name": "stdout",
     "output_type": "stream",
     "text": [
      "Epoch = 53; train MSE loss = 0.000497,   topo loss = 0.002708, test MSE loss = 0.000510, L2-norm = 11.542783; sigma_curr_val = 4.9123381\n"
     ]
    },
    {
     "name": "stderr",
     "output_type": "stream",
     "text": [
      "59it [00:11,  5.21it/s]                                                                                                                                                \n",
      "10it [00:01,  5.54it/s]                                                                                                                                                \n"
     ]
    },
    {
     "name": "stdout",
     "output_type": "stream",
     "text": [
      "Epoch = 54; train MSE loss = 0.000497,   topo loss = 0.002585, test MSE loss = 0.000510, L2-norm = 11.542783; sigma_curr_val = 4.8468937\n",
      "Saving model with lowest test_loss = 0.000510\n",
      "\n"
     ]
    },
    {
     "name": "stderr",
     "output_type": "stream",
     "text": [
      "59it [00:11,  5.15it/s]                                                                                                                                                \n",
      "10it [00:01,  5.50it/s]                                                                                                                                                \n"
     ]
    },
    {
     "name": "stdout",
     "output_type": "stream",
     "text": [
      "Epoch = 55; train MSE loss = 0.000497,   topo loss = 0.002467, test MSE loss = 0.000510, L2-norm = 11.542783; sigma_curr_val = 4.7823213\n",
      "Saving model with lowest test_loss = 0.000510\n",
      "\n"
     ]
    },
    {
     "name": "stderr",
     "output_type": "stream",
     "text": [
      "59it [00:11,  5.06it/s]                                                                                                                                                \n",
      "10it [00:01,  5.42it/s]                                                                                                                                                \n"
     ]
    },
    {
     "name": "stdout",
     "output_type": "stream",
     "text": [
      "Epoch = 56; train MSE loss = 0.000496,   topo loss = 0.002358, test MSE loss = 0.000509, L2-norm = 11.542783; sigma_curr_val = 4.7186091\n",
      "Saving model with lowest test_loss = 0.000509\n",
      "\n"
     ]
    },
    {
     "name": "stderr",
     "output_type": "stream",
     "text": [
      "59it [00:11,  5.16it/s]                                                                                                                                                \n",
      "10it [00:01,  5.52it/s]                                                                                                                                                \n"
     ]
    },
    {
     "name": "stdout",
     "output_type": "stream",
     "text": [
      "Epoch = 57; train MSE loss = 0.000496,   topo loss = 0.002256, test MSE loss = 0.000509, L2-norm = 11.542783; sigma_curr_val = 4.6557457\n",
      "Saving model with lowest test_loss = 0.000509\n",
      "\n"
     ]
    },
    {
     "name": "stderr",
     "output_type": "stream",
     "text": [
      "59it [00:11,  5.16it/s]                                                                                                                                                \n",
      "10it [00:01,  5.63it/s]                                                                                                                                                \n"
     ]
    },
    {
     "name": "stdout",
     "output_type": "stream",
     "text": [
      "Epoch = 58; train MSE loss = 0.000496,   topo loss = 0.002150, test MSE loss = 0.000510, L2-norm = 11.542783; sigma_curr_val = 4.5937198\n"
     ]
    },
    {
     "name": "stderr",
     "output_type": "stream",
     "text": [
      "59it [00:11,  5.18it/s]                                                                                                                                                \n",
      "10it [00:01,  5.59it/s]                                                                                                                                                \n"
     ]
    },
    {
     "name": "stdout",
     "output_type": "stream",
     "text": [
      "Epoch = 59; train MSE loss = 0.000496,   topo loss = 0.002054, test MSE loss = 0.000509, L2-norm = 11.542783; sigma_curr_val = 4.5325202\n"
     ]
    },
    {
     "name": "stderr",
     "output_type": "stream",
     "text": [
      "59it [00:11,  5.17it/s]                                                                                                                                                \n",
      "10it [00:01,  5.57it/s]                                                                                                                                                \n"
     ]
    },
    {
     "name": "stdout",
     "output_type": "stream",
     "text": [
      "Epoch = 60; train MSE loss = 0.000496,   topo loss = 0.001964, test MSE loss = 0.000509, L2-norm = 11.542783; sigma_curr_val = 4.4721360\n",
      "Saving model with lowest test_loss = 0.000509\n",
      "\n"
     ]
    },
    {
     "name": "stderr",
     "output_type": "stream",
     "text": [
      "59it [00:11,  5.22it/s]                                                                                                                                                \n",
      "10it [00:01,  5.46it/s]                                                                                                                                                \n"
     ]
    },
    {
     "name": "stdout",
     "output_type": "stream",
     "text": [
      "Epoch = 61; train MSE loss = 0.000496,   topo loss = 0.001874, test MSE loss = 0.000508, L2-norm = 11.542783; sigma_curr_val = 4.4125562\n",
      "Saving model with lowest test_loss = 0.000508\n",
      "\n"
     ]
    },
    {
     "name": "stderr",
     "output_type": "stream",
     "text": [
      "59it [00:11,  5.06it/s]                                                                                                                                                \n",
      "10it [00:01,  5.43it/s]                                                                                                                                                \n"
     ]
    },
    {
     "name": "stdout",
     "output_type": "stream",
     "text": [
      "Epoch = 62; train MSE loss = 0.000495,   topo loss = 0.001789, test MSE loss = 0.000509, L2-norm = 11.542783; sigma_curr_val = 4.3537702\n"
     ]
    },
    {
     "name": "stderr",
     "output_type": "stream",
     "text": [
      "59it [00:11,  5.06it/s]                                                                                                                                                \n",
      "10it [00:01,  5.36it/s]                                                                                                                                                \n"
     ]
    },
    {
     "name": "stdout",
     "output_type": "stream",
     "text": [
      "Epoch = 63; train MSE loss = 0.000495,   topo loss = 0.001707, test MSE loss = 0.000508, L2-norm = 11.542783; sigma_curr_val = 4.2957673\n",
      "Saving model with lowest test_loss = 0.000508\n",
      "\n"
     ]
    },
    {
     "name": "stderr",
     "output_type": "stream",
     "text": [
      "59it [00:11,  5.06it/s]                                                                                                                                                \n",
      "10it [00:01,  5.47it/s]                                                                                                                                                \n"
     ]
    },
    {
     "name": "stdout",
     "output_type": "stream",
     "text": [
      "Epoch = 64; train MSE loss = 0.000495,   topo loss = 0.001627, test MSE loss = 0.000508, L2-norm = 11.542783; sigma_curr_val = 4.2385372\n"
     ]
    },
    {
     "name": "stderr",
     "output_type": "stream",
     "text": [
      "59it [00:11,  5.07it/s]                                                                                                                                                \n",
      "10it [00:01,  5.21it/s]                                                                                                                                                \n"
     ]
    },
    {
     "name": "stdout",
     "output_type": "stream",
     "text": [
      "Epoch = 65; train MSE loss = 0.000495,   topo loss = 0.001552, test MSE loss = 0.000507, L2-norm = 11.542783; sigma_curr_val = 4.1820695\n",
      "Saving model with lowest test_loss = 0.000507\n",
      "\n"
     ]
    },
    {
     "name": "stderr",
     "output_type": "stream",
     "text": [
      "59it [00:11,  5.09it/s]                                                                                                                                                \n",
      "10it [00:01,  5.53it/s]                                                                                                                                                \n"
     ]
    },
    {
     "name": "stdout",
     "output_type": "stream",
     "text": [
      "Epoch = 66; train MSE loss = 0.000495,   topo loss = 0.001481, test MSE loss = 0.000509, L2-norm = 11.542783; sigma_curr_val = 4.1263541\n"
     ]
    },
    {
     "name": "stderr",
     "output_type": "stream",
     "text": [
      "59it [00:11,  5.13it/s]                                                                                                                                                \n",
      "10it [00:01,  5.52it/s]                                                                                                                                                \n"
     ]
    },
    {
     "name": "stdout",
     "output_type": "stream",
     "text": [
      "Epoch = 67; train MSE loss = 0.000495,   topo loss = 0.001416, test MSE loss = 0.000508, L2-norm = 11.542783; sigma_curr_val = 4.0713810\n"
     ]
    },
    {
     "name": "stderr",
     "output_type": "stream",
     "text": [
      "59it [00:11,  5.12it/s]                                                                                                                                                \n",
      "10it [00:01,  5.50it/s]                                                                                                                                                \n"
     ]
    },
    {
     "name": "stdout",
     "output_type": "stream",
     "text": [
      "Epoch = 68; train MSE loss = 0.000495,   topo loss = 0.001354, test MSE loss = 0.000508, L2-norm = 11.542783; sigma_curr_val = 4.0171403\n"
     ]
    },
    {
     "name": "stderr",
     "output_type": "stream",
     "text": [
      "59it [00:11,  5.20it/s]                                                                                                                                                \n",
      "10it [00:01,  5.46it/s]                                                                                                                                                \n"
     ]
    },
    {
     "name": "stdout",
     "output_type": "stream",
     "text": [
      "Epoch = 69; train MSE loss = 0.000495,   topo loss = 0.001292, test MSE loss = 0.000508, L2-norm = 11.542783; sigma_curr_val = 3.9636222\n"
     ]
    },
    {
     "name": "stderr",
     "output_type": "stream",
     "text": [
      "59it [00:11,  5.18it/s]                                                                                                                                                \n",
      "10it [00:01,  5.39it/s]                                                                                                                                                \n"
     ]
    },
    {
     "name": "stdout",
     "output_type": "stream",
     "text": [
      "Epoch = 70; train MSE loss = 0.000494,   topo loss = 0.001234, test MSE loss = 0.000508, L2-norm = 11.542783; sigma_curr_val = 3.9108170\n"
     ]
    },
    {
     "name": "stderr",
     "output_type": "stream",
     "text": [
      "59it [00:11,  5.13it/s]                                                                                                                                                \n",
      "10it [00:01,  5.27it/s]                                                                                                                                                \n"
     ]
    },
    {
     "name": "stdout",
     "output_type": "stream",
     "text": [
      "Epoch = 71; train MSE loss = 0.000494,   topo loss = 0.001178, test MSE loss = 0.000507, L2-norm = 11.542783; sigma_curr_val = 3.8587154\n",
      "Saving model with lowest test_loss = 0.000507\n",
      "\n"
     ]
    },
    {
     "name": "stderr",
     "output_type": "stream",
     "text": [
      "59it [00:11,  5.11it/s]                                                                                                                                                \n",
      "10it [00:01,  5.58it/s]                                                                                                                                                \n"
     ]
    },
    {
     "name": "stdout",
     "output_type": "stream",
     "text": [
      "Epoch = 72; train MSE loss = 0.000494,   topo loss = 0.001127, test MSE loss = 0.000507, L2-norm = 11.542783; sigma_curr_val = 3.8073079\n",
      "Saving model with lowest test_loss = 0.000507\n",
      "\n"
     ]
    },
    {
     "name": "stderr",
     "output_type": "stream",
     "text": [
      "59it [00:11,  5.10it/s]                                                                                                                                                \n",
      "10it [00:01,  5.48it/s]                                                                                                                                                \n"
     ]
    },
    {
     "name": "stdout",
     "output_type": "stream",
     "text": [
      "Epoch = 73; train MSE loss = 0.000494,   topo loss = 0.001074, test MSE loss = 0.000507, L2-norm = 11.542783; sigma_curr_val = 3.7565852\n"
     ]
    },
    {
     "name": "stderr",
     "output_type": "stream",
     "text": [
      "59it [00:11,  5.11it/s]                                                                                                                                                \n",
      "10it [00:01,  5.49it/s]                                                                                                                                                \n"
     ]
    },
    {
     "name": "stdout",
     "output_type": "stream",
     "text": [
      "Epoch = 74; train MSE loss = 0.000494,   topo loss = 0.001027, test MSE loss = 0.000507, L2-norm = 11.542783; sigma_curr_val = 3.7065383\n"
     ]
    },
    {
     "name": "stderr",
     "output_type": "stream",
     "text": [
      "59it [00:11,  5.10it/s]                                                                                                                                                \n",
      "10it [00:01,  5.55it/s]                                                                                                                                                \n"
     ]
    },
    {
     "name": "stdout",
     "output_type": "stream",
     "text": [
      "Epoch = 75; train MSE loss = 0.000494,   topo loss = 0.000980, test MSE loss = 0.000507, L2-norm = 11.542783; sigma_curr_val = 3.6571582\n",
      "Saving model with lowest test_loss = 0.000507\n",
      "\n"
     ]
    },
    {
     "name": "stderr",
     "output_type": "stream",
     "text": [
      "59it [00:11,  5.14it/s]                                                                                                                                                \n",
      "10it [00:01,  5.63it/s]                                                                                                                                                \n"
     ]
    },
    {
     "name": "stdout",
     "output_type": "stream",
     "text": [
      "Epoch = 76; train MSE loss = 0.000494,   topo loss = 0.000937, test MSE loss = 0.000507, L2-norm = 11.542783; sigma_curr_val = 3.6084359\n"
     ]
    },
    {
     "name": "stderr",
     "output_type": "stream",
     "text": [
      "59it [00:11,  5.06it/s]                                                                                                                                                \n",
      "10it [00:01,  5.44it/s]                                                                                                                                                \n"
     ]
    },
    {
     "name": "stdout",
     "output_type": "stream",
     "text": [
      "Epoch = 77; train MSE loss = 0.000493,   topo loss = 0.000896, test MSE loss = 0.000506, L2-norm = 11.542783; sigma_curr_val = 3.5603627\n",
      "Saving model with lowest test_loss = 0.000506\n",
      "\n"
     ]
    },
    {
     "name": "stderr",
     "output_type": "stream",
     "text": [
      "59it [00:11,  5.19it/s]                                                                                                                                                \n",
      "10it [00:01,  5.44it/s]                                                                                                                                                \n"
     ]
    },
    {
     "name": "stdout",
     "output_type": "stream",
     "text": [
      "Epoch = 78; train MSE loss = 0.000493,   topo loss = 0.000854, test MSE loss = 0.000507, L2-norm = 11.542783; sigma_curr_val = 3.5129300\n"
     ]
    },
    {
     "name": "stderr",
     "output_type": "stream",
     "text": [
      "59it [00:11,  5.10it/s]                                                                                                                                                \n",
      "10it [00:01,  5.29it/s]                                                                                                                                                \n"
     ]
    },
    {
     "name": "stdout",
     "output_type": "stream",
     "text": [
      "Epoch = 79; train MSE loss = 0.000493,   topo loss = 0.000818, test MSE loss = 0.000506, L2-norm = 11.542783; sigma_curr_val = 3.4661292\n",
      "Saving model with lowest test_loss = 0.000506\n",
      "\n"
     ]
    },
    {
     "name": "stderr",
     "output_type": "stream",
     "text": [
      "59it [00:11,  5.11it/s]                                                                                                                                                \n",
      "10it [00:01,  5.10it/s]                                                                                                                                                \n"
     ]
    },
    {
     "name": "stdout",
     "output_type": "stream",
     "text": [
      "Epoch = 80; train MSE loss = 0.000493,   topo loss = 0.000781, test MSE loss = 0.000506, L2-norm = 11.542783; sigma_curr_val = 3.4199519\n"
     ]
    },
    {
     "name": "stderr",
     "output_type": "stream",
     "text": [
      "59it [00:11,  5.13it/s]                                                                                                                                                \n",
      "10it [00:01,  5.46it/s]                                                                                                                                                \n"
     ]
    },
    {
     "name": "stdout",
     "output_type": "stream",
     "text": [
      "Epoch = 81; train MSE loss = 0.000493,   topo loss = 0.000746, test MSE loss = 0.000506, L2-norm = 11.542783; sigma_curr_val = 3.3743898\n",
      "Saving model with lowest test_loss = 0.000506\n",
      "\n"
     ]
    },
    {
     "name": "stderr",
     "output_type": "stream",
     "text": [
      "59it [00:11,  5.16it/s]                                                                                                                                                \n",
      "10it [00:01,  5.57it/s]                                                                                                                                                \n"
     ]
    },
    {
     "name": "stdout",
     "output_type": "stream",
     "text": [
      "Epoch = 82; train MSE loss = 0.000493,   topo loss = 0.000715, test MSE loss = 0.000506, L2-norm = 11.542783; sigma_curr_val = 3.3294347\n",
      "Saving model with lowest test_loss = 0.000506\n",
      "\n"
     ]
    },
    {
     "name": "stderr",
     "output_type": "stream",
     "text": [
      "59it [00:11,  5.19it/s]                                                                                                                                                \n",
      "10it [00:01,  5.53it/s]                                                                                                                                                \n"
     ]
    },
    {
     "name": "stdout",
     "output_type": "stream",
     "text": [
      "Epoch = 83; train MSE loss = 0.000493,   topo loss = 0.000683, test MSE loss = 0.000506, L2-norm = 11.542783; sigma_curr_val = 3.2850785\n"
     ]
    },
    {
     "name": "stderr",
     "output_type": "stream",
     "text": [
      "59it [00:11,  5.19it/s]                                                                                                                                                \n",
      "10it [00:01,  5.45it/s]                                                                                                                                                \n"
     ]
    },
    {
     "name": "stdout",
     "output_type": "stream",
     "text": [
      "Epoch = 84; train MSE loss = 0.000493,   topo loss = 0.000651, test MSE loss = 0.000507, L2-norm = 11.542783; sigma_curr_val = 3.2413132\n"
     ]
    },
    {
     "name": "stderr",
     "output_type": "stream",
     "text": [
      "59it [00:11,  5.09it/s]                                                                                                                                                \n",
      "10it [00:01,  5.48it/s]                                                                                                                                                \n"
     ]
    },
    {
     "name": "stdout",
     "output_type": "stream",
     "text": [
      "Epoch = 85; train MSE loss = 0.000493,   topo loss = 0.000624, test MSE loss = 0.000506, L2-norm = 11.542783; sigma_curr_val = 3.1981310\n"
     ]
    },
    {
     "name": "stderr",
     "output_type": "stream",
     "text": [
      "59it [00:11,  5.24it/s]                                                                                                                                                \n",
      "10it [00:01,  5.58it/s]                                                                                                                                                \n"
     ]
    },
    {
     "name": "stdout",
     "output_type": "stream",
     "text": [
      "Epoch = 86; train MSE loss = 0.000493,   topo loss = 0.000593, test MSE loss = 0.000506, L2-norm = 11.542783; sigma_curr_val = 3.1555241\n"
     ]
    },
    {
     "name": "stderr",
     "output_type": "stream",
     "text": [
      "59it [00:11,  5.19it/s]                                                                                                                                                \n",
      "10it [00:01,  5.53it/s]                                                                                                                                                \n"
     ]
    },
    {
     "name": "stdout",
     "output_type": "stream",
     "text": [
      "Epoch = 87; train MSE loss = 0.000493,   topo loss = 0.000568, test MSE loss = 0.000505, L2-norm = 11.542783; sigma_curr_val = 3.1134848\n",
      "Saving model with lowest test_loss = 0.000505\n",
      "\n"
     ]
    },
    {
     "name": "stderr",
     "output_type": "stream",
     "text": [
      "59it [00:11,  5.06it/s]                                                                                                                                                \n",
      "10it [00:01,  5.24it/s]                                                                                                                                                \n"
     ]
    },
    {
     "name": "stdout",
     "output_type": "stream",
     "text": [
      "Epoch = 88; train MSE loss = 0.000493,   topo loss = 0.000541, test MSE loss = 0.000506, L2-norm = 11.542783; sigma_curr_val = 3.0720056\n"
     ]
    },
    {
     "name": "stderr",
     "output_type": "stream",
     "text": [
      "59it [00:11,  5.18it/s]                                                                                                                                                \n",
      "10it [00:01,  5.47it/s]                                                                                                                                                \n"
     ]
    },
    {
     "name": "stdout",
     "output_type": "stream",
     "text": [
      "Epoch = 89; train MSE loss = 0.000493,   topo loss = 0.000518, test MSE loss = 0.000505, L2-norm = 11.542783; sigma_curr_val = 3.0310789\n"
     ]
    },
    {
     "name": "stderr",
     "output_type": "stream",
     "text": [
      "59it [00:11,  5.19it/s]                                                                                                                                                \n",
      "10it [00:01,  5.54it/s]                                                                                                                                                \n"
     ]
    },
    {
     "name": "stdout",
     "output_type": "stream",
     "text": [
      "Epoch = 90; train MSE loss = 0.000493,   topo loss = 0.000495, test MSE loss = 0.000505, L2-norm = 11.542783; sigma_curr_val = 2.9906976\n"
     ]
    },
    {
     "name": "stderr",
     "output_type": "stream",
     "text": [
      "59it [00:11,  5.20it/s]                                                                                                                                                \n",
      "10it [00:01,  5.30it/s]                                                                                                                                                \n"
     ]
    },
    {
     "name": "stdout",
     "output_type": "stream",
     "text": [
      "Epoch = 91; train MSE loss = 0.000493,   topo loss = 0.000472, test MSE loss = 0.000505, L2-norm = 11.542783; sigma_curr_val = 2.9508542\n"
     ]
    },
    {
     "name": "stderr",
     "output_type": "stream",
     "text": [
      "59it [00:11,  5.06it/s]                                                                                                                                                \n",
      "10it [00:01,  5.42it/s]                                                                                                                                                \n"
     ]
    },
    {
     "name": "stdout",
     "output_type": "stream",
     "text": [
      "Epoch = 92; train MSE loss = 0.000492,   topo loss = 0.000451, test MSE loss = 0.000505, L2-norm = 11.542783; sigma_curr_val = 2.9115416\n"
     ]
    },
    {
     "name": "stderr",
     "output_type": "stream",
     "text": [
      "59it [00:11,  5.23it/s]                                                                                                                                                \n",
      "10it [00:01,  5.27it/s]                                                                                                                                                \n"
     ]
    },
    {
     "name": "stdout",
     "output_type": "stream",
     "text": [
      "Epoch = 93; train MSE loss = 0.000493,   topo loss = 0.000431, test MSE loss = 0.000505, L2-norm = 11.542783; sigma_curr_val = 2.8727527\n"
     ]
    },
    {
     "name": "stderr",
     "output_type": "stream",
     "text": [
      "59it [00:11,  5.08it/s]                                                                                                                                                \n",
      "10it [00:01,  5.47it/s]                                                                                                                                                \n"
     ]
    },
    {
     "name": "stdout",
     "output_type": "stream",
     "text": [
      "Epoch = 94; train MSE loss = 0.000492,   topo loss = 0.000412, test MSE loss = 0.000505, L2-norm = 11.542783; sigma_curr_val = 2.8344807\n",
      "Saving model with lowest test_loss = 0.000505\n",
      "\n"
     ]
    },
    {
     "name": "stderr",
     "output_type": "stream",
     "text": [
      "59it [00:11,  5.15it/s]                                                                                                                                                \n",
      "10it [00:01,  5.41it/s]                                                                                                                                                \n"
     ]
    },
    {
     "name": "stdout",
     "output_type": "stream",
     "text": [
      "Epoch = 95; train MSE loss = 0.000492,   topo loss = 0.000393, test MSE loss = 0.000506, L2-norm = 11.542783; sigma_curr_val = 2.7967184\n"
     ]
    },
    {
     "name": "stderr",
     "output_type": "stream",
     "text": [
      "59it [00:11,  5.10it/s]                                                                                                                                                \n",
      "10it [00:01,  5.26it/s]                                                                                                                                                \n"
     ]
    },
    {
     "name": "stdout",
     "output_type": "stream",
     "text": [
      "Epoch = 96; train MSE loss = 0.000492,   topo loss = 0.000376, test MSE loss = 0.000505, L2-norm = 11.542783; sigma_curr_val = 2.7594593\n"
     ]
    },
    {
     "name": "stderr",
     "output_type": "stream",
     "text": [
      "59it [00:11,  5.16it/s]                                                                                                                                                \n",
      "10it [00:01,  5.33it/s]                                                                                                                                                \n"
     ]
    },
    {
     "name": "stdout",
     "output_type": "stream",
     "text": [
      "Epoch = 97; train MSE loss = 0.000492,   topo loss = 0.000359, test MSE loss = 0.000505, L2-norm = 11.542783; sigma_curr_val = 2.7226966\n",
      "Saving model with lowest test_loss = 0.000505\n",
      "\n"
     ]
    },
    {
     "name": "stderr",
     "output_type": "stream",
     "text": [
      "59it [00:11,  5.13it/s]                                                                                                                                                \n",
      "10it [00:01,  5.54it/s]                                                                                                                                                \n"
     ]
    },
    {
     "name": "stdout",
     "output_type": "stream",
     "text": [
      "Epoch = 98; train MSE loss = 0.000492,   topo loss = 0.000342, test MSE loss = 0.000505, L2-norm = 11.542783; sigma_curr_val = 2.6864236\n"
     ]
    },
    {
     "name": "stderr",
     "output_type": "stream",
     "text": [
      "59it [00:11,  5.23it/s]                                                                                                                                                \n",
      "10it [00:01,  5.53it/s]                                                                                                                                                \n"
     ]
    },
    {
     "name": "stdout",
     "output_type": "stream",
     "text": [
      "Epoch = 99; train MSE loss = 0.000492,   topo loss = 0.000327, test MSE loss = 0.000506, L2-norm = 11.542783; sigma_curr_val = 2.6506339\n"
     ]
    },
    {
     "name": "stderr",
     "output_type": "stream",
     "text": [
      "59it [00:11,  5.29it/s]                                                                                                                                                \n",
      "10it [00:01,  5.54it/s]                                                                                                                                                \n"
     ]
    },
    {
     "name": "stdout",
     "output_type": "stream",
     "text": [
      "Epoch = 100; train MSE loss = 0.000492,   topo loss = 0.000312, test MSE loss = 0.000505, L2-norm = 11.542783; sigma_curr_val = 2.6153210\n"
     ]
    },
    {
     "name": "stderr",
     "output_type": "stream",
     "text": [
      "59it [00:11,  5.28it/s]                                                                                                                                                \n",
      "10it [00:01,  5.53it/s]                                                                                                                                                \n"
     ]
    },
    {
     "name": "stdout",
     "output_type": "stream",
     "text": [
      "Epoch = 101; train MSE loss = 0.000492,   topo loss = 0.000298, test MSE loss = 0.000506, L2-norm = 11.542783; sigma_curr_val = 2.5804785\n"
     ]
    },
    {
     "name": "stderr",
     "output_type": "stream",
     "text": [
      "59it [00:11,  5.27it/s]                                                                                                                                                \n",
      "10it [00:01,  5.53it/s]                                                                                                                                                \n"
     ]
    },
    {
     "name": "stdout",
     "output_type": "stream",
     "text": [
      "Epoch = 102; train MSE loss = 0.000492,   topo loss = 0.000284, test MSE loss = 0.000506, L2-norm = 11.542783; sigma_curr_val = 2.5461002\n"
     ]
    },
    {
     "name": "stderr",
     "output_type": "stream",
     "text": [
      "59it [00:11,  5.19it/s]                                                                                                                                                \n",
      "10it [00:01,  5.52it/s]                                                                                                                                                \n"
     ]
    },
    {
     "name": "stdout",
     "output_type": "stream",
     "text": [
      "Epoch = 103; train MSE loss = 0.000492,   topo loss = 0.000271, test MSE loss = 0.000505, L2-norm = 11.542783; sigma_curr_val = 2.5121800\n"
     ]
    },
    {
     "name": "stderr",
     "output_type": "stream",
     "text": [
      "59it [00:11,  5.17it/s]                                                                                                                                                \n",
      "10it [00:01,  5.48it/s]                                                                                                                                                \n"
     ]
    },
    {
     "name": "stdout",
     "output_type": "stream",
     "text": [
      "Epoch = 104; train MSE loss = 0.000492,   topo loss = 0.000259, test MSE loss = 0.000505, L2-norm = 11.542783; sigma_curr_val = 2.4787116\n",
      "Saving model with lowest test_loss = 0.000505\n",
      "\n"
     ]
    },
    {
     "name": "stderr",
     "output_type": "stream",
     "text": [
      "59it [00:11,  5.23it/s]                                                                                                                                                \n",
      "10it [00:01,  5.57it/s]                                                                                                                                                \n"
     ]
    },
    {
     "name": "stdout",
     "output_type": "stream",
     "text": [
      "Epoch = 105; train MSE loss = 0.000492,   topo loss = 0.000246, test MSE loss = 0.000505, L2-norm = 11.542783; sigma_curr_val = 2.4456891\n"
     ]
    },
    {
     "name": "stderr",
     "output_type": "stream",
     "text": [
      "59it [00:11,  5.18it/s]                                                                                                                                                \n",
      "10it [00:01,  5.38it/s]                                                                                                                                                \n"
     ]
    },
    {
     "name": "stdout",
     "output_type": "stream",
     "text": [
      "Epoch = 106; train MSE loss = 0.000492,   topo loss = 0.000235, test MSE loss = 0.000505, L2-norm = 11.542783; sigma_curr_val = 2.4131065\n"
     ]
    },
    {
     "name": "stderr",
     "output_type": "stream",
     "text": [
      "59it [00:11,  5.24it/s]                                                                                                                                                \n",
      "10it [00:01,  5.57it/s]                                                                                                                                                \n"
     ]
    },
    {
     "name": "stdout",
     "output_type": "stream",
     "text": [
      "Epoch = 107; train MSE loss = 0.000492,   topo loss = 0.000225, test MSE loss = 0.000505, L2-norm = 11.542783; sigma_curr_val = 2.3809581\n"
     ]
    },
    {
     "name": "stderr",
     "output_type": "stream",
     "text": [
      "59it [00:11,  5.10it/s]                                                                                                                                                \n",
      "10it [00:01,  5.48it/s]                                                                                                                                                \n"
     ]
    },
    {
     "name": "stdout",
     "output_type": "stream",
     "text": [
      "Epoch = 108; train MSE loss = 0.000492,   topo loss = 0.000214, test MSE loss = 0.000505, L2-norm = 11.542783; sigma_curr_val = 2.3492379\n"
     ]
    },
    {
     "name": "stderr",
     "output_type": "stream",
     "text": [
      "59it [00:11,  5.13it/s]                                                                                                                                                \n",
      "10it [00:01,  5.46it/s]                                                                                                                                                \n"
     ]
    },
    {
     "name": "stdout",
     "output_type": "stream",
     "text": [
      "Epoch = 109; train MSE loss = 0.000492,   topo loss = 0.000204, test MSE loss = 0.000505, L2-norm = 11.542783; sigma_curr_val = 2.3179403\n"
     ]
    },
    {
     "name": "stderr",
     "output_type": "stream",
     "text": [
      "59it [00:11,  5.23it/s]                                                                                                                                                \n",
      "10it [00:01,  5.56it/s]                                                                                                                                                \n"
     ]
    },
    {
     "name": "stdout",
     "output_type": "stream",
     "text": [
      "Epoch = 110; train MSE loss = 0.000492,   topo loss = 0.000194, test MSE loss = 0.000505, L2-norm = 11.542783; sigma_curr_val = 2.2870597\n"
     ]
    },
    {
     "name": "stderr",
     "output_type": "stream",
     "text": [
      "59it [00:11,  5.28it/s]                                                                                                                                                \n",
      "10it [00:01,  5.54it/s]                                                                                                                                                \n"
     ]
    },
    {
     "name": "stdout",
     "output_type": "stream",
     "text": [
      "Epoch = 111; train MSE loss = 0.000492,   topo loss = 0.000185, test MSE loss = 0.000505, L2-norm = 11.542783; sigma_curr_val = 2.2565905\n"
     ]
    },
    {
     "name": "stderr",
     "output_type": "stream",
     "text": [
      "59it [00:11,  5.20it/s]                                                                                                                                                \n",
      "10it [00:01,  5.42it/s]                                                                                                                                                \n"
     ]
    },
    {
     "name": "stdout",
     "output_type": "stream",
     "text": [
      "Epoch = 112; train MSE loss = 0.000492,   topo loss = 0.000176, test MSE loss = 0.000505, L2-norm = 11.542783; sigma_curr_val = 2.2265272\n"
     ]
    },
    {
     "name": "stderr",
     "output_type": "stream",
     "text": [
      "59it [00:11,  5.27it/s]                                                                                                                                                \n",
      "10it [00:01,  5.59it/s]                                                                                                                                                \n"
     ]
    },
    {
     "name": "stdout",
     "output_type": "stream",
     "text": [
      "Epoch = 113; train MSE loss = 0.000492,   topo loss = 0.000168, test MSE loss = 0.000505, L2-norm = 11.542783; sigma_curr_val = 2.1968644\n"
     ]
    },
    {
     "name": "stderr",
     "output_type": "stream",
     "text": [
      "59it [00:11,  5.12it/s]                                                                                                                                                \n",
      "10it [00:01,  5.61it/s]                                                                                                                                                \n"
     ]
    },
    {
     "name": "stdout",
     "output_type": "stream",
     "text": [
      "Epoch = 114; train MSE loss = 0.000492,   topo loss = 0.000161, test MSE loss = 0.000505, L2-norm = 11.542783; sigma_curr_val = 2.1675968\n",
      "Saving model with lowest test_loss = 0.000505\n",
      "\n"
     ]
    },
    {
     "name": "stderr",
     "output_type": "stream",
     "text": [
      "59it [00:11,  5.32it/s]                                                                                                                                                \n",
      "10it [00:01,  5.68it/s]                                                                                                                                                \n"
     ]
    },
    {
     "name": "stdout",
     "output_type": "stream",
     "text": [
      "Epoch = 115; train MSE loss = 0.000492,   topo loss = 0.000153, test MSE loss = 0.000505, L2-norm = 11.542783; sigma_curr_val = 2.1387191\n"
     ]
    },
    {
     "name": "stderr",
     "output_type": "stream",
     "text": [
      "59it [00:11,  5.36it/s]                                                                                                                                                \n",
      "10it [00:01,  5.69it/s]                                                                                                                                                \n"
     ]
    },
    {
     "name": "stdout",
     "output_type": "stream",
     "text": [
      "Epoch = 116; train MSE loss = 0.000492,   topo loss = 0.000146, test MSE loss = 0.000505, L2-norm = 11.542783; sigma_curr_val = 2.1102261\n"
     ]
    },
    {
     "name": "stderr",
     "output_type": "stream",
     "text": [
      "59it [00:11,  5.31it/s]                                                                                                                                                \n",
      "10it [00:01,  5.68it/s]                                                                                                                                                \n"
     ]
    },
    {
     "name": "stdout",
     "output_type": "stream",
     "text": [
      "Epoch = 117; train MSE loss = 0.000492,   topo loss = 0.000140, test MSE loss = 0.000505, L2-norm = 11.542783; sigma_curr_val = 2.0821128\n"
     ]
    },
    {
     "name": "stderr",
     "output_type": "stream",
     "text": [
      "59it [00:11,  5.27it/s]                                                                                                                                                \n",
      "10it [00:01,  5.41it/s]                                                                                                                                                \n"
     ]
    },
    {
     "name": "stdout",
     "output_type": "stream",
     "text": [
      "Epoch = 118; train MSE loss = 0.000492,   topo loss = 0.000132, test MSE loss = 0.000506, L2-norm = 11.542783; sigma_curr_val = 2.0543739\n"
     ]
    },
    {
     "name": "stderr",
     "output_type": "stream",
     "text": [
      "59it [00:11,  5.20it/s]                                                                                                                                                \n",
      "10it [00:01,  5.62it/s]                                                                                                                                                \n"
     ]
    },
    {
     "name": "stdout",
     "output_type": "stream",
     "text": [
      "Epoch = 119; train MSE loss = 0.000492,   topo loss = 0.000126, test MSE loss = 0.000506, L2-norm = 11.542783; sigma_curr_val = 2.0270047\n"
     ]
    },
    {
     "name": "stderr",
     "output_type": "stream",
     "text": [
      "59it [00:11,  5.14it/s]                                                                                                                                                \n",
      "10it [00:01,  5.56it/s]                                                                                                                                                "
     ]
    },
    {
     "name": "stdout",
     "output_type": "stream",
     "text": [
      "Epoch = 120; train MSE loss = 0.000492,   topo loss = 0.000120, test MSE loss = 0.000505, L2-norm = 11.542783; sigma_curr_val = 2.0000000\n"
     ]
    },
    {
     "name": "stderr",
     "output_type": "stream",
     "text": [
      "\n"
     ]
    }
   ],
   "source": [
    "for epoch in range(1, num_epochs + 1):\n",
    "    \n",
    "    # Train model for 1 epoch-\n",
    "    recon_train_loss, topo_train_loss, curr_sigma_val = train_one_epoch(\n",
    "        model = model, dataloader = train_loader,\n",
    "        train_dataset = train_dataset\n",
    "    )\n",
    "\n",
    "    recon_test_loss = test_one_epoch(\n",
    "        model = model, dataloader = test_loader,\n",
    "        test_dataset = test_dataset\n",
    "    )\n",
    "    \n",
    "    # Store model performance metrics in Python3 dict-\n",
    "    train_history[epoch] = {\n",
    "        'train_recon_loss': recon_train_loss,\n",
    "        'train_topo_loss': topo_train_loss,\n",
    "        'test_recon_loss': recon_test_loss\n",
    "    }\n",
    "    \n",
    "    print(f\"Epoch = {epoch}; train MSE loss = {recon_train_loss:.6f}, \",\n",
    "          f\" topo loss = {gamma * topo_train_loss:.6f}, test MSE loss = {recon_test_loss:.6f},\"\n",
    "          f\" L2-norm = {torch.norm(input = model.som.som_wts.weight, p = p_norm).item():.6f}\"\n",
    "          f\"; sigma_curr_val = {curr_sigma_val:.7f}\"\n",
    "         )\n",
    "\n",
    "    if recon_test_loss < best_test_loss:\n",
    "        best_test_loss = recon_test_loss\n",
    "        print(f\"Saving model with lowest test_loss = {recon_test_loss:.6f}\\n\")\n",
    "        \n",
    "        # Save trained model with 'best' validation accuracy-\n",
    "        torch.save(model.state_dict(), \"DESOM_MNIST_best_model.pth\")\n",
    " "
   ]
  },
  {
   "cell_type": "code",
   "execution_count": null,
   "id": "be6c2342-f022-4bdc-92c3-d141ce29cf6c",
   "metadata": {},
   "outputs": [],
   "source": []
  },
  {
   "cell_type": "code",
   "execution_count": null,
   "id": "bc5ebe0e-03e4-4f82-8fa0-23c6905d1cd6",
   "metadata": {},
   "outputs": [],
   "source": []
  },
  {
   "cell_type": "code",
   "execution_count": 27,
   "id": "ab4dfe05-6b01-4443-aa7a-c004206d6246",
   "metadata": {},
   "outputs": [],
   "source": [
    "with open(\"DESOM_MNIST_train_history.pkl\", \"wb\") as file:\n",
    "    pickle.dump(train_history, file)\n",
    "del file"
   ]
  },
  {
   "cell_type": "code",
   "execution_count": null,
   "id": "4edef204-1baf-4770-8569-70b50d865a69",
   "metadata": {},
   "outputs": [],
   "source": []
  },
  {
   "cell_type": "code",
   "execution_count": null,
   "id": "3d175a9b-7738-41ec-b069-eeab6acd6f33",
   "metadata": {},
   "outputs": [],
   "source": []
  },
  {
   "cell_type": "code",
   "execution_count": 28,
   "id": "079ca60d-14c2-412f-b0ef-9ba3ee0dc593",
   "metadata": {},
   "outputs": [
    {
     "data": {
      "image/png": "[encoded data removed]",
      "text/plain": [
       "<Figure size 900x900 with 1 Axes>"
      ]
     },
     "metadata": {},
     "output_type": "display_data"
    }
   ],
   "source": [
    "plt.figure(figsize = (9, 9))\n",
    "plt.plot(list(train_history[e]['train_recon_loss'] for e in train_history.keys()), label = 'train MSE')\n",
    "plt.plot(list(train_history[e]['test_recon_loss'] for e in train_history.keys()), label = 'test MSE')\n",
    "plt.xlabel(\"epochs\")\n",
    "plt.ylabel(\"loss\")\n",
    "plt.legend(loc = \"best\")\n",
    "plt.show()"
   ]
  },
  {
   "cell_type": "code",
   "execution_count": 29,
   "id": "ec44257d-5dbc-4057-a531-10fd5be60df0",
   "metadata": {},
   "outputs": [
    {
     "data": {
      "image/png": "[encoded data removed]",
      "text/plain": [
       "<Figure size 900x900 with 1 Axes>"
      ]
     },
     "metadata": {},
     "output_type": "display_data"
    }
   ],
   "source": [
    "plt.figure(figsize = (9, 9))\n",
    "plt.plot(list(train_history[e]['train_topo_loss'] * gamma for e in train_history.keys()))\n",
    "plt.xlabel(\"epochs\")\n",
    "plt.ylabel(\"loss\")\n",
    "plt.title(\"Train Topographic Loss\")\n",
    "plt.show()"
   ]
  },
  {
   "cell_type": "code",
   "execution_count": null,
   "id": "194b68bb-8da9-421c-9a77-7cc6c760c9f4",
   "metadata": {},
   "outputs": [],
   "source": []
  },
  {
   "cell_type": "code",
   "execution_count": null,
   "id": "a164c81f-1b05-4622-a019-58a09643786e",
   "metadata": {},
   "outputs": [],
   "source": []
  },
  {
   "cell_type": "code",
   "execution_count": 30,
   "id": "f4b01bea-36d7-4929-b1dc-59e49dbcec10",
   "metadata": {},
   "outputs": [],
   "source": [
    "x, _ = next(iter(test_loader))\n",
    "x = x.to(device)"
   ]
  },
  {
   "cell_type": "code",
   "execution_count": 31,
   "id": "96fa4d80-0407-4f48-b0c4-48de73cf8a23",
   "metadata": {},
   "outputs": [],
   "source": [
    "_, x_recon = model(x)"
   ]
  },
  {
   "cell_type": "code",
   "execution_count": null,
   "id": "d2e7b651-9a37-4fbd-aa04-7bca9e7fd7b3",
   "metadata": {},
   "outputs": [],
   "source": []
  },
  {
   "cell_type": "code",
   "execution_count": 32,
   "id": "a29ca220-fdb3-4aea-b3ec-08251e1de492",
   "metadata": {},
   "outputs": [
    {
     "data": {
      "image/png": "[encoded data removed]",
      "text/plain": [
       "<Figure size 900x900 with 50 Axes>"
      ]
     },
     "metadata": {},
     "output_type": "display_data"
    }
   ],
   "source": [
    "# Visualize 50 images from training set-\n",
    "plt.figure(figsize = (9, 9))\n",
    "for i in range(50):\n",
    "    # 5 rows & 10 columns-\n",
    "    plt.subplot(5, 10, i + 1)\n",
    "    # plt.imshow(images[i], cmap = 'gray')\n",
    "    # 0 to access first channel-\n",
    "    plt.imshow(x.detach().cpu().numpy()[i][0], cmap = 'gray')\n",
    "    \n",
    "plt.suptitle(\"GT MNIST test images\")\n",
    "plt.show()"
   ]
  },
  {
   "cell_type": "code",
   "execution_count": 33,
   "id": "21aaab00-266c-4aee-b65b-7452309db2ad",
   "metadata": {},
   "outputs": [
    {
     "data": {
      "image/png": "[encoded data removed]",
      "text/plain": [
       "<Figure size 900x900 with 50 Axes>"
      ]
     },
     "metadata": {},
     "output_type": "display_data"
    }
   ],
   "source": [
    "# Visualize 50 images from training set-\n",
    "plt.figure(figsize = (9, 9))\n",
    "for i in range(50):\n",
    "    # 5 rows & 10 columns-\n",
    "    plt.subplot(5, 10, i + 1)\n",
    "    # plt.imshow(images[i], cmap = 'gray')\n",
    "    # 0 to access first channel-\n",
    "    plt.imshow(x_recon.detach().cpu().numpy()[i][0], cmap = 'gray')\n",
    "    \n",
    "plt.suptitle(\"Recon MNIST test images\")\n",
    "plt.show()"
   ]
  },
  {
   "cell_type": "code",
   "execution_count": 34,
   "id": "68f6fd92-5d04-4edb-9160-787ff0a1bafb",
   "metadata": {},
   "outputs": [],
   "source": [
    "del x, x_recon"
   ]
  },
  {
   "cell_type": "code",
   "execution_count": null,
   "id": "8ff12299-5a6f-4113-b2c9-e23c6ad48827",
   "metadata": {},
   "outputs": [],
   "source": []
  },
  {
   "cell_type": "code",
   "execution_count": 48,
   "id": "8a5d6b1d-7ce0-4185-873c-f142d3e6a4af",
   "metadata": {},
   "outputs": [],
   "source": [
    "x, _ = next(iter(test_loader))\n",
    "x = x.to(device)"
   ]
  },
  {
   "cell_type": "code",
   "execution_count": 49,
   "id": "1b6fb26a-c2c3-4176-9a9b-e2c0aef39bbf",
   "metadata": {},
   "outputs": [],
   "source": [
    "z, _ = model(x)"
   ]
  },
  {
   "cell_type": "code",
   "execution_count": 50,
   "id": "ad53b12e-42c9-45a1-a796-39db1a6fe607",
   "metadata": {},
   "outputs": [],
   "source": [
    "l2_dist_z_soms = torch.cdist(x1 = z, x2 = model.som.som_wts.weight, p = p_norm)\n",
    "mindist, bmu_indices = torch.min(l2_dist_z_soms, -1)\n",
    "bmu_locations = locations[bmu_indices]"
   ]
  },
  {
   "cell_type": "code",
   "execution_count": 51,
   "id": "3a66fa31-3bad-4a30-baf9-af7c393ff3a8",
   "metadata": {},
   "outputs": [
    {
     "data": {
      "text/plain": [
       "(torch.Size([1024, 2]), torch.Size([1024]))"
      ]
     },
     "execution_count": 51,
     "metadata": {},
     "output_type": "execute_result"
    }
   ],
   "source": [
    "bmu_locations.shape, bmu_indices.shape"
   ]
  },
  {
   "cell_type": "code",
   "execution_count": 53,
   "id": "49fcee47-f73a-4345-891a-3ef4ff61ed02",
   "metadata": {},
   "outputs": [],
   "source": [
    "vals, cnts = np.unique(ar = bmu_indices.detach().cpu().numpy(), return_counts = True)"
   ]
  },
  {
   "cell_type": "code",
   "execution_count": null,
   "id": "40cc91f5-d978-40b1-811d-964c46e41559",
   "metadata": {},
   "outputs": [],
   "source": []
  },
  {
   "cell_type": "code",
   "execution_count": 55,
   "id": "71bb7347-1af6-43a2-95f5-c8e6d4876564",
   "metadata": {},
   "outputs": [
    {
     "name": "stderr",
     "output_type": "stream",
     "text": [
      "/home/majumdar/anaconda3/envs/lightning_cuda/lib/python3.11/site-packages/seaborn/_oldcore.py:1498: FutureWarning: is_categorical_dtype is deprecated and will be removed in a future version. Use isinstance(dtype, CategoricalDtype) instead\n",
      "  if pd.api.types.is_categorical_dtype(vector):\n",
      "/home/majumdar/anaconda3/envs/lightning_cuda/lib/python3.11/site-packages/seaborn/_oldcore.py:1498: FutureWarning: is_categorical_dtype is deprecated and will be removed in a future version. Use isinstance(dtype, CategoricalDtype) instead\n",
      "  if pd.api.types.is_categorical_dtype(vector):\n",
      "/home/majumdar/anaconda3/envs/lightning_cuda/lib/python3.11/site-packages/seaborn/_oldcore.py:1119: FutureWarning: use_inf_as_na option is deprecated and will be removed in a future version. Convert inf values to NaN before operating instead.\n",
      "  with pd.option_context('mode.use_inf_as_na', True):\n",
      "/home/majumdar/anaconda3/envs/lightning_cuda/lib/python3.11/site-packages/seaborn/_oldcore.py:1119: FutureWarning: use_inf_as_na option is deprecated and will be removed in a future version. Convert inf values to NaN before operating instead.\n",
      "  with pd.option_context('mode.use_inf_as_na', True):\n"
     ]
    },
    {
     "data": {
      "image/png": "[encoded data removed]",
      "text/plain": [
       "<Figure size 500x500 with 1 Axes>"
      ]
     },
     "metadata": {},
     "output_type": "display_data"
    }
   ],
   "source": [
    "sns.displot(x = vals, y = cnts)\n",
    "plt.show()"
   ]
  },
  {
   "cell_type": "code",
   "execution_count": null,
   "id": "53dac1c6-6082-414e-aae2-0124abc8ac07",
   "metadata": {},
   "outputs": [],
   "source": []
  },
  {
   "cell_type": "code",
   "execution_count": null,
   "id": "d5ec4158-0676-4646-b15b-a8a6ad936ac3",
   "metadata": {},
   "outputs": [],
   "source": []
  },
  {
   "cell_type": "code",
   "execution_count": null,
   "id": "2281ac4c-5679-468f-8106-3e18e91b6213",
   "metadata": {},
   "outputs": [],
   "source": []
  },
  {
   "cell_type": "code",
   "execution_count": 38,
   "id": "68f33a85-44c5-4dbb-92c9-21c0a921ee19",
   "metadata": {},
   "outputs": [
    {
     "name": "stdout",
     "output_type": "stream",
     "text": [
      "i = 0, shape: torch.Size([16, 1, 4, 4])\n",
      "i = 1, shape: torch.Size([16])\n",
      "i = 2, shape: torch.Size([32, 16, 4, 4])\n",
      "i = 3, shape: torch.Size([32])\n",
      "i = 4, shape: torch.Size([100, 1568])\n",
      "i = 5, shape: torch.Size([100])\n",
      "i = 6, shape: torch.Size([50, 100])\n",
      "i = 7, shape: torch.Size([50])\n",
      "i = 8, shape: torch.Size([100, 50])\n",
      "i = 9, shape: torch.Size([100])\n",
      "i = 10, shape: torch.Size([1568, 100])\n",
      "i = 11, shape: torch.Size([1568])\n",
      "i = 12, shape: torch.Size([32, 16, 4, 4])\n",
      "i = 13, shape: torch.Size([16])\n",
      "i = 14, shape: torch.Size([16, 1, 4, 4])\n",
      "i = 15, shape: torch.Size([1])\n",
      "i = 16, shape: torch.Size([400, 50])\n"
     ]
    }
   ],
   "source": [
    "i = 0\n",
    "for param in model.parameters():\n",
    "    print(f\"i = {i}, shape: {param.shape}\")\n",
    "    i += 1\n",
    "del param"
   ]
  },
  {
   "cell_type": "code",
   "execution_count": 35,
   "id": "0fbc0981-2663-489b-9052-e4a29d93b428",
   "metadata": {},
   "outputs": [],
   "source": [
    "som_trained_wts = list(model.parameters())[16]"
   ]
  },
  {
   "cell_type": "code",
   "execution_count": 36,
   "id": "0e36134c-482b-40f5-b6b0-e42a40365651",
   "metadata": {},
   "outputs": [
    {
     "data": {
      "text/plain": [
       "(-0.14141587913036346, 0.14140239357948303)"
      ]
     },
     "execution_count": 36,
     "metadata": {},
     "output_type": "execute_result"
    }
   ],
   "source": [
    "som_trained_wts.min().item(), som_trained_wts.max().item()"
   ]
  },
  {
   "cell_type": "code",
   "execution_count": 37,
   "id": "95593145-7637-457e-b016-dd8948786de2",
   "metadata": {},
   "outputs": [
    {
     "data": {
      "text/plain": [
       "(-0.14141587913036346, 0.14140239357948303)"
      ]
     },
     "execution_count": 37,
     "metadata": {},
     "output_type": "execute_result"
    }
   ],
   "source": [
    "model.som.som_wts.weight.min().item(), model.som.som_wts.weight.max().item()"
   ]
  },
  {
   "cell_type": "code",
   "execution_count": 38,
   "id": "37a6845f-23a1-4024-8db4-815271a0c4ff",
   "metadata": {},
   "outputs": [
    {
     "data": {
      "text/plain": [
       "True"
      ]
     },
     "execution_count": 38,
     "metadata": {},
     "output_type": "execute_result"
    }
   ],
   "source": [
    "model.som.som_wts.weight.requires_grad"
   ]
  },
  {
   "cell_type": "code",
   "execution_count": null,
   "id": "f22e0eb6-c73f-4758-9288-7508ef0103c4",
   "metadata": {},
   "outputs": [],
   "source": []
  },
  {
   "cell_type": "code",
   "execution_count": null,
   "id": "087af5e8-b95d-4591-97a2-04cfb91eb530",
   "metadata": {},
   "outputs": [],
   "source": []
  },
  {
   "cell_type": "code",
   "execution_count": null,
   "id": "eb9ae80e-4161-47a5-98dc-4ec33b90c84d",
   "metadata": {},
   "outputs": [],
   "source": []
  },
  {
   "cell_type": "code",
   "execution_count": 40,
   "id": "385acbdc-68c5-41af-9484-9eed55b27049",
   "metadata": {},
   "outputs": [
    {
     "data": {
      "text/plain": [
       "torch.Size([400, 50])"
      ]
     },
     "execution_count": 40,
     "metadata": {},
     "output_type": "execute_result"
    }
   ],
   "source": [
    "# model.som.embedding.weight.shape\n",
    "model.som.som_wts.weight.shape"
   ]
  },
  {
   "cell_type": "code",
   "execution_count": 43,
   "id": "1ac21d46-e83c-4883-a5fe-450af0d53368",
   "metadata": {},
   "outputs": [],
   "source": [
    "# som_trained_wts = model.som.embedding.weight.detach().cpu()"
   ]
  },
  {
   "cell_type": "code",
   "execution_count": 41,
   "id": "91c37742-8d41-43af-800c-f070df5aeb3b",
   "metadata": {},
   "outputs": [],
   "source": [
    "som_trained_wts = som_trained_wts.view(som_height, som_height, -1)"
   ]
  },
  {
   "cell_type": "code",
   "execution_count": 42,
   "id": "3a7f268c-2120-4ad8-955e-17e7cf17a717",
   "metadata": {},
   "outputs": [
    {
     "data": {
      "text/plain": [
       "torch.Size([20, 20, 50])"
      ]
     },
     "execution_count": 42,
     "metadata": {},
     "output_type": "execute_result"
    }
   ],
   "source": [
    "som_trained_wts.shape"
   ]
  },
  {
   "cell_type": "code",
   "execution_count": null,
   "id": "ba69c941-1064-4b88-92f9-c00fdd5a25ce",
   "metadata": {},
   "outputs": [],
   "source": []
  },
  {
   "cell_type": "code",
   "execution_count": 44,
   "id": "c3e86fbe-e602-4373-89ab-9838952d44eb",
   "metadata": {},
   "outputs": [
    {
     "data": {
      "image/png": "[encoded data removed]",
      "text/plain": [
       "<Figure size 1000x1000 with 2 Axes>"
      ]
     },
     "metadata": {},
     "output_type": "display_data"
    }
   ],
   "source": [
    "plt.figure(figsize = (10, 10))\n",
    "# plt.imshow(torch.norm(input = som_trained_wts, p = 'fro', dim = 2), cmap = 'cividis')\n",
    "sns.heatmap(data = torch.norm(input = som_trained_wts.detach().cpu(), p = 'fro', dim = 2))\n",
    "plt.title(\"Trained SOM\")\n",
    "plt.show()"
   ]
  },
  {
   "cell_type": "code",
   "execution_count": null,
   "id": "56281574-95e7-4882-ab31-7a44400db91f",
   "metadata": {},
   "outputs": [],
   "source": []
  },
  {
   "cell_type": "code",
   "execution_count": 47,
   "id": "51c04c95-9764-437a-874a-021b4c4bcd06",
   "metadata": {},
   "outputs": [
    {
     "data": {
      "text/plain": [
       "tensor(False)"
      ]
     },
     "execution_count": 47,
     "metadata": {},
     "output_type": "execute_result"
    }
   ],
   "source": [
    "torch.all(som_trained_wts[0, 0] == som_trained_wts[0, 10])"
   ]
  },
  {
   "cell_type": "code",
   "execution_count": 56,
   "id": "3238b216-1803-4c79-9ad0-5845c895700c",
   "metadata": {},
   "outputs": [],
   "source": [
    "z = som_trained_wts[14, 14]"
   ]
  },
  {
   "cell_type": "code",
   "execution_count": 57,
   "id": "06d36fc0-0658-45b5-8158-edbbefd79157",
   "metadata": {},
   "outputs": [],
   "source": [
    "z = z.view(1, -1).to(device)"
   ]
  },
  {
   "cell_type": "code",
   "execution_count": 58,
   "id": "9d3c22d8-2f44-4194-9d05-b0a2dcc97317",
   "metadata": {},
   "outputs": [],
   "source": [
    "recon = model.decoder(z)"
   ]
  },
  {
   "cell_type": "code",
   "execution_count": 59,
   "id": "4902528e-9497-42e8-be06-deb3e6ee3638",
   "metadata": {},
   "outputs": [
    {
     "data": {
      "text/plain": [
       "torch.Size([1, 1, 28, 28])"
      ]
     },
     "execution_count": 59,
     "metadata": {},
     "output_type": "execute_result"
    }
   ],
   "source": [
    "recon.shape"
   ]
  },
  {
   "cell_type": "code",
   "execution_count": 60,
   "id": "93707c68-3d23-49b6-9c1c-926c04d5ab19",
   "metadata": {},
   "outputs": [],
   "source": [
    "recon = torch.permute(recon, (0, 2, 3, 1))"
   ]
  },
  {
   "cell_type": "code",
   "execution_count": 61,
   "id": "aead7add-953a-42f7-8721-7bf2b5f69869",
   "metadata": {},
   "outputs": [
    {
     "data": {
      "text/plain": [
       "torch.Size([1, 28, 28, 1])"
      ]
     },
     "execution_count": 61,
     "metadata": {},
     "output_type": "execute_result"
    }
   ],
   "source": [
    "recon.shape"
   ]
  },
  {
   "cell_type": "code",
   "execution_count": 62,
   "id": "fccfcaca-f64a-41dd-9e34-01524cc3c31b",
   "metadata": {},
   "outputs": [
    {
     "data": {
      "image/png": "[encoded data removed]",
      "text/plain": [
       "<Figure size 640x480 with 1 Axes>"
      ]
     },
     "metadata": {},
     "output_type": "display_data"
    }
   ],
   "source": [
    "plt.imshow(recon[0].detach().cpu())\n",
    "plt.show()"
   ]
  },
  {
   "cell_type": "code",
   "execution_count": null,
   "id": "a8d6cede-bd03-4df0-8dbc-4f605495eebe",
   "metadata": {},
   "outputs": [],
   "source": []
  },
  {
   "cell_type": "code",
   "execution_count": null,
   "id": "86ea0396-ed0f-439b-8588-e5b2e11a65ec",
   "metadata": {},
   "outputs": [],
   "source": []
  },
  {
   "cell_type": "code",
   "execution_count": null,
   "id": "6ce1ed54-71bb-4e58-ba53-c2861fca556f",
   "metadata": {},
   "outputs": [],
   "source": []
  },
  {
   "cell_type": "code",
   "execution_count": null,
   "id": "cfb41575-508a-40a0-8691-e1539af848b6",
   "metadata": {},
   "outputs": [],
   "source": []
  }
 ],
 "metadata": {
  "kernelspec": {
   "display_name": "Python 3 (ipykernel)",
   "language": "python",
   "name": "python3"
  },
  "language_info": {
   "codemirror_mode": {
    "name": "ipython",
    "version": 3
   },
   "file_extension": ".py",
   "mimetype": "text/x-python",
   "name": "python",
   "nbconvert_exporter": "python",
   "pygments_lexer": "ipython3",
   "version": "3.11.4"
  }
 },
 "nbformat": 4,
 "nbformat_minor": 5
}
