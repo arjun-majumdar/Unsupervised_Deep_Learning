{
 "cells": [
  {
   "cell_type": "markdown",
   "id": "27933af8-d7af-4a1c-9e40-97d0a45caf1e",
   "metadata": {},
   "source": [
    "# MoCo-v2: Linear Probing - STL-10 + ResNet-50 CNN encoder\n",
    "\n",
    "#### Single GPU Training"
   ]
  },
  {
   "cell_type": "code",
   "execution_count": 1,
   "id": "19ae472f-c435-4791-b014-e4a80a84c52c",
   "metadata": {},
   "outputs": [],
   "source": [
    "import pickle, os\n",
    "import torch\n",
    "import torch.nn as nn\n",
    "import torch.nn.functional as F\n",
    "import numpy as np\n",
    "from tqdm import tqdm, trange\n",
    "import matplotlib.pyplot as plt\n",
    "\n",
    "from stl10_train_dataset import get_stl10_train_test_data\n",
    "from movov2_architecture_multigpu import MoCo, resnet50_stl10"
   ]
  },
  {
   "cell_type": "code",
   "execution_count": null,
   "id": "4e23c301-c57c-4869-a10b-b586621cd6c6",
   "metadata": {},
   "outputs": [],
   "source": []
  },
  {
   "cell_type": "code",
   "execution_count": null,
   "id": "8951de24-ec3b-423c-bdcc-254868b43922",
   "metadata": {},
   "outputs": [],
   "source": []
  },
  {
   "cell_type": "code",
   "execution_count": 2,
   "id": "4129cfb1-4631-4edb-a12c-491d8701913f",
   "metadata": {},
   "outputs": [
    {
     "name": "stdout",
     "output_type": "stream",
     "text": [
      "torch version: 2.0.1+cu117\n",
      "Number of GPU(s) available = 8\n",
      "Current GPU: 0\n",
      "Current GPU name: NVIDIA GeForce RTX 3090\n",
      "Available device is cuda\n"
     ]
    }
   ],
   "source": [
    "print(f\"torch version: {torch.__version__}\")\n",
    "\n",
    "# Check if there are multiple devices (i.e., GPU cards)-\n",
    "print(f\"Number of GPU(s) available = {torch.cuda.device_count()}\")\n",
    "\n",
    "if torch.cuda.is_available():\n",
    "    print(f\"Current GPU: {torch.cuda.current_device()}\")\n",
    "    print(f\"Current GPU name: {torch.cuda.get_device_name(torch.cuda.current_device())}\")\n",
    "else:\n",
    "    print(\"PyTorch does not have access to GPU\")\n",
    "\n",
    "# Device configuration-\n",
    "device = torch.device('cuda' if torch.cuda.is_available() else 'cpu')\n",
    "print(f'Available device is {device}')"
   ]
  },
  {
   "cell_type": "code",
   "execution_count": null,
   "id": "83d6a539-37b0-4c7e-a73a-d0f4e5eeba6e",
   "metadata": {},
   "outputs": [],
   "source": []
  },
  {
   "cell_type": "code",
   "execution_count": null,
   "id": "18050c1b-1c2c-43df-af66-9fda4dc6f17a",
   "metadata": {},
   "outputs": [],
   "source": []
  },
  {
   "cell_type": "markdown",
   "id": "d7f7ce4a-10e5-4c61-838b-e1c937cf182e",
   "metadata": {},
   "source": [
    "#### Load DDP saved model\n",
    "\n",
    "having ```module``` in it!\n",
    "\n",
    "[refer](https://stackoverflow.com/questions/70386800/what-is-the-proper-way-to-checkpoint-during-training-when-using-distributed-data)"
   ]
  },
  {
   "cell_type": "code",
   "execution_count": 3,
   "id": "832bca12-2f3f-4b5a-bf8a-ba28508e9e8d",
   "metadata": {},
   "outputs": [],
   "source": [
    "saved_model = torch.load(\"mocov2_stl10_best_trainloss.pth\")"
   ]
  },
  {
   "cell_type": "code",
   "execution_count": 4,
   "id": "dfe6901c-2b67-44a4-9edf-b87970303919",
   "metadata": {},
   "outputs": [],
   "source": [
    "from collections import OrderedDict\n",
    "\n",
    "new_state_dict = OrderedDict()\n",
    "\n",
    "for k, v in saved_model.items():\n",
    "    name = k[7:]\n",
    "    new_state_dict[name] = v"
   ]
  },
  {
   "cell_type": "code",
   "execution_count": 5,
   "id": "129706b3-68c7-4bf1-8798-b4eb5b3da2de",
   "metadata": {},
   "outputs": [
    {
     "data": {
      "text/plain": [
       "<All keys matched successfully>"
      ]
     },
     "execution_count": 5,
     "metadata": {},
     "output_type": "execute_result"
    }
   ],
   "source": [
    "# Initialize MoCo instance-\n",
    "moco = MoCo(\n",
    "    # rank = rank,\n",
    "    embed_dim = 128, K = 65536,\n",
    "    m = 0.999, T = 0.2\n",
    ")\n",
    "\n",
    "moco.load_state_dict(new_state_dict)"
   ]
  },
  {
   "cell_type": "code",
   "execution_count": null,
   "id": "24c00e8b-1572-486a-a80c-ff1aec3ace16",
   "metadata": {},
   "outputs": [],
   "source": [
    "# Initialize a new ResNet-50 CNN encoder (query encoder)-\n",
    "model = resnet50_stl10(embed_dim = 128)"
   ]
  },
  {
   "cell_type": "code",
   "execution_count": null,
   "id": "3ec9d843-eee9-4d7a-a9d1-a0723f0b63a7",
   "metadata": {},
   "outputs": [],
   "source": [
    "# Load pre-trained query encoder params-\n",
    "model.load_state_dict(moco.encoder_query.state_dict())"
   ]
  },
  {
   "cell_type": "code",
   "execution_count": 8,
   "id": "8a8dab86-7054-4290-9a0b-96baf4684b08",
   "metadata": {},
   "outputs": [
    {
     "data": {
      "text/plain": [
       "Sequential(\n",
       "  (0): Linear(in_features=2048, out_features=2048, bias=False)\n",
       "  (1): BatchNorm1d(2048, eps=1e-05, momentum=0.1, affine=True, track_running_stats=True)\n",
       "  (2): ReLU()\n",
       "  (3): Linear(in_features=2048, out_features=128, bias=True)\n",
       ")"
      ]
     },
     "execution_count": 8,
     "metadata": {},
     "output_type": "execute_result"
    }
   ],
   "source": [
    "model.fc"
   ]
  },
  {
   "cell_type": "code",
   "execution_count": 9,
   "id": "2553aa75-26cb-4c88-9ef2-3cd7a41f3913",
   "metadata": {},
   "outputs": [],
   "source": [
    "# Remove projection head and add linear classifier-\n",
    "model.fc = nn.Linear(in_features = 2048, out_features = 10, bias = True)"
   ]
  },
  {
   "cell_type": "code",
   "execution_count": 10,
   "id": "012c9ba6-9f08-4b1e-86d7-282ea0a046ae",
   "metadata": {},
   "outputs": [
    {
     "data": {
      "text/plain": [
       "tensor([0., 0., 0., 0., 0., 0., 0., 0., 0., 0.])"
      ]
     },
     "execution_count": 10,
     "metadata": {},
     "output_type": "execute_result"
    }
   ],
   "source": [
    "# Initialize dense layer-\n",
    "model.fc.weight.data.normal_(mean = 0.0, std = 0.01)\n",
    "model.fc.bias.data.zero_()"
   ]
  },
  {
   "cell_type": "code",
   "execution_count": 11,
   "id": "1570610e-80b5-4728-a66b-b0e387b83e35",
   "metadata": {},
   "outputs": [
    {
     "data": {
      "text/plain": [
       "Linear(in_features=2048, out_features=10, bias=True)"
      ]
     },
     "execution_count": 11,
     "metadata": {},
     "output_type": "execute_result"
    }
   ],
   "source": [
    "# Sanity check-\n",
    "model.fc"
   ]
  },
  {
   "cell_type": "code",
   "execution_count": 12,
   "id": "021e4f14-0dd5-4f1d-931f-bc333ad2342f",
   "metadata": {},
   "outputs": [],
   "source": [
    "del moco"
   ]
  },
  {
   "cell_type": "code",
   "execution_count": 13,
   "id": "7ff29719-9f47-4b08-b743-9dd364c8875b",
   "metadata": {},
   "outputs": [],
   "source": [
    "# Save pre-trained MoCo-v2 ResNet-50 CNN query encoder-\n",
    "torch.save(model.state_dict(), \"MoCov2_ResNet50_pretrained_query_encoder.pth\")"
   ]
  },
  {
   "cell_type": "code",
   "execution_count": null,
   "id": "f4ff6e4b-619d-4bbe-9b9a-b2b7fb47a284",
   "metadata": {},
   "outputs": [],
   "source": []
  },
  {
   "cell_type": "code",
   "execution_count": 5,
   "id": "8176db08-6db8-4780-819c-a79ee3676589",
   "metadata": {},
   "outputs": [],
   "source": [
    "# Initialize a new ResNet-50 CNN encoder (query encoder)-\n",
    "model = resnet50_stl10(embed_dim = 128)"
   ]
  },
  {
   "cell_type": "code",
   "execution_count": 6,
   "id": "b538af73-6ec7-4982-9a52-306bc199a664",
   "metadata": {},
   "outputs": [],
   "source": [
    "# Remove projection head and add linear classifier-\n",
    "model.fc = nn.Linear(in_features = 2048, out_features = 10, bias = True)"
   ]
  },
  {
   "cell_type": "code",
   "execution_count": 7,
   "id": "4722b671-65c4-4ca1-9fa6-4e59b27bf35b",
   "metadata": {},
   "outputs": [
    {
     "data": {
      "text/plain": [
       "tensor([0., 0., 0., 0., 0., 0., 0., 0., 0., 0.])"
      ]
     },
     "execution_count": 7,
     "metadata": {},
     "output_type": "execute_result"
    }
   ],
   "source": [
    "# Initialize dense layer-\n",
    "model.fc.weight.data.normal_(mean = 0.0, std = 0.01)\n",
    "model.fc.bias.data.zero_()"
   ]
  },
  {
   "cell_type": "code",
   "execution_count": 8,
   "id": "c91d97bd-64e1-4feb-b652-2ae3103bd771",
   "metadata": {},
   "outputs": [
    {
     "data": {
      "text/plain": [
       "<All keys matched successfully>"
      ]
     },
     "execution_count": 8,
     "metadata": {},
     "output_type": "execute_result"
    }
   ],
   "source": [
    "model.load_state_dict(torch.load(\"MoCov2_ResNet50_pretrained_query_encoder.pth\"))"
   ]
  },
  {
   "cell_type": "code",
   "execution_count": null,
   "id": "3d797e47-3dc8-427b-b327-24a8b6c28da8",
   "metadata": {},
   "outputs": [],
   "source": []
  },
  {
   "cell_type": "code",
   "execution_count": null,
   "id": "77ae816f-dd46-4d91-85fc-a831c0e6276a",
   "metadata": {},
   "outputs": [],
   "source": []
  },
  {
   "cell_type": "code",
   "execution_count": 9,
   "id": "41a4ab0e-7f73-4545-a500-ea69aef7b09d",
   "metadata": {},
   "outputs": [],
   "source": [
    "# Freeze all layers except linear output layer-\n",
    "for name, param in model.named_parameters():\n",
    "    if name not in [\"fc.weight\", \"fc.bias\"]:\n",
    "        param.requires_grad = False"
   ]
  },
  {
   "cell_type": "code",
   "execution_count": 29,
   "id": "f974c323-ecfc-4114-8d18-f0c2a4840401",
   "metadata": {},
   "outputs": [
    {
     "data": {
      "text/plain": [
       "False"
      ]
     },
     "execution_count": 29,
     "metadata": {},
     "output_type": "execute_result"
    }
   ],
   "source": [
    "# Sanity checks-\n",
    "model.layer1[0].conv1.weight.requires_grad"
   ]
  },
  {
   "cell_type": "code",
   "execution_count": 30,
   "id": "f86f8b26-394a-47d1-9048-ce205ae05f45",
   "metadata": {},
   "outputs": [
    {
     "data": {
      "text/plain": [
       "False"
      ]
     },
     "execution_count": 30,
     "metadata": {},
     "output_type": "execute_result"
    }
   ],
   "source": [
    "model.conv1.weight.requires_grad"
   ]
  },
  {
   "cell_type": "code",
   "execution_count": 31,
   "id": "cbca44c6-f2da-4685-94e8-8be90684ca54",
   "metadata": {},
   "outputs": [
    {
     "data": {
      "text/plain": [
       "False"
      ]
     },
     "execution_count": 31,
     "metadata": {},
     "output_type": "execute_result"
    }
   ],
   "source": [
    "model.layer4[2].conv2.weight.requires_grad"
   ]
  },
  {
   "cell_type": "code",
   "execution_count": 33,
   "id": "4a3bbac9-94e0-476a-a8a0-e880a3260223",
   "metadata": {},
   "outputs": [
    {
     "data": {
      "text/plain": [
       "True"
      ]
     },
     "execution_count": 33,
     "metadata": {},
     "output_type": "execute_result"
    }
   ],
   "source": [
    "model.fc.weight.requires_grad"
   ]
  },
  {
   "cell_type": "code",
   "execution_count": null,
   "id": "fca6a25c-29bc-4159-8b78-916c7247365c",
   "metadata": {},
   "outputs": [],
   "source": []
  },
  {
   "cell_type": "code",
   "execution_count": 10,
   "id": "8a70e30a-86d7-4810-b7a4-2efd7bd1dfa6",
   "metadata": {},
   "outputs": [
    {
     "name": "stdout",
     "output_type": "stream",
     "text": [
      "ResNet-50 CNN has 23520842 params\n"
     ]
    }
   ],
   "source": [
    "def count_trainable_params(model):\n",
    "    # Count number of layer-wise parameters and total parameters-\n",
    "    tot_params = 0\n",
    "    for param in model.parameters():\n",
    "        # print(f\"layer.shape = {param.shape} has {param.nelement()} parameters\")\n",
    "        tot_params += param.nelement()\n",
    "\n",
    "    return tot_params\n",
    "\n",
    "print(f\"ResNet-50 CNN has {count_trainable_params(model)} params\")"
   ]
  },
  {
   "cell_type": "code",
   "execution_count": null,
   "id": "c1590561-4d41-4a55-ae2c-c0817c058a01",
   "metadata": {},
   "outputs": [],
   "source": []
  },
  {
   "cell_type": "code",
   "execution_count": 11,
   "id": "f67237af-5ff8-441d-8708-4c6196a44b28",
   "metadata": {},
   "outputs": [],
   "source": [
    "# Move o GPU-\n",
    "model = model.to(device)"
   ]
  },
  {
   "cell_type": "code",
   "execution_count": null,
   "id": "c37da213-93f4-4d36-8532-356dc1d6eb48",
   "metadata": {},
   "outputs": [],
   "source": []
  },
  {
   "cell_type": "code",
   "execution_count": 12,
   "id": "6148033e-2e11-4b8c-971a-918a5aec645b",
   "metadata": {},
   "outputs": [
    {
     "data": {
      "text/plain": [
       "torch.Size([64, 3, 3, 3])"
      ]
     },
     "execution_count": 12,
     "metadata": {},
     "output_type": "execute_result"
    }
   ],
   "source": [
    "model.conv1.weight.size()"
   ]
  },
  {
   "cell_type": "code",
   "execution_count": 13,
   "id": "89bf9391-eaf2-4645-bb64-4d5f7abe9bca",
   "metadata": {},
   "outputs": [
    {
     "data": {
      "text/plain": [
       "tensor([[[-0.0104,  0.0309,  0.0765],\n",
       "         [ 0.0375,  0.1092, -0.1079],\n",
       "         [-0.1745, -0.1690, -0.0713]],\n",
       "\n",
       "        [[-0.0756,  0.0314, -0.1087],\n",
       "         [-0.0799,  0.0844,  0.0901],\n",
       "         [ 0.0130,  0.0384,  0.0684]],\n",
       "\n",
       "        [[-0.1145,  0.1433, -0.1626],\n",
       "         [ 0.0164, -0.0487,  0.1872],\n",
       "         [ 0.0933, -0.0349,  0.1369]]], device='cuda:0')"
      ]
     },
     "execution_count": 13,
     "metadata": {},
     "output_type": "execute_result"
    }
   ],
   "source": [
    "model.conv1.weight[0]"
   ]
  },
  {
   "cell_type": "code",
   "execution_count": null,
   "id": "ec6dd340-2be4-47f1-b868-de3b69bf0b0f",
   "metadata": {},
   "outputs": [],
   "source": [
    "model.conv1.weight[0]"
   ]
  },
  {
   "cell_type": "code",
   "execution_count": 14,
   "id": "be095a17-3425-4679-8ec2-bcad3af8d160",
   "metadata": {},
   "outputs": [
    {
     "data": {
      "text/plain": [
       "torch.Size([256, 64, 1, 1])"
      ]
     },
     "execution_count": 14,
     "metadata": {},
     "output_type": "execute_result"
    }
   ],
   "source": [
    "model.layer1[0].conv3.weight.size()"
   ]
  },
  {
   "cell_type": "code",
   "execution_count": 15,
   "id": "05ef89d3-f362-4f7c-8de2-fdf0db629399",
   "metadata": {},
   "outputs": [
    {
     "data": {
      "text/plain": [
       "tensor([[[ 0.0188]],\n",
       "\n",
       "        [[-0.0330]],\n",
       "\n",
       "        [[ 0.0241]]], device='cuda:0')"
      ]
     },
     "execution_count": 15,
     "metadata": {},
     "output_type": "execute_result"
    }
   ],
   "source": [
    "model.layer1[0].conv3.weight[0, :3, :, :]"
   ]
  },
  {
   "cell_type": "code",
   "execution_count": null,
   "id": "da615b90-f758-4186-826f-8ee4233eaad8",
   "metadata": {},
   "outputs": [],
   "source": [
    "model.layer1[0].conv3.weight[0, :3, :, :]"
   ]
  },
  {
   "cell_type": "code",
   "execution_count": 16,
   "id": "b7c3baa9-d5f1-4b5f-886b-5413ab780b2c",
   "metadata": {},
   "outputs": [
    {
     "data": {
      "text/plain": [
       "torch.Size([512, 512, 3, 3])"
      ]
     },
     "execution_count": 16,
     "metadata": {},
     "output_type": "execute_result"
    }
   ],
   "source": [
    "model.layer4[2].conv2.weight.size()"
   ]
  },
  {
   "cell_type": "code",
   "execution_count": 17,
   "id": "1d398801-9d1a-4a5f-b894-e10e63d4a375",
   "metadata": {},
   "outputs": [
    {
     "data": {
      "text/plain": [
       "tensor([[-0.0067,  0.0115, -0.0038],\n",
       "        [ 0.0073,  0.0115,  0.0009],\n",
       "        [-0.0148,  0.0261,  0.0006]], device='cuda:0')"
      ]
     },
     "execution_count": 17,
     "metadata": {},
     "output_type": "execute_result"
    }
   ],
   "source": [
    "model.layer4[2].conv2.weight[10, 100, :, :]"
   ]
  },
  {
   "cell_type": "code",
   "execution_count": null,
   "id": "d883ebf5-3807-4951-8183-2e95740406aa",
   "metadata": {},
   "outputs": [],
   "source": [
    "model.layer4[2].conv2.weight[10, 100, :, :]"
   ]
  },
  {
   "cell_type": "code",
   "execution_count": null,
   "id": "06f78f90-3052-4102-919e-3973e70d1afc",
   "metadata": {},
   "outputs": [],
   "source": []
  },
  {
   "cell_type": "code",
   "execution_count": null,
   "id": "2b209e80-91b1-4e03-989d-f12cfd43c79d",
   "metadata": {},
   "outputs": [],
   "source": []
  },
  {
   "cell_type": "code",
   "execution_count": 19,
   "id": "10e997e6-69fe-4825-a67e-734db4848aba",
   "metadata": {},
   "outputs": [],
   "source": [
    "# Define loss function and optimizer-\n",
    "loss = nn.CrossEntropyLoss()\n",
    "\n",
    "# Only train linear (output) layer-\n",
    "optimizer = torch.optim.SGD(\n",
    "    params = model.fc.parameters(), lr = 30.0,\n",
    "    momentum = 0.9, weight_decay = 0\n",
    ")"
   ]
  },
  {
   "cell_type": "code",
   "execution_count": null,
   "id": "0c128540-1eb0-4121-a6a5-78f96cdb92fc",
   "metadata": {},
   "outputs": [],
   "source": []
  },
  {
   "cell_type": "code",
   "execution_count": null,
   "id": "336b7a32-0fdc-499f-bfc6-ecd6e7ea5336",
   "metadata": {},
   "outputs": [],
   "source": [
    "class CosineScheduler:\n",
    "    def __init__(\n",
    "        self, max_update,\n",
    "        base_lr = 0.01, final_lr = 0,\n",
    "        warmup_steps = 0, warmup_begin_lr = 0\n",
    "    ):\n",
    "        self.base_lr_orig = base_lr\n",
    "        self.max_update = max_update\n",
    "        self.final_lr = final_lr\n",
    "        self.warmup_steps = warmup_steps\n",
    "        self.warmup_begin_lr = warmup_begin_lr\n",
    "        self.max_steps = self.max_update - self.warmup_steps\n",
    "\n",
    "\n",
    "    def get_warmup_lr(self, epoch):\n",
    "        increase = (self.base_lr_orig - self.warmup_begin_lr) \\\n",
    "                       * float(epoch) / float(self.warmup_steps)\n",
    "        return self.warmup_begin_lr + increase\n",
    "\n",
    "\n",
    "    def __call__(self, epoch):\n",
    "        if epoch < self.warmup_steps:\n",
    "            return self.get_warmup_lr(epoch)\n",
    "        if epoch <= self.max_update:\n",
    "            self.base_lr = self.final_lr + (\n",
    "                self.base_lr_orig - self.final_lr) * (1 + np.cos(\n",
    "                np.pi * (epoch - self.warmup_steps) / self.max_steps)) / 2\n",
    "        return self.base_lr\n"
   ]
  },
  {
   "cell_type": "code",
   "execution_count": null,
   "id": "82f62398-e28c-47c3-96a0-f79c0bf18852",
   "metadata": {},
   "outputs": [],
   "source": [
    "'''\n",
    "# Cosine lr scheduler-\n",
    "# decay until 90th epoch\n",
    "# 10 linear lr warmup epochs\n",
    "scheduler = CosineScheduler(\n",
    "    max_update = 90, base_lr = 30,\n",
    "    final_lr = 0.03, warmup_steps = 10,\n",
    "    warmup_begin_lr = 0.0001\n",
    ")\n",
    "'''"
   ]
  },
  {
   "cell_type": "code",
   "execution_count": null,
   "id": "91a51e15-aa5b-46da-9d4a-4a5477ea5a55",
   "metadata": {},
   "outputs": [],
   "source": [
    "'''\n",
    "lr_vals = [scheduler(epoch = epoch) for epoch in range(1, num_epochs + 1)]\n",
    "\n",
    "plt.figure(figsize = (12, 10))\n",
    "plt.plot(list(range(1, 101)), lr_vals)\n",
    "plt.xlabel(\"epochs\")\n",
    "plt.ylabel(\"lr\")\n",
    "plt.title(\"Linear Probing - LR scheduler\")\n",
    "plt.show()\n",
    "'''"
   ]
  },
  {
   "cell_type": "code",
   "execution_count": null,
   "id": "5c1e19f5-84e0-4567-ad90-7e42dacc3ebb",
   "metadata": {},
   "outputs": [],
   "source": []
  },
  {
   "cell_type": "code",
   "execution_count": null,
   "id": "53aaaf93-6b3b-4833-b0a5-49ca950f25f6",
   "metadata": {},
   "outputs": [],
   "source": []
  },
  {
   "cell_type": "markdown",
   "id": "06409ae1-cf38-4ad7-9629-577b806833b9",
   "metadata": {},
   "source": [
    "### Learning Rate scheduler\n",
    "\n",
    "As mentioned by authors in their official repo.\n",
    "\n",
    "__linear step-decays (by 1/10) at $60^{th}$ and $70^{th}$ epochs__.\n",
    "\n",
    "[refer](https://github.com/facebookresearch/moco/blob/main/main_lincls.py)"
   ]
  },
  {
   "cell_type": "code",
   "execution_count": 20,
   "id": "baf7f6e4-fa52-4c45-a70c-a53de5edcd5f",
   "metadata": {},
   "outputs": [],
   "source": [
    "step_decay_scheduler = [60, 80]"
   ]
  },
  {
   "cell_type": "code",
   "execution_count": 21,
   "id": "2af09806-8dcb-4278-bae3-20136ab0dfb0",
   "metadata": {},
   "outputs": [],
   "source": [
    "def adjust_learning_rate(optimizer, epoch, args):\n",
    "    \"\"\"Decay the learning rate based on schedule\"\"\"\n",
    "    # lr = args.lr\n",
    "    lr = 30.0\n",
    "    for milestone in args:\n",
    "        lr *= 0.1 if epoch >= milestone else 1.0\n",
    "        \n",
    "    for param_group in optimizer.param_groups:\n",
    "        param_group[\"lr\"] = lr\n"
   ]
  },
  {
   "cell_type": "code",
   "execution_count": null,
   "id": "0fbc2dc3-7ca7-4940-8d93-caffd84d4ce8",
   "metadata": {},
   "outputs": [],
   "source": []
  },
  {
   "cell_type": "code",
   "execution_count": 22,
   "id": "a3d12882-62a4-4bd0-8b20-4d4a55089373",
   "metadata": {},
   "outputs": [],
   "source": [
    "batch_size = 64\n",
    "num_epochs = 100"
   ]
  },
  {
   "cell_type": "code",
   "execution_count": null,
   "id": "aa72770b-fcc6-42ac-90fe-b1c078caf432",
   "metadata": {},
   "outputs": [],
   "source": []
  },
  {
   "cell_type": "code",
   "execution_count": null,
   "id": "8e109a3f-76c9-4a7e-9b30-a1b923f7c542",
   "metadata": {},
   "outputs": [],
   "source": []
  },
  {
   "cell_type": "markdown",
   "id": "d6bf0a7b-1f19-43eb-9a42-3eb63d3748d1",
   "metadata": {},
   "source": [
    "### STL-10 dataset - train & test"
   ]
  },
  {
   "cell_type": "code",
   "execution_count": 23,
   "id": "839e61db-09d4-4253-834b-e98fe156a3a7",
   "metadata": {},
   "outputs": [
    {
     "name": "stdout",
     "output_type": "stream",
     "text": [
      "Files already downloaded and verified\n",
      "Files already downloaded and verified\n"
     ]
    }
   ],
   "source": [
    "# Get STL-10 train and test (supervised classification) datasets-\n",
    "train_loader, test_loader, train_dataset, test_dataset = get_stl10_train_test_data(\n",
    "    path_dataset = '/home/majumdar/Downloads/.data/',\n",
    "    batch_size = batch_size\n",
    ")"
   ]
  },
  {
   "cell_type": "code",
   "execution_count": null,
   "id": "97711587-1929-408f-92aa-512069214054",
   "metadata": {},
   "outputs": [],
   "source": []
  },
  {
   "cell_type": "code",
   "execution_count": 24,
   "id": "c6b25db4-62b2-41da-a4bd-cda8b924e5fc",
   "metadata": {},
   "outputs": [],
   "source": [
    "def train_model_progress(model, train_loader, train_dataset):\n",
    "    '''\n",
    "    Function to perform one epoch of training by using 'train_loader'.\n",
    "    Returns loss and number of correct predictions for this epoch.\n",
    "    '''\n",
    "    running_loss = 0.0\n",
    "    running_corrects = 0.0\n",
    "    \n",
    "    model.train()\n",
    "    \n",
    "    with tqdm(train_loader, unit = 'batch') as tepoch:\n",
    "        for images, labels in tepoch:\n",
    "            tepoch.set_description(f\"Training: \")\n",
    "            \n",
    "            images = images.to(device)\n",
    "            labels = labels.to(device)\n",
    "            \n",
    "            # Get model predictions-\n",
    "            outputs = model(images)\n",
    "            \n",
    "            # Compute loss-\n",
    "            J = loss(outputs, labels)\n",
    "            \n",
    "            # Empty accumulated gradients-\n",
    "            optimizer.zero_grad()\n",
    "            \n",
    "            # Perform backprop-\n",
    "            J.backward()\n",
    "            \n",
    "            # Update parameters-\n",
    "            optimizer.step()\n",
    "            \n",
    "            # Compute model's performance statistics-\n",
    "            running_loss += J.item() * images.size(0)\n",
    "            _, predicted = torch.max(outputs, 1)\n",
    "            running_corrects += torch.sum(predicted == labels.data)\n",
    "            \n",
    "            tepoch.set_postfix(\n",
    "                loss = running_loss / len(train_dataset),\n",
    "                accuracy = (running_corrects.double().cpu().numpy() / len(train_dataset)) * 100\n",
    "            )\n",
    "            \n",
    "    \n",
    "    train_loss = running_loss / len(train_dataset)\n",
    "    train_acc = (running_corrects.double() / len(train_dataset)) * 100\n",
    "\n",
    "    # return running_loss, running_corrects\n",
    "    return train_loss, train_acc.cpu().numpy()\n",
    "\n",
    "\n",
    "def test_model_progress(model, test_loader, test_dataset):\n",
    "    total = 0.0\n",
    "    correct = 0.0\n",
    "    running_loss_val = 0.0\n",
    "\n",
    "    with torch.no_grad():\n",
    "        with tqdm(test_loader, unit = 'batch') as tepoch:\n",
    "            for images, labels in tepoch:\n",
    "                tepoch.set_description(f\"Validation: \")\n",
    "                \n",
    "                images = images.to(device)\n",
    "                labels = labels.to(device)\n",
    "                \n",
    "                # Set model to evaluation mode-\n",
    "                model.eval()\n",
    "            \n",
    "                # Predict using trained model-\n",
    "                outputs = model(images)\n",
    "                _, y_pred = torch.max(outputs, 1)\n",
    "                \n",
    "                # Compute validation loss-\n",
    "                J_val = loss(outputs, labels)\n",
    "                \n",
    "                running_loss_val += J_val.item() * labels.size(0)\n",
    "    \n",
    "                # Total number of labels-\n",
    "                total += labels.size(0)\n",
    "\n",
    "                # Total number of correct predictions-\n",
    "                correct += (y_pred == labels).sum()\n",
    "                \n",
    "                tepoch.set_postfix(\n",
    "                    val_loss = running_loss_val / len(test_dataset),\n",
    "                    val_acc = 100 * (correct.cpu().numpy() / total)\n",
    "                )\n",
    "            \n",
    "        \n",
    "    # return (running_loss_val, correct, total)\n",
    "    val_loss = running_loss_val / len(test_dataset)\n",
    "    val_acc = (correct / total) * 100\n",
    "\n",
    "    return val_loss, val_acc.cpu().numpy()\n",
    "\n"
   ]
  },
  {
   "cell_type": "code",
   "execution_count": null,
   "id": "9ddafe01-6daa-4afc-bd4e-990ff2610f6f",
   "metadata": {},
   "outputs": [],
   "source": []
  },
  {
   "cell_type": "code",
   "execution_count": null,
   "id": "4252afbb-49f1-4ee0-b8a3-0ec204ef6504",
   "metadata": {},
   "outputs": [],
   "source": []
  },
  {
   "cell_type": "code",
   "execution_count": 25,
   "id": "5eba7d21-f9d5-4d5f-a97c-38efe34960ab",
   "metadata": {},
   "outputs": [],
   "source": [
    "# Python3 dict to contain training metrics-\n",
    "train_history = {}\n",
    "\n",
    "# Initialize parameters saving 'best' models-\n",
    "best_test_acc = 50"
   ]
  },
  {
   "cell_type": "code",
   "execution_count": null,
   "id": "43cf0203-201d-4cf7-9742-f5df76209f15",
   "metadata": {},
   "outputs": [],
   "source": []
  },
  {
   "cell_type": "code",
   "execution_count": null,
   "id": "824209f5-b5fe-42c6-b7d9-cfcfe3caa896",
   "metadata": {},
   "outputs": [],
   "source": []
  },
  {
   "cell_type": "code",
   "execution_count": null,
   "id": "f37bfa65-705b-402d-b898-5222585bf45e",
   "metadata": {},
   "outputs": [],
   "source": [
    "for epoch in range(1, num_epochs + 1):\n",
    "\n",
    "    # Train and validate model for 1 epoch-\n",
    "    train_loss, train_acc = train_model_progress(\n",
    "        model = model, train_loader = train_loader,\n",
    "        train_dataset = train_dataset\n",
    "    )\n",
    "    \n",
    "    test_loss, test_acc = test_model_progress(\n",
    "        model = model, test_loader = test_loader,\n",
    "        test_dataset = test_dataset\n",
    "    )\n",
    "    \n",
    "    curr_lr = optimizer.param_groups[0]['lr']\n",
    "\n",
    "    # Adjust step-decay LR scheduler-\n",
    "    adjust_learning_rate(\n",
    "        optimizer = optimizer, epoch = epoch,\n",
    "        args = step_decay_scheduler\n",
    "    )\n",
    "\n",
    "    # Cosine LR scheduler-\n",
    "    # optimizer.param_groups[0]['lr'] = scheduler(epoch = epoch)\n",
    "    \n",
    "    print(f\"\\nepoch: {epoch} train loss = {train_loss:.4f}, \"\n",
    "          f\"train accuracy = {train_acc:.2f}%, test loss = {test_loss:.4f}\"\n",
    "          f\", test accuracy = {test_acc:.2f}% & \"\n",
    "          f\"LR = {curr_lr:.7f}\\n\")\n",
    "    \n",
    "    train_history[epoch] = {\n",
    "        'loss': train_loss, 'acc': train_acc,\n",
    "        'test_loss': test_loss, 'test_acc': test_acc,\n",
    "        'lr': curr_lr\n",
    "    }\n",
    "\n",
    "\n",
    "    # Save best weights achieved until now-\n",
    "    if (test_acc > best_test_acc):\n",
    "        # update 'best_val_loss' variable to lowest loss encountered so far-\n",
    "        best_test_acc = test_acc\n",
    "\n",
    "        print(f\"Saving model with highest test acc = {test_acc:.4f}%\\n\")\n",
    "        \n",
    "        # Save trained model with 'best' validation accuracy-\n",
    "        torch.save(model.state_dict(), \"MoCov2_ResNet50_LinearProbe_STL10_best_testacc.pth\")\n",
    "        "
   ]
  },
  {
   "cell_type": "code",
   "execution_count": null,
   "id": "fcbf8603-a95a-4db3-bb43-fcef93c331d0",
   "metadata": {},
   "outputs": [],
   "source": []
  },
  {
   "cell_type": "code",
   "execution_count": 27,
   "id": "c10a2e82-1fc8-4064-8a21-827b497543d8",
   "metadata": {},
   "outputs": [],
   "source": [
    "# Save training metrics as Python3 history for later analysis-\n",
    "with open(\"MoCov2_LinearProbe_ResNet50_train_history.pkl\", \"wb\") as file:\n",
    "    pickle.dump(train_history, file)\n",
    "del file"
   ]
  },
  {
   "cell_type": "code",
   "execution_count": 31,
   "id": "dc7ad3bf-102d-4251-82b7-9a04b6fc69e5",
   "metadata": {},
   "outputs": [],
   "source": [
    "del model"
   ]
  },
  {
   "cell_type": "code",
   "execution_count": null,
   "id": "d116e8b9-5c0e-4ac4-8235-89141f820be0",
   "metadata": {},
   "outputs": [],
   "source": []
  },
  {
   "cell_type": "code",
   "execution_count": null,
   "id": "0f8c4e54-83fe-4c04-9155-03ecf20ac409",
   "metadata": {},
   "outputs": [],
   "source": []
  },
  {
   "cell_type": "code",
   "execution_count": 28,
   "id": "9430272c-ee6d-442f-a48f-3beed13dc367",
   "metadata": {},
   "outputs": [
    {
     "data": {
      "image/png": "[encoded data removed]",
      "text/plain": [
       "<Figure size 900x700 with 1 Axes>"
      ]
     },
     "metadata": {},
     "output_type": "display_data"
    }
   ],
   "source": [
    "plt.figure(figsize = (9, 7))\n",
    "plt.plot(list(train_history.keys()), [train_history[k]['acc'] for k in train_history.keys()], label = 'train acc')\n",
    "plt.plot(list(train_history.keys()), [train_history[k]['test_acc'] for k in train_history.keys()], label = 'test acc')\n",
    "plt.title(\"MoCo-v2, ResNet-50: Training Accuracy\")\n",
    "plt.xlabel(\"epochs\")\n",
    "plt.ylabel(\"accuracy (%)\")\n",
    "plt.legend(loc = 'best')\n",
    "plt.show()"
   ]
  },
  {
   "cell_type": "code",
   "execution_count": 29,
   "id": "36d3848e-7249-46f7-a3e2-71a5bccd3a4a",
   "metadata": {},
   "outputs": [
    {
     "data": {
      "image/png": "[encoded data removed]",
      "text/plain": [
       "<Figure size 900x700 with 1 Axes>"
      ]
     },
     "metadata": {},
     "output_type": "display_data"
    }
   ],
   "source": [
    "plt.figure(figsize = (9, 7))\n",
    "plt.plot(list(train_history.keys()), [train_history[k]['loss'] for k in train_history.keys()], label = 'train loss')\n",
    "plt.plot(list(train_history.keys()), [train_history[k]['test_loss'] for k in train_history.keys()], label = 'test loss')\n",
    "plt.title(\"MoCo-v2, ResNet-50: Training Loss\")\n",
    "plt.xlabel(\"epochs\")\n",
    "plt.ylabel(\"loss\")\n",
    "plt.legend(loc = 'best')\n",
    "plt.show()"
   ]
  },
  {
   "cell_type": "code",
   "execution_count": 30,
   "id": "5464836c-825e-4811-8f30-8acd7711cd0c",
   "metadata": {},
   "outputs": [
    {
     "data": {
      "image/png": "[encoded data removed]",
      "text/plain": [
       "<Figure size 900x700 with 1 Axes>"
      ]
     },
     "metadata": {},
     "output_type": "display_data"
    }
   ],
   "source": [
    "plt.figure(figsize = (9, 7))\n",
    "plt.plot(list(train_history.keys()), [train_history[k]['lr'] for k in train_history.keys()])\n",
    "plt.xlabel(\"epochs\")\n",
    "plt.ylabel(\"lr\")\n",
    "plt.title(\"MoCo-v2, ResNet-50: Learning-Rate\")\n",
    "plt.show()"
   ]
  },
  {
   "cell_type": "code",
   "execution_count": null,
   "id": "c1e8390c-991d-4db9-8f04-3f25bb23c2c6",
   "metadata": {},
   "outputs": [],
   "source": []
  },
  {
   "cell_type": "code",
   "execution_count": null,
   "id": "4ed8d00a-5af1-411a-9b99-cd898e80c7e1",
   "metadata": {},
   "outputs": [],
   "source": []
  },
  {
   "cell_type": "code",
   "execution_count": null,
   "id": "ac719800-1311-405a-81a8-827444acf2be",
   "metadata": {},
   "outputs": [],
   "source": [
    "# Initialize and load 'best' trained parameters from above-\n",
    "best_model = resnet50_stl10(embed_dim = 128)\n",
    "\n",
    "# Remove projection head and add linear classifier-\n",
    "best_model.fc = nn.Linear(in_features = 2048, out_features = 10, bias = True)\n",
    "\n",
    "# Load trained params-\n",
    "best_model.load_state_dict(torch.load(\"MoCov2_ResNet50_LinearProbe_STL10_best_testacc.pth\"))\n",
    "\n",
    "# Move to GPU device-\n",
    "best_model.to(device)"
   ]
  },
  {
   "cell_type": "code",
   "execution_count": 35,
   "id": "445f7d2f-bc0b-4f41-bf2d-03a38346692c",
   "metadata": {},
   "outputs": [
    {
     "name": "stderr",
     "output_type": "stream",
     "text": [
      "Validation: : 100%|███████████████████████████████████████████████████████████████████████| 125/125 [00:17<00:00,  7.14batch/s, val_acc=78.1, val_loss=9.46]"
     ]
    },
    {
     "name": "stdout",
     "output_type": "stream",
     "text": [
      "ResNet-50 'best' trained testing metrics:  loss = 9.4630 & acc = 78.14%\n"
     ]
    },
    {
     "name": "stderr",
     "output_type": "stream",
     "text": [
      "\n"
     ]
    }
   ],
   "source": [
    "# Get validation metrics of 'best' trained model-\n",
    "test_loss, test_acc = test_model_progress(\n",
    "    model = best_model, test_loader = test_loader,\n",
    "    test_dataset = test_dataset\n",
    ")\n",
    "\n",
    "print(\"ResNet-50 'best' trained testing metrics: \",\n",
    "      f\"loss = {test_loss:.4f} & acc = {test_acc:.2f}%\"\n",
    ")"
   ]
  },
  {
   "cell_type": "code",
   "execution_count": null,
   "id": "fcc3b0b0-fac1-4c16-aaec-2614ddf0e57b",
   "metadata": {},
   "outputs": [],
   "source": []
  },
  {
   "cell_type": "code",
   "execution_count": null,
   "id": "84583039-754c-4962-9edc-fd73b53f6ced",
   "metadata": {},
   "outputs": [],
   "source": []
  }
 ],
 "metadata": {
  "kernelspec": {
   "display_name": "Python 3 (ipykernel)",
   "language": "python",
   "name": "python3"
  },
  "language_info": {
   "codemirror_mode": {
    "name": "ipython",
    "version": 3
   },
   "file_extension": ".py",
   "mimetype": "text/x-python",
   "name": "python",
   "nbconvert_exporter": "python",
   "pygments_lexer": "ipython3",
   "version": "3.11.4"
  }
 },
 "nbformat": 4,
 "nbformat_minor": 5
}
