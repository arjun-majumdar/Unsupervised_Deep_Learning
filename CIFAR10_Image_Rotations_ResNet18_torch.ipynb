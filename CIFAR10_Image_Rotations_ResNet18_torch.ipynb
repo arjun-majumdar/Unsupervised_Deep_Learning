{
 "cells": [
  {
   "cell_type": "markdown",
   "id": "41baea09-ee5f-4133-a6b9-a2d8f8683dbc",
   "metadata": {},
   "source": [
    "# EXP"
   ]
  },
  {
   "cell_type": "code",
   "execution_count": 1,
   "id": "c72abbaa-eafd-4d90-ab4a-45c0fc9823af",
   "metadata": {},
   "outputs": [
    {
     "name": "stdout",
     "output_type": "stream",
     "text": [
      "env: CUDA_DEVICE_ORDER=PCI_BUS_ID\n",
      "env: CUDA_VISIBLE_DEVICES=0\n"
     ]
    }
   ],
   "source": [
    "# Specify GPU to be used-\n",
    "%env CUDA_DEVICE_ORDER=PCI_BUS_ID\n",
    "%env CUDA_VISIBLE_DEVICES = 0"
   ]
  },
  {
   "cell_type": "code",
   "execution_count": 2,
   "id": "1ddaacf1-7f6e-4685-9a22-184c74d62baf",
   "metadata": {},
   "outputs": [
    {
     "name": "stderr",
     "output_type": "stream",
     "text": [
      "C:\\Users\\arjun\\anaconda3\\envs\\torch-cuda\\lib\\site-packages\\tqdm\\auto.py:22: TqdmWarning: IProgress not found. Please update jupyter and ipywidgets. See https://ipywidgets.readthedocs.io/en/stable/user_install.html\n",
      "  from .autonotebook import tqdm as notebook_tqdm\n"
     ]
    }
   ],
   "source": [
    "import torch\n",
    "import torch.nn as nn\n",
    "import torch.nn.functional as F\n",
    "import torchvision\n",
    "import torchvision.transforms as transforms\n",
    "import torchvision.transforms.functional as TF\n",
    "\n",
    "import albumentations as A\n",
    "from albumentations.pytorch import ToTensorV2\n",
    "from tqdm import tqdm\n",
    "from tqdm import trange\n",
    "import matplotlib.pyplot as plt\n",
    "import numpy as np\n",
    "import os, pickle"
   ]
  },
  {
   "cell_type": "code",
   "execution_count": null,
   "id": "b67263e0-70c3-44fe-9b5b-d30c5eae01ae",
   "metadata": {},
   "outputs": [],
   "source": []
  },
  {
   "cell_type": "code",
   "execution_count": 3,
   "id": "c304cd1a-1b39-4557-9116-45e451c6a9c0",
   "metadata": {},
   "outputs": [
    {
     "name": "stdout",
     "output_type": "stream",
     "text": [
      "torch version: 1.13.1\n",
      "Number of GPU(s) available = 1\n",
      "Current GPU: 0\n",
      "Current GPU name: NVIDIA GeForce RTX 3080 Laptop GPU\n"
     ]
    }
   ],
   "source": [
    "print(f\"torch version: {torch.__version__}\")\n",
    "\n",
    "# Check if there are multiple devices (i.e., GPU cards)-\n",
    "print(f\"Number of GPU(s) available = {torch.cuda.device_count()}\")\n",
    "\n",
    "# Which GPU Is The Current GPU?\n",
    "# print(f\"current GPU: {torch.cuda.current_device()}\")\n",
    "\n",
    "# Get the name of the current GPU-\n",
    "# print(f\"Current GPU name: {torch.cuda.get_device_name(torch.cuda.current_device())}\")\n",
    "\n",
    "# Is PyTorch using a GPU?\n",
    "# print(f\"Is PyTorch using a GPU? {torch.cuda.is_available()}\")\n",
    "\n",
    "if torch.cuda.is_available():\n",
    "    print(f\"Current GPU: {torch.cuda.current_device()}\")\n",
    "    print(f\"Current GPU name: {torch.cuda.get_device_name(torch.cuda.current_device())}\")\n",
    "else:\n",
    "    print(\"PyTorch does not have access to GPU\")"
   ]
  },
  {
   "cell_type": "code",
   "execution_count": 4,
   "id": "b1182e35-b400-4cce-a0fb-8ca053dfbfcf",
   "metadata": {},
   "outputs": [
    {
     "name": "stdout",
     "output_type": "stream",
     "text": [
      "Available device is cuda\n"
     ]
    }
   ],
   "source": [
    "# print(torch.cuda.memory_summary())\n",
    "# Device configuration-\n",
    "device = torch.device('cuda' if torch.cuda.is_available() else 'cpu')\n",
    "print(f'Available device is {device}')"
   ]
  },
  {
   "cell_type": "code",
   "execution_count": null,
   "id": "397afc19-9541-4cb6-97bb-f12106c7d3ec",
   "metadata": {},
   "outputs": [],
   "source": []
  },
  {
   "cell_type": "code",
   "execution_count": null,
   "id": "b444d80a-652e-4b2b-acc7-d1acc26af718",
   "metadata": {},
   "outputs": [],
   "source": []
  },
  {
   "cell_type": "code",
   "execution_count": 5,
   "id": "5eb49f90-7faa-4fea-8415-90e344bf653c",
   "metadata": {},
   "outputs": [],
   "source": [
    "# Specify training hyper-parameters-\n",
    "batch_size = 256\n",
    "num_epochs = 80"
   ]
  },
  {
   "cell_type": "code",
   "execution_count": null,
   "id": "b398fc34-c6a7-4769-add7-4edf14ade40b",
   "metadata": {},
   "outputs": [],
   "source": []
  },
  {
   "cell_type": "code",
   "execution_count": 6,
   "id": "ec5f364b-694a-40e7-8992-e10ebda1d612",
   "metadata": {},
   "outputs": [],
   "source": [
    "# Define transformations using albumentations-\n",
    "transform_train = A.Compose(\n",
    "    [\n",
    "        # A.Resize(width = 32, height = 32),\n",
    "        # A.RandomCrop(width = 20, height = 20),\n",
    "        # A.Rotate(limit = 40, p = 0.9, border_mode = cv2.BORDER_CONSTANT),\n",
    "        # A.HorizontalFlip(p = 0.5),\n",
    "        # A.VerticalFlip(p = 0.1),\n",
    "        A.RGBShift(r_shift_limit = 25, g_shift_limit = 25, b_shift_limit = 25, p = 0.9),\n",
    "        A.OneOf([\n",
    "            A.Blur(blur_limit = 3, p = 0.5),\n",
    "            A.ColorJitter(p = 0.5),\n",
    "        ], p = 1.0),\n",
    "        A.Normalize(\n",
    "            # mean = [0.4914, 0.4822, 0.4465],\n",
    "            # std = [0.247, 0.243, 0.261],\n",
    "            mean = [0, 0, 0],\n",
    "            std = [1, 1, 1],\n",
    "            max_pixel_value = 255,\n",
    "        ),\n",
    "        # This is not dividing by 255, which it does in PyTorch-\n",
    "        ToTensorV2(),\n",
    "    ]\n",
    ")\n",
    "\n",
    "transform_test = A.Compose(\n",
    "    [\n",
    "        A.Normalize(\n",
    "            mean = [0, 0, 0],\n",
    "            std = [1, 1, 1],\n",
    "            max_pixel_value = 255\n",
    "        ),\n",
    "        ToTensorV2()\n",
    "    ]\n",
    ")"
   ]
  },
  {
   "cell_type": "code",
   "execution_count": 7,
   "id": "3581375f-a63e-4c1e-a759-235c6253bcf7",
   "metadata": {},
   "outputs": [],
   "source": [
    "class Cifar10Dataset(torchvision.datasets.CIFAR10):\n",
    "    def __init__(\n",
    "        self, root = \"~/data/cifar10\",\n",
    "        train = True, download = True,\n",
    "        transform = None\n",
    "    ):\n",
    "        super().__init__(\n",
    "            root = root, train = train,\n",
    "            download = download, transform = transform\n",
    "        )\n",
    "\n",
    "    def __getitem__(self, index):\n",
    "        image, label = self.data[index], self.targets[index]\n",
    "\n",
    "        if self.transform is not None:\n",
    "            transformed = self.transform(image = image)\n",
    "            image = transformed[\"image\"]\n",
    "            \n",
    "            # Randomly select 0, 1, 2 or 3 for image rotation-\n",
    "            ang = np.random.randint(low = 0, high = 4, size = None)\n",
    "            image = TF.rotate(img = image, angle = ang * 90)\n",
    "            \n",
    "        # return image, label\n",
    "        return image, ang\n"
   ]
  },
  {
   "cell_type": "code",
   "execution_count": 8,
   "id": "de62b308-c8a4-4e86-9577-f3fad9671575",
   "metadata": {},
   "outputs": [
    {
     "name": "stdout",
     "output_type": "stream",
     "text": [
      "Files already downloaded and verified\n",
      "Files already downloaded and verified\n"
     ]
    }
   ],
   "source": [
    "# Define train and validate sets-\n",
    "train_dataset = Cifar10Dataset(\n",
    "    root = 'C:/Users/arjun/Downloads/data/', train = True,\n",
    "    download = True, transform = transform_train\n",
    ")\n",
    "\n",
    "test_dataset = Cifar10Dataset(\n",
    "    root = 'C:/Users/arjun/Downloads/data/', train = False,\n",
    "    download = True, transform = transform_test\n",
    ")"
   ]
  },
  {
   "cell_type": "code",
   "execution_count": 9,
   "id": "39c2f7fa-88ca-4be5-81b8-acb098a03e85",
   "metadata": {},
   "outputs": [],
   "source": [
    "# Create training and testing loaders-\n",
    "train_loader = torch.utils.data.DataLoader(\n",
    "    train_dataset, batch_size = batch_size,\n",
    "    shuffle = True\n",
    ")\n",
    "\n",
    "test_loader = torch.utils.data.DataLoader(\n",
    "    test_dataset, batch_size = batch_size,\n",
    "    shuffle = True\n",
    ")"
   ]
  },
  {
   "cell_type": "code",
   "execution_count": null,
   "id": "6f91d7c1-8daf-42f8-9799-82e135673ea0",
   "metadata": {},
   "outputs": [],
   "source": []
  },
  {
   "cell_type": "code",
   "execution_count": null,
   "id": "fd3587b6-09bc-45a0-ba20-638746aa2e81",
   "metadata": {},
   "outputs": [],
   "source": []
  },
  {
   "cell_type": "code",
   "execution_count": 10,
   "id": "842fbcea-9543-474e-bc07-7b2321f639c5",
   "metadata": {},
   "outputs": [],
   "source": [
    "class ResNet_Block(nn.Module):\n",
    "    '''\n",
    "    ResNet block within a ResNet-18/34 CNN model\n",
    "    '''\n",
    "    def __init__(\n",
    "        self, num_inp_channels,\n",
    "        num_channels, stride = 1,\n",
    "        dropout = 0.2, use_1x1_conv = False\n",
    "    ):\n",
    "        super(ResNet_Block, self).__init__()\n",
    "        \n",
    "        self.num_inp_channels = num_inp_channels\n",
    "        self.num_channels = num_channels\n",
    "        self.stride = stride\n",
    "        self.dropout = dropout\n",
    "        self.use_1x1_conv = use_1x1_conv\n",
    "    \n",
    "        \n",
    "        self.conv1 = nn.Conv2d(\n",
    "            in_channels = self.num_inp_channels, out_channels = self.num_channels,\n",
    "            kernel_size = 3, padding = 1,\n",
    "            stride = self.stride, bias = False\n",
    "        )\n",
    "        self.bn1 = nn.BatchNorm2d(num_features = self.num_channels)\n",
    "        \n",
    "        self.conv2 = nn.Conv2d(\n",
    "            in_channels = self.num_channels, out_channels = self.num_channels,\n",
    "            kernel_size = 3, padding = 1,\n",
    "            stride = 1, bias = False\n",
    "        )\n",
    "        self.bn2 = nn.BatchNorm2d(num_features = self.num_channels)\n",
    "        self.dropout = nn.Dropout(p = self.dropout)\n",
    "        \n",
    "        if self.use_1x1_conv:\n",
    "            self.conv3 = nn.Conv2d(\n",
    "            in_channels = self.num_inp_channels, out_channels = num_channels,\n",
    "            kernel_size = 1, padding = 0,\n",
    "            stride = self.stride, bias = False\n",
    "            )\n",
    "            self.bn3 = nn.BatchNorm2d(num_features = self.num_channels)\n",
    "        \n",
    "        self.initialize_weights()\n",
    "\n",
    "            \n",
    "    def initialize_weights(self):\n",
    "        for m in self.modules():\n",
    "            # print(m)\n",
    "            if isinstance(m, nn.Conv2d):\n",
    "                nn.init.kaiming_normal_(m.weight)\n",
    "\n",
    "                '''\n",
    "                # Do not initialize bias (due to batchnorm)-\n",
    "                if m.bias is not None:\n",
    "                    nn.init.constant_(m.bias, 0)\n",
    "                '''\n",
    "            \n",
    "            elif isinstance(m, nn.BatchNorm2d):\n",
    "                # Standard initialization for batch normalization-\n",
    "                nn.init.constant_(m.weight, 1)\n",
    "                nn.init.constant_(m.bias, 0)\n",
    "\n",
    "            elif isinstance(m, nn.Linear):\n",
    "                nn.init.kaiming_normal_(m.weight)\n",
    "                nn.init.constant_(m.bias, 0)\n",
    "    \n",
    "    \n",
    "    def forward(self, x):\n",
    "        y = F.leaky_relu(self.bn1(self.conv1(x)))\n",
    "        y = self.dropout(F.leaky_relu(self.bn2(self.conv2(y))))\n",
    "        \n",
    "        if self.use_1x1_conv:\n",
    "            x = self.bn3(self.conv3(x))\n",
    "            \n",
    "        y += x\n",
    "        return F.leaky_relu(self.dropout(y))\n",
    "    \n",
    "    \n",
    "    def shape_computation(self, x):\n",
    "        print(f\"Input shape: {x.shape}\")\n",
    "        y = (self.bn1(self.conv1(x)))\n",
    "        print(f\"First conv layer output shape: {y.shape}\")\n",
    "        y = self.bn2(self.conv2(y))\n",
    "        print(f\"Second conv layer output shape: {y.shape}\")\n",
    "        \n",
    "        if self.use_1x1_conv:\n",
    "            x = self.bn3(self.conv3(x))\n",
    "            print(f\"Downsample with S = 2; identity connection output shape: {x.shape}\")\n",
    "            \n",
    "        y += x\n",
    "        print(f\"Residual block output shape: {y.shape}\")\n",
    "        return None\n",
    "    "
   ]
  },
  {
   "cell_type": "code",
   "execution_count": 11,
   "id": "9b5546fc-9c9d-476d-a7b4-fee6c37b43b0",
   "metadata": {},
   "outputs": [],
   "source": [
    "class ResNet18(nn.Module):\n",
    "    def __init__(self):\n",
    "        super(ResNet18, self).__init__()\n",
    "        \n",
    "        self.conv1 = nn.Conv2d(\n",
    "            in_channels = 3, out_channels = 64,\n",
    "            kernel_size = 3, padding = 1,\n",
    "            stride = 1, bias = False\n",
    "        )\n",
    "        self.bn1 = nn.BatchNorm2d(num_features = 64)\n",
    "        \n",
    "        self.resblock1 = ResNet_Block(\n",
    "            num_inp_channels = 64, num_channels = 64,\n",
    "            stride = 1, dropout = 0.2,\n",
    "            use_1x1_conv = False\n",
    "        )\n",
    "        \n",
    "        self.resblock2 = ResNet_Block(\n",
    "            num_inp_channels = 64, num_channels = 64,\n",
    "            stride = 1, dropout = 0.2,\n",
    "            use_1x1_conv = False\n",
    "        )\n",
    "        \n",
    "        # Downsample-\n",
    "        self.resblock3 = ResNet_Block(\n",
    "            num_inp_channels = 64, num_channels = 128,\n",
    "            stride = 2, dropout = 0.2,\n",
    "            use_1x1_conv = True\n",
    "        )\n",
    "        \n",
    "        self.resblock4 = ResNet_Block(\n",
    "            num_inp_channels = 128, num_channels = 128,\n",
    "            stride = 1, dropout = 0.2,\n",
    "            use_1x1_conv = False\n",
    "        )\n",
    "\n",
    "        # Downsample-\n",
    "        self.resblock5 = ResNet_Block(\n",
    "            num_inp_channels = 128, num_channels = 256,\n",
    "            stride = 2, dropout = 0.2,\n",
    "            use_1x1_conv = True\n",
    "        )\n",
    "\n",
    "        self.resblock6 = ResNet_Block(\n",
    "            num_inp_channels = 256, num_channels = 256,\n",
    "            stride = 1, dropout = 0.2,\n",
    "            use_1x1_conv = False\n",
    "        )\n",
    "\n",
    "        # Downsample-\n",
    "        self.resblock7 = ResNet_Block(\n",
    "            num_inp_channels = 256, num_channels = 512,\n",
    "            stride = 2, dropout = 0.2,\n",
    "            use_1x1_conv = True\n",
    "        )\n",
    "\n",
    "        self.resblock8 = ResNet_Block(\n",
    "            num_inp_channels = 512, num_channels = 512,\n",
    "            stride = 1, dropout = 0.2,\n",
    "            use_1x1_conv = False\n",
    "        )\n",
    "        \n",
    "        self.avg_pool = nn.AvgPool2d(kernel_size = 3, stride = 2)\n",
    "        self.op_layer = nn.Linear(\n",
    "            in_features = 512, out_features = 4,\n",
    "            bias = True\n",
    "        )\n",
    "        \n",
    "    \n",
    "    def forward(self, x):\n",
    "        x = F.relu(self.bn1(self.conv1(x)))\n",
    "        x = self.resblock1(x)\n",
    "        x = self.resblock2(x)\n",
    "        x = self.resblock3(x)\n",
    "        x = self.resblock4(x)\n",
    "        x = self.resblock5(x)\n",
    "        x = self.resblock6(x)\n",
    "        x = self.resblock7(x)\n",
    "        x = self.resblock8(x)\n",
    "        x = self.avg_pool(x).squeeze()\n",
    "        x = self.op_layer(x)\n",
    "        return x\n",
    "    "
   ]
  },
  {
   "cell_type": "code",
   "execution_count": null,
   "id": "08abacbe-e1ca-482b-87ef-b24b87077094",
   "metadata": {},
   "outputs": [],
   "source": []
  },
  {
   "cell_type": "code",
   "execution_count": 12,
   "id": "71899a4d-ffaa-4be6-a31e-24ed6f2b9c00",
   "metadata": {},
   "outputs": [],
   "source": [
    "# Initialize ResNet-18 architecture-\n",
    "trained_model = ResNet18().to(device)"
   ]
  },
  {
   "cell_type": "code",
   "execution_count": 13,
   "id": "fd153dee-8234-416d-b62e-a39d2153a933",
   "metadata": {},
   "outputs": [
    {
     "name": "stdout",
     "output_type": "stream",
     "text": [
      "Total number of trainable parameters in ResNet-18 CNN = 11170884\n"
     ]
    }
   ],
   "source": [
    "# Count number of layer-wise parameters and total parameters-\n",
    "tot_params = 0\n",
    "for param in trained_model.parameters():\n",
    "    # print(f\"layer.shape = {param.shape} has {param.nelement()} parameters\")\n",
    "    tot_params += param.nelement()\n",
    "\n",
    "print(f\"Total number of trainable parameters in ResNet-18 CNN = {tot_params}\")"
   ]
  },
  {
   "cell_type": "code",
   "execution_count": 14,
   "id": "22f99146-0cf2-4f68-bf51-016030636c02",
   "metadata": {},
   "outputs": [
    {
     "data": {
      "text/plain": [
       "<All keys matched successfully>"
      ]
     },
     "execution_count": 14,
     "metadata": {},
     "output_type": "execute_result"
    }
   ],
   "source": [
    "# Load image rotated proxy pre-trained weights-\n",
    "trained_model.load_state_dict(torch.load('ResNet18_CIFAR10_RotNet_best_acc.pth'))"
   ]
  },
  {
   "cell_type": "code",
   "execution_count": 15,
   "id": "e0294139-4ebd-48a0-ab04-f24cb6efe137",
   "metadata": {},
   "outputs": [],
   "source": [
    " # Compute number of features for defining last linear/dense layer-\n",
    "num_ftrs = trained_model.op_layer.in_features"
   ]
  },
  {
   "cell_type": "code",
   "execution_count": 16,
   "id": "a8e12c2c-a1d8-433a-9dcd-1df51679788c",
   "metadata": {},
   "outputs": [],
   "source": [
    "# Define last dense layer/output layer-\n",
    "trained_model.op_layer = nn.Linear(in_features = num_ftrs, out_features = 10)"
   ]
  },
  {
   "cell_type": "code",
   "execution_count": 17,
   "id": "02147b6c-2449-4312-a594-31d0fcbf1fd7",
   "metadata": {},
   "outputs": [],
   "source": [
    "# Freeze all features-\n",
    "for param in trained_model.parameters():\n",
    "    param.requires_grad = False"
   ]
  },
  {
   "cell_type": "code",
   "execution_count": 18,
   "id": "16cf428c-38bd-4c15-968e-6bf2f52d9c55",
   "metadata": {},
   "outputs": [],
   "source": [
    "# Only train new output dense layer-\n",
    "trained_model.op_layer.weight.requires_grad = True\n",
    "trained_model.op_layer.bias.requires_grad = True"
   ]
  },
  {
   "cell_type": "code",
   "execution_count": 19,
   "id": "56b549dc-d41e-43cd-9acd-4b4f8a3768d4",
   "metadata": {},
   "outputs": [
    {
     "name": "stdout",
     "output_type": "stream",
     "text": [
      "layer: conv1.weight, shape: torch.Size([64, 3, 3, 3]), requires grad? False\n",
      "layer: bn1.weight, shape: torch.Size([64]), requires grad? False\n",
      "layer: bn1.bias, shape: torch.Size([64]), requires grad? False\n",
      "layer: resblock1.conv1.weight, shape: torch.Size([64, 64, 3, 3]), requires grad? False\n",
      "layer: resblock1.bn1.weight, shape: torch.Size([64]), requires grad? False\n",
      "layer: resblock1.bn1.bias, shape: torch.Size([64]), requires grad? False\n",
      "layer: resblock1.conv2.weight, shape: torch.Size([64, 64, 3, 3]), requires grad? False\n",
      "layer: resblock1.bn2.weight, shape: torch.Size([64]), requires grad? False\n",
      "layer: resblock1.bn2.bias, shape: torch.Size([64]), requires grad? False\n",
      "layer: resblock2.conv1.weight, shape: torch.Size([64, 64, 3, 3]), requires grad? False\n",
      "layer: resblock2.bn1.weight, shape: torch.Size([64]), requires grad? False\n",
      "layer: resblock2.bn1.bias, shape: torch.Size([64]), requires grad? False\n",
      "layer: resblock2.conv2.weight, shape: torch.Size([64, 64, 3, 3]), requires grad? False\n",
      "layer: resblock2.bn2.weight, shape: torch.Size([64]), requires grad? False\n",
      "layer: resblock2.bn2.bias, shape: torch.Size([64]), requires grad? False\n",
      "layer: resblock3.conv1.weight, shape: torch.Size([128, 64, 3, 3]), requires grad? False\n",
      "layer: resblock3.bn1.weight, shape: torch.Size([128]), requires grad? False\n",
      "layer: resblock3.bn1.bias, shape: torch.Size([128]), requires grad? False\n",
      "layer: resblock3.conv2.weight, shape: torch.Size([128, 128, 3, 3]), requires grad? False\n",
      "layer: resblock3.bn2.weight, shape: torch.Size([128]), requires grad? False\n",
      "layer: resblock3.bn2.bias, shape: torch.Size([128]), requires grad? False\n",
      "layer: resblock3.conv3.weight, shape: torch.Size([128, 64, 1, 1]), requires grad? False\n",
      "layer: resblock3.bn3.weight, shape: torch.Size([128]), requires grad? False\n",
      "layer: resblock3.bn3.bias, shape: torch.Size([128]), requires grad? False\n",
      "layer: resblock4.conv1.weight, shape: torch.Size([128, 128, 3, 3]), requires grad? False\n",
      "layer: resblock4.bn1.weight, shape: torch.Size([128]), requires grad? False\n",
      "layer: resblock4.bn1.bias, shape: torch.Size([128]), requires grad? False\n",
      "layer: resblock4.conv2.weight, shape: torch.Size([128, 128, 3, 3]), requires grad? False\n",
      "layer: resblock4.bn2.weight, shape: torch.Size([128]), requires grad? False\n",
      "layer: resblock4.bn2.bias, shape: torch.Size([128]), requires grad? False\n",
      "layer: resblock5.conv1.weight, shape: torch.Size([256, 128, 3, 3]), requires grad? False\n",
      "layer: resblock5.bn1.weight, shape: torch.Size([256]), requires grad? False\n",
      "layer: resblock5.bn1.bias, shape: torch.Size([256]), requires grad? False\n",
      "layer: resblock5.conv2.weight, shape: torch.Size([256, 256, 3, 3]), requires grad? False\n",
      "layer: resblock5.bn2.weight, shape: torch.Size([256]), requires grad? False\n",
      "layer: resblock5.bn2.bias, shape: torch.Size([256]), requires grad? False\n",
      "layer: resblock5.conv3.weight, shape: torch.Size([256, 128, 1, 1]), requires grad? False\n",
      "layer: resblock5.bn3.weight, shape: torch.Size([256]), requires grad? False\n",
      "layer: resblock5.bn3.bias, shape: torch.Size([256]), requires grad? False\n",
      "layer: resblock6.conv1.weight, shape: torch.Size([256, 256, 3, 3]), requires grad? False\n",
      "layer: resblock6.bn1.weight, shape: torch.Size([256]), requires grad? False\n",
      "layer: resblock6.bn1.bias, shape: torch.Size([256]), requires grad? False\n",
      "layer: resblock6.conv2.weight, shape: torch.Size([256, 256, 3, 3]), requires grad? False\n",
      "layer: resblock6.bn2.weight, shape: torch.Size([256]), requires grad? False\n",
      "layer: resblock6.bn2.bias, shape: torch.Size([256]), requires grad? False\n",
      "layer: resblock7.conv1.weight, shape: torch.Size([512, 256, 3, 3]), requires grad? False\n",
      "layer: resblock7.bn1.weight, shape: torch.Size([512]), requires grad? False\n",
      "layer: resblock7.bn1.bias, shape: torch.Size([512]), requires grad? False\n",
      "layer: resblock7.conv2.weight, shape: torch.Size([512, 512, 3, 3]), requires grad? False\n",
      "layer: resblock7.bn2.weight, shape: torch.Size([512]), requires grad? False\n",
      "layer: resblock7.bn2.bias, shape: torch.Size([512]), requires grad? False\n",
      "layer: resblock7.conv3.weight, shape: torch.Size([512, 256, 1, 1]), requires grad? False\n",
      "layer: resblock7.bn3.weight, shape: torch.Size([512]), requires grad? False\n",
      "layer: resblock7.bn3.bias, shape: torch.Size([512]), requires grad? False\n",
      "layer: resblock8.conv1.weight, shape: torch.Size([512, 512, 3, 3]), requires grad? False\n",
      "layer: resblock8.bn1.weight, shape: torch.Size([512]), requires grad? False\n",
      "layer: resblock8.bn1.bias, shape: torch.Size([512]), requires grad? False\n",
      "layer: resblock8.conv2.weight, shape: torch.Size([512, 512, 3, 3]), requires grad? False\n",
      "layer: resblock8.bn2.weight, shape: torch.Size([512]), requires grad? False\n",
      "layer: resblock8.bn2.bias, shape: torch.Size([512]), requires grad? False\n",
      "layer: op_layer.weight, shape: torch.Size([10, 512]), requires grad? True\n",
      "layer: op_layer.bias, shape: torch.Size([10]), requires grad? True\n"
     ]
    }
   ],
   "source": [
    "# Sanity check-\n",
    "for layer_name, param in trained_model.named_parameters():\n",
    "    print(f\"layer: {layer_name}, shape: {param.shape}, requires grad? {param.requires_grad}\")"
   ]
  },
  {
   "cell_type": "code",
   "execution_count": null,
   "id": "ac40fa2d-df2a-48c0-b24e-c579876a00d6",
   "metadata": {},
   "outputs": [],
   "source": []
  },
  {
   "cell_type": "code",
   "execution_count": 20,
   "id": "2f05ed87-78e3-4ae7-9ef2-2abf7b7e818f",
   "metadata": {},
   "outputs": [],
   "source": [
    "# Define number of fine-tuning epochs-\n",
    "num_epochs = 25"
   ]
  },
  {
   "cell_type": "code",
   "execution_count": 20,
   "id": "b8c5c3b4-0b09-44f8-bfa3-b987d21af234",
   "metadata": {},
   "outputs": [],
   "source": [
    "# Define cost function-\n",
    "cost_fn = nn.CrossEntropyLoss()\n",
    "\n",
    "# Learning rate - Observe that all parameters are being optimized-\n",
    "optimizer = torch.optim.SGD(trained_model.parameters(), lr = 0.1, momentum = 0.9)"
   ]
  },
  {
   "cell_type": "code",
   "execution_count": 22,
   "id": "d18c47a7-7e2f-466d-9616-fc18eda2bae7",
   "metadata": {},
   "outputs": [],
   "source": [
    "# Decay lr at 10th and 20th epochs by a factor of 10-\n",
    "scheduler = torch.optim.lr_scheduler.MultiStepLR(\n",
    "    optimizer = optimizer, milestones = [9, 20],\n",
    "    gamma = 0.1\n",
    ")"
   ]
  },
  {
   "cell_type": "code",
   "execution_count": null,
   "id": "c3cee087-225f-400a-bc09-64bd5750b877",
   "metadata": {},
   "outputs": [],
   "source": []
  },
  {
   "cell_type": "code",
   "execution_count": null,
   "id": "dfe06ab2-c14a-4dc6-875f-f5e300965d02",
   "metadata": {},
   "outputs": [],
   "source": []
  },
  {
   "cell_type": "code",
   "execution_count": 36,
   "id": "cbcddcd7-1844-4474-a3f9-6635f59bf1a3",
   "metadata": {},
   "outputs": [],
   "source": [
    "def train_model_progress(model, train_loader, train_dataset):\n",
    "    '''\n",
    "    Function to perform one epoch of training by using 'train_loader'.\n",
    "    Returns loss and number of correct predictions for this epoch.\n",
    "    '''\n",
    "    running_loss = 0.0\n",
    "    running_corrects = 0.0\n",
    "    \n",
    "    model.train()\n",
    "    \n",
    "    with tqdm(train_loader, unit = 'batch') as tepoch:\n",
    "        for images, labels in tepoch:\n",
    "            tepoch.set_description(f\"Training: \")\n",
    "            \n",
    "            images = images.to(device)\n",
    "            labels = labels.to(device)\n",
    "            \n",
    "            # Get model predictions-\n",
    "            outputs = model(images)\n",
    "            \n",
    "            # Compute loss-\n",
    "            # J = loss(outputs, labels)\n",
    "            J = cost_fn(outputs, labels)\n",
    "            \n",
    "            # Empty accumulated gradients-\n",
    "            optimizer.zero_grad()\n",
    "            \n",
    "            # Perform backprop-\n",
    "            J.backward()\n",
    "            \n",
    "            # Update parameters-\n",
    "            optimizer.step()\n",
    "            \n",
    "            # global step\n",
    "            # optimizer.param_groups[0]['lr'] = custom_lr_scheduler.get_lr(step)\n",
    "\n",
    "            # step += 1\n",
    "            \n",
    "            # Compute model's performance statistics-\n",
    "            running_loss += J.item() * images.size(0)\n",
    "            _, predicted = torch.max(outputs, 1)\n",
    "            running_corrects += torch.sum(predicted == labels.data)\n",
    "            \n",
    "            tepoch.set_postfix(\n",
    "                loss = running_loss / len(train_dataset),\n",
    "                accuracy = (running_corrects.double().cpu().numpy() / len(train_dataset)) * 100\n",
    "            )\n",
    "            \n",
    "    \n",
    "    train_loss = running_loss / len(train_dataset)\n",
    "    train_acc = (running_corrects.double() / len(train_dataset)) * 100\n",
    "    \n",
    "\n",
    "    # return running_loss, running_corrects\n",
    "    return train_loss, train_acc.cpu().numpy()\n"
   ]
  },
  {
   "cell_type": "code",
   "execution_count": 37,
   "id": "c2526ff4-44e4-4498-bffd-29040f73efb7",
   "metadata": {},
   "outputs": [],
   "source": [
    "def test_model_progress(model, test_loader, test_dataset):\n",
    "    total = 0.0\n",
    "    correct = 0.0\n",
    "    running_loss_val = 0.0\n",
    "\n",
    "    with torch.no_grad():\n",
    "        with tqdm(test_loader, unit = 'batch') as tepoch:\n",
    "            for images, labels in tepoch:\n",
    "                tepoch.set_description(f\"Validation: \")\n",
    "                \n",
    "                images = images.to(device)\n",
    "                labels = labels.to(device)\n",
    "                \n",
    "                # Set model to evaluation mode-\n",
    "                model.eval()\n",
    "            \n",
    "                # Predict using trained model-\n",
    "                outputs = model(images)\n",
    "                _, y_pred = torch.max(outputs, 1)\n",
    "                \n",
    "                # Compute validation loss-\n",
    "                J_val = cost_fn(outputs, labels)\n",
    "                \n",
    "                running_loss_val += J_val.item() * labels.size(0)\n",
    "    \n",
    "                # Total number of labels-\n",
    "                total += labels.size(0)\n",
    "\n",
    "                # Total number of correct predictions-\n",
    "                correct += (y_pred == labels).sum()\n",
    "                \n",
    "                tepoch.set_postfix(\n",
    "                    val_loss = running_loss_val / len(test_dataset),\n",
    "                    val_acc = 100 * (correct.cpu().numpy() / total)\n",
    "                )\n",
    "            \n",
    "        \n",
    "    # return (running_loss_val, correct, total)\n",
    "    val_loss = running_loss_val / len(test_dataset)\n",
    "    val_acc = (correct / total) * 100\n",
    "\n",
    "    return val_loss, val_acc.cpu().numpy()\n"
   ]
  },
  {
   "cell_type": "code",
   "execution_count": null,
   "id": "b6d16c54-10bb-4436-b36a-5060a95afe5b",
   "metadata": {},
   "outputs": [],
   "source": []
  },
  {
   "cell_type": "code",
   "execution_count": 26,
   "id": "1141d5bf-e6cf-4d73-b4fb-f6e30b404d2e",
   "metadata": {},
   "outputs": [],
   "source": [
    "# Python3 dict to contain training metrics-\n",
    "training_history = {}\n",
    "\n",
    "# Initialize parameters saving 'best' models-\n",
    "best_val_acc = 80"
   ]
  },
  {
   "cell_type": "code",
   "execution_count": null,
   "id": "f16bd267-28b5-4aa1-92d7-7f78a1972370",
   "metadata": {},
   "outputs": [],
   "source": []
  },
  {
   "cell_type": "code",
   "execution_count": 27,
   "id": "f2702c25-54ae-4eda-80d3-4e1f2b3ea10d",
   "metadata": {},
   "outputs": [
    {
     "name": "stderr",
     "output_type": "stream",
     "text": [
      "Training: : 100%|███████████████████████████████████████| 196/196 [00:49<00:00,  3.96batch/s, accuracy=85.2, loss=0.42]\n",
      "Validation: : 100%|██████████████████████████████████████| 40/40 [00:04<00:00,  9.01batch/s, val_acc=86, val_loss=94.6]\n"
     ]
    },
    {
     "name": "stdout",
     "output_type": "stream",
     "text": [
      "Epoch: 1; loss = 0.4198, acc = 85.18%  val loss = 94.6254, val acc = 85.97% & LR = 0.10000\n",
      "Saving model with highest val_acc = 85.97%\n",
      "\n"
     ]
    },
    {
     "name": "stderr",
     "output_type": "stream",
     "text": [
      "Training: : 100%|██████████████████████████████████████| 196/196 [00:48<00:00,  4.05batch/s, accuracy=85.8, loss=0.376]\n",
      "Validation: : 100%|████████████████████████████████████| 40/40 [00:04<00:00,  8.92batch/s, val_acc=85.7, val_loss=94.8]\n"
     ]
    },
    {
     "name": "stdout",
     "output_type": "stream",
     "text": [
      "Epoch: 2; loss = 0.3763, acc = 85.82%  val loss = 94.7540, val acc = 85.72% & LR = 0.10000\n"
     ]
    },
    {
     "name": "stderr",
     "output_type": "stream",
     "text": [
      "Training: : 100%|██████████████████████████████████████| 196/196 [00:48<00:00,  4.04batch/s, accuracy=85.7, loss=0.375]\n",
      "Validation: : 100%|████████████████████████████████████| 40/40 [00:04<00:00,  8.92batch/s, val_acc=85.5, val_loss=95.1]\n"
     ]
    },
    {
     "name": "stdout",
     "output_type": "stream",
     "text": [
      "Epoch: 3; loss = 0.3753, acc = 85.71%  val loss = 95.0992, val acc = 85.49% & LR = 0.10000\n"
     ]
    },
    {
     "name": "stderr",
     "output_type": "stream",
     "text": [
      "Training: : 100%|██████████████████████████████████████| 196/196 [00:47<00:00,  4.15batch/s, accuracy=85.9, loss=0.375]\n",
      "Validation: : 100%|████████████████████████████████████| 40/40 [00:04<00:00,  9.10batch/s, val_acc=85.7, val_loss=94.7]\n"
     ]
    },
    {
     "name": "stdout",
     "output_type": "stream",
     "text": [
      "Epoch: 4; loss = 0.3751, acc = 85.87%  val loss = 94.6601, val acc = 85.65% & LR = 0.10000\n"
     ]
    },
    {
     "name": "stderr",
     "output_type": "stream",
     "text": [
      "Training: : 100%|██████████████████████████████████████| 196/196 [00:48<00:00,  4.07batch/s, accuracy=85.9, loss=0.375]\n",
      "Validation: : 100%|████████████████████████████████████| 40/40 [00:04<00:00,  8.90batch/s, val_acc=85.8, val_loss=93.9]\n"
     ]
    },
    {
     "name": "stdout",
     "output_type": "stream",
     "text": [
      "Epoch: 5; loss = 0.3751, acc = 85.90%  val loss = 93.8548, val acc = 85.76% & LR = 0.10000\n"
     ]
    },
    {
     "name": "stderr",
     "output_type": "stream",
     "text": [
      "Training: : 100%|██████████████████████████████████████| 196/196 [00:55<00:00,  3.54batch/s, accuracy=85.7, loss=0.377]\n",
      "Validation: : 100%|██████████████████████████████████████| 40/40 [00:06<00:00,  6.14batch/s, val_acc=86, val_loss=94.5]\n"
     ]
    },
    {
     "name": "stdout",
     "output_type": "stream",
     "text": [
      "Epoch: 6; loss = 0.3771, acc = 85.71%  val loss = 94.5495, val acc = 86.01% & LR = 0.10000\n",
      "Saving model with highest val_acc = 86.01%\n",
      "\n"
     ]
    },
    {
     "name": "stderr",
     "output_type": "stream",
     "text": [
      "Training: : 100%|██████████████████████████████████████| 196/196 [00:59<00:00,  3.27batch/s, accuracy=85.7, loss=0.375]\n",
      "Validation: : 100%|████████████████████████████████████| 40/40 [00:04<00:00,  9.02batch/s, val_acc=85.6, val_loss=94.7]\n"
     ]
    },
    {
     "name": "stdout",
     "output_type": "stream",
     "text": [
      "Epoch: 7; loss = 0.3754, acc = 85.69%  val loss = 94.7431, val acc = 85.62% & LR = 0.10000\n"
     ]
    },
    {
     "name": "stderr",
     "output_type": "stream",
     "text": [
      "Training: : 100%|██████████████████████████████████████| 196/196 [00:49<00:00,  3.96batch/s, accuracy=85.7, loss=0.376]\n",
      "Validation: : 100%|████████████████████████████████████| 40/40 [00:04<00:00,  8.98batch/s, val_acc=85.7, val_loss=94.8]\n"
     ]
    },
    {
     "name": "stdout",
     "output_type": "stream",
     "text": [
      "Epoch: 8; loss = 0.3764, acc = 85.74%  val loss = 94.7599, val acc = 85.71% & LR = 0.10000\n"
     ]
    },
    {
     "name": "stderr",
     "output_type": "stream",
     "text": [
      "Training: : 100%|██████████████████████████████████████| 196/196 [00:49<00:00,  3.96batch/s, accuracy=85.9, loss=0.374]\n",
      "Validation: : 100%|████████████████████████████████████| 40/40 [00:04<00:00,  8.94batch/s, val_acc=85.6, val_loss=96.6]\n"
     ]
    },
    {
     "name": "stdout",
     "output_type": "stream",
     "text": [
      "Epoch: 9; loss = 0.3740, acc = 85.88%  val loss = 96.5793, val acc = 85.56% & LR = 0.01000\n"
     ]
    },
    {
     "name": "stderr",
     "output_type": "stream",
     "text": [
      "Training: : 100%|██████████████████████████████████████| 196/196 [00:48<00:00,  4.01batch/s, accuracy=85.9, loss=0.373]\n",
      "Validation: : 100%|████████████████████████████████████| 40/40 [00:04<00:00,  8.92batch/s, val_acc=85.8, val_loss=94.4]\n"
     ]
    },
    {
     "name": "stdout",
     "output_type": "stream",
     "text": [
      "Epoch: 10; loss = 0.3733, acc = 85.89%  val loss = 94.3756, val acc = 85.83% & LR = 0.01000\n"
     ]
    },
    {
     "name": "stderr",
     "output_type": "stream",
     "text": [
      "Training: : 100%|██████████████████████████████████████| 196/196 [00:48<00:00,  4.03batch/s, accuracy=85.8, loss=0.374]\n",
      "Validation: : 100%|████████████████████████████████████| 40/40 [00:04<00:00,  8.69batch/s, val_acc=85.9, val_loss=94.2]\n"
     ]
    },
    {
     "name": "stdout",
     "output_type": "stream",
     "text": [
      "Epoch: 11; loss = 0.3745, acc = 85.82%  val loss = 94.2096, val acc = 85.85% & LR = 0.01000\n"
     ]
    },
    {
     "name": "stderr",
     "output_type": "stream",
     "text": [
      "Training: : 100%|██████████████████████████████████████| 196/196 [00:48<00:00,  4.03batch/s, accuracy=85.9, loss=0.374]\n",
      "Validation: : 100%|██████████████████████████████████████| 40/40 [00:04<00:00,  8.91batch/s, val_acc=85.7, val_loss=95]\n"
     ]
    },
    {
     "name": "stdout",
     "output_type": "stream",
     "text": [
      "Epoch: 12; loss = 0.3740, acc = 85.92%  val loss = 95.0011, val acc = 85.71% & LR = 0.01000\n"
     ]
    },
    {
     "name": "stderr",
     "output_type": "stream",
     "text": [
      "Training: : 100%|██████████████████████████████████████| 196/196 [00:48<00:00,  4.01batch/s, accuracy=86.1, loss=0.369]\n",
      "Validation: : 100%|██████████████████████████████████████| 40/40 [00:04<00:00,  8.90batch/s, val_acc=86, val_loss=95.1]\n"
     ]
    },
    {
     "name": "stdout",
     "output_type": "stream",
     "text": [
      "Epoch: 13; loss = 0.3691, acc = 86.11%  val loss = 95.0687, val acc = 85.96% & LR = 0.01000\n"
     ]
    },
    {
     "name": "stderr",
     "output_type": "stream",
     "text": [
      "Training: : 100%|██████████████████████████████████████| 196/196 [00:49<00:00,  3.98batch/s, accuracy=85.7, loss=0.373]\n",
      "Validation: : 100%|████████████████████████████████████| 40/40 [00:04<00:00,  8.89batch/s, val_acc=85.9, val_loss=93.5]\n"
     ]
    },
    {
     "name": "stdout",
     "output_type": "stream",
     "text": [
      "Epoch: 14; loss = 0.3735, acc = 85.74%  val loss = 93.5382, val acc = 85.92% & LR = 0.01000\n"
     ]
    },
    {
     "name": "stderr",
     "output_type": "stream",
     "text": [
      "Training: : 100%|██████████████████████████████████████| 196/196 [00:49<00:00,  3.98batch/s, accuracy=85.9, loss=0.373]\n",
      "Validation: : 100%|██████████████████████████████████████| 40/40 [00:04<00:00,  8.81batch/s, val_acc=86, val_loss=94.1]\n"
     ]
    },
    {
     "name": "stdout",
     "output_type": "stream",
     "text": [
      "Epoch: 15; loss = 0.3733, acc = 85.87%  val loss = 94.1252, val acc = 86.01% & LR = 0.01000\n"
     ]
    },
    {
     "name": "stderr",
     "output_type": "stream",
     "text": [
      "Training: : 100%|██████████████████████████████████████| 196/196 [00:49<00:00,  3.98batch/s, accuracy=85.7, loss=0.374]\n",
      "Validation: : 100%|██████████████████████████████████████| 40/40 [00:04<00:00,  8.72batch/s, val_acc=86, val_loss=95.4]\n"
     ]
    },
    {
     "name": "stdout",
     "output_type": "stream",
     "text": [
      "Epoch: 16; loss = 0.3742, acc = 85.75%  val loss = 95.4440, val acc = 85.96% & LR = 0.01000\n"
     ]
    },
    {
     "name": "stderr",
     "output_type": "stream",
     "text": [
      "Training: : 100%|██████████████████████████████████████| 196/196 [00:47<00:00,  4.14batch/s, accuracy=85.8, loss=0.372]\n",
      "Validation: : 100%|██████████████████████████████████████| 40/40 [00:04<00:00,  8.90batch/s, val_acc=86, val_loss=94.3]\n"
     ]
    },
    {
     "name": "stdout",
     "output_type": "stream",
     "text": [
      "Epoch: 17; loss = 0.3716, acc = 85.84%  val loss = 94.2961, val acc = 85.96% & LR = 0.01000\n"
     ]
    },
    {
     "name": "stderr",
     "output_type": "stream",
     "text": [
      "Training: : 100%|██████████████████████████████████████| 196/196 [00:46<00:00,  4.18batch/s, accuracy=85.8, loss=0.371]\n",
      "Validation: : 100%|██████████████████████████████████████| 40/40 [00:04<00:00,  9.13batch/s, val_acc=86, val_loss=95.7]\n"
     ]
    },
    {
     "name": "stdout",
     "output_type": "stream",
     "text": [
      "Epoch: 18; loss = 0.3714, acc = 85.79%  val loss = 95.7306, val acc = 85.95% & LR = 0.01000\n"
     ]
    },
    {
     "name": "stderr",
     "output_type": "stream",
     "text": [
      "Training: : 100%|████████████████████████████████████████| 196/196 [00:46<00:00,  4.19batch/s, accuracy=86, loss=0.369]\n",
      "Validation: : 100%|████████████████████████████████████| 40/40 [00:04<00:00,  8.98batch/s, val_acc=85.8, val_loss=94.5]\n"
     ]
    },
    {
     "name": "stdout",
     "output_type": "stream",
     "text": [
      "Epoch: 19; loss = 0.3694, acc = 86.04%  val loss = 94.5462, val acc = 85.83% & LR = 0.01000\n"
     ]
    },
    {
     "name": "stderr",
     "output_type": "stream",
     "text": [
      "Training: : 100%|██████████████████████████████████████| 196/196 [00:46<00:00,  4.17batch/s, accuracy=85.8, loss=0.375]\n",
      "Validation: : 100%|██████████████████████████████████████| 40/40 [00:04<00:00,  8.93batch/s, val_acc=85.8, val_loss=95]\n"
     ]
    },
    {
     "name": "stdout",
     "output_type": "stream",
     "text": [
      "Epoch: 20; loss = 0.3746, acc = 85.84%  val loss = 94.9579, val acc = 85.84% & LR = 0.00100\n"
     ]
    },
    {
     "name": "stderr",
     "output_type": "stream",
     "text": [
      "Training: : 100%|████████████████████████████████████████| 196/196 [00:47<00:00,  4.16batch/s, accuracy=86, loss=0.372]\n",
      "Validation: : 100%|████████████████████████████████████| 40/40 [00:04<00:00,  9.00batch/s, val_acc=85.8, val_loss=94.1]\n"
     ]
    },
    {
     "name": "stdout",
     "output_type": "stream",
     "text": [
      "Epoch: 21; loss = 0.3719, acc = 86.02%  val loss = 94.1021, val acc = 85.80% & LR = 0.00100\n"
     ]
    },
    {
     "name": "stderr",
     "output_type": "stream",
     "text": [
      "Training: : 100%|██████████████████████████████████████| 196/196 [00:47<00:00,  4.17batch/s, accuracy=85.9, loss=0.373]\n",
      "Validation: : 100%|██████████████████████████████████████| 40/40 [00:04<00:00,  8.77batch/s, val_acc=86, val_loss=94.1]\n"
     ]
    },
    {
     "name": "stdout",
     "output_type": "stream",
     "text": [
      "Epoch: 22; loss = 0.3729, acc = 85.87%  val loss = 94.1023, val acc = 85.97% & LR = 0.00100\n"
     ]
    },
    {
     "name": "stderr",
     "output_type": "stream",
     "text": [
      "Training: : 100%|██████████████████████████████████████| 196/196 [00:48<00:00,  4.07batch/s, accuracy=85.9, loss=0.374]\n",
      "Validation: : 100%|████████████████████████████████████| 40/40 [00:04<00:00,  9.06batch/s, val_acc=85.7, val_loss=94.5]\n"
     ]
    },
    {
     "name": "stdout",
     "output_type": "stream",
     "text": [
      "Epoch: 23; loss = 0.3741, acc = 85.85%  val loss = 94.5167, val acc = 85.74% & LR = 0.00100\n"
     ]
    },
    {
     "name": "stderr",
     "output_type": "stream",
     "text": [
      "Training: : 100%|██████████████████████████████████████| 196/196 [00:52<00:00,  3.76batch/s, accuracy=85.9, loss=0.372]\n",
      "Validation: : 100%|████████████████████████████████████| 40/40 [00:04<00:00,  8.90batch/s, val_acc=85.8, val_loss=94.8]\n"
     ]
    },
    {
     "name": "stdout",
     "output_type": "stream",
     "text": [
      "Epoch: 24; loss = 0.3724, acc = 85.91%  val loss = 94.7999, val acc = 85.83% & LR = 0.00100\n"
     ]
    },
    {
     "name": "stderr",
     "output_type": "stream",
     "text": [
      "Training: : 100%|██████████████████████████████████████| 196/196 [00:48<00:00,  4.06batch/s, accuracy=85.9, loss=0.371]\n",
      "Validation: : 100%|██████████████████████████████████████| 40/40 [00:04<00:00,  8.94batch/s, val_acc=85.5, val_loss=95]"
     ]
    },
    {
     "name": "stdout",
     "output_type": "stream",
     "text": [
      "Epoch: 25; loss = 0.3715, acc = 85.87%  val loss = 95.0386, val acc = 85.53% & LR = 0.00100\n"
     ]
    },
    {
     "name": "stderr",
     "output_type": "stream",
     "text": [
      "\n"
     ]
    }
   ],
   "source": [
    "for epoch in range(1, num_epochs + 1):\n",
    "\n",
    "    # Train and validate model for 1 epoch-\n",
    "    train_loss, train_acc = train_model_progress(\n",
    "        model = trained_model, train_loader = train_loader,\n",
    "        train_dataset = train_dataset\n",
    "    )\n",
    "    \n",
    "    val_loss, val_acc = test_model_progress(\n",
    "        model = trained_model, test_loader = test_loader,\n",
    "        test_dataset = test_loader\n",
    "    )\n",
    "    \n",
    "    scheduler.step()\n",
    "    current_lr = optimizer.param_groups[0][\"lr\"]\n",
    "    \n",
    "    print(f\"Epoch: {epoch}; loss = {train_loss:.4f}, acc = {train_acc:.2f}%\",\n",
    "          f\" val loss = {val_loss:.4f}, val acc = {val_acc:.2f}% & LR = {current_lr:.5f}\"\n",
    "         )\n",
    "    \n",
    "    # Save training metrics to Python3 dict-\n",
    "    training_history[epoch] = {\n",
    "        'train_loss': train_loss, 'val_loss': val_loss,\n",
    "        'train_acc': train_acc, 'val_acc': val_acc,\n",
    "        'lr': current_lr\n",
    "    }\n",
    "\n",
    "    # Save best weights achieved until now-\n",
    "    if (val_acc > best_val_acc):    \n",
    "        # update 'best_val_loss' variable to lowest loss encountered so far-\n",
    "        best_val_acc = val_acc\n",
    "\n",
    "        print(f\"Saving model with highest val_acc = {val_acc:.2f}%\\n\")\n",
    "        \n",
    "        # Save trained model with 'best' validation accuracy-\n",
    "        torch.save(trained_model.state_dict(), \"ResNet18_CIFAR10_RotNet_finetuned_best_acc.pth\")\n",
    "        "
   ]
  },
  {
   "cell_type": "code",
   "execution_count": null,
   "id": "2ce4cc35-d395-453c-8371-65208a6d5d7a",
   "metadata": {},
   "outputs": [],
   "source": []
  },
  {
   "cell_type": "code",
   "execution_count": 38,
   "id": "f9792553-5719-4be1-8f0a-4cb66d886493",
   "metadata": {},
   "outputs": [],
   "source": [
    "# Unfreeze all layers-\n",
    "for param in trained_model.parameters():\n",
    "    param.requires_grad = True"
   ]
  },
  {
   "cell_type": "code",
   "execution_count": 39,
   "id": "7f2734fe-0808-4840-983d-a22f55e2797f",
   "metadata": {},
   "outputs": [
    {
     "name": "stdout",
     "output_type": "stream",
     "text": [
      "layer: conv1.weight, shape: torch.Size([64, 3, 3, 3]), requires grad? True\n",
      "layer: bn1.weight, shape: torch.Size([64]), requires grad? True\n",
      "layer: bn1.bias, shape: torch.Size([64]), requires grad? True\n",
      "layer: resblock1.conv1.weight, shape: torch.Size([64, 64, 3, 3]), requires grad? True\n",
      "layer: resblock1.bn1.weight, shape: torch.Size([64]), requires grad? True\n",
      "layer: resblock1.bn1.bias, shape: torch.Size([64]), requires grad? True\n",
      "layer: resblock1.conv2.weight, shape: torch.Size([64, 64, 3, 3]), requires grad? True\n",
      "layer: resblock1.bn2.weight, shape: torch.Size([64]), requires grad? True\n",
      "layer: resblock1.bn2.bias, shape: torch.Size([64]), requires grad? True\n",
      "layer: resblock2.conv1.weight, shape: torch.Size([64, 64, 3, 3]), requires grad? True\n",
      "layer: resblock2.bn1.weight, shape: torch.Size([64]), requires grad? True\n",
      "layer: resblock2.bn1.bias, shape: torch.Size([64]), requires grad? True\n",
      "layer: resblock2.conv2.weight, shape: torch.Size([64, 64, 3, 3]), requires grad? True\n",
      "layer: resblock2.bn2.weight, shape: torch.Size([64]), requires grad? True\n",
      "layer: resblock2.bn2.bias, shape: torch.Size([64]), requires grad? True\n",
      "layer: resblock3.conv1.weight, shape: torch.Size([128, 64, 3, 3]), requires grad? True\n",
      "layer: resblock3.bn1.weight, shape: torch.Size([128]), requires grad? True\n",
      "layer: resblock3.bn1.bias, shape: torch.Size([128]), requires grad? True\n",
      "layer: resblock3.conv2.weight, shape: torch.Size([128, 128, 3, 3]), requires grad? True\n",
      "layer: resblock3.bn2.weight, shape: torch.Size([128]), requires grad? True\n",
      "layer: resblock3.bn2.bias, shape: torch.Size([128]), requires grad? True\n",
      "layer: resblock3.conv3.weight, shape: torch.Size([128, 64, 1, 1]), requires grad? True\n",
      "layer: resblock3.bn3.weight, shape: torch.Size([128]), requires grad? True\n",
      "layer: resblock3.bn3.bias, shape: torch.Size([128]), requires grad? True\n",
      "layer: resblock4.conv1.weight, shape: torch.Size([128, 128, 3, 3]), requires grad? True\n",
      "layer: resblock4.bn1.weight, shape: torch.Size([128]), requires grad? True\n",
      "layer: resblock4.bn1.bias, shape: torch.Size([128]), requires grad? True\n",
      "layer: resblock4.conv2.weight, shape: torch.Size([128, 128, 3, 3]), requires grad? True\n",
      "layer: resblock4.bn2.weight, shape: torch.Size([128]), requires grad? True\n",
      "layer: resblock4.bn2.bias, shape: torch.Size([128]), requires grad? True\n",
      "layer: resblock5.conv1.weight, shape: torch.Size([256, 128, 3, 3]), requires grad? True\n",
      "layer: resblock5.bn1.weight, shape: torch.Size([256]), requires grad? True\n",
      "layer: resblock5.bn1.bias, shape: torch.Size([256]), requires grad? True\n",
      "layer: resblock5.conv2.weight, shape: torch.Size([256, 256, 3, 3]), requires grad? True\n",
      "layer: resblock5.bn2.weight, shape: torch.Size([256]), requires grad? True\n",
      "layer: resblock5.bn2.bias, shape: torch.Size([256]), requires grad? True\n",
      "layer: resblock5.conv3.weight, shape: torch.Size([256, 128, 1, 1]), requires grad? True\n",
      "layer: resblock5.bn3.weight, shape: torch.Size([256]), requires grad? True\n",
      "layer: resblock5.bn3.bias, shape: torch.Size([256]), requires grad? True\n",
      "layer: resblock6.conv1.weight, shape: torch.Size([256, 256, 3, 3]), requires grad? True\n",
      "layer: resblock6.bn1.weight, shape: torch.Size([256]), requires grad? True\n",
      "layer: resblock6.bn1.bias, shape: torch.Size([256]), requires grad? True\n",
      "layer: resblock6.conv2.weight, shape: torch.Size([256, 256, 3, 3]), requires grad? True\n",
      "layer: resblock6.bn2.weight, shape: torch.Size([256]), requires grad? True\n",
      "layer: resblock6.bn2.bias, shape: torch.Size([256]), requires grad? True\n",
      "layer: resblock7.conv1.weight, shape: torch.Size([512, 256, 3, 3]), requires grad? True\n",
      "layer: resblock7.bn1.weight, shape: torch.Size([512]), requires grad? True\n",
      "layer: resblock7.bn1.bias, shape: torch.Size([512]), requires grad? True\n",
      "layer: resblock7.conv2.weight, shape: torch.Size([512, 512, 3, 3]), requires grad? True\n",
      "layer: resblock7.bn2.weight, shape: torch.Size([512]), requires grad? True\n",
      "layer: resblock7.bn2.bias, shape: torch.Size([512]), requires grad? True\n",
      "layer: resblock7.conv3.weight, shape: torch.Size([512, 256, 1, 1]), requires grad? True\n",
      "layer: resblock7.bn3.weight, shape: torch.Size([512]), requires grad? True\n",
      "layer: resblock7.bn3.bias, shape: torch.Size([512]), requires grad? True\n",
      "layer: resblock8.conv1.weight, shape: torch.Size([512, 512, 3, 3]), requires grad? True\n",
      "layer: resblock8.bn1.weight, shape: torch.Size([512]), requires grad? True\n",
      "layer: resblock8.bn1.bias, shape: torch.Size([512]), requires grad? True\n",
      "layer: resblock8.conv2.weight, shape: torch.Size([512, 512, 3, 3]), requires grad? True\n",
      "layer: resblock8.bn2.weight, shape: torch.Size([512]), requires grad? True\n",
      "layer: resblock8.bn2.bias, shape: torch.Size([512]), requires grad? True\n",
      "layer: op_layer.weight, shape: torch.Size([10, 512]), requires grad? True\n",
      "layer: op_layer.bias, shape: torch.Size([10]), requires grad? True\n"
     ]
    }
   ],
   "source": [
    "# Sanity check-\n",
    "for layer_name, param in trained_model.named_parameters():\n",
    "    print(f\"layer: {layer_name}, shape: {param.shape}, requires grad? {param.requires_grad}\")"
   ]
  },
  {
   "cell_type": "code",
   "execution_count": null,
   "id": "4f8af9e7-e27d-400c-8e4b-9c49fdec9c5c",
   "metadata": {},
   "outputs": [],
   "source": []
  },
  {
   "cell_type": "code",
   "execution_count": 40,
   "id": "53d4dcfc-9126-403f-b2b5-d50d7ad6bd47",
   "metadata": {},
   "outputs": [],
   "source": [
    "optimizer = torch.optim.SGD(trained_model.parameters(), lr = 0.0001, momentum = 0.9)\n",
    "\n",
    "# Decay lr at 45th and 75th epochs by a factor of 10-\n",
    "scheduler = torch.optim.lr_scheduler.MultiStepLR(\n",
    "    optimizer = optimizer, milestones = [45, 75],\n",
    "    gamma = 0.1\n",
    ")"
   ]
  },
  {
   "cell_type": "code",
   "execution_count": null,
   "id": "7a30d80d-ffdf-4c7b-bd7a-a6a0ea3b84ea",
   "metadata": {},
   "outputs": [],
   "source": []
  },
  {
   "cell_type": "code",
   "execution_count": 41,
   "id": "b1d3601e-74fe-486a-a774-d9266ec0cfdc",
   "metadata": {},
   "outputs": [],
   "source": [
    "# Train for 50 more epochs-\n",
    "num_epochs = 50"
   ]
  },
  {
   "cell_type": "code",
   "execution_count": 43,
   "id": "2970da74-1b73-476d-af1e-81ea9b3687f9",
   "metadata": {},
   "outputs": [],
   "source": [
    "trained_model = trained_model.to(device)"
   ]
  },
  {
   "cell_type": "code",
   "execution_count": null,
   "id": "c30438c0-ecbd-47b0-b2f7-3af09913b741",
   "metadata": {},
   "outputs": [],
   "source": []
  },
  {
   "cell_type": "code",
   "execution_count": 44,
   "id": "e9c5895a-bedb-4d7e-bb61-494edc792a3f",
   "metadata": {},
   "outputs": [
    {
     "name": "stderr",
     "output_type": "stream",
     "text": [
      "Training: : 100%|██████████████████████████████████████| 196/196 [00:54<00:00,  3.57batch/s, accuracy=85.8, loss=0.376]\n",
      "Validation: : 100%|████████████████████████████████████| 40/40 [00:04<00:00,  9.50batch/s, val_acc=85.9, val_loss=94.7]\n"
     ]
    },
    {
     "name": "stdout",
     "output_type": "stream",
     "text": [
      "Epoch: 26; loss = 0.3759, acc = 85.82%  val loss = 94.7465, val acc = 85.92% & LR = 0.00010000\n"
     ]
    },
    {
     "name": "stderr",
     "output_type": "stream",
     "text": [
      "Training: : 100%|██████████████████████████████████████| 196/196 [00:55<00:00,  3.55batch/s, accuracy=85.9, loss=0.374]\n",
      "Validation: : 100%|████████████████████████████████████| 40/40 [00:04<00:00,  9.38batch/s, val_acc=85.9, val_loss=94.8]\n"
     ]
    },
    {
     "name": "stdout",
     "output_type": "stream",
     "text": [
      "Epoch: 27; loss = 0.3738, acc = 85.93%  val loss = 94.7562, val acc = 85.87% & LR = 0.00010000\n"
     ]
    },
    {
     "name": "stderr",
     "output_type": "stream",
     "text": [
      "Training: : 100%|██████████████████████████████████████| 196/196 [00:55<00:00,  3.53batch/s, accuracy=85.7, loss=0.374]\n",
      "Validation: : 100%|████████████████████████████████████| 40/40 [00:04<00:00,  9.60batch/s, val_acc=85.9, val_loss=94.2]\n"
     ]
    },
    {
     "name": "stdout",
     "output_type": "stream",
     "text": [
      "Epoch: 28; loss = 0.3743, acc = 85.74%  val loss = 94.2157, val acc = 85.94% & LR = 0.00010000\n"
     ]
    },
    {
     "name": "stderr",
     "output_type": "stream",
     "text": [
      "Training: : 100%|██████████████████████████████████████| 196/196 [00:55<00:00,  3.53batch/s, accuracy=86.1, loss=0.371]\n",
      "Validation: : 100%|████████████████████████████████████| 40/40 [00:04<00:00,  9.48batch/s, val_acc=86.1, val_loss=94.1]\n"
     ]
    },
    {
     "name": "stdout",
     "output_type": "stream",
     "text": [
      "Epoch: 29; loss = 0.3711, acc = 86.09%  val loss = 94.1217, val acc = 86.05% & LR = 0.00010000\n",
      "Saving model with highest val_acc = 86.05%\n",
      "\n"
     ]
    },
    {
     "name": "stderr",
     "output_type": "stream",
     "text": [
      "Training: : 100%|████████████████████████████████████████| 196/196 [00:55<00:00,  3.54batch/s, accuracy=86, loss=0.372]\n",
      "Validation: : 100%|████████████████████████████████████| 40/40 [00:04<00:00,  9.65batch/s, val_acc=85.7, val_loss=95.3]\n"
     ]
    },
    {
     "name": "stdout",
     "output_type": "stream",
     "text": [
      "Epoch: 30; loss = 0.3720, acc = 85.96%  val loss = 95.3165, val acc = 85.73% & LR = 0.00010000\n"
     ]
    },
    {
     "name": "stderr",
     "output_type": "stream",
     "text": [
      "Training: : 100%|██████████████████████████████████████| 196/196 [00:54<00:00,  3.57batch/s, accuracy=85.9, loss=0.371]\n",
      "Validation: : 100%|████████████████████████████████████| 40/40 [00:04<00:00,  9.60batch/s, val_acc=85.6, val_loss=94.9]\n"
     ]
    },
    {
     "name": "stdout",
     "output_type": "stream",
     "text": [
      "Epoch: 31; loss = 0.3707, acc = 85.89%  val loss = 94.9412, val acc = 85.62% & LR = 0.00010000\n"
     ]
    },
    {
     "name": "stderr",
     "output_type": "stream",
     "text": [
      "Training: : 100%|█████████████████████████████████████████| 196/196 [00:55<00:00,  3.56batch/s, accuracy=86, loss=0.37]\n",
      "Validation: : 100%|████████████████████████████████████| 40/40 [00:04<00:00,  9.69batch/s, val_acc=85.8, val_loss=93.6]\n"
     ]
    },
    {
     "name": "stdout",
     "output_type": "stream",
     "text": [
      "Epoch: 32; loss = 0.3701, acc = 86.01%  val loss = 93.6173, val acc = 85.84% & LR = 0.00010000\n"
     ]
    },
    {
     "name": "stderr",
     "output_type": "stream",
     "text": [
      "Training: : 100%|██████████████████████████████████████| 196/196 [00:55<00:00,  3.54batch/s, accuracy=86.1, loss=0.367]\n",
      "Validation: : 100%|██████████████████████████████████████| 40/40 [00:04<00:00,  9.66batch/s, val_acc=86, val_loss=93.3]\n"
     ]
    },
    {
     "name": "stdout",
     "output_type": "stream",
     "text": [
      "Epoch: 33; loss = 0.3672, acc = 86.14%  val loss = 93.3036, val acc = 85.99% & LR = 0.00010000\n"
     ]
    },
    {
     "name": "stderr",
     "output_type": "stream",
     "text": [
      "Training: : 100%|██████████████████████████████████████| 196/196 [00:55<00:00,  3.55batch/s, accuracy=85.9, loss=0.376]\n",
      "Validation: : 100%|████████████████████████████████████| 40/40 [00:04<00:00,  9.58batch/s, val_acc=85.9, val_loss=93.5]\n"
     ]
    },
    {
     "name": "stdout",
     "output_type": "stream",
     "text": [
      "Epoch: 34; loss = 0.3760, acc = 85.88%  val loss = 93.4716, val acc = 85.94% & LR = 0.00010000\n"
     ]
    },
    {
     "name": "stderr",
     "output_type": "stream",
     "text": [
      "Training: : 100%|██████████████████████████████████████| 196/196 [00:55<00:00,  3.55batch/s, accuracy=86.1, loss=0.369]\n",
      "Validation: : 100%|████████████████████████████████████| 40/40 [00:04<00:00,  9.69batch/s, val_acc=85.9, val_loss=93.9]\n"
     ]
    },
    {
     "name": "stdout",
     "output_type": "stream",
     "text": [
      "Epoch: 35; loss = 0.3694, acc = 86.12%  val loss = 93.9026, val acc = 85.87% & LR = 0.00010000\n"
     ]
    },
    {
     "name": "stderr",
     "output_type": "stream",
     "text": [
      "Training: : 100%|██████████████████████████████████████| 196/196 [00:55<00:00,  3.55batch/s, accuracy=86.2, loss=0.367]\n",
      "Validation: : 100%|████████████████████████████████████| 40/40 [00:04<00:00,  9.69batch/s, val_acc=85.9, val_loss=93.9]\n"
     ]
    },
    {
     "name": "stdout",
     "output_type": "stream",
     "text": [
      "Epoch: 36; loss = 0.3667, acc = 86.24%  val loss = 93.9077, val acc = 85.88% & LR = 0.00010000\n"
     ]
    },
    {
     "name": "stderr",
     "output_type": "stream",
     "text": [
      "Training: : 100%|██████████████████████████████████████| 196/196 [00:54<00:00,  3.57batch/s, accuracy=85.9, loss=0.369]\n",
      "Validation: : 100%|████████████████████████████████████| 40/40 [00:04<00:00,  9.78batch/s, val_acc=85.8, val_loss=93.3]\n"
     ]
    },
    {
     "name": "stdout",
     "output_type": "stream",
     "text": [
      "Epoch: 37; loss = 0.3686, acc = 85.86%  val loss = 93.2963, val acc = 85.76% & LR = 0.00010000\n"
     ]
    },
    {
     "name": "stderr",
     "output_type": "stream",
     "text": [
      "Training: : 100%|██████████████████████████████████████| 196/196 [00:55<00:00,  3.54batch/s, accuracy=86.3, loss=0.366]\n",
      "Validation: : 100%|██████████████████████████████████████| 40/40 [00:04<00:00,  9.64batch/s, val_acc=86, val_loss=94.4]\n"
     ]
    },
    {
     "name": "stdout",
     "output_type": "stream",
     "text": [
      "Epoch: 38; loss = 0.3659, acc = 86.30%  val loss = 94.3583, val acc = 86.03% & LR = 0.00010000\n"
     ]
    },
    {
     "name": "stderr",
     "output_type": "stream",
     "text": [
      "Training: : 100%|██████████████████████████████████████| 196/196 [00:54<00:00,  3.57batch/s, accuracy=86.2, loss=0.367]\n",
      "Validation: : 100%|████████████████████████████████████| 40/40 [00:04<00:00,  9.62batch/s, val_acc=85.9, val_loss=93.9]\n"
     ]
    },
    {
     "name": "stdout",
     "output_type": "stream",
     "text": [
      "Epoch: 39; loss = 0.3674, acc = 86.24%  val loss = 93.8614, val acc = 85.92% & LR = 0.00010000\n"
     ]
    },
    {
     "name": "stderr",
     "output_type": "stream",
     "text": [
      "Training: : 100%|███████████████████████████████████████| 196/196 [00:55<00:00,  3.55batch/s, accuracy=85.9, loss=0.37]\n",
      "Validation: : 100%|████████████████████████████████████| 40/40 [00:04<00:00,  9.65batch/s, val_acc=86.2, val_loss=92.2]\n"
     ]
    },
    {
     "name": "stdout",
     "output_type": "stream",
     "text": [
      "Epoch: 40; loss = 0.3701, acc = 85.92%  val loss = 92.2144, val acc = 86.17% & LR = 0.00010000\n",
      "Saving model with highest val_acc = 86.17%\n",
      "\n"
     ]
    },
    {
     "name": "stderr",
     "output_type": "stream",
     "text": [
      "Training: : 100%|██████████████████████████████████████| 196/196 [00:55<00:00,  3.55batch/s, accuracy=86.1, loss=0.365]\n",
      "Validation: : 100%|████████████████████████████████████| 40/40 [00:04<00:00,  9.69batch/s, val_acc=85.9, val_loss=93.5]\n"
     ]
    },
    {
     "name": "stdout",
     "output_type": "stream",
     "text": [
      "Epoch: 41; loss = 0.3653, acc = 86.14%  val loss = 93.5054, val acc = 85.85% & LR = 0.00010000\n"
     ]
    },
    {
     "name": "stderr",
     "output_type": "stream",
     "text": [
      "Training: : 100%|███████████████████████████████████████| 196/196 [00:55<00:00,  3.56batch/s, accuracy=86.1, loss=0.37]\n",
      "Validation: : 100%|██████████████████████████████████████| 40/40 [00:04<00:00,  9.54batch/s, val_acc=86, val_loss=93.4]\n"
     ]
    },
    {
     "name": "stdout",
     "output_type": "stream",
     "text": [
      "Epoch: 42; loss = 0.3702, acc = 86.07%  val loss = 93.4221, val acc = 85.98% & LR = 0.00010000\n"
     ]
    },
    {
     "name": "stderr",
     "output_type": "stream",
     "text": [
      "Training: : 100%|██████████████████████████████████████| 196/196 [00:55<00:00,  3.55batch/s, accuracy=86.2, loss=0.365]\n",
      "Validation: : 100%|████████████████████████████████████| 40/40 [00:04<00:00,  9.39batch/s, val_acc=86.1, val_loss=92.6]\n"
     ]
    },
    {
     "name": "stdout",
     "output_type": "stream",
     "text": [
      "Epoch: 43; loss = 0.3647, acc = 86.17%  val loss = 92.5830, val acc = 86.07% & LR = 0.00010000\n"
     ]
    },
    {
     "name": "stderr",
     "output_type": "stream",
     "text": [
      "Training: : 100%|█████████████████████████████████████████| 196/196 [00:55<00:00,  3.56batch/s, accuracy=86, loss=0.37]\n",
      "Validation: : 100%|████████████████████████████████████| 40/40 [00:04<00:00,  9.73batch/s, val_acc=85.8, val_loss=94.2]\n"
     ]
    },
    {
     "name": "stdout",
     "output_type": "stream",
     "text": [
      "Epoch: 44; loss = 0.3703, acc = 85.97%  val loss = 94.2354, val acc = 85.80% & LR = 0.00010000\n"
     ]
    },
    {
     "name": "stderr",
     "output_type": "stream",
     "text": [
      "Training: : 100%|██████████████████████████████████████| 196/196 [00:55<00:00,  3.55batch/s, accuracy=86.2, loss=0.363]\n",
      "Validation: : 100%|████████████████████████████████████| 40/40 [00:04<00:00,  9.59batch/s, val_acc=86.1, val_loss=93.7]\n"
     ]
    },
    {
     "name": "stdout",
     "output_type": "stream",
     "text": [
      "Epoch: 45; loss = 0.3632, acc = 86.19%  val loss = 93.6515, val acc = 86.08% & LR = 0.00010000\n"
     ]
    },
    {
     "name": "stderr",
     "output_type": "stream",
     "text": [
      "Training: : 100%|█████████████████████████████████████████| 196/196 [00:55<00:00,  3.56batch/s, accuracy=86, loss=0.37]\n",
      "Validation: : 100%|████████████████████████████████████| 40/40 [00:04<00:00,  9.61batch/s, val_acc=85.9, val_loss=93.8]\n"
     ]
    },
    {
     "name": "stdout",
     "output_type": "stream",
     "text": [
      "Epoch: 46; loss = 0.3701, acc = 86.01%  val loss = 93.8266, val acc = 85.88% & LR = 0.00010000\n"
     ]
    },
    {
     "name": "stderr",
     "output_type": "stream",
     "text": [
      "Training: : 100%|██████████████████████████████████████| 196/196 [00:54<00:00,  3.57batch/s, accuracy=86.2, loss=0.367]\n",
      "Validation: : 100%|████████████████████████████████████████| 40/40 [00:04<00:00,  9.80batch/s, val_acc=86, val_loss=93]\n"
     ]
    },
    {
     "name": "stdout",
     "output_type": "stream",
     "text": [
      "Epoch: 47; loss = 0.3666, acc = 86.18%  val loss = 92.9538, val acc = 85.96% & LR = 0.00010000\n"
     ]
    },
    {
     "name": "stderr",
     "output_type": "stream",
     "text": [
      "Training: : 100%|██████████████████████████████████████| 196/196 [00:55<00:00,  3.54batch/s, accuracy=86.3, loss=0.366]\n",
      "Validation: : 100%|████████████████████████████████████| 40/40 [00:04<00:00,  9.46batch/s, val_acc=85.8, val_loss=94.1]\n"
     ]
    },
    {
     "name": "stdout",
     "output_type": "stream",
     "text": [
      "Epoch: 48; loss = 0.3663, acc = 86.29%  val loss = 94.0693, val acc = 85.82% & LR = 0.00010000\n"
     ]
    },
    {
     "name": "stderr",
     "output_type": "stream",
     "text": [
      "Training: : 100%|██████████████████████████████████████| 196/196 [00:55<00:00,  3.53batch/s, accuracy=86.2, loss=0.364]\n",
      "Validation: : 100%|████████████████████████████████████| 40/40 [00:04<00:00,  9.69batch/s, val_acc=85.9, val_loss=93.1]\n"
     ]
    },
    {
     "name": "stdout",
     "output_type": "stream",
     "text": [
      "Epoch: 49; loss = 0.3643, acc = 86.22%  val loss = 93.0714, val acc = 85.88% & LR = 0.00010000\n"
     ]
    },
    {
     "name": "stderr",
     "output_type": "stream",
     "text": [
      "Training: : 100%|██████████████████████████████████████| 196/196 [00:55<00:00,  3.55batch/s, accuracy=86.1, loss=0.364]\n",
      "Validation: : 100%|██████████████████████████████████████| 40/40 [00:04<00:00,  9.65batch/s, val_acc=86, val_loss=93.5]\n"
     ]
    },
    {
     "name": "stdout",
     "output_type": "stream",
     "text": [
      "Epoch: 50; loss = 0.3641, acc = 86.10%  val loss = 93.5295, val acc = 85.95% & LR = 0.00010000\n"
     ]
    },
    {
     "name": "stderr",
     "output_type": "stream",
     "text": [
      "Training: : 100%|██████████████████████████████████████| 196/196 [00:55<00:00,  3.55batch/s, accuracy=86.3, loss=0.365]\n",
      "Validation: : 100%|██████████████████████████████████████| 40/40 [00:04<00:00,  9.67batch/s, val_acc=86, val_loss=93.3]\n"
     ]
    },
    {
     "name": "stdout",
     "output_type": "stream",
     "text": [
      "Epoch: 51; loss = 0.3646, acc = 86.27%  val loss = 93.2757, val acc = 85.96% & LR = 0.00010000\n"
     ]
    },
    {
     "name": "stderr",
     "output_type": "stream",
     "text": [
      "Training: : 100%|██████████████████████████████████████| 196/196 [00:55<00:00,  3.53batch/s, accuracy=86.2, loss=0.365]\n",
      "Validation: : 100%|██████████████████████████████████████| 40/40 [00:04<00:00,  9.80batch/s, val_acc=86, val_loss=92.8]\n"
     ]
    },
    {
     "name": "stdout",
     "output_type": "stream",
     "text": [
      "Epoch: 52; loss = 0.3653, acc = 86.18%  val loss = 92.7937, val acc = 85.95% & LR = 0.00010000\n"
     ]
    },
    {
     "name": "stderr",
     "output_type": "stream",
     "text": [
      "Training: : 100%|██████████████████████████████████████| 196/196 [00:55<00:00,  3.55batch/s, accuracy=86.1, loss=0.365]\n",
      "Validation: : 100%|██████████████████████████████████████| 40/40 [00:04<00:00,  9.82batch/s, val_acc=85.9, val_loss=93]\n"
     ]
    },
    {
     "name": "stdout",
     "output_type": "stream",
     "text": [
      "Epoch: 53; loss = 0.3651, acc = 86.09%  val loss = 92.9542, val acc = 85.89% & LR = 0.00010000\n"
     ]
    },
    {
     "name": "stderr",
     "output_type": "stream",
     "text": [
      "Training: : 100%|██████████████████████████████████████| 196/196 [00:55<00:00,  3.51batch/s, accuracy=86.2, loss=0.364]\n",
      "Validation: : 100%|████████████████████████████████████████| 40/40 [00:04<00:00,  9.32batch/s, val_acc=86, val_loss=92]\n"
     ]
    },
    {
     "name": "stdout",
     "output_type": "stream",
     "text": [
      "Epoch: 54; loss = 0.3640, acc = 86.25%  val loss = 92.0391, val acc = 85.97% & LR = 0.00010000\n"
     ]
    },
    {
     "name": "stderr",
     "output_type": "stream",
     "text": [
      "Training: : 100%|██████████████████████████████████████| 196/196 [00:56<00:00,  3.48batch/s, accuracy=86.3, loss=0.362]\n",
      "Validation: : 100%|████████████████████████████████████| 40/40 [00:04<00:00,  9.58batch/s, val_acc=85.9, val_loss=93.5]\n"
     ]
    },
    {
     "name": "stdout",
     "output_type": "stream",
     "text": [
      "Epoch: 55; loss = 0.3622, acc = 86.28%  val loss = 93.5442, val acc = 85.94% & LR = 0.00010000\n"
     ]
    },
    {
     "name": "stderr",
     "output_type": "stream",
     "text": [
      "Training: : 100%|██████████████████████████████████████| 196/196 [00:55<00:00,  3.54batch/s, accuracy=86.4, loss=0.362]\n",
      "Validation: : 100%|████████████████████████████████████| 40/40 [00:04<00:00,  9.56batch/s, val_acc=86.1, val_loss=92.6]\n"
     ]
    },
    {
     "name": "stdout",
     "output_type": "stream",
     "text": [
      "Epoch: 56; loss = 0.3617, acc = 86.40%  val loss = 92.5869, val acc = 86.14% & LR = 0.00010000\n"
     ]
    },
    {
     "name": "stderr",
     "output_type": "stream",
     "text": [
      "Training: : 100%|██████████████████████████████████████| 196/196 [00:56<00:00,  3.49batch/s, accuracy=86.2, loss=0.363]\n",
      "Validation: : 100%|████████████████████████████████████████| 40/40 [00:04<00:00,  8.99batch/s, val_acc=86, val_loss=92]\n"
     ]
    },
    {
     "name": "stdout",
     "output_type": "stream",
     "text": [
      "Epoch: 57; loss = 0.3631, acc = 86.23%  val loss = 92.0193, val acc = 85.96% & LR = 0.00010000\n"
     ]
    },
    {
     "name": "stderr",
     "output_type": "stream",
     "text": [
      "Training: : 100%|██████████████████████████████████████| 196/196 [01:00<00:00,  3.24batch/s, accuracy=86.4, loss=0.363]\n",
      "Validation: : 100%|██████████████████████████████████████| 40/40 [00:04<00:00,  9.44batch/s, val_acc=86.1, val_loss=92]\n"
     ]
    },
    {
     "name": "stdout",
     "output_type": "stream",
     "text": [
      "Epoch: 58; loss = 0.3634, acc = 86.40%  val loss = 92.0382, val acc = 86.07% & LR = 0.00010000\n"
     ]
    },
    {
     "name": "stderr",
     "output_type": "stream",
     "text": [
      "Training: : 100%|██████████████████████████████████████| 196/196 [01:00<00:00,  3.27batch/s, accuracy=86.3, loss=0.362]\n",
      "Validation: : 100%|████████████████████████████████████| 40/40 [00:04<00:00,  8.79batch/s, val_acc=86.2, val_loss=91.8]\n"
     ]
    },
    {
     "name": "stdout",
     "output_type": "stream",
     "text": [
      "Epoch: 59; loss = 0.3620, acc = 86.31%  val loss = 91.8205, val acc = 86.25% & LR = 0.00010000\n",
      "Saving model with highest val_acc = 86.25%\n",
      "\n"
     ]
    },
    {
     "name": "stderr",
     "output_type": "stream",
     "text": [
      "Training: : 100%|██████████████████████████████████████| 196/196 [01:00<00:00,  3.25batch/s, accuracy=86.3, loss=0.361]\n",
      "Validation: : 100%|██████████████████████████████████████| 40/40 [00:04<00:00,  8.54batch/s, val_acc=86.3, val_loss=93]\n"
     ]
    },
    {
     "name": "stdout",
     "output_type": "stream",
     "text": [
      "Epoch: 60; loss = 0.3612, acc = 86.34%  val loss = 92.9935, val acc = 86.33% & LR = 0.00010000\n",
      "Saving model with highest val_acc = 86.33%\n",
      "\n"
     ]
    },
    {
     "name": "stderr",
     "output_type": "stream",
     "text": [
      "Training: : 100%|██████████████████████████████████████| 196/196 [01:02<00:00,  3.12batch/s, accuracy=86.3, loss=0.359]\n",
      "Validation: : 100%|████████████████████████████████████| 40/40 [00:04<00:00,  9.30batch/s, val_acc=85.9, val_loss=93.1]\n"
     ]
    },
    {
     "name": "stdout",
     "output_type": "stream",
     "text": [
      "Epoch: 61; loss = 0.3589, acc = 86.30%  val loss = 93.0527, val acc = 85.86% & LR = 0.00010000\n"
     ]
    },
    {
     "name": "stderr",
     "output_type": "stream",
     "text": [
      "Training: : 100%|██████████████████████████████████████| 196/196 [00:55<00:00,  3.51batch/s, accuracy=86.3, loss=0.363]\n",
      "Validation: : 100%|████████████████████████████████████| 40/40 [00:04<00:00,  9.31batch/s, val_acc=85.8, val_loss=93.9]\n"
     ]
    },
    {
     "name": "stdout",
     "output_type": "stream",
     "text": [
      "Epoch: 62; loss = 0.3629, acc = 86.27%  val loss = 93.9476, val acc = 85.76% & LR = 0.00010000\n"
     ]
    },
    {
     "name": "stderr",
     "output_type": "stream",
     "text": [
      "Training: : 100%|██████████████████████████████████████| 196/196 [00:57<00:00,  3.40batch/s, accuracy=86.5, loss=0.358]\n",
      "Validation: : 100%|████████████████████████████████████| 40/40 [00:04<00:00,  9.52batch/s, val_acc=85.9, val_loss=92.9]\n"
     ]
    },
    {
     "name": "stdout",
     "output_type": "stream",
     "text": [
      "Epoch: 63; loss = 0.3584, acc = 86.49%  val loss = 92.8812, val acc = 85.90% & LR = 0.00010000\n"
     ]
    },
    {
     "name": "stderr",
     "output_type": "stream",
     "text": [
      "Training: : 100%|███████████████████████████████████████| 196/196 [00:56<00:00,  3.50batch/s, accuracy=86.6, loss=0.36]\n",
      "Validation: : 100%|██████████████████████████████████████| 40/40 [00:04<00:00,  9.69batch/s, val_acc=86, val_loss=92.7]\n"
     ]
    },
    {
     "name": "stdout",
     "output_type": "stream",
     "text": [
      "Epoch: 64; loss = 0.3598, acc = 86.58%  val loss = 92.6735, val acc = 85.98% & LR = 0.00010000\n"
     ]
    },
    {
     "name": "stderr",
     "output_type": "stream",
     "text": [
      "Training: : 100%|██████████████████████████████████████| 196/196 [00:56<00:00,  3.49batch/s, accuracy=86.4, loss=0.361]\n",
      "Validation: : 100%|████████████████████████████████████| 40/40 [00:04<00:00,  9.09batch/s, val_acc=86.2, val_loss=92.6]\n"
     ]
    },
    {
     "name": "stdout",
     "output_type": "stream",
     "text": [
      "Epoch: 65; loss = 0.3610, acc = 86.40%  val loss = 92.6441, val acc = 86.22% & LR = 0.00010000\n"
     ]
    },
    {
     "name": "stderr",
     "output_type": "stream",
     "text": [
      "Training: : 100%|██████████████████████████████████████| 196/196 [00:57<00:00,  3.43batch/s, accuracy=86.2, loss=0.363]\n",
      "Validation: : 100%|████████████████████████████████████| 40/40 [00:04<00:00,  9.67batch/s, val_acc=86.1, val_loss=92.6]\n"
     ]
    },
    {
     "name": "stdout",
     "output_type": "stream",
     "text": [
      "Epoch: 66; loss = 0.3629, acc = 86.18%  val loss = 92.6498, val acc = 86.10% & LR = 0.00010000\n"
     ]
    },
    {
     "name": "stderr",
     "output_type": "stream",
     "text": [
      "Training: : 100%|██████████████████████████████████████| 196/196 [00:55<00:00,  3.53batch/s, accuracy=86.4, loss=0.361]\n",
      "Validation: : 100%|██████████████████████████████████████| 40/40 [00:04<00:00,  9.47batch/s, val_acc=86, val_loss=92.3]\n"
     ]
    },
    {
     "name": "stdout",
     "output_type": "stream",
     "text": [
      "Epoch: 67; loss = 0.3613, acc = 86.38%  val loss = 92.2597, val acc = 86.04% & LR = 0.00010000\n"
     ]
    },
    {
     "name": "stderr",
     "output_type": "stream",
     "text": [
      "Training: : 100%|██████████████████████████████████████| 196/196 [00:56<00:00,  3.46batch/s, accuracy=86.4, loss=0.359]\n",
      "Validation: : 100%|████████████████████████████████████| 40/40 [00:04<00:00,  9.37batch/s, val_acc=85.9, val_loss=91.9]\n"
     ]
    },
    {
     "name": "stdout",
     "output_type": "stream",
     "text": [
      "Epoch: 68; loss = 0.3592, acc = 86.38%  val loss = 91.9014, val acc = 85.91% & LR = 0.00010000\n"
     ]
    },
    {
     "name": "stderr",
     "output_type": "stream",
     "text": [
      "Training: : 100%|██████████████████████████████████████| 196/196 [00:56<00:00,  3.46batch/s, accuracy=86.2, loss=0.361]\n",
      "Validation: : 100%|████████████████████████████████████| 40/40 [00:04<00:00,  9.19batch/s, val_acc=85.6, val_loss=93.9]\n"
     ]
    },
    {
     "name": "stdout",
     "output_type": "stream",
     "text": [
      "Epoch: 69; loss = 0.3605, acc = 86.24%  val loss = 93.8538, val acc = 85.61% & LR = 0.00010000\n"
     ]
    },
    {
     "name": "stderr",
     "output_type": "stream",
     "text": [
      "Training: : 100%|███████████████████████████████████████| 196/196 [00:55<00:00,  3.53batch/s, accuracy=86.4, loss=0.36]\n",
      "Validation: : 100%|████████████████████████████████████| 40/40 [00:04<00:00,  9.33batch/s, val_acc=86.4, val_loss=91.6]\n"
     ]
    },
    {
     "name": "stdout",
     "output_type": "stream",
     "text": [
      "Epoch: 70; loss = 0.3600, acc = 86.41%  val loss = 91.5924, val acc = 86.39% & LR = 0.00001000\n",
      "Saving model with highest val_acc = 86.39%\n",
      "\n"
     ]
    },
    {
     "name": "stderr",
     "output_type": "stream",
     "text": [
      "Training: : 100%|██████████████████████████████████████| 196/196 [00:55<00:00,  3.50batch/s, accuracy=86.4, loss=0.358]\n",
      "Validation: : 100%|████████████████████████████████████| 40/40 [00:04<00:00,  9.47batch/s, val_acc=86.2, val_loss=92.9]\n"
     ]
    },
    {
     "name": "stdout",
     "output_type": "stream",
     "text": [
      "Epoch: 71; loss = 0.3577, acc = 86.42%  val loss = 92.8954, val acc = 86.20% & LR = 0.00001000\n"
     ]
    },
    {
     "name": "stderr",
     "output_type": "stream",
     "text": [
      "Training: : 100%|██████████████████████████████████████| 196/196 [00:56<00:00,  3.45batch/s, accuracy=86.4, loss=0.362]\n",
      "Validation: : 100%|████████████████████████████████████| 40/40 [00:04<00:00,  8.92batch/s, val_acc=85.8, val_loss=93.1]\n"
     ]
    },
    {
     "name": "stdout",
     "output_type": "stream",
     "text": [
      "Epoch: 72; loss = 0.3623, acc = 86.37%  val loss = 93.0902, val acc = 85.83% & LR = 0.00001000\n"
     ]
    },
    {
     "name": "stderr",
     "output_type": "stream",
     "text": [
      "Training: : 100%|███████████████████████████████████████| 196/196 [00:57<00:00,  3.39batch/s, accuracy=86.4, loss=0.36]\n",
      "Validation: : 100%|████████████████████████████████████| 40/40 [00:04<00:00,  9.15batch/s, val_acc=86.1, val_loss=93.1]\n"
     ]
    },
    {
     "name": "stdout",
     "output_type": "stream",
     "text": [
      "Epoch: 73; loss = 0.3597, acc = 86.38%  val loss = 93.0784, val acc = 86.11% & LR = 0.00001000\n"
     ]
    },
    {
     "name": "stderr",
     "output_type": "stream",
     "text": [
      "Training: : 100%|██████████████████████████████████████| 196/196 [00:57<00:00,  3.40batch/s, accuracy=86.3, loss=0.362]\n",
      "Validation: : 100%|████████████████████████████████████| 40/40 [00:04<00:00,  9.36batch/s, val_acc=86.3, val_loss=92.5]\n"
     ]
    },
    {
     "name": "stdout",
     "output_type": "stream",
     "text": [
      "Epoch: 74; loss = 0.3619, acc = 86.31%  val loss = 92.5258, val acc = 86.29% & LR = 0.00001000\n"
     ]
    },
    {
     "name": "stderr",
     "output_type": "stream",
     "text": [
      "Training: : 100%|███████████████████████████████████████| 196/196 [00:56<00:00,  3.48batch/s, accuracy=86.6, loss=0.36]\n",
      "Validation: : 100%|██████████████████████████████████████| 40/40 [00:04<00:00,  9.36batch/s, val_acc=86, val_loss=92.4]"
     ]
    },
    {
     "name": "stdout",
     "output_type": "stream",
     "text": [
      "Epoch: 75; loss = 0.3596, acc = 86.60%  val loss = 92.4086, val acc = 85.99% & LR = 0.00001000\n"
     ]
    },
    {
     "name": "stderr",
     "output_type": "stream",
     "text": [
      "\n"
     ]
    }
   ],
   "source": [
    "for epoch in range(26, 25 + num_epochs + 1):\n",
    "\n",
    "    # Train and validate model for 1 epoch-\n",
    "    train_loss, train_acc = train_model_progress(\n",
    "        model = trained_model, train_loader = train_loader,\n",
    "        train_dataset = train_dataset\n",
    "    )\n",
    "    \n",
    "    val_loss, val_acc = test_model_progress(\n",
    "        model = trained_model, test_loader = test_loader,\n",
    "        test_dataset = test_loader\n",
    "    )\n",
    "    \n",
    "    scheduler.step()\n",
    "    current_lr = optimizer.param_groups[0][\"lr\"]\n",
    "    \n",
    "    print(f\"Epoch: {epoch}; loss = {train_loss:.4f}, acc = {train_acc:.2f}%\",\n",
    "          f\" val loss = {val_loss:.4f}, val acc = {val_acc:.2f}% & LR = {current_lr:.8f}\"\n",
    "         )\n",
    "    \n",
    "    # Save training metrics to Python3 dict-\n",
    "    training_history[epoch] = {\n",
    "        'train_loss': train_loss, 'val_loss': val_loss,\n",
    "        'train_acc': train_acc, 'val_acc': val_acc,\n",
    "        'lr': current_lr\n",
    "    }\n",
    "\n",
    "    # Save best weights achieved until now-\n",
    "    if (val_acc > best_val_acc):    \n",
    "        # update 'best_val_loss' variable to lowest loss encountered so far-\n",
    "        best_val_acc = val_acc\n",
    "\n",
    "        print(f\"Saving model with highest val_acc = {val_acc:.2f}%\\n\")\n",
    "        \n",
    "        # Save trained model with 'best' validation accuracy-\n",
    "        torch.save(trained_model.state_dict(), \"ResNet18_CIFAR10_RotNet_finetuned_best_acc.pth\")\n",
    "        "
   ]
  },
  {
   "cell_type": "code",
   "execution_count": null,
   "id": "8de872cb-c2a8-4e9e-87ea-54b994969471",
   "metadata": {},
   "outputs": [],
   "source": []
  },
  {
   "cell_type": "code",
   "execution_count": 45,
   "id": "51a04a64-3056-4690-8eeb-fc5485294ed7",
   "metadata": {},
   "outputs": [],
   "source": [
    "# Save training metrics as Python3 history for later analysis-\n",
    "with open(\"ResNet18_RotNet_CIFAR10_finetuning_training_history_lr.pkl\", \"wb\") as file:\n",
    "    pickle.dump(training_history, file)"
   ]
  },
  {
   "cell_type": "code",
   "execution_count": null,
   "id": "a5341cbc-1bb8-4707-9906-6636c2237618",
   "metadata": {},
   "outputs": [],
   "source": []
  },
  {
   "cell_type": "code",
   "execution_count": 46,
   "id": "1a51531e-b5b1-4a79-9b46-41d339cb109d",
   "metadata": {},
   "outputs": [
    {
     "data": {
      "image/png": "[encoded data removed]",
      "text/plain": [
       "<Figure size 800x700 with 1 Axes>"
      ]
     },
     "metadata": {},
     "output_type": "display_data"
    }
   ],
   "source": [
    "plt.figure(figsize = (8, 7))\n",
    "plt.plot([training_history[e]['train_acc'] for e in training_history.keys()], label = 'acc')\n",
    "plt.plot([training_history[e]['val_acc'] for e in training_history.keys()], label = 'val acc')\n",
    "plt.xlabel(\"epochs\")\n",
    "plt.ylabel(\"acc %\")\n",
    "plt.title(\"Accuracy Visualization Training\")\n",
    "plt.legend(loc = 'best')\n",
    "plt.show()"
   ]
  },
  {
   "cell_type": "code",
   "execution_count": 47,
   "id": "f87ad7ac-91db-4727-9994-7ed3cb95cfca",
   "metadata": {},
   "outputs": [
    {
     "data": {
      "image/png": "[encoded data removed]",
      "text/plain": [
       "<Figure size 800x700 with 1 Axes>"
      ]
     },
     "metadata": {},
     "output_type": "display_data"
    }
   ],
   "source": [
    "plt.figure(figsize = (8, 7))\n",
    "plt.plot([training_history[e]['train_loss'] for e in training_history.keys()], label = 'loss')\n",
    "# plt.plot([training_history[e]['val_loss'] for e in training_history.keys()], label = 'val loss')\n",
    "plt.xlabel(\"epochs\")\n",
    "plt.ylabel(\"loss\")\n",
    "plt.title(\"Loss Visualization Training\")\n",
    "plt.legend(loc = 'best')\n",
    "plt.show()"
   ]
  },
  {
   "cell_type": "code",
   "execution_count": 48,
   "id": "e9f95054-8151-48d4-bee3-da5fee632d26",
   "metadata": {},
   "outputs": [
    {
     "data": {
      "image/png": "[encoded data removed]",
      "text/plain": [
       "<Figure size 800x700 with 1 Axes>"
      ]
     },
     "metadata": {},
     "output_type": "display_data"
    }
   ],
   "source": [
    "plt.figure(figsize = (8, 7))\n",
    "# plt.plot([training_history[e]['train_loss'] for e in training_history.keys()], label = 'loss')\n",
    "plt.plot([training_history[e]['val_loss'] for e in training_history.keys()], label = 'val loss')\n",
    "plt.xlabel(\"epochs\")\n",
    "plt.ylabel(\"loss\")\n",
    "plt.title(\"Loss Visualization Training\")\n",
    "plt.legend(loc = 'best')\n",
    "plt.show()"
   ]
  },
  {
   "cell_type": "code",
   "execution_count": 49,
   "id": "321f93ba-1ebd-4ea1-b881-3ed0295fad1c",
   "metadata": {},
   "outputs": [
    {
     "data": {
      "image/png": "[encoded data removed]",
      "text/plain": [
       "<Figure size 800x700 with 1 Axes>"
      ]
     },
     "metadata": {},
     "output_type": "display_data"
    }
   ],
   "source": [
    "plt.figure(figsize = (8, 7))\n",
    "plt.plot([training_history[e]['lr'] for e in training_history.keys()])\n",
    "plt.xlabel(\"epochs\")\n",
    "plt.ylabel(\"lr\")\n",
    "plt.title(\"LR Training\")\n",
    "plt.show()"
   ]
  },
  {
   "cell_type": "code",
   "execution_count": null,
   "id": "9d18a2b2-ac56-4b04-82a4-dd9320b69736",
   "metadata": {},
   "outputs": [],
   "source": []
  },
  {
   "cell_type": "code",
   "execution_count": null,
   "id": "c9bb8230-1569-4b54-be81-f477f8ff778a",
   "metadata": {},
   "outputs": [],
   "source": []
  },
  {
   "cell_type": "markdown",
   "id": "36f2cb76-e1b8-4e75-b42e-94afde045f14",
   "metadata": {},
   "source": [
    "### Observations\n",
    "\n",
    "[ResNet-18 CIFAR10](https://github.com/arjun-majumdar/CNN_Classifications/blob/master/ResNet18_CIFAR10_albumentations-torch.ipynb) trained from scratch achieved 91.31% validation accuracy. Whereas, using proxy task based self-supervised learning achieved 86.39% validation accuracy. This is a delta 4.71%, approximately."
   ]
  },
  {
   "cell_type": "code",
   "execution_count": null,
   "id": "f1a18f82-ff9b-4958-9f5a-72d81f9ab86f",
   "metadata": {},
   "outputs": [],
   "source": []
  },
  {
   "cell_type": "code",
   "execution_count": null,
   "id": "f50c5175-a10c-4e6f-921c-ed600ad98874",
   "metadata": {},
   "outputs": [],
   "source": []
  }
 ],
 "metadata": {
  "kernelspec": {
   "display_name": "Python 3 (ipykernel)",
   "language": "python",
   "name": "python3"
  },
  "language_info": {
   "codemirror_mode": {
    "name": "ipython",
    "version": 3
   },
   "file_extension": ".py",
   "mimetype": "text/x-python",
   "name": "python",
   "nbconvert_exporter": "python",
   "pygments_lexer": "ipython3",
   "version": "3.10.8"
  }
 },
 "nbformat": 4,
 "nbformat_minor": 5
}
