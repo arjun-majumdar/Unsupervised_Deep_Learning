{
 "cells": [
  {
   "cell_type": "markdown",
   "id": "233ebb61-0264-49c3-8e1d-70500676a150",
   "metadata": {},
   "source": [
    "# STL-10: ResNet-50 finetuning using pre-trained parameters from Image rotations\n",
    "\n",
    "according to _Unsupervised Representation Learning by Predicting Image Rotations_ by Spyros Gidaris et al., paper."
   ]
  },
  {
   "cell_type": "code",
   "execution_count": 1,
   "id": "682c5721-0659-41a1-93b7-7b5b79c99da8",
   "metadata": {},
   "outputs": [
    {
     "name": "stderr",
     "output_type": "stream",
     "text": [
      "/home/majumdar/anaconda3/envs/torch-gpu/lib/python3.10/site-packages/tqdm/auto.py:22: TqdmWarning: IProgress not found. Please update jupyter and ipywidgets. See https://ipywidgets.readthedocs.io/en/stable/user_install.html\n",
      "  from .autonotebook import tqdm as notebook_tqdm\n",
      "/home/majumdar/anaconda3/envs/torch-gpu/lib/python3.10/site-packages/torchvision/io/image.py:13: UserWarning: Failed to load image Python extension: /home/majumdar/anaconda3/envs/torch-gpu/lib/python3.10/site-packages/torchvision/image.so: undefined symbol: _ZN2at4_ops19empty_memory_format4callEN3c108ArrayRefIlEENS2_8optionalINS2_10ScalarTypeEEENS5_INS2_6LayoutEEENS5_INS2_6DeviceEEENS5_IbEENS5_INS2_12MemoryFormatEEE\n",
      "  warn(f\"Failed to load image Python extension: {e}\")\n"
     ]
    }
   ],
   "source": [
    "import torch\n",
    "import torch.nn as nn\n",
    "import torch.nn.functional as F\n",
    "import torchvision\n",
    "import torchvision.transforms as transforms\n",
    "\n",
    "from tqdm import tqdm\n",
    "from tqdm import trange\n",
    "import numpy as np\n",
    "import matplotlib.pyplot as plt\n",
    "import imageio\n",
    "from collections import OrderedDict\n",
    "import cv2, pickle, os\n",
    "# import albumentations as A\n",
    "# from albumentations.pytorch import ToTensorV2"
   ]
  },
  {
   "cell_type": "code",
   "execution_count": null,
   "id": "96054068-f885-492a-ae9c-c8edc5267d55",
   "metadata": {},
   "outputs": [],
   "source": []
  },
  {
   "cell_type": "code",
   "execution_count": null,
   "id": "7ffb7765-3909-44fe-a694-c2681f62ff34",
   "metadata": {},
   "outputs": [],
   "source": []
  },
  {
   "cell_type": "code",
   "execution_count": 2,
   "id": "4c92a7e7-c80a-4e2a-a634-ef6ebb9ab4de",
   "metadata": {},
   "outputs": [
    {
     "name": "stdout",
     "output_type": "stream",
     "text": [
      "torch version: 1.13.0+cu117\n",
      "Number of GPU(s) available = 4\n",
      "Current GPU: 0\n",
      "Current GPU name: NVIDIA GeForce GTX TITAN X\n",
      "Available device is cuda\n"
     ]
    }
   ],
   "source": [
    "print(f\"torch version: {torch.__version__}\")\n",
    "\n",
    "# Check if there are multiple devices (i.e., GPU cards)-\n",
    "print(f\"Number of GPU(s) available = {torch.cuda.device_count()}\")\n",
    "\n",
    "if torch.cuda.is_available():\n",
    "    print(f\"Current GPU: {torch.cuda.current_device()}\")\n",
    "    print(f\"Current GPU name: {torch.cuda.get_device_name(torch.cuda.current_device())}\")\n",
    "else:\n",
    "    print(\"PyTorch does not have access to GPU\")\n",
    "\n",
    "# Device configuration-\n",
    "\n",
    "device = torch.device('cuda' if torch.cuda.is_available() else 'cpu')\n",
    "\n",
    "# Use different GPUs (1 and 2) for model, while GPU 3 for data-\n",
    "# device = torch.device(\"cuda:0,1\" if torch.cuda.is_available() else \"cpu\")\n",
    "\n",
    "print(f'Available device is {device}')"
   ]
  },
  {
   "cell_type": "code",
   "execution_count": null,
   "id": "ce11033d-2afd-447f-a0f4-bf12d1fc9d6b",
   "metadata": {},
   "outputs": [],
   "source": []
  },
  {
   "cell_type": "code",
   "execution_count": 3,
   "id": "b641bacc-0674-4964-9843-ea2dc9f204f6",
   "metadata": {},
   "outputs": [],
   "source": [
    "# Define batch-size for training-\n",
    "batch_size = 64"
   ]
  },
  {
   "cell_type": "code",
   "execution_count": 4,
   "id": "c6989d8e-73dc-4ee5-8f2d-4ccd0a235ea4",
   "metadata": {},
   "outputs": [],
   "source": [
    "# Define torchvision transformations for training and test sets-\n",
    "transform_train = transforms.Compose(\n",
    "    [\n",
    "        # transforms.RandomCrop(32, padding = 4),\n",
    "        transforms.RandomHorizontalFlip(p = 0.4),\n",
    "        transforms.RandomRotation(degrees = 40),\n",
    "        transforms.RandomVerticalFlip(p = 0.1),\n",
    "        transforms.ColorJitter(brightness = 0, contrast = 0, saturation = 0, hue = 0),\n",
    "        transforms.ToTensor(),\n",
    "        transforms.Normalize((0.4914, 0.4822, 0.4465), (0.2023, 0.1994, 0.2010)),\n",
    "    ]\n",
    ")\n",
    "\n",
    "transform_test = transforms.Compose(\n",
    "    [\n",
    "        transforms.ToTensor(),\n",
    "        transforms.Normalize((0.4914, 0.4822, 0.4465), (0.2023, 0.1994, 0.2010)),\n",
    "    ]\n",
    ")"
   ]
  },
  {
   "cell_type": "code",
   "execution_count": 5,
   "id": "bdb5ab3d-1147-4fbc-ac96-f058670e6f4b",
   "metadata": {},
   "outputs": [
    {
     "name": "stdout",
     "output_type": "stream",
     "text": [
      "Files already downloaded and verified\n",
      "Files already downloaded and verified\n"
     ]
    }
   ],
   "source": [
    "# Define training dataset-\n",
    "train_dataset = torchvision.datasets.STL10(\n",
    "    root = '/home/majumdar/Downloads/.data/', split = 'train',\n",
    "    folds = None, transform = transform_train,\n",
    "    target_transform = None, download = True\n",
    ")\n",
    "\n",
    "# Define testing dataset-\n",
    "test_dataset = torchvision.datasets.STL10(\n",
    "    root = '/home/majumdar/Downloads/.data/', split = 'test',\n",
    "    folds = None, transform = transform_test,\n",
    "    target_transform = None, download = True\n",
    ")"
   ]
  },
  {
   "cell_type": "code",
   "execution_count": 6,
   "id": "25b083b1-3ed7-440a-85aa-d609acb719b3",
   "metadata": {},
   "outputs": [],
   "source": [
    "# Define dataloaders-\n",
    "train_loader = torch.utils.data.DataLoader(\n",
    "    dataset = train_dataset, batch_size = batch_size,\n",
    "    shuffle = True\n",
    ")\n",
    "\n",
    "test_loader = torch.utils.data.DataLoader(\n",
    "    dataset = test_dataset, batch_size = batch_size,\n",
    "    shuffle = True\n",
    ")"
   ]
  },
  {
   "cell_type": "code",
   "execution_count": 7,
   "id": "2075cbee-4df6-4a9e-a797-b112241aacde",
   "metadata": {},
   "outputs": [
    {
     "name": "stdout",
     "output_type": "stream",
     "text": [
      "len(train_dataset) = 5000 & len(test_dataset) = 8000\n",
      "len(train_loader) = 79 & len(test_loader) = 125\n"
     ]
    }
   ],
   "source": [
    "print(f\"len(train_dataset) = {len(train_dataset)} & len(test_dataset) = {len(test_dataset)}\")\n",
    "print(f\"len(train_loader) = {len(train_loader)} & len(test_loader) = {len(test_loader)}\")"
   ]
  },
  {
   "cell_type": "code",
   "execution_count": 8,
   "id": "7308421f-fe00-427e-8680-a052b63ec7a1",
   "metadata": {},
   "outputs": [
    {
     "data": {
      "text/plain": [
       "(78.125, 125.0)"
      ]
     },
     "execution_count": 8,
     "metadata": {},
     "output_type": "execute_result"
    }
   ],
   "source": [
    "# Sanity check-\n",
    "len(train_dataset) / batch_size, len(test_dataset) / batch_size"
   ]
  },
  {
   "cell_type": "code",
   "execution_count": null,
   "id": "34fa7d2f-9af6-40a6-8269-919b66d8d499",
   "metadata": {},
   "outputs": [],
   "source": []
  },
  {
   "cell_type": "code",
   "execution_count": null,
   "id": "9a818a15-b3c7-4845-93dc-158eec68ac54",
   "metadata": {},
   "outputs": [],
   "source": []
  },
  {
   "cell_type": "code",
   "execution_count": 9,
   "id": "8fc3704a-738a-44cf-a7ba-ec38ee78ba5d",
   "metadata": {},
   "outputs": [],
   "source": [
    "class ResNet_Block(nn.Module):\n",
    "   \n",
    "    def __init__(\n",
    "        self, num_inp_channels,\n",
    "        num_channels, num_bottleneck_channels,\n",
    "        stride = 1, dropout = 0.2,\n",
    "        use_1x1_conv = False, first_resblock = False\n",
    "    ):\n",
    "        super(ResNet_Block, self).__init__()\n",
    "        \n",
    "        self.num_inp_channels = num_inp_channels\n",
    "        self.num_channels = num_channels\n",
    "        self.num_bottleneck_channels = num_bottleneck_channels\n",
    "        self.stride = stride\n",
    "        self.dropout = dropout\n",
    "        self.use_1x1_conv = use_1x1_conv\n",
    "        self.first_resblock = first_resblock\n",
    "    \n",
    "        if self.first_resblock:\n",
    "            self.conv1 = nn.Conv2d(\n",
    "                in_channels = self.num_inp_channels, out_channels = self.num_bottleneck_channels,\n",
    "                kernel_size = 1, padding = 0,\n",
    "                stride = self.stride, bias = False\n",
    "            )\n",
    "            self.bn1 = nn.BatchNorm2d(num_features = self.num_bottleneck_channels)\n",
    "        else:\n",
    "            self.conv1 = nn.Conv2d(\n",
    "                in_channels = self.num_inp_channels, out_channels = self.num_bottleneck_channels,\n",
    "                kernel_size = 1, padding = 0,\n",
    "                stride = self.stride, bias = False\n",
    "            )\n",
    "            self.bn1 = nn.BatchNorm2d(num_features = self.num_bottleneck_channels)\n",
    "        \n",
    "        self.conv2 = nn.Conv2d(\n",
    "            in_channels = self.num_bottleneck_channels, out_channels = self.num_bottleneck_channels,\n",
    "            kernel_size = 3, padding = 1,\n",
    "            stride = 1, bias = False\n",
    "        )\n",
    "        self.bn2 = nn.BatchNorm2d(num_features = self.num_bottleneck_channels)\n",
    "        self.dropout = nn.Dropout(p = self.dropout)\n",
    "        \n",
    "        self.conv3 = nn.Conv2d(\n",
    "            in_channels = self.num_bottleneck_channels, out_channels = self.num_channels,\n",
    "            kernel_size = 1, padding = 0,\n",
    "            stride = 1, bias = False\n",
    "        )\n",
    "        self.bn3 = nn.BatchNorm2d(num_features = self.num_channels)\n",
    "        \n",
    "        if self.use_1x1_conv:\n",
    "            self.conv4 = nn.Conv2d(\n",
    "            in_channels = self.num_inp_channels, out_channels = self.num_channels,\n",
    "            kernel_size = 1, padding = 0,\n",
    "            stride = self.stride, bias = False\n",
    "            )\n",
    "            self.bn4 = nn.BatchNorm2d(num_features = self.num_channels)\n",
    "        \n",
    "        self.initialize_weights()\n",
    "\n",
    "            \n",
    "    def initialize_weights(self):\n",
    "        for m in self.modules():\n",
    "            # print(m)\n",
    "            if isinstance(m, nn.Conv2d):\n",
    "                nn.init.kaiming_normal_(m.weight)\n",
    "\n",
    "                '''\n",
    "                # Do not initialize bias (due to batchnorm)-\n",
    "                if m.bias is not None:\n",
    "                    nn.init.constant_(m.bias, 0)\n",
    "                '''\n",
    "            \n",
    "            elif isinstance(m, nn.BatchNorm2d):\n",
    "                # Standard initialization for batch normalization-\n",
    "                nn.init.constant_(m.weight, 1)\n",
    "                nn.init.constant_(m.bias, 0)\n",
    "\n",
    "            elif isinstance(m, nn.Linear):\n",
    "                nn.init.kaiming_normal_(m.weight)\n",
    "                nn.init.constant_(m.bias, 0)\n",
    "    \n",
    "    \n",
    "    def forward(self, x):\n",
    "        y = F.leaky_relu(self.bn1(self.conv1(x)))\n",
    "        y = self.dropout(F.leaky_relu(self.bn2(self.conv2(y))))\n",
    "        y = self.dropout(F.leaky_relu(self.bn3(self.conv3(y))))\n",
    "        \n",
    "        if self.use_1x1_conv:\n",
    "            x = self.bn4(self.conv4(x))\n",
    "            \n",
    "        y += x\n",
    "        # return F.relu(self.dropout(y))\n",
    "        return F.leaky_relu(y)\n",
    "    \n",
    "    \n",
    "    def shape_computation(self, x):\n",
    "        print(f\"Input shape: {x.shape}\")\n",
    "        y = self.bn1(self.conv1(x))\n",
    "        print(f\"First conv layer output shape: {y.shape}\")\n",
    "        y = self.bn2(self.conv2(y))\n",
    "        print(f\"Second conv layer output shape: {y.shape}\")\n",
    "        y = self.bn3(self.conv3(y))\n",
    "        print(f\"Third conv layer output shape: {y.shape}\")\n",
    "        \n",
    "        if self.use_1x1_conv:\n",
    "            x = self.bn4(self.conv4(x))\n",
    "            print(f\"Downsample with S = 2; identity connection output shape: {x.shape}\")\n",
    "            \n",
    "        y += x\n",
    "        print(f\"Residual block output shape: {y.shape}\")\n",
    "        return None\n",
    "    "
   ]
  },
  {
   "cell_type": "code",
   "execution_count": 10,
   "id": "36782b28-5ce6-4d2b-87e4-3574641e8407",
   "metadata": {},
   "outputs": [],
   "source": [
    "class ResNet50(nn.Module):\n",
    "    def __init__(self):\n",
    "        super(ResNet50, self).__init__()\n",
    "        \n",
    "        self.conv1 = nn.Conv2d(\n",
    "            in_channels = 3, out_channels = 64,\n",
    "            kernel_size = 3, padding = 1,\n",
    "            stride = 1, bias = False\n",
    "        )\n",
    "        self.bn1 = nn.BatchNorm2d(num_features = 64)\n",
    "        \n",
    "        self.resblock1 = ResNet_Block(\n",
    "            num_inp_channels = 64, num_channels = 256,\n",
    "            num_bottleneck_channels = 64, stride = 1,\n",
    "            dropout = 0.2, use_1x1_conv = True,\n",
    "            first_resblock = True\n",
    "        )\n",
    "        \n",
    "        self.resblock2 = ResNet_Block(\n",
    "            num_inp_channels = 256, num_channels = 256,\n",
    "            num_bottleneck_channels = 64, stride = 1,\n",
    "            dropout = 0.2, use_1x1_conv = True,\n",
    "            first_resblock = False\n",
    "        )\n",
    "        \n",
    "        self.resblock3 = ResNet_Block(\n",
    "            num_inp_channels = 256, num_channels = 256,\n",
    "            num_bottleneck_channels = 64, stride = 1,\n",
    "            dropout = 0.2, use_1x1_conv = True,\n",
    "            first_resblock = False\n",
    "        )\n",
    "        \n",
    "        # Downsample-\n",
    "        self.resblock4 = ResNet_Block(\n",
    "            num_inp_channels = 256, num_channels = 512,\n",
    "            num_bottleneck_channels = 128, stride = 2,\n",
    "            dropout = 0.2, use_1x1_conv = True,\n",
    "            first_resblock = False\n",
    "        )\n",
    "        \n",
    "        self.resblock5 = ResNet_Block(\n",
    "            num_inp_channels = 512, num_channels = 512,\n",
    "            num_bottleneck_channels = 128, stride = 1,\n",
    "            dropout = 0.2, use_1x1_conv = True,\n",
    "            first_resblock = False\n",
    "        )\n",
    "        \n",
    "        self.resblock6 = ResNet_Block(\n",
    "            num_inp_channels = 512, num_channels = 512,\n",
    "            num_bottleneck_channels = 128, stride = 1,\n",
    "            dropout = 0.2, use_1x1_conv = True,\n",
    "            first_resblock = False\n",
    "        )\n",
    "        \n",
    "        self.resblock7 = ResNet_Block(\n",
    "            num_inp_channels = 512, num_channels = 512,\n",
    "            num_bottleneck_channels = 128, stride = 1,\n",
    "            dropout = 0.2, use_1x1_conv = True,\n",
    "            first_resblock = False\n",
    "        )\n",
    "        \n",
    "        # Downsample-\n",
    "        self.resblock8 = ResNet_Block(\n",
    "            num_inp_channels = 512, num_channels = 1024,\n",
    "            num_bottleneck_channels = 256, stride = 2,\n",
    "            dropout = 0.2, use_1x1_conv = True,\n",
    "            first_resblock = False\n",
    "        )\n",
    "        \n",
    "        self.resblock9 = ResNet_Block(\n",
    "            num_inp_channels = 1024, num_channels = 1024,\n",
    "            num_bottleneck_channels = 256, stride = 1,\n",
    "            dropout = 0.2, use_1x1_conv = True,\n",
    "            first_resblock = False\n",
    "        )\n",
    "        \n",
    "        self.resblock10 = ResNet_Block(\n",
    "            num_inp_channels = 1024, num_channels = 1024,\n",
    "            num_bottleneck_channels = 256, stride = 1,\n",
    "            dropout = 0.2, use_1x1_conv = True,\n",
    "            first_resblock = False\n",
    "        )\n",
    "        \n",
    "        self.resblock11 = resblock9 = ResNet_Block(\n",
    "            num_inp_channels = 1024, num_channels = 1024,\n",
    "            num_bottleneck_channels = 256, stride = 1,\n",
    "            dropout = 0.2, use_1x1_conv = True,\n",
    "            first_resblock = False\n",
    "        )\n",
    "        \n",
    "        self.resblock12 = resblock9 = ResNet_Block(\n",
    "            num_inp_channels = 1024, num_channels = 1024,\n",
    "            num_bottleneck_channels = 256, stride = 1,\n",
    "            dropout = 0.2, use_1x1_conv = True,\n",
    "            first_resblock = False\n",
    "        )\n",
    "        \n",
    "        self.resblock13 = resblock9 = ResNet_Block(\n",
    "            num_inp_channels = 1024, num_channels = 1024,\n",
    "            num_bottleneck_channels = 256, stride = 1,\n",
    "            dropout = 0.2, use_1x1_conv = True,\n",
    "            first_resblock = False\n",
    "        )\n",
    "        \n",
    "        # Downsample-\n",
    "        self.resblock14 = ResNet_Block(\n",
    "            num_inp_channels = 1024, num_channels = 2048,\n",
    "            num_bottleneck_channels = 512, stride = 2,\n",
    "            dropout = 0.2, use_1x1_conv = True,\n",
    "            first_resblock = False\n",
    "        )\n",
    "        \n",
    "        self.resblock15 = ResNet_Block(\n",
    "            num_inp_channels = 2048, num_channels = 2048,\n",
    "            num_bottleneck_channels = 512, stride = 1,\n",
    "            dropout = 0.2, use_1x1_conv = True,\n",
    "            first_resblock = False\n",
    "        )\n",
    "        \n",
    "        self.resblock16 = ResNet_Block(\n",
    "            num_inp_channels = 2048, num_channels = 2048,\n",
    "            num_bottleneck_channels = 512, stride = 1,\n",
    "            dropout = 0.2, use_1x1_conv = True,\n",
    "            first_resblock = False\n",
    "        )\n",
    "        \n",
    "        # self.avg_pool = nn.AvgPool2d(kernel_size = 3, stride = 2)\n",
    "        self.avg_pool = nn.AdaptiveAvgPool2d(output_size = (1, 1))\n",
    "        self.output_layer = nn.Linear(in_features = 2048, out_features = 4)\n",
    "        \n",
    "        \n",
    "    def forward(self, x):\n",
    "        x = F.relu(self.bn1(self.conv1(x)))\n",
    "        x = self.resblock1(x)\n",
    "        x = self.resblock2(x)\n",
    "        x = self.resblock3(x)\n",
    "        x = self.resblock4(x)\n",
    "        x = self.resblock5(x)\n",
    "        x = self.resblock6(x)\n",
    "        x = self.resblock7(x)\n",
    "        x = self.resblock8(x)\n",
    "        x = self.resblock9(x)\n",
    "        x = self.resblock10(x)\n",
    "        x = self.resblock11(x)\n",
    "        x = self.resblock12(x)\n",
    "        x = self.resblock13(x)\n",
    "        x = self.resblock14(x)\n",
    "        x = self.resblock15(x)\n",
    "        x = self.resblock16(x)\n",
    "        x = self.avg_pool(x).squeeze()\n",
    "        x = self.output_layer(x)\n",
    "        return x\n",
    "    \n",
    "    \n",
    "    def shape_computation(self, x):\n",
    "        print(f\"Input shape: {x.shape}\")\n",
    "        x = F.relu(self.bn1(self.conv1(x)))\n",
    "        print(f\"First conv layer output shape: {x.shape}\")\n",
    "        x = self.resblock1(x)\n",
    "        print(f\"ResBlock 1 output shape: {x.shape}\")\n",
    "        x = self.resblock2(x)\n",
    "        print(f\"ResBlock 2 output shape: {x.shape}\")\n",
    "        x = self.resblock3(x)\n",
    "        print(f\"ResBlock 3 output shape: {x.shape}\")\n",
    "        x = self.resblock4(x)\n",
    "        print(f\"ResBlock 4 output shape: {x.shape}\")\n",
    "        x = self.resblock5(x)\n",
    "        print(f\"ResBlock 5 output shape: {x.shape}\")\n",
    "        x = self.resblock6(x)\n",
    "        print(f\"ResBlock 6 output shape: {x.shape}\")\n",
    "        x = self.resblock7(x)\n",
    "        print(f\"ResBlock 7 output shape: {x.shape}\")\n",
    "        x = self.resblock8(x)\n",
    "        print(f\"ResBlock 8 output shape: {x.shape}\")\n",
    "        x = self.resblock9(x)\n",
    "        print(f\"ResBlock 9 output shape: {x.shape}\")\n",
    "        x = self.resblock10(x)\n",
    "        print(f\"ResBlock 10 output shape: {x.shape}\")\n",
    "        x = self.resblock11(x)\n",
    "        print(f\"ResBlock 11 output shape: {x.shape}\")\n",
    "        x = self.resblock12(x)\n",
    "        print(f\"ResBlock 12 output shape: {x.shape}\")\n",
    "        x = self.resblock13(x)\n",
    "        print(f\"ResBlock 13 output shape: {x.shape}\")\n",
    "        x = self.resblock14(x)\n",
    "        print(f\"ResBlock 14 output shape: {x.shape}\")\n",
    "        x = self.resblock15(x)\n",
    "        print(f\"ResBlock 15 output shape: {x.shape}\")\n",
    "        x = self.resblock16(x)\n",
    "        print(f\"ResBlock 16 output shape: {x.shape}\")\n",
    "        x = self.avg_pool(x).squeeze()\n",
    "        print(f\"Average pool output shape: {x.shape}\")\n",
    "        x = self.output_layer(x)\n",
    "        print(f\"Output layer shape: {x.shape}\")\n",
    "        del x\n",
    "        return None\n",
    "    "
   ]
  },
  {
   "cell_type": "code",
   "execution_count": null,
   "id": "12c3ce5c-8dcd-41c0-9071-956ea69a713a",
   "metadata": {},
   "outputs": [],
   "source": []
  },
  {
   "cell_type": "code",
   "execution_count": 11,
   "id": "fe3d90d1-a3cc-4a7f-b7e7-9821215f243c",
   "metadata": {},
   "outputs": [],
   "source": [
    "# Initialize ResNet-50 architecture-\n",
    "model = ResNet50()"
   ]
  },
  {
   "cell_type": "code",
   "execution_count": 12,
   "id": "f6e01316",
   "metadata": {},
   "outputs": [
    {
     "data": {
      "text/plain": [
       "DataParallel(\n",
       "  (module): ResNet50(\n",
       "    (conv1): Conv2d(3, 64, kernel_size=(3, 3), stride=(1, 1), padding=(1, 1), bias=False)\n",
       "    (bn1): BatchNorm2d(64, eps=1e-05, momentum=0.1, affine=True, track_running_stats=True)\n",
       "    (resblock1): ResNet_Block(\n",
       "      (conv1): Conv2d(64, 64, kernel_size=(1, 1), stride=(1, 1), bias=False)\n",
       "      (bn1): BatchNorm2d(64, eps=1e-05, momentum=0.1, affine=True, track_running_stats=True)\n",
       "      (conv2): Conv2d(64, 64, kernel_size=(3, 3), stride=(1, 1), padding=(1, 1), bias=False)\n",
       "      (bn2): BatchNorm2d(64, eps=1e-05, momentum=0.1, affine=True, track_running_stats=True)\n",
       "      (dropout): Dropout(p=0.2, inplace=False)\n",
       "      (conv3): Conv2d(64, 256, kernel_size=(1, 1), stride=(1, 1), bias=False)\n",
       "      (bn3): BatchNorm2d(256, eps=1e-05, momentum=0.1, affine=True, track_running_stats=True)\n",
       "      (conv4): Conv2d(64, 256, kernel_size=(1, 1), stride=(1, 1), bias=False)\n",
       "      (bn4): BatchNorm2d(256, eps=1e-05, momentum=0.1, affine=True, track_running_stats=True)\n",
       "    )\n",
       "    (resblock2): ResNet_Block(\n",
       "      (conv1): Conv2d(256, 64, kernel_size=(1, 1), stride=(1, 1), bias=False)\n",
       "      (bn1): BatchNorm2d(64, eps=1e-05, momentum=0.1, affine=True, track_running_stats=True)\n",
       "      (conv2): Conv2d(64, 64, kernel_size=(3, 3), stride=(1, 1), padding=(1, 1), bias=False)\n",
       "      (bn2): BatchNorm2d(64, eps=1e-05, momentum=0.1, affine=True, track_running_stats=True)\n",
       "      (dropout): Dropout(p=0.2, inplace=False)\n",
       "      (conv3): Conv2d(64, 256, kernel_size=(1, 1), stride=(1, 1), bias=False)\n",
       "      (bn3): BatchNorm2d(256, eps=1e-05, momentum=0.1, affine=True, track_running_stats=True)\n",
       "      (conv4): Conv2d(256, 256, kernel_size=(1, 1), stride=(1, 1), bias=False)\n",
       "      (bn4): BatchNorm2d(256, eps=1e-05, momentum=0.1, affine=True, track_running_stats=True)\n",
       "    )\n",
       "    (resblock3): ResNet_Block(\n",
       "      (conv1): Conv2d(256, 64, kernel_size=(1, 1), stride=(1, 1), bias=False)\n",
       "      (bn1): BatchNorm2d(64, eps=1e-05, momentum=0.1, affine=True, track_running_stats=True)\n",
       "      (conv2): Conv2d(64, 64, kernel_size=(3, 3), stride=(1, 1), padding=(1, 1), bias=False)\n",
       "      (bn2): BatchNorm2d(64, eps=1e-05, momentum=0.1, affine=True, track_running_stats=True)\n",
       "      (dropout): Dropout(p=0.2, inplace=False)\n",
       "      (conv3): Conv2d(64, 256, kernel_size=(1, 1), stride=(1, 1), bias=False)\n",
       "      (bn3): BatchNorm2d(256, eps=1e-05, momentum=0.1, affine=True, track_running_stats=True)\n",
       "      (conv4): Conv2d(256, 256, kernel_size=(1, 1), stride=(1, 1), bias=False)\n",
       "      (bn4): BatchNorm2d(256, eps=1e-05, momentum=0.1, affine=True, track_running_stats=True)\n",
       "    )\n",
       "    (resblock4): ResNet_Block(\n",
       "      (conv1): Conv2d(256, 128, kernel_size=(1, 1), stride=(2, 2), bias=False)\n",
       "      (bn1): BatchNorm2d(128, eps=1e-05, momentum=0.1, affine=True, track_running_stats=True)\n",
       "      (conv2): Conv2d(128, 128, kernel_size=(3, 3), stride=(1, 1), padding=(1, 1), bias=False)\n",
       "      (bn2): BatchNorm2d(128, eps=1e-05, momentum=0.1, affine=True, track_running_stats=True)\n",
       "      (dropout): Dropout(p=0.2, inplace=False)\n",
       "      (conv3): Conv2d(128, 512, kernel_size=(1, 1), stride=(1, 1), bias=False)\n",
       "      (bn3): BatchNorm2d(512, eps=1e-05, momentum=0.1, affine=True, track_running_stats=True)\n",
       "      (conv4): Conv2d(256, 512, kernel_size=(1, 1), stride=(2, 2), bias=False)\n",
       "      (bn4): BatchNorm2d(512, eps=1e-05, momentum=0.1, affine=True, track_running_stats=True)\n",
       "    )\n",
       "    (resblock5): ResNet_Block(\n",
       "      (conv1): Conv2d(512, 128, kernel_size=(1, 1), stride=(1, 1), bias=False)\n",
       "      (bn1): BatchNorm2d(128, eps=1e-05, momentum=0.1, affine=True, track_running_stats=True)\n",
       "      (conv2): Conv2d(128, 128, kernel_size=(3, 3), stride=(1, 1), padding=(1, 1), bias=False)\n",
       "      (bn2): BatchNorm2d(128, eps=1e-05, momentum=0.1, affine=True, track_running_stats=True)\n",
       "      (dropout): Dropout(p=0.2, inplace=False)\n",
       "      (conv3): Conv2d(128, 512, kernel_size=(1, 1), stride=(1, 1), bias=False)\n",
       "      (bn3): BatchNorm2d(512, eps=1e-05, momentum=0.1, affine=True, track_running_stats=True)\n",
       "      (conv4): Conv2d(512, 512, kernel_size=(1, 1), stride=(1, 1), bias=False)\n",
       "      (bn4): BatchNorm2d(512, eps=1e-05, momentum=0.1, affine=True, track_running_stats=True)\n",
       "    )\n",
       "    (resblock6): ResNet_Block(\n",
       "      (conv1): Conv2d(512, 128, kernel_size=(1, 1), stride=(1, 1), bias=False)\n",
       "      (bn1): BatchNorm2d(128, eps=1e-05, momentum=0.1, affine=True, track_running_stats=True)\n",
       "      (conv2): Conv2d(128, 128, kernel_size=(3, 3), stride=(1, 1), padding=(1, 1), bias=False)\n",
       "      (bn2): BatchNorm2d(128, eps=1e-05, momentum=0.1, affine=True, track_running_stats=True)\n",
       "      (dropout): Dropout(p=0.2, inplace=False)\n",
       "      (conv3): Conv2d(128, 512, kernel_size=(1, 1), stride=(1, 1), bias=False)\n",
       "      (bn3): BatchNorm2d(512, eps=1e-05, momentum=0.1, affine=True, track_running_stats=True)\n",
       "      (conv4): Conv2d(512, 512, kernel_size=(1, 1), stride=(1, 1), bias=False)\n",
       "      (bn4): BatchNorm2d(512, eps=1e-05, momentum=0.1, affine=True, track_running_stats=True)\n",
       "    )\n",
       "    (resblock7): ResNet_Block(\n",
       "      (conv1): Conv2d(512, 128, kernel_size=(1, 1), stride=(1, 1), bias=False)\n",
       "      (bn1): BatchNorm2d(128, eps=1e-05, momentum=0.1, affine=True, track_running_stats=True)\n",
       "      (conv2): Conv2d(128, 128, kernel_size=(3, 3), stride=(1, 1), padding=(1, 1), bias=False)\n",
       "      (bn2): BatchNorm2d(128, eps=1e-05, momentum=0.1, affine=True, track_running_stats=True)\n",
       "      (dropout): Dropout(p=0.2, inplace=False)\n",
       "      (conv3): Conv2d(128, 512, kernel_size=(1, 1), stride=(1, 1), bias=False)\n",
       "      (bn3): BatchNorm2d(512, eps=1e-05, momentum=0.1, affine=True, track_running_stats=True)\n",
       "      (conv4): Conv2d(512, 512, kernel_size=(1, 1), stride=(1, 1), bias=False)\n",
       "      (bn4): BatchNorm2d(512, eps=1e-05, momentum=0.1, affine=True, track_running_stats=True)\n",
       "    )\n",
       "    (resblock8): ResNet_Block(\n",
       "      (conv1): Conv2d(512, 256, kernel_size=(1, 1), stride=(2, 2), bias=False)\n",
       "      (bn1): BatchNorm2d(256, eps=1e-05, momentum=0.1, affine=True, track_running_stats=True)\n",
       "      (conv2): Conv2d(256, 256, kernel_size=(3, 3), stride=(1, 1), padding=(1, 1), bias=False)\n",
       "      (bn2): BatchNorm2d(256, eps=1e-05, momentum=0.1, affine=True, track_running_stats=True)\n",
       "      (dropout): Dropout(p=0.2, inplace=False)\n",
       "      (conv3): Conv2d(256, 1024, kernel_size=(1, 1), stride=(1, 1), bias=False)\n",
       "      (bn3): BatchNorm2d(1024, eps=1e-05, momentum=0.1, affine=True, track_running_stats=True)\n",
       "      (conv4): Conv2d(512, 1024, kernel_size=(1, 1), stride=(2, 2), bias=False)\n",
       "      (bn4): BatchNorm2d(1024, eps=1e-05, momentum=0.1, affine=True, track_running_stats=True)\n",
       "    )\n",
       "    (resblock9): ResNet_Block(\n",
       "      (conv1): Conv2d(1024, 256, kernel_size=(1, 1), stride=(1, 1), bias=False)\n",
       "      (bn1): BatchNorm2d(256, eps=1e-05, momentum=0.1, affine=True, track_running_stats=True)\n",
       "      (conv2): Conv2d(256, 256, kernel_size=(3, 3), stride=(1, 1), padding=(1, 1), bias=False)\n",
       "      (bn2): BatchNorm2d(256, eps=1e-05, momentum=0.1, affine=True, track_running_stats=True)\n",
       "      (dropout): Dropout(p=0.2, inplace=False)\n",
       "      (conv3): Conv2d(256, 1024, kernel_size=(1, 1), stride=(1, 1), bias=False)\n",
       "      (bn3): BatchNorm2d(1024, eps=1e-05, momentum=0.1, affine=True, track_running_stats=True)\n",
       "      (conv4): Conv2d(1024, 1024, kernel_size=(1, 1), stride=(1, 1), bias=False)\n",
       "      (bn4): BatchNorm2d(1024, eps=1e-05, momentum=0.1, affine=True, track_running_stats=True)\n",
       "    )\n",
       "    (resblock10): ResNet_Block(\n",
       "      (conv1): Conv2d(1024, 256, kernel_size=(1, 1), stride=(1, 1), bias=False)\n",
       "      (bn1): BatchNorm2d(256, eps=1e-05, momentum=0.1, affine=True, track_running_stats=True)\n",
       "      (conv2): Conv2d(256, 256, kernel_size=(3, 3), stride=(1, 1), padding=(1, 1), bias=False)\n",
       "      (bn2): BatchNorm2d(256, eps=1e-05, momentum=0.1, affine=True, track_running_stats=True)\n",
       "      (dropout): Dropout(p=0.2, inplace=False)\n",
       "      (conv3): Conv2d(256, 1024, kernel_size=(1, 1), stride=(1, 1), bias=False)\n",
       "      (bn3): BatchNorm2d(1024, eps=1e-05, momentum=0.1, affine=True, track_running_stats=True)\n",
       "      (conv4): Conv2d(1024, 1024, kernel_size=(1, 1), stride=(1, 1), bias=False)\n",
       "      (bn4): BatchNorm2d(1024, eps=1e-05, momentum=0.1, affine=True, track_running_stats=True)\n",
       "    )\n",
       "    (resblock11): ResNet_Block(\n",
       "      (conv1): Conv2d(1024, 256, kernel_size=(1, 1), stride=(1, 1), bias=False)\n",
       "      (bn1): BatchNorm2d(256, eps=1e-05, momentum=0.1, affine=True, track_running_stats=True)\n",
       "      (conv2): Conv2d(256, 256, kernel_size=(3, 3), stride=(1, 1), padding=(1, 1), bias=False)\n",
       "      (bn2): BatchNorm2d(256, eps=1e-05, momentum=0.1, affine=True, track_running_stats=True)\n",
       "      (dropout): Dropout(p=0.2, inplace=False)\n",
       "      (conv3): Conv2d(256, 1024, kernel_size=(1, 1), stride=(1, 1), bias=False)\n",
       "      (bn3): BatchNorm2d(1024, eps=1e-05, momentum=0.1, affine=True, track_running_stats=True)\n",
       "      (conv4): Conv2d(1024, 1024, kernel_size=(1, 1), stride=(1, 1), bias=False)\n",
       "      (bn4): BatchNorm2d(1024, eps=1e-05, momentum=0.1, affine=True, track_running_stats=True)\n",
       "    )\n",
       "    (resblock12): ResNet_Block(\n",
       "      (conv1): Conv2d(1024, 256, kernel_size=(1, 1), stride=(1, 1), bias=False)\n",
       "      (bn1): BatchNorm2d(256, eps=1e-05, momentum=0.1, affine=True, track_running_stats=True)\n",
       "      (conv2): Conv2d(256, 256, kernel_size=(3, 3), stride=(1, 1), padding=(1, 1), bias=False)\n",
       "      (bn2): BatchNorm2d(256, eps=1e-05, momentum=0.1, affine=True, track_running_stats=True)\n",
       "      (dropout): Dropout(p=0.2, inplace=False)\n",
       "      (conv3): Conv2d(256, 1024, kernel_size=(1, 1), stride=(1, 1), bias=False)\n",
       "      (bn3): BatchNorm2d(1024, eps=1e-05, momentum=0.1, affine=True, track_running_stats=True)\n",
       "      (conv4): Conv2d(1024, 1024, kernel_size=(1, 1), stride=(1, 1), bias=False)\n",
       "      (bn4): BatchNorm2d(1024, eps=1e-05, momentum=0.1, affine=True, track_running_stats=True)\n",
       "    )\n",
       "    (resblock13): ResNet_Block(\n",
       "      (conv1): Conv2d(1024, 256, kernel_size=(1, 1), stride=(1, 1), bias=False)\n",
       "      (bn1): BatchNorm2d(256, eps=1e-05, momentum=0.1, affine=True, track_running_stats=True)\n",
       "      (conv2): Conv2d(256, 256, kernel_size=(3, 3), stride=(1, 1), padding=(1, 1), bias=False)\n",
       "      (bn2): BatchNorm2d(256, eps=1e-05, momentum=0.1, affine=True, track_running_stats=True)\n",
       "      (dropout): Dropout(p=0.2, inplace=False)\n",
       "      (conv3): Conv2d(256, 1024, kernel_size=(1, 1), stride=(1, 1), bias=False)\n",
       "      (bn3): BatchNorm2d(1024, eps=1e-05, momentum=0.1, affine=True, track_running_stats=True)\n",
       "      (conv4): Conv2d(1024, 1024, kernel_size=(1, 1), stride=(1, 1), bias=False)\n",
       "      (bn4): BatchNorm2d(1024, eps=1e-05, momentum=0.1, affine=True, track_running_stats=True)\n",
       "    )\n",
       "    (resblock14): ResNet_Block(\n",
       "      (conv1): Conv2d(1024, 512, kernel_size=(1, 1), stride=(2, 2), bias=False)\n",
       "      (bn1): BatchNorm2d(512, eps=1e-05, momentum=0.1, affine=True, track_running_stats=True)\n",
       "      (conv2): Conv2d(512, 512, kernel_size=(3, 3), stride=(1, 1), padding=(1, 1), bias=False)\n",
       "      (bn2): BatchNorm2d(512, eps=1e-05, momentum=0.1, affine=True, track_running_stats=True)\n",
       "      (dropout): Dropout(p=0.2, inplace=False)\n",
       "      (conv3): Conv2d(512, 2048, kernel_size=(1, 1), stride=(1, 1), bias=False)\n",
       "      (bn3): BatchNorm2d(2048, eps=1e-05, momentum=0.1, affine=True, track_running_stats=True)\n",
       "      (conv4): Conv2d(1024, 2048, kernel_size=(1, 1), stride=(2, 2), bias=False)\n",
       "      (bn4): BatchNorm2d(2048, eps=1e-05, momentum=0.1, affine=True, track_running_stats=True)\n",
       "    )\n",
       "    (resblock15): ResNet_Block(\n",
       "      (conv1): Conv2d(2048, 512, kernel_size=(1, 1), stride=(1, 1), bias=False)\n",
       "      (bn1): BatchNorm2d(512, eps=1e-05, momentum=0.1, affine=True, track_running_stats=True)\n",
       "      (conv2): Conv2d(512, 512, kernel_size=(3, 3), stride=(1, 1), padding=(1, 1), bias=False)\n",
       "      (bn2): BatchNorm2d(512, eps=1e-05, momentum=0.1, affine=True, track_running_stats=True)\n",
       "      (dropout): Dropout(p=0.2, inplace=False)\n",
       "      (conv3): Conv2d(512, 2048, kernel_size=(1, 1), stride=(1, 1), bias=False)\n",
       "      (bn3): BatchNorm2d(2048, eps=1e-05, momentum=0.1, affine=True, track_running_stats=True)\n",
       "      (conv4): Conv2d(2048, 2048, kernel_size=(1, 1), stride=(1, 1), bias=False)\n",
       "      (bn4): BatchNorm2d(2048, eps=1e-05, momentum=0.1, affine=True, track_running_stats=True)\n",
       "    )\n",
       "    (resblock16): ResNet_Block(\n",
       "      (conv1): Conv2d(2048, 512, kernel_size=(1, 1), stride=(1, 1), bias=False)\n",
       "      (bn1): BatchNorm2d(512, eps=1e-05, momentum=0.1, affine=True, track_running_stats=True)\n",
       "      (conv2): Conv2d(512, 512, kernel_size=(3, 3), stride=(1, 1), padding=(1, 1), bias=False)\n",
       "      (bn2): BatchNorm2d(512, eps=1e-05, momentum=0.1, affine=True, track_running_stats=True)\n",
       "      (dropout): Dropout(p=0.2, inplace=False)\n",
       "      (conv3): Conv2d(512, 2048, kernel_size=(1, 1), stride=(1, 1), bias=False)\n",
       "      (bn3): BatchNorm2d(2048, eps=1e-05, momentum=0.1, affine=True, track_running_stats=True)\n",
       "      (conv4): Conv2d(2048, 2048, kernel_size=(1, 1), stride=(1, 1), bias=False)\n",
       "      (bn4): BatchNorm2d(2048, eps=1e-05, momentum=0.1, affine=True, track_running_stats=True)\n",
       "    )\n",
       "    (avg_pool): AdaptiveAvgPool2d(output_size=(1, 1))\n",
       "    (output_layer): Linear(in_features=2048, out_features=4, bias=True)\n",
       "  )\n",
       ")"
      ]
     },
     "execution_count": 12,
     "metadata": {},
     "output_type": "execute_result"
    }
   ],
   "source": [
    "# Use data parallelism, specify GPUs to use-\n",
    "model = torch.nn.DataParallel(model, device_ids = [0, 1, 2, 3])\n",
    "\n",
    "# Move to CUDA GPU-\n",
    "model.to(0)"
   ]
  },
  {
   "cell_type": "code",
   "execution_count": 13,
   "id": "4b2d7204-bf4d-41dd-b5d5-8438c5cb82de",
   "metadata": {},
   "outputs": [
    {
     "name": "stdout",
     "output_type": "stream",
     "text": [
      "Total number of trainable parameters in ResNet-50 CNN = 38080068\n"
     ]
    }
   ],
   "source": [
    "# Count number of layer-wise parameters and total parameters-\n",
    "tot_params = 0\n",
    "for param in model.parameters():\n",
    "    # print(f\"layer.shape = {param.shape} has {param.nelement()} parameters\")\n",
    "    tot_params += param.nelement()\n",
    "\n",
    "print(f\"Total number of trainable parameters in ResNet-50 CNN = {tot_params}\")"
   ]
  },
  {
   "cell_type": "code",
   "execution_count": 14,
   "id": "b48755f5",
   "metadata": {},
   "outputs": [
    {
     "data": {
      "text/plain": [
       "<All keys matched successfully>"
      ]
     },
     "execution_count": 14,
     "metadata": {},
     "output_type": "execute_result"
    }
   ],
   "source": [
    "# Load pre-trained weights using Image rotation-\n",
    "model.load_state_dict(torch.load('ResNet50_STL10_RotNet_best_acc.pth'))"
   ]
  },
  {
   "cell_type": "code",
   "execution_count": null,
   "id": "de77a540",
   "metadata": {},
   "outputs": [],
   "source": []
  },
  {
   "cell_type": "markdown",
   "id": "2e6a1195",
   "metadata": {},
   "source": [
    "#### Modifying Neural Network when using ```nn.DataParallel```\n",
    "\n",
    "[Refer](https://discuss.pytorch.org/t/changing-model-structure-in-nn-dataparallel/91261/5)"
   ]
  },
  {
   "cell_type": "code",
   "execution_count": 15,
   "id": "4016339c",
   "metadata": {},
   "outputs": [],
   "source": [
    "# Unwrap from nn.DataParallel-\n",
    "if torch.cuda.device_count() > 1:\n",
    "    model = model.module\n",
    "    \n",
    "    # Modify output layer to have 10 neurons required for classification-\n",
    "    model.output_layer = nn.Linear(in_features = 2048, out_features = 10)"
   ]
  },
  {
   "cell_type": "code",
   "execution_count": 16,
   "id": "04e554f4",
   "metadata": {},
   "outputs": [
    {
     "name": "stdout",
     "output_type": "stream",
     "text": [
      "Wrap model again with nn.DataParallel using 4 GPUs\n"
     ]
    }
   ],
   "source": [
    "if torch.cuda.device_count() > 1:\n",
    "    print(f\"Wrap model again with nn.DataParallel using\"\n",
    "          f\" {torch.cuda.device_count()} GPUs\"\n",
    "         )\n",
    "    # Use data parallelism, specify GPUs to use-\n",
    "    model = torch.nn.DataParallel(model, device_ids = [0, 1, 2, 3])\n",
    "    \n",
    "    # Move to CUDA GPU-\n",
    "    model.to(0)"
   ]
  },
  {
   "cell_type": "code",
   "execution_count": 17,
   "id": "e2cf9003",
   "metadata": {},
   "outputs": [
    {
     "data": {
      "text/plain": [
       "DataParallel(\n",
       "  (module): ResNet50(\n",
       "    (conv1): Conv2d(3, 64, kernel_size=(3, 3), stride=(1, 1), padding=(1, 1), bias=False)\n",
       "    (bn1): BatchNorm2d(64, eps=1e-05, momentum=0.1, affine=True, track_running_stats=True)\n",
       "    (resblock1): ResNet_Block(\n",
       "      (conv1): Conv2d(64, 64, kernel_size=(1, 1), stride=(1, 1), bias=False)\n",
       "      (bn1): BatchNorm2d(64, eps=1e-05, momentum=0.1, affine=True, track_running_stats=True)\n",
       "      (conv2): Conv2d(64, 64, kernel_size=(3, 3), stride=(1, 1), padding=(1, 1), bias=False)\n",
       "      (bn2): BatchNorm2d(64, eps=1e-05, momentum=0.1, affine=True, track_running_stats=True)\n",
       "      (dropout): Dropout(p=0.2, inplace=False)\n",
       "      (conv3): Conv2d(64, 256, kernel_size=(1, 1), stride=(1, 1), bias=False)\n",
       "      (bn3): BatchNorm2d(256, eps=1e-05, momentum=0.1, affine=True, track_running_stats=True)\n",
       "      (conv4): Conv2d(64, 256, kernel_size=(1, 1), stride=(1, 1), bias=False)\n",
       "      (bn4): BatchNorm2d(256, eps=1e-05, momentum=0.1, affine=True, track_running_stats=True)\n",
       "    )\n",
       "    (resblock2): ResNet_Block(\n",
       "      (conv1): Conv2d(256, 64, kernel_size=(1, 1), stride=(1, 1), bias=False)\n",
       "      (bn1): BatchNorm2d(64, eps=1e-05, momentum=0.1, affine=True, track_running_stats=True)\n",
       "      (conv2): Conv2d(64, 64, kernel_size=(3, 3), stride=(1, 1), padding=(1, 1), bias=False)\n",
       "      (bn2): BatchNorm2d(64, eps=1e-05, momentum=0.1, affine=True, track_running_stats=True)\n",
       "      (dropout): Dropout(p=0.2, inplace=False)\n",
       "      (conv3): Conv2d(64, 256, kernel_size=(1, 1), stride=(1, 1), bias=False)\n",
       "      (bn3): BatchNorm2d(256, eps=1e-05, momentum=0.1, affine=True, track_running_stats=True)\n",
       "      (conv4): Conv2d(256, 256, kernel_size=(1, 1), stride=(1, 1), bias=False)\n",
       "      (bn4): BatchNorm2d(256, eps=1e-05, momentum=0.1, affine=True, track_running_stats=True)\n",
       "    )\n",
       "    (resblock3): ResNet_Block(\n",
       "      (conv1): Conv2d(256, 64, kernel_size=(1, 1), stride=(1, 1), bias=False)\n",
       "      (bn1): BatchNorm2d(64, eps=1e-05, momentum=0.1, affine=True, track_running_stats=True)\n",
       "      (conv2): Conv2d(64, 64, kernel_size=(3, 3), stride=(1, 1), padding=(1, 1), bias=False)\n",
       "      (bn2): BatchNorm2d(64, eps=1e-05, momentum=0.1, affine=True, track_running_stats=True)\n",
       "      (dropout): Dropout(p=0.2, inplace=False)\n",
       "      (conv3): Conv2d(64, 256, kernel_size=(1, 1), stride=(1, 1), bias=False)\n",
       "      (bn3): BatchNorm2d(256, eps=1e-05, momentum=0.1, affine=True, track_running_stats=True)\n",
       "      (conv4): Conv2d(256, 256, kernel_size=(1, 1), stride=(1, 1), bias=False)\n",
       "      (bn4): BatchNorm2d(256, eps=1e-05, momentum=0.1, affine=True, track_running_stats=True)\n",
       "    )\n",
       "    (resblock4): ResNet_Block(\n",
       "      (conv1): Conv2d(256, 128, kernel_size=(1, 1), stride=(2, 2), bias=False)\n",
       "      (bn1): BatchNorm2d(128, eps=1e-05, momentum=0.1, affine=True, track_running_stats=True)\n",
       "      (conv2): Conv2d(128, 128, kernel_size=(3, 3), stride=(1, 1), padding=(1, 1), bias=False)\n",
       "      (bn2): BatchNorm2d(128, eps=1e-05, momentum=0.1, affine=True, track_running_stats=True)\n",
       "      (dropout): Dropout(p=0.2, inplace=False)\n",
       "      (conv3): Conv2d(128, 512, kernel_size=(1, 1), stride=(1, 1), bias=False)\n",
       "      (bn3): BatchNorm2d(512, eps=1e-05, momentum=0.1, affine=True, track_running_stats=True)\n",
       "      (conv4): Conv2d(256, 512, kernel_size=(1, 1), stride=(2, 2), bias=False)\n",
       "      (bn4): BatchNorm2d(512, eps=1e-05, momentum=0.1, affine=True, track_running_stats=True)\n",
       "    )\n",
       "    (resblock5): ResNet_Block(\n",
       "      (conv1): Conv2d(512, 128, kernel_size=(1, 1), stride=(1, 1), bias=False)\n",
       "      (bn1): BatchNorm2d(128, eps=1e-05, momentum=0.1, affine=True, track_running_stats=True)\n",
       "      (conv2): Conv2d(128, 128, kernel_size=(3, 3), stride=(1, 1), padding=(1, 1), bias=False)\n",
       "      (bn2): BatchNorm2d(128, eps=1e-05, momentum=0.1, affine=True, track_running_stats=True)\n",
       "      (dropout): Dropout(p=0.2, inplace=False)\n",
       "      (conv3): Conv2d(128, 512, kernel_size=(1, 1), stride=(1, 1), bias=False)\n",
       "      (bn3): BatchNorm2d(512, eps=1e-05, momentum=0.1, affine=True, track_running_stats=True)\n",
       "      (conv4): Conv2d(512, 512, kernel_size=(1, 1), stride=(1, 1), bias=False)\n",
       "      (bn4): BatchNorm2d(512, eps=1e-05, momentum=0.1, affine=True, track_running_stats=True)\n",
       "    )\n",
       "    (resblock6): ResNet_Block(\n",
       "      (conv1): Conv2d(512, 128, kernel_size=(1, 1), stride=(1, 1), bias=False)\n",
       "      (bn1): BatchNorm2d(128, eps=1e-05, momentum=0.1, affine=True, track_running_stats=True)\n",
       "      (conv2): Conv2d(128, 128, kernel_size=(3, 3), stride=(1, 1), padding=(1, 1), bias=False)\n",
       "      (bn2): BatchNorm2d(128, eps=1e-05, momentum=0.1, affine=True, track_running_stats=True)\n",
       "      (dropout): Dropout(p=0.2, inplace=False)\n",
       "      (conv3): Conv2d(128, 512, kernel_size=(1, 1), stride=(1, 1), bias=False)\n",
       "      (bn3): BatchNorm2d(512, eps=1e-05, momentum=0.1, affine=True, track_running_stats=True)\n",
       "      (conv4): Conv2d(512, 512, kernel_size=(1, 1), stride=(1, 1), bias=False)\n",
       "      (bn4): BatchNorm2d(512, eps=1e-05, momentum=0.1, affine=True, track_running_stats=True)\n",
       "    )\n",
       "    (resblock7): ResNet_Block(\n",
       "      (conv1): Conv2d(512, 128, kernel_size=(1, 1), stride=(1, 1), bias=False)\n",
       "      (bn1): BatchNorm2d(128, eps=1e-05, momentum=0.1, affine=True, track_running_stats=True)\n",
       "      (conv2): Conv2d(128, 128, kernel_size=(3, 3), stride=(1, 1), padding=(1, 1), bias=False)\n",
       "      (bn2): BatchNorm2d(128, eps=1e-05, momentum=0.1, affine=True, track_running_stats=True)\n",
       "      (dropout): Dropout(p=0.2, inplace=False)\n",
       "      (conv3): Conv2d(128, 512, kernel_size=(1, 1), stride=(1, 1), bias=False)\n",
       "      (bn3): BatchNorm2d(512, eps=1e-05, momentum=0.1, affine=True, track_running_stats=True)\n",
       "      (conv4): Conv2d(512, 512, kernel_size=(1, 1), stride=(1, 1), bias=False)\n",
       "      (bn4): BatchNorm2d(512, eps=1e-05, momentum=0.1, affine=True, track_running_stats=True)\n",
       "    )\n",
       "    (resblock8): ResNet_Block(\n",
       "      (conv1): Conv2d(512, 256, kernel_size=(1, 1), stride=(2, 2), bias=False)\n",
       "      (bn1): BatchNorm2d(256, eps=1e-05, momentum=0.1, affine=True, track_running_stats=True)\n",
       "      (conv2): Conv2d(256, 256, kernel_size=(3, 3), stride=(1, 1), padding=(1, 1), bias=False)\n",
       "      (bn2): BatchNorm2d(256, eps=1e-05, momentum=0.1, affine=True, track_running_stats=True)\n",
       "      (dropout): Dropout(p=0.2, inplace=False)\n",
       "      (conv3): Conv2d(256, 1024, kernel_size=(1, 1), stride=(1, 1), bias=False)\n",
       "      (bn3): BatchNorm2d(1024, eps=1e-05, momentum=0.1, affine=True, track_running_stats=True)\n",
       "      (conv4): Conv2d(512, 1024, kernel_size=(1, 1), stride=(2, 2), bias=False)\n",
       "      (bn4): BatchNorm2d(1024, eps=1e-05, momentum=0.1, affine=True, track_running_stats=True)\n",
       "    )\n",
       "    (resblock9): ResNet_Block(\n",
       "      (conv1): Conv2d(1024, 256, kernel_size=(1, 1), stride=(1, 1), bias=False)\n",
       "      (bn1): BatchNorm2d(256, eps=1e-05, momentum=0.1, affine=True, track_running_stats=True)\n",
       "      (conv2): Conv2d(256, 256, kernel_size=(3, 3), stride=(1, 1), padding=(1, 1), bias=False)\n",
       "      (bn2): BatchNorm2d(256, eps=1e-05, momentum=0.1, affine=True, track_running_stats=True)\n",
       "      (dropout): Dropout(p=0.2, inplace=False)\n",
       "      (conv3): Conv2d(256, 1024, kernel_size=(1, 1), stride=(1, 1), bias=False)\n",
       "      (bn3): BatchNorm2d(1024, eps=1e-05, momentum=0.1, affine=True, track_running_stats=True)\n",
       "      (conv4): Conv2d(1024, 1024, kernel_size=(1, 1), stride=(1, 1), bias=False)\n",
       "      (bn4): BatchNorm2d(1024, eps=1e-05, momentum=0.1, affine=True, track_running_stats=True)\n",
       "    )\n",
       "    (resblock10): ResNet_Block(\n",
       "      (conv1): Conv2d(1024, 256, kernel_size=(1, 1), stride=(1, 1), bias=False)\n",
       "      (bn1): BatchNorm2d(256, eps=1e-05, momentum=0.1, affine=True, track_running_stats=True)\n",
       "      (conv2): Conv2d(256, 256, kernel_size=(3, 3), stride=(1, 1), padding=(1, 1), bias=False)\n",
       "      (bn2): BatchNorm2d(256, eps=1e-05, momentum=0.1, affine=True, track_running_stats=True)\n",
       "      (dropout): Dropout(p=0.2, inplace=False)\n",
       "      (conv3): Conv2d(256, 1024, kernel_size=(1, 1), stride=(1, 1), bias=False)\n",
       "      (bn3): BatchNorm2d(1024, eps=1e-05, momentum=0.1, affine=True, track_running_stats=True)\n",
       "      (conv4): Conv2d(1024, 1024, kernel_size=(1, 1), stride=(1, 1), bias=False)\n",
       "      (bn4): BatchNorm2d(1024, eps=1e-05, momentum=0.1, affine=True, track_running_stats=True)\n",
       "    )\n",
       "    (resblock11): ResNet_Block(\n",
       "      (conv1): Conv2d(1024, 256, kernel_size=(1, 1), stride=(1, 1), bias=False)\n",
       "      (bn1): BatchNorm2d(256, eps=1e-05, momentum=0.1, affine=True, track_running_stats=True)\n",
       "      (conv2): Conv2d(256, 256, kernel_size=(3, 3), stride=(1, 1), padding=(1, 1), bias=False)\n",
       "      (bn2): BatchNorm2d(256, eps=1e-05, momentum=0.1, affine=True, track_running_stats=True)\n",
       "      (dropout): Dropout(p=0.2, inplace=False)\n",
       "      (conv3): Conv2d(256, 1024, kernel_size=(1, 1), stride=(1, 1), bias=False)\n",
       "      (bn3): BatchNorm2d(1024, eps=1e-05, momentum=0.1, affine=True, track_running_stats=True)\n",
       "      (conv4): Conv2d(1024, 1024, kernel_size=(1, 1), stride=(1, 1), bias=False)\n",
       "      (bn4): BatchNorm2d(1024, eps=1e-05, momentum=0.1, affine=True, track_running_stats=True)\n",
       "    )\n",
       "    (resblock12): ResNet_Block(\n",
       "      (conv1): Conv2d(1024, 256, kernel_size=(1, 1), stride=(1, 1), bias=False)\n",
       "      (bn1): BatchNorm2d(256, eps=1e-05, momentum=0.1, affine=True, track_running_stats=True)\n",
       "      (conv2): Conv2d(256, 256, kernel_size=(3, 3), stride=(1, 1), padding=(1, 1), bias=False)\n",
       "      (bn2): BatchNorm2d(256, eps=1e-05, momentum=0.1, affine=True, track_running_stats=True)\n",
       "      (dropout): Dropout(p=0.2, inplace=False)\n",
       "      (conv3): Conv2d(256, 1024, kernel_size=(1, 1), stride=(1, 1), bias=False)\n",
       "      (bn3): BatchNorm2d(1024, eps=1e-05, momentum=0.1, affine=True, track_running_stats=True)\n",
       "      (conv4): Conv2d(1024, 1024, kernel_size=(1, 1), stride=(1, 1), bias=False)\n",
       "      (bn4): BatchNorm2d(1024, eps=1e-05, momentum=0.1, affine=True, track_running_stats=True)\n",
       "    )\n",
       "    (resblock13): ResNet_Block(\n",
       "      (conv1): Conv2d(1024, 256, kernel_size=(1, 1), stride=(1, 1), bias=False)\n",
       "      (bn1): BatchNorm2d(256, eps=1e-05, momentum=0.1, affine=True, track_running_stats=True)\n",
       "      (conv2): Conv2d(256, 256, kernel_size=(3, 3), stride=(1, 1), padding=(1, 1), bias=False)\n",
       "      (bn2): BatchNorm2d(256, eps=1e-05, momentum=0.1, affine=True, track_running_stats=True)\n",
       "      (dropout): Dropout(p=0.2, inplace=False)\n",
       "      (conv3): Conv2d(256, 1024, kernel_size=(1, 1), stride=(1, 1), bias=False)\n",
       "      (bn3): BatchNorm2d(1024, eps=1e-05, momentum=0.1, affine=True, track_running_stats=True)\n",
       "      (conv4): Conv2d(1024, 1024, kernel_size=(1, 1), stride=(1, 1), bias=False)\n",
       "      (bn4): BatchNorm2d(1024, eps=1e-05, momentum=0.1, affine=True, track_running_stats=True)\n",
       "    )\n",
       "    (resblock14): ResNet_Block(\n",
       "      (conv1): Conv2d(1024, 512, kernel_size=(1, 1), stride=(2, 2), bias=False)\n",
       "      (bn1): BatchNorm2d(512, eps=1e-05, momentum=0.1, affine=True, track_running_stats=True)\n",
       "      (conv2): Conv2d(512, 512, kernel_size=(3, 3), stride=(1, 1), padding=(1, 1), bias=False)\n",
       "      (bn2): BatchNorm2d(512, eps=1e-05, momentum=0.1, affine=True, track_running_stats=True)\n",
       "      (dropout): Dropout(p=0.2, inplace=False)\n",
       "      (conv3): Conv2d(512, 2048, kernel_size=(1, 1), stride=(1, 1), bias=False)\n",
       "      (bn3): BatchNorm2d(2048, eps=1e-05, momentum=0.1, affine=True, track_running_stats=True)\n",
       "      (conv4): Conv2d(1024, 2048, kernel_size=(1, 1), stride=(2, 2), bias=False)\n",
       "      (bn4): BatchNorm2d(2048, eps=1e-05, momentum=0.1, affine=True, track_running_stats=True)\n",
       "    )\n",
       "    (resblock15): ResNet_Block(\n",
       "      (conv1): Conv2d(2048, 512, kernel_size=(1, 1), stride=(1, 1), bias=False)\n",
       "      (bn1): BatchNorm2d(512, eps=1e-05, momentum=0.1, affine=True, track_running_stats=True)\n",
       "      (conv2): Conv2d(512, 512, kernel_size=(3, 3), stride=(1, 1), padding=(1, 1), bias=False)\n",
       "      (bn2): BatchNorm2d(512, eps=1e-05, momentum=0.1, affine=True, track_running_stats=True)\n",
       "      (dropout): Dropout(p=0.2, inplace=False)\n",
       "      (conv3): Conv2d(512, 2048, kernel_size=(1, 1), stride=(1, 1), bias=False)\n",
       "      (bn3): BatchNorm2d(2048, eps=1e-05, momentum=0.1, affine=True, track_running_stats=True)\n",
       "      (conv4): Conv2d(2048, 2048, kernel_size=(1, 1), stride=(1, 1), bias=False)\n",
       "      (bn4): BatchNorm2d(2048, eps=1e-05, momentum=0.1, affine=True, track_running_stats=True)\n",
       "    )\n",
       "    (resblock16): ResNet_Block(\n",
       "      (conv1): Conv2d(2048, 512, kernel_size=(1, 1), stride=(1, 1), bias=False)\n",
       "      (bn1): BatchNorm2d(512, eps=1e-05, momentum=0.1, affine=True, track_running_stats=True)\n",
       "      (conv2): Conv2d(512, 512, kernel_size=(3, 3), stride=(1, 1), padding=(1, 1), bias=False)\n",
       "      (bn2): BatchNorm2d(512, eps=1e-05, momentum=0.1, affine=True, track_running_stats=True)\n",
       "      (dropout): Dropout(p=0.2, inplace=False)\n",
       "      (conv3): Conv2d(512, 2048, kernel_size=(1, 1), stride=(1, 1), bias=False)\n",
       "      (bn3): BatchNorm2d(2048, eps=1e-05, momentum=0.1, affine=True, track_running_stats=True)\n",
       "      (conv4): Conv2d(2048, 2048, kernel_size=(1, 1), stride=(1, 1), bias=False)\n",
       "      (bn4): BatchNorm2d(2048, eps=1e-05, momentum=0.1, affine=True, track_running_stats=True)\n",
       "    )\n",
       "    (avg_pool): AdaptiveAvgPool2d(output_size=(1, 1))\n",
       "    (output_layer): Linear(in_features=2048, out_features=10, bias=True)\n",
       "  )\n",
       ")"
      ]
     },
     "execution_count": 17,
     "metadata": {},
     "output_type": "execute_result"
    }
   ],
   "source": [
    "model.to(0)"
   ]
  },
  {
   "cell_type": "code",
   "execution_count": null,
   "id": "f7ad6513",
   "metadata": {},
   "outputs": [],
   "source": []
  },
  {
   "cell_type": "code",
   "execution_count": 18,
   "id": "47204cfa",
   "metadata": {},
   "outputs": [],
   "source": [
    "# Define number of fine-tuning epochs-\n",
    "num_epochs = 50"
   ]
  },
  {
   "cell_type": "code",
   "execution_count": null,
   "id": "3c10afa8",
   "metadata": {},
   "outputs": [],
   "source": []
  },
  {
   "cell_type": "code",
   "execution_count": 19,
   "id": "597bf67b",
   "metadata": {},
   "outputs": [],
   "source": [
    "# Define loss function and optimizer-\n",
    "cost_fn = nn.CrossEntropyLoss()\n",
    "optimizer = torch.optim.SGD(\n",
    "    params = model.parameters(), lr = 1e-3,\n",
    "    momentum = 0.9\n",
    ")"
   ]
  },
  {
   "cell_type": "code",
   "execution_count": 20,
   "id": "bdd26454",
   "metadata": {},
   "outputs": [],
   "source": [
    "# Decay lr at 18th and 30th epochs by a factor of 10-\n",
    "scheduler = torch.optim.lr_scheduler.MultiStepLR(\n",
    "    optimizer = optimizer, milestones = [18, 30, 40],\n",
    "    gamma = 0.1\n",
    ")"
   ]
  },
  {
   "cell_type": "code",
   "execution_count": null,
   "id": "5ad344ca",
   "metadata": {},
   "outputs": [],
   "source": []
  },
  {
   "cell_type": "code",
   "execution_count": 21,
   "id": "0a4640c8",
   "metadata": {},
   "outputs": [],
   "source": [
    "def train_model_progress(model, train_loader, train_dataset):\n",
    "    '''\n",
    "    Function to perform one epoch of training by using 'train_loader'.\n",
    "    Returns loss and number of correct predictions for this epoch.\n",
    "    '''\n",
    "    running_loss = 0.0\n",
    "    running_corrects = 0.0\n",
    "    \n",
    "    # Place model to device-\n",
    "    # model.to(device)\n",
    "    # model.to(0)\n",
    "    \n",
    "    model.train()\n",
    "    \n",
    "    with tqdm(train_loader, unit = 'batch') as tepoch:\n",
    "        for images, labels in tepoch:\n",
    "            tepoch.set_description(f\"Training: \")\n",
    "            \n",
    "            # Push to CUDA GPU-\n",
    "            images = images.to(0)\n",
    "            labels = labels.to(0)\n",
    "            # images = images.to(device)\n",
    "            # labels = labels.to(device)\n",
    "            \n",
    "            # Get model predictions-\n",
    "            outputs = model(images)\n",
    "            \n",
    "            # Compute loss-\n",
    "            J = cost_fn(outputs, labels)\n",
    "            \n",
    "            # Empty accumulated gradients-\n",
    "            optimizer.zero_grad()\n",
    "            \n",
    "            # Perform backprop-\n",
    "            J.backward()\n",
    "            \n",
    "            # Update parameters-\n",
    "            optimizer.step()\n",
    "            \n",
    "            # global step\n",
    "            # optimizer.param_groups[0]['lr'] = custom_lr_scheduler.get_lr(step)\n",
    "\n",
    "            # step += 1\n",
    "            \n",
    "            # Compute model's performance statistics-\n",
    "            running_loss += J.item() * images.size(0)\n",
    "            _, predicted = torch.max(outputs, 1)\n",
    "            running_corrects += torch.sum(predicted == labels.data)\n",
    "            \n",
    "            tepoch.set_postfix(\n",
    "                loss = running_loss / len(train_dataset),\n",
    "                accuracy = (running_corrects.double().cpu().numpy() / len(train_dataset)) * 100\n",
    "            )\n",
    "            \n",
    "    \n",
    "    train_loss = running_loss / len(train_dataset)\n",
    "    train_acc = (running_corrects.double() / len(train_dataset)) * 100\n",
    "    \n",
    "\n",
    "    # return running_loss, running_corrects\n",
    "    return train_loss, train_acc.cpu().numpy()\n"
   ]
  },
  {
   "cell_type": "code",
   "execution_count": 22,
   "id": "8c1ab4fc",
   "metadata": {},
   "outputs": [],
   "source": [
    "def test_model_progress(model, test_loader, test_dataset):\n",
    "    total = 0.0\n",
    "    correct = 0.0\n",
    "    running_loss_val = 0.0\n",
    "\n",
    "    with torch.no_grad():\n",
    "        with tqdm(test_loader, unit = 'batch') as tepoch:\n",
    "            for images, labels in tepoch:\n",
    "                tepoch.set_description(f\"Validation: \")\n",
    "                \n",
    "                # Push to CUDA GPU-\n",
    "                images = images.to(0)\n",
    "                labels = labels.to(0)\n",
    "                # images = images.to(device)\n",
    "                # labels = labels.to(device)\n",
    "                \n",
    "                # Set model to evaluation mode-\n",
    "                model.eval()\n",
    "                \n",
    "                # Place model to device-\n",
    "                # model.to(device)\n",
    "                # model.to(0)\n",
    "            \n",
    "                # Predict using trained model-\n",
    "                outputs = model(images)\n",
    "                _, y_pred = torch.max(outputs, 1)\n",
    "                \n",
    "                # Compute validation loss-\n",
    "                J_val = cost_fn(outputs, labels)\n",
    "                \n",
    "                running_loss_val += J_val.item() * labels.size(0)\n",
    "    \n",
    "                # Total number of labels-\n",
    "                total += labels.size(0)\n",
    "\n",
    "                # Total number of correct predictions-\n",
    "                correct += (y_pred == labels).sum()\n",
    "                \n",
    "                tepoch.set_postfix(\n",
    "                    val_loss = running_loss_val / len(test_dataset),\n",
    "                    val_acc = 100 * (correct.cpu().numpy() / total)\n",
    "                )\n",
    "            \n",
    "        \n",
    "    # return (running_loss_val, correct, total)\n",
    "    val_loss = running_loss_val / len(test_dataset)\n",
    "    val_acc = (correct / total) * 100\n",
    "\n",
    "    return val_loss, val_acc.cpu().numpy()\n"
   ]
  },
  {
   "cell_type": "code",
   "execution_count": null,
   "id": "5513fff5",
   "metadata": {},
   "outputs": [],
   "source": []
  },
  {
   "cell_type": "code",
   "execution_count": 23,
   "id": "7c6b06ae",
   "metadata": {},
   "outputs": [],
   "source": [
    "# Python3 dict to contain model training metrics-\n",
    "train_history = {}\n",
    "\n",
    "# To save 'best' parameters-\n",
    "best_val_acc = 70"
   ]
  },
  {
   "cell_type": "code",
   "execution_count": null,
   "id": "5df57db0",
   "metadata": {},
   "outputs": [],
   "source": []
  },
  {
   "cell_type": "code",
   "execution_count": 24,
   "id": "9006bfa1",
   "metadata": {},
   "outputs": [
    {
     "name": "stderr",
     "output_type": "stream",
     "text": [
      "Training: : 100%|█| 79/79 [01:01<00:00,  1.28batch/s, accuracy=14.3, loss=\n",
      "Validation: : 100%|█| 125/125 [00:31<00:00,  4.01batch/s, val_acc=25.9, va\n"
     ]
    },
    {
     "name": "stdout",
     "output_type": "stream",
     "text": [
      "Epoch: 1; loss = 2.2989, acc = 14.30%  val loss = 2.2807, val acc = 25.85% & LR = 0.00100000\n"
     ]
    },
    {
     "name": "stderr",
     "output_type": "stream",
     "text": [
      "Training: : 100%|█| 79/79 [00:55<00:00,  1.43batch/s, accuracy=22.9, loss=\n",
      "Validation: : 100%|█| 125/125 [00:31<00:00,  4.00batch/s, val_acc=25.3, va\n"
     ]
    },
    {
     "name": "stdout",
     "output_type": "stream",
     "text": [
      "Epoch: 2; loss = 2.2804, acc = 22.90%  val loss = 2.2363, val acc = 25.30% & LR = 0.00100000\n"
     ]
    },
    {
     "name": "stderr",
     "output_type": "stream",
     "text": [
      "Training: : 100%|█| 79/79 [00:55<00:00,  1.43batch/s, accuracy=26.8, loss=\n",
      "Validation: : 100%|█| 125/125 [00:31<00:00,  4.00batch/s, val_acc=29.4, va\n"
     ]
    },
    {
     "name": "stdout",
     "output_type": "stream",
     "text": [
      "Epoch: 3; loss = 2.2402, acc = 26.76%  val loss = 2.1362, val acc = 29.45% & LR = 0.00100000\n"
     ]
    },
    {
     "name": "stderr",
     "output_type": "stream",
     "text": [
      "Training: : 100%|█| 79/79 [00:55<00:00,  1.43batch/s, accuracy=28.6, loss=\n",
      "Validation: : 100%|█| 125/125 [00:31<00:00,  4.02batch/s, val_acc=30.8, va\n"
     ]
    },
    {
     "name": "stdout",
     "output_type": "stream",
     "text": [
      "Epoch: 4; loss = 2.1497, acc = 28.56%  val loss = 1.9509, val acc = 30.83% & LR = 0.00100000\n"
     ]
    },
    {
     "name": "stderr",
     "output_type": "stream",
     "text": [
      "Training: : 100%|█| 79/79 [00:55<00:00,  1.43batch/s, accuracy=29.4, loss=\n",
      "Validation: : 100%|█| 125/125 [00:31<00:00,  4.02batch/s, val_acc=30.8, va\n"
     ]
    },
    {
     "name": "stdout",
     "output_type": "stream",
     "text": [
      "Epoch: 5; loss = 2.0207, acc = 29.42%  val loss = 1.8212, val acc = 30.76% & LR = 0.00100000\n"
     ]
    },
    {
     "name": "stderr",
     "output_type": "stream",
     "text": [
      "Training: : 100%|█| 79/79 [00:55<00:00,  1.43batch/s, accuracy=31.2, loss=\n",
      "Validation: : 100%|█| 125/125 [00:31<00:00,  4.03batch/s, val_acc=33.4, va\n"
     ]
    },
    {
     "name": "stdout",
     "output_type": "stream",
     "text": [
      "Epoch: 6; loss = 1.9096, acc = 31.22%  val loss = 1.7224, val acc = 33.40% & LR = 0.00100000\n"
     ]
    },
    {
     "name": "stderr",
     "output_type": "stream",
     "text": [
      "Training: : 100%|█| 79/79 [00:55<00:00,  1.43batch/s, accuracy=31.9, loss=\n",
      "Validation: : 100%|█| 125/125 [00:31<00:00,  4.01batch/s, val_acc=34.5, va\n"
     ]
    },
    {
     "name": "stdout",
     "output_type": "stream",
     "text": [
      "Epoch: 7; loss = 1.8230, acc = 31.90%  val loss = 1.6724, val acc = 34.49% & LR = 0.00100000\n"
     ]
    },
    {
     "name": "stderr",
     "output_type": "stream",
     "text": [
      "Training: : 100%|█| 79/79 [00:55<00:00,  1.43batch/s, accuracy=34, loss=1.\n",
      "Validation: : 100%|█| 125/125 [00:31<00:00,  4.02batch/s, val_acc=36.8, va\n"
     ]
    },
    {
     "name": "stdout",
     "output_type": "stream",
     "text": [
      "Epoch: 8; loss = 1.7623, acc = 34.04%  val loss = 1.6035, val acc = 36.79% & LR = 0.00100000\n"
     ]
    },
    {
     "name": "stderr",
     "output_type": "stream",
     "text": [
      "Training: : 100%|█| 79/79 [00:55<00:00,  1.43batch/s, accuracy=35.8, loss=\n",
      "Validation: : 100%|█| 125/125 [00:31<00:00,  4.02batch/s, val_acc=37.4, va\n"
     ]
    },
    {
     "name": "stdout",
     "output_type": "stream",
     "text": [
      "Epoch: 9; loss = 1.7099, acc = 35.84%  val loss = 1.5706, val acc = 37.36% & LR = 0.00100000\n"
     ]
    },
    {
     "name": "stderr",
     "output_type": "stream",
     "text": [
      "Training: : 100%|█| 79/79 [00:55<00:00,  1.43batch/s, accuracy=37.6, loss=\n",
      "Validation: : 100%|█| 125/125 [00:30<00:00,  4.03batch/s, val_acc=39.9, va\n"
     ]
    },
    {
     "name": "stdout",
     "output_type": "stream",
     "text": [
      "Epoch: 10; loss = 1.6629, acc = 37.64%  val loss = 1.5061, val acc = 39.91% & LR = 0.00100000\n"
     ]
    },
    {
     "name": "stderr",
     "output_type": "stream",
     "text": [
      "Training: : 100%|█| 79/79 [00:55<00:00,  1.43batch/s, accuracy=38.8, loss=\n",
      "Validation: : 100%|█| 125/125 [00:31<00:00,  4.03batch/s, val_acc=41.3, va\n"
     ]
    },
    {
     "name": "stdout",
     "output_type": "stream",
     "text": [
      "Epoch: 11; loss = 1.6264, acc = 38.80%  val loss = 1.4530, val acc = 41.33% & LR = 0.00100000\n"
     ]
    },
    {
     "name": "stderr",
     "output_type": "stream",
     "text": [
      "Training: : 100%|█| 79/79 [00:55<00:00,  1.43batch/s, accuracy=39.8, loss=\n",
      "Validation: : 100%|█| 125/125 [00:31<00:00,  4.03batch/s, val_acc=41.8, va\n"
     ]
    },
    {
     "name": "stdout",
     "output_type": "stream",
     "text": [
      "Epoch: 12; loss = 1.5822, acc = 39.82%  val loss = 1.4569, val acc = 41.75% & LR = 0.00100000\n"
     ]
    },
    {
     "name": "stderr",
     "output_type": "stream",
     "text": [
      "Training: : 100%|█| 79/79 [00:55<00:00,  1.43batch/s, accuracy=41.8, loss=\n",
      "Validation: : 100%|█| 125/125 [00:31<00:00,  4.03batch/s, val_acc=45, val_\n"
     ]
    },
    {
     "name": "stdout",
     "output_type": "stream",
     "text": [
      "Epoch: 13; loss = 1.5508, acc = 41.82%  val loss = 1.4060, val acc = 44.98% & LR = 0.00100000\n"
     ]
    },
    {
     "name": "stderr",
     "output_type": "stream",
     "text": [
      "Training: : 100%|█| 79/79 [00:55<00:00,  1.43batch/s, accuracy=43.8, loss=\n",
      "Validation: : 100%|█| 125/125 [00:31<00:00,  4.01batch/s, val_acc=46.2, va\n"
     ]
    },
    {
     "name": "stdout",
     "output_type": "stream",
     "text": [
      "Epoch: 14; loss = 1.5247, acc = 43.76%  val loss = 1.3819, val acc = 46.16% & LR = 0.00100000\n"
     ]
    },
    {
     "name": "stderr",
     "output_type": "stream",
     "text": [
      "Training: : 100%|█| 79/79 [00:55<00:00,  1.43batch/s, accuracy=44.6, loss=\n",
      "Validation: : 100%|█| 125/125 [00:31<00:00,  4.03batch/s, val_acc=48.5, va\n"
     ]
    },
    {
     "name": "stdout",
     "output_type": "stream",
     "text": [
      "Epoch: 15; loss = 1.4910, acc = 44.62%  val loss = 1.3435, val acc = 48.55% & LR = 0.00100000\n"
     ]
    },
    {
     "name": "stderr",
     "output_type": "stream",
     "text": [
      "Training: : 100%|█| 79/79 [00:55<00:00,  1.43batch/s, accuracy=46.7, loss=\n",
      "Validation: : 100%|█| 125/125 [00:31<00:00,  4.03batch/s, val_acc=50.3, va\n"
     ]
    },
    {
     "name": "stdout",
     "output_type": "stream",
     "text": [
      "Epoch: 16; loss = 1.4560, acc = 46.68%  val loss = 1.2917, val acc = 50.28% & LR = 0.00100000\n"
     ]
    },
    {
     "name": "stderr",
     "output_type": "stream",
     "text": [
      "Training: : 100%|█| 79/79 [00:55<00:00,  1.43batch/s, accuracy=47.1, loss=\n",
      "Validation: : 100%|█| 125/125 [00:30<00:00,  4.03batch/s, val_acc=51.7, va\n"
     ]
    },
    {
     "name": "stdout",
     "output_type": "stream",
     "text": [
      "Epoch: 17; loss = 1.4307, acc = 47.14%  val loss = 1.2745, val acc = 51.72% & LR = 0.00100000\n"
     ]
    },
    {
     "name": "stderr",
     "output_type": "stream",
     "text": [
      "Training: : 100%|█| 79/79 [00:55<00:00,  1.43batch/s, accuracy=48.6, loss=\n",
      "Validation: : 100%|█| 125/125 [00:31<00:00,  4.03batch/s, val_acc=53.1, va\n"
     ]
    },
    {
     "name": "stdout",
     "output_type": "stream",
     "text": [
      "Epoch: 18; loss = 1.4125, acc = 48.56%  val loss = 1.2317, val acc = 53.14% & LR = 0.00010000\n"
     ]
    },
    {
     "name": "stderr",
     "output_type": "stream",
     "text": [
      "Training: : 100%|█| 79/79 [00:55<00:00,  1.43batch/s, accuracy=50.3, loss=\n",
      "Validation: : 100%|█| 125/125 [00:30<00:00,  4.04batch/s, val_acc=53.1, va\n"
     ]
    },
    {
     "name": "stdout",
     "output_type": "stream",
     "text": [
      "Epoch: 19; loss = 1.3739, acc = 50.28%  val loss = 1.2394, val acc = 53.15% & LR = 0.00010000\n"
     ]
    },
    {
     "name": "stderr",
     "output_type": "stream",
     "text": [
      "Training: : 100%|█| 79/79 [00:55<00:00,  1.43batch/s, accuracy=50.1, loss=\n",
      "Validation: : 100%|█| 125/125 [00:30<00:00,  4.04batch/s, val_acc=52.2, va\n"
     ]
    },
    {
     "name": "stdout",
     "output_type": "stream",
     "text": [
      "Epoch: 20; loss = 1.3755, acc = 50.10%  val loss = 1.2569, val acc = 52.18% & LR = 0.00010000\n"
     ]
    },
    {
     "name": "stderr",
     "output_type": "stream",
     "text": [
      "Training: : 100%|█| 79/79 [00:55<00:00,  1.43batch/s, accuracy=50.5, loss=\n",
      "Validation: : 100%|█| 125/125 [00:30<00:00,  4.04batch/s, val_acc=54.1, va\n"
     ]
    },
    {
     "name": "stdout",
     "output_type": "stream",
     "text": [
      "Epoch: 21; loss = 1.3709, acc = 50.50%  val loss = 1.2132, val acc = 54.15% & LR = 0.00010000\n"
     ]
    },
    {
     "name": "stderr",
     "output_type": "stream",
     "text": [
      "Training: : 100%|█| 79/79 [00:55<00:00,  1.43batch/s, accuracy=50.6, loss=\n",
      "Validation: : 100%|█| 125/125 [00:30<00:00,  4.04batch/s, val_acc=53.4, va\n"
     ]
    },
    {
     "name": "stdout",
     "output_type": "stream",
     "text": [
      "Epoch: 22; loss = 1.3664, acc = 50.56%  val loss = 1.2346, val acc = 53.38% & LR = 0.00010000\n"
     ]
    },
    {
     "name": "stderr",
     "output_type": "stream",
     "text": [
      "Training: : 100%|█| 79/79 [00:55<00:00,  1.43batch/s, accuracy=50.4, loss=\n",
      "Validation: : 100%|█| 125/125 [00:31<00:00,  4.03batch/s, val_acc=54.5, va\n"
     ]
    },
    {
     "name": "stdout",
     "output_type": "stream",
     "text": [
      "Epoch: 23; loss = 1.3642, acc = 50.42%  val loss = 1.2104, val acc = 54.46% & LR = 0.00010000\n"
     ]
    },
    {
     "name": "stderr",
     "output_type": "stream",
     "text": [
      "Training: : 100%|█| 79/79 [00:55<00:00,  1.43batch/s, accuracy=51.7, loss=\n",
      "Validation: : 100%|█| 125/125 [00:31<00:00,  4.03batch/s, val_acc=55.3, va\n"
     ]
    },
    {
     "name": "stdout",
     "output_type": "stream",
     "text": [
      "Epoch: 24; loss = 1.3626, acc = 51.68%  val loss = 1.1979, val acc = 55.26% & LR = 0.00010000\n"
     ]
    },
    {
     "name": "stderr",
     "output_type": "stream",
     "text": [
      "Training: : 100%|█| 79/79 [00:55<00:00,  1.43batch/s, accuracy=51.2, loss=\n",
      "Validation: : 100%|█| 125/125 [00:31<00:00,  4.02batch/s, val_acc=54.6, va\n"
     ]
    },
    {
     "name": "stdout",
     "output_type": "stream",
     "text": [
      "Epoch: 25; loss = 1.3475, acc = 51.16%  val loss = 1.2127, val acc = 54.59% & LR = 0.00010000\n"
     ]
    },
    {
     "name": "stderr",
     "output_type": "stream",
     "text": [
      "Training: : 100%|█| 79/79 [00:55<00:00,  1.43batch/s, accuracy=51.7, loss=\n",
      "Validation: : 100%|█| 125/125 [00:31<00:00,  4.02batch/s, val_acc=53.4, va\n"
     ]
    },
    {
     "name": "stdout",
     "output_type": "stream",
     "text": [
      "Epoch: 26; loss = 1.3568, acc = 51.70%  val loss = 1.2367, val acc = 53.39% & LR = 0.00010000\n"
     ]
    },
    {
     "name": "stderr",
     "output_type": "stream",
     "text": [
      "Training: : 100%|█| 79/79 [00:55<00:00,  1.43batch/s, accuracy=52.6, loss=\n",
      "Validation: : 100%|█| 125/125 [00:31<00:00,  4.02batch/s, val_acc=57.4, va\n"
     ]
    },
    {
     "name": "stdout",
     "output_type": "stream",
     "text": [
      "Epoch: 27; loss = 1.3421, acc = 52.58%  val loss = 1.1664, val acc = 57.39% & LR = 0.00010000\n"
     ]
    },
    {
     "name": "stderr",
     "output_type": "stream",
     "text": [
      "Training: : 100%|█| 79/79 [00:55<00:00,  1.43batch/s, accuracy=52.3, loss=\n",
      "Validation: : 100%|█| 125/125 [00:31<00:00,  4.00batch/s, val_acc=53.6, va\n"
     ]
    },
    {
     "name": "stdout",
     "output_type": "stream",
     "text": [
      "Epoch: 28; loss = 1.3462, acc = 52.32%  val loss = 1.2208, val acc = 53.63% & LR = 0.00010000\n"
     ]
    },
    {
     "name": "stderr",
     "output_type": "stream",
     "text": [
      "Training: : 100%|█| 79/79 [00:55<00:00,  1.43batch/s, accuracy=52.1, loss=\n",
      "Validation: : 100%|█| 125/125 [00:31<00:00,  4.01batch/s, val_acc=57.1, va\n"
     ]
    },
    {
     "name": "stdout",
     "output_type": "stream",
     "text": [
      "Epoch: 29; loss = 1.3501, acc = 52.10%  val loss = 1.1810, val acc = 57.11% & LR = 0.00010000\n"
     ]
    },
    {
     "name": "stderr",
     "output_type": "stream",
     "text": [
      "Training: : 100%|█| 79/79 [00:55<00:00,  1.43batch/s, accuracy=51.7, loss=\n",
      "Validation: : 100%|█| 125/125 [00:31<00:00,  4.03batch/s, val_acc=55, val_\n"
     ]
    },
    {
     "name": "stdout",
     "output_type": "stream",
     "text": [
      "Epoch: 30; loss = 1.3426, acc = 51.72%  val loss = 1.1986, val acc = 55.00% & LR = 0.00001000\n"
     ]
    },
    {
     "name": "stderr",
     "output_type": "stream",
     "text": [
      "Training: : 100%|█| 79/79 [00:55<00:00,  1.43batch/s, accuracy=51, loss=1.\n",
      "Validation: : 100%|█| 125/125 [00:31<00:00,  4.03batch/s, val_acc=55.1, va\n"
     ]
    },
    {
     "name": "stdout",
     "output_type": "stream",
     "text": [
      "Epoch: 31; loss = 1.3393, acc = 50.96%  val loss = 1.1927, val acc = 55.11% & LR = 0.00001000\n"
     ]
    },
    {
     "name": "stderr",
     "output_type": "stream",
     "text": [
      "Training: : 100%|█| 79/79 [00:55<00:00,  1.43batch/s, accuracy=51.5, loss=\n",
      "Validation: : 100%|█| 125/125 [00:31<00:00,  4.02batch/s, val_acc=54.4, va\n"
     ]
    },
    {
     "name": "stdout",
     "output_type": "stream",
     "text": [
      "Epoch: 32; loss = 1.3386, acc = 51.50%  val loss = 1.2096, val acc = 54.41% & LR = 0.00001000\n"
     ]
    },
    {
     "name": "stderr",
     "output_type": "stream",
     "text": [
      "Training: : 100%|█| 79/79 [00:55<00:00,  1.43batch/s, accuracy=52.1, loss=\n",
      "Validation: : 100%|█| 125/125 [00:31<00:00,  4.03batch/s, val_acc=54.8, va\n"
     ]
    },
    {
     "name": "stdout",
     "output_type": "stream",
     "text": [
      "Epoch: 33; loss = 1.3349, acc = 52.10%  val loss = 1.2151, val acc = 54.83% & LR = 0.00001000\n"
     ]
    },
    {
     "name": "stderr",
     "output_type": "stream",
     "text": [
      "Training: : 100%|█| 79/79 [00:55<00:00,  1.43batch/s, accuracy=52, loss=1.\n",
      "Validation: : 100%|█| 125/125 [00:31<00:00,  4.03batch/s, val_acc=55, val_\n"
     ]
    },
    {
     "name": "stdout",
     "output_type": "stream",
     "text": [
      "Epoch: 34; loss = 1.3483, acc = 52.04%  val loss = 1.2026, val acc = 55.04% & LR = 0.00001000\n"
     ]
    },
    {
     "name": "stderr",
     "output_type": "stream",
     "text": [
      "Training: : 100%|█| 79/79 [00:55<00:00,  1.43batch/s, accuracy=51.9, loss=\n",
      "Validation: : 100%|█| 125/125 [00:31<00:00,  4.01batch/s, val_acc=54, val_\n"
     ]
    },
    {
     "name": "stdout",
     "output_type": "stream",
     "text": [
      "Epoch: 35; loss = 1.3328, acc = 51.86%  val loss = 1.2172, val acc = 54.00% & LR = 0.00001000\n"
     ]
    },
    {
     "name": "stderr",
     "output_type": "stream",
     "text": [
      "Training: : 100%|█| 79/79 [00:55<00:00,  1.43batch/s, accuracy=51.2, loss=\n",
      "Validation: : 100%|█| 125/125 [00:31<00:00,  4.03batch/s, val_acc=54.6, va\n"
     ]
    },
    {
     "name": "stdout",
     "output_type": "stream",
     "text": [
      "Epoch: 36; loss = 1.3388, acc = 51.20%  val loss = 1.1983, val acc = 54.60% & LR = 0.00001000\n"
     ]
    },
    {
     "name": "stderr",
     "output_type": "stream",
     "text": [
      "Training: : 100%|█| 79/79 [00:55<00:00,  1.43batch/s, accuracy=51.6, loss=\n",
      "Validation: : 100%|█| 125/125 [00:31<00:00,  4.01batch/s, val_acc=55.8, va\n"
     ]
    },
    {
     "name": "stdout",
     "output_type": "stream",
     "text": [
      "Epoch: 37; loss = 1.3424, acc = 51.62%  val loss = 1.1906, val acc = 55.83% & LR = 0.00001000\n"
     ]
    },
    {
     "name": "stderr",
     "output_type": "stream",
     "text": [
      "Training: : 100%|█| 79/79 [00:55<00:00,  1.43batch/s, accuracy=52, loss=1.\n",
      "Validation: : 100%|█| 125/125 [00:31<00:00,  4.00batch/s, val_acc=55.8, va\n"
     ]
    },
    {
     "name": "stdout",
     "output_type": "stream",
     "text": [
      "Epoch: 38; loss = 1.3387, acc = 52.00%  val loss = 1.1830, val acc = 55.84% & LR = 0.00001000\n"
     ]
    },
    {
     "name": "stderr",
     "output_type": "stream",
     "text": [
      "Training: : 100%|█| 79/79 [00:55<00:00,  1.43batch/s, accuracy=52.2, loss=\n",
      "Validation: : 100%|█| 125/125 [00:31<00:00,  3.99batch/s, val_acc=56.5, va\n"
     ]
    },
    {
     "name": "stdout",
     "output_type": "stream",
     "text": [
      "Epoch: 39; loss = 1.3307, acc = 52.20%  val loss = 1.1817, val acc = 56.45% & LR = 0.00001000\n"
     ]
    },
    {
     "name": "stderr",
     "output_type": "stream",
     "text": [
      "Training: : 100%|█| 79/79 [00:55<00:00,  1.43batch/s, accuracy=52.1, loss=\n",
      "Validation: : 100%|█| 125/125 [00:31<00:00,  4.02batch/s, val_acc=54.8, va\n"
     ]
    },
    {
     "name": "stdout",
     "output_type": "stream",
     "text": [
      "Epoch: 40; loss = 1.3361, acc = 52.08%  val loss = 1.1947, val acc = 54.83% & LR = 0.00000100\n"
     ]
    },
    {
     "name": "stderr",
     "output_type": "stream",
     "text": [
      "Training: : 100%|█| 79/79 [00:55<00:00,  1.43batch/s, accuracy=52.5, loss=\n",
      "Validation: : 100%|█| 125/125 [00:31<00:00,  3.99batch/s, val_acc=56.4, va\n"
     ]
    },
    {
     "name": "stdout",
     "output_type": "stream",
     "text": [
      "Epoch: 41; loss = 1.3340, acc = 52.50%  val loss = 1.1730, val acc = 56.39% & LR = 0.00000100\n"
     ]
    },
    {
     "name": "stderr",
     "output_type": "stream",
     "text": [
      "Training: : 100%|█| 79/79 [00:55<00:00,  1.43batch/s, accuracy=52.4, loss=\n",
      "Validation: : 100%|█| 125/125 [00:31<00:00,  4.00batch/s, val_acc=56, val_\n"
     ]
    },
    {
     "name": "stdout",
     "output_type": "stream",
     "text": [
      "Epoch: 42; loss = 1.3268, acc = 52.40%  val loss = 1.1866, val acc = 55.96% & LR = 0.00000100\n"
     ]
    },
    {
     "name": "stderr",
     "output_type": "stream",
     "text": [
      "Training: : 100%|█| 79/79 [00:55<00:00,  1.43batch/s, accuracy=51.5, loss=\n",
      "Validation: : 100%|█| 125/125 [00:31<00:00,  4.01batch/s, val_acc=54.2, va\n"
     ]
    },
    {
     "name": "stdout",
     "output_type": "stream",
     "text": [
      "Epoch: 43; loss = 1.3374, acc = 51.54%  val loss = 1.2036, val acc = 54.20% & LR = 0.00000100\n"
     ]
    },
    {
     "name": "stderr",
     "output_type": "stream",
     "text": [
      "Training: : 100%|█| 79/79 [00:55<00:00,  1.43batch/s, accuracy=52.4, loss=\n",
      "Validation: : 100%|█| 125/125 [00:31<00:00,  4.02batch/s, val_acc=56.7, va\n"
     ]
    },
    {
     "name": "stdout",
     "output_type": "stream",
     "text": [
      "Epoch: 44; loss = 1.3407, acc = 52.36%  val loss = 1.1762, val acc = 56.74% & LR = 0.00000100\n"
     ]
    },
    {
     "name": "stderr",
     "output_type": "stream",
     "text": [
      "Training: : 100%|█| 79/79 [00:55<00:00,  1.43batch/s, accuracy=52, loss=1.\n",
      "Validation: : 100%|█| 125/125 [00:31<00:00,  4.01batch/s, val_acc=56.8, va\n"
     ]
    },
    {
     "name": "stdout",
     "output_type": "stream",
     "text": [
      "Epoch: 45; loss = 1.3324, acc = 51.96%  val loss = 1.1678, val acc = 56.81% & LR = 0.00000100\n"
     ]
    },
    {
     "name": "stderr",
     "output_type": "stream",
     "text": [
      "Training: : 100%|█| 79/79 [00:55<00:00,  1.43batch/s, accuracy=52.1, loss=\n",
      "Validation: : 100%|█| 125/125 [00:31<00:00,  4.02batch/s, val_acc=56.1, va\n"
     ]
    },
    {
     "name": "stdout",
     "output_type": "stream",
     "text": [
      "Epoch: 46; loss = 1.3334, acc = 52.08%  val loss = 1.1750, val acc = 56.10% & LR = 0.00000100\n"
     ]
    },
    {
     "name": "stderr",
     "output_type": "stream",
     "text": [
      "Training: : 100%|█| 79/79 [00:55<00:00,  1.43batch/s, accuracy=52.1, loss=\n",
      "Validation: : 100%|█| 125/125 [00:31<00:00,  4.02batch/s, val_acc=57.3, va\n"
     ]
    },
    {
     "name": "stdout",
     "output_type": "stream",
     "text": [
      "Epoch: 47; loss = 1.3397, acc = 52.08%  val loss = 1.1608, val acc = 57.30% & LR = 0.00000100\n"
     ]
    },
    {
     "name": "stderr",
     "output_type": "stream",
     "text": [
      "Training: : 100%|█| 79/79 [00:55<00:00,  1.43batch/s, accuracy=52.5, loss=\n",
      "Validation: : 100%|█| 125/125 [00:31<00:00,  4.02batch/s, val_acc=55.1, va\n"
     ]
    },
    {
     "name": "stdout",
     "output_type": "stream",
     "text": [
      "Epoch: 48; loss = 1.3301, acc = 52.52%  val loss = 1.1991, val acc = 55.10% & LR = 0.00000100\n"
     ]
    },
    {
     "name": "stderr",
     "output_type": "stream",
     "text": [
      "Training: : 100%|█| 79/79 [00:55<00:00,  1.43batch/s, accuracy=52.2, loss=\n",
      "Validation: : 100%|█| 125/125 [00:31<00:00,  4.02batch/s, val_acc=55.5, va\n"
     ]
    },
    {
     "name": "stdout",
     "output_type": "stream",
     "text": [
      "Epoch: 49; loss = 1.3325, acc = 52.20%  val loss = 1.1945, val acc = 55.53% & LR = 0.00000100\n"
     ]
    },
    {
     "name": "stderr",
     "output_type": "stream",
     "text": [
      "Training: : 100%|█| 79/79 [00:55<00:00,  1.43batch/s, accuracy=52.5, loss=\n",
      "Validation: : 100%|█| 125/125 [00:31<00:00,  4.01batch/s, val_acc=53.3, va"
     ]
    },
    {
     "name": "stdout",
     "output_type": "stream",
     "text": [
      "Epoch: 50; loss = 1.3487, acc = 52.46%  val loss = 1.2296, val acc = 53.28% & LR = 0.00000100\n"
     ]
    },
    {
     "name": "stderr",
     "output_type": "stream",
     "text": [
      "\n"
     ]
    }
   ],
   "source": [
    "for epoch in range(1, num_epochs + 1):\n",
    "    \n",
    "    # One epoch of training-\n",
    "    train_loss, train_acc = train_model_progress(\n",
    "        model = model, train_loader = train_loader,\n",
    "        train_dataset = train_dataset\n",
    "    )\n",
    "    \n",
    "    # Get validation metrics after 1 epoch of training-\n",
    "    val_loss, val_acc = test_model_progress(\n",
    "        model = model, test_loader = test_loader,\n",
    "        test_dataset = test_dataset\n",
    "    )\n",
    "    \n",
    "    scheduler.step()\n",
    "    \n",
    "    current_lr = optimizer.param_groups[0][\"lr\"]\n",
    "    \n",
    "    print(f\"Epoch: {epoch}; loss = {train_loss:.4f}, acc = {train_acc:.2f}%\",\n",
    "          f\" val loss = {val_loss:.4f}, val acc = {val_acc:.2f}% & LR = {current_lr:.8f}\"\n",
    "         )\n",
    "    \n",
    "    # Save training metrics to Python3 dict-\n",
    "    train_history[epoch] = {\n",
    "        'train_loss': train_loss, 'val_loss': val_loss,\n",
    "        'train_acc': train_acc, 'val_acc': val_acc,\n",
    "        'lr': current_lr\n",
    "    }\n",
    "    \n",
    "    # Save model with best validation accuracy-\n",
    "    if (val_acc > best_val_acc):\n",
    "        best_val_acc = val_acc\n",
    "        print(f\"Saving model with highest val_acc = {val_acc:.2f}%\\n\")\n",
    "        torch.save(model.state_dict(), \"ResNet50_STL10_RotNet_finetuned_best_val_acc.pth\")\n",
    "        "
   ]
  },
  {
   "cell_type": "code",
   "execution_count": null,
   "id": "68e6ac52",
   "metadata": {},
   "outputs": [],
   "source": []
  },
  {
   "cell_type": "code",
   "execution_count": null,
   "id": "b1e5ee71",
   "metadata": {},
   "outputs": [],
   "source": []
  },
  {
   "cell_type": "code",
   "execution_count": 25,
   "id": "283a6f46",
   "metadata": {},
   "outputs": [],
   "source": [
    "# Save training metrics as pickled object-\n",
    "with open(\"ResNet50_STL10_RotNet_finetuned_training_history.pkl\", \"wb\") as file:\n",
    "    pickle.dump(train_history, file)"
   ]
  },
  {
   "cell_type": "code",
   "execution_count": null,
   "id": "22217201",
   "metadata": {},
   "outputs": [],
   "source": []
  },
  {
   "cell_type": "code",
   "execution_count": null,
   "id": "1a81eb22-97fe-46c3-b975-0484c4cd941f",
   "metadata": {},
   "outputs": [],
   "source": []
  },
  {
   "cell_type": "code",
   "execution_count": null,
   "id": "ef206ad8-a545-487d-97aa-19d96581c27b",
   "metadata": {},
   "outputs": [],
   "source": []
  }
 ],
 "metadata": {
  "kernelspec": {
   "display_name": "Python 3 (ipykernel)",
   "language": "python",
   "name": "python3"
  },
  "language_info": {
   "codemirror_mode": {
    "name": "ipython",
    "version": 3
   },
   "file_extension": ".py",
   "mimetype": "text/x-python",
   "name": "python",
   "nbconvert_exporter": "python",
   "pygments_lexer": "ipython3",
   "version": "3.10.5"
  }
 },
 "nbformat": 4,
 "nbformat_minor": 5
}
